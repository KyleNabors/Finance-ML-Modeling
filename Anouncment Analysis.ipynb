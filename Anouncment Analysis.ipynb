{
 "cells": [
  {
   "cell_type": "code",
   "execution_count": 15,
   "metadata": {},
   "outputs": [],
   "source": [
    "import os \n",
    "import sys\n",
    "import pandas as pd\n",
    "import matplotlib.pyplot as plt\n",
    "from matplotlib import ticker\n",
    "import numpy as np"
   ]
  },
  {
   "cell_type": "code",
   "execution_count": 16,
   "metadata": {},
   "outputs": [],
   "source": [
    "pd.set_option('display.float_format', lambda x: '%.4f' % x)"
   ]
  },
  {
   "cell_type": "code",
   "execution_count": 17,
   "metadata": {},
   "outputs": [
    {
     "name": "stdout",
     "output_type": "stream",
     "text": [
      "/Users/kylenabors/Documents/GitHub/Finance-ML-Modeling\n"
     ]
    }
   ],
   "source": [
    "#Importing Configs\n",
    "# Define the path where config.py is located\n",
    "#Mac\n",
    "os.chdir('/Users/kylenabors/Documents/GitHub/Finance-ML-Modeling')\n",
    "#Linux\n",
    "#os.chdir('/home/kwnabors/Documents/GitHub/Finance-ML-Modeling')\n",
    "config_file_path = os.getcwd()\n",
    "print(config_file_path)\n",
    "\n",
    "# Add this path to the sys.path\n",
    "sys.path.append(config_file_path)\n",
    "\n",
    "import config\n",
    "\n",
    "#Configs\n",
    "database_file = config.database\n",
    "database_folder = config.database_folder\n",
    "bert_models = config.bert_models\n",
    "bert_models_local = config.bert_models_local\n",
    "Sentiment_models = config.Sentiment_models\n",
    "finbert_models = config.finbert_models\n",
    "database = config.Local_Database\n",
    "\n",
    "Body = config.Body\n",
    "Model = config.Model\n",
    "Model_Subfolder = f'/{Body} Texts/{Model}'\n",
    "#Model_Folder = config.texts\n",
    "# Model_Folder = config.Sentiment_models\n",
    "# Model_Folder = Model_Folder + Model_Subfolder\n",
    "Model_Folder = config.Sentiment_models\n",
    "\n",
    "Body_2 = config.Body_2\n",
    "Model_2 = config.Model_2\n",
    "Model_Subfolder_2 = f'/{Body_2} Texts/{Model_2}'\n",
    "Model_Folder_2 = config.texts\n",
    "Model_Folder_2 = Model_Folder_2 + Model_Subfolder_2\n"
   ]
  },
  {
   "cell_type": "code",
   "execution_count": 18,
   "metadata": {},
   "outputs": [],
   "source": [
    "df1 = pd.read_csv(f\"{finbert_models}/{Body}/{Model}/{Body}_{Model}_finbert_model_short.csv\")\n",
    "df2 = pd.read_csv(f\"{finbert_models}/{Body_2}/{Model_2}/{Body_2}_{Model_2}_finbert_model_short.csv\")"
   ]
  },
  {
   "cell_type": "code",
   "execution_count": 19,
   "metadata": {},
   "outputs": [],
   "source": [
    "\n",
    "\n",
    "df1 = df1[['date', 'sentiment']]\n",
    "\n",
    "df1 = df1.groupby(['date']).mean().reset_index()\n",
    "df1['date'] = pd.to_datetime(df1['date'])\n",
    "df1['event'] = 1\n",
    "dfb = df1.copy(deep=True)\n",
    "dfb = dfb[['date']]\n",
    "dfb['before'] = 1\n",
    "dfa = df1.copy(deep=True)\n",
    "dfa = dfa[['date']]\n",
    "dfa['after'] = 1\n",
    "dfb['date'] = dfb['date'] - pd.to_timedelta(1, unit='d')\n",
    "dfa['date'] = dfa['date'] + pd.to_timedelta(1, unit='d')  \n",
    "df1 = pd.concat([dfa, df1, dfb])\n",
    "df1 = df1.sort_values(by='date')\n"
   ]
  },
  {
   "cell_type": "code",
   "execution_count": 20,
   "metadata": {},
   "outputs": [
    {
     "name": "stdout",
     "output_type": "stream",
     "text": [
      "        Date  ffr_price    ffr_vol\n",
      "0 2019-11-14    98.4400 18080.0000\n",
      "1 2019-11-13    98.4400 48770.0000\n",
      "2 2019-11-12    98.4300 27110.0000\n",
      "3 2019-11-11    98.4300  2380.0000\n",
      "4 2019-11-08    98.4300 32870.0000\n",
      "        DATE tb10y\n",
      "0 1962-01-02  1.31\n",
      "1 1962-01-03  1.53\n",
      "2 1962-01-04  1.24\n",
      "3 1962-01-05  1.52\n",
      "4 1962-01-08  2.03\n"
     ]
    }
   ],
   "source": [
    "ffr = pd.read_csv('/Users/kylenabors/Documents/Database/Other Data/FFRF/FFRF.csv')\n",
    "#Convert Date to datetime period days \n",
    "ffr['Date'] = pd.to_datetime(ffr['Date'])\n",
    "ffr = ffr[['Date', 'Price', 'Vol.']]\n",
    "#Rename Pirce to ffr_price and Vol. to ffr_vol\n",
    "ffr = ffr.rename(columns={'Price': 'ffr_price', 'Vol.': 'ffr_vol'})\n",
    "#on ffr_vol remove the k at the end of the number and convert to float\n",
    "ffr['ffr_vol'] = ffr['ffr_vol'].str.replace('K', '')\n",
    "ffr['ffr_vol'] = ffr['ffr_vol'].astype(float)\n",
    "ffr['ffr_vol'] = ffr['ffr_vol'] * 1000\n",
    "\n",
    "print(ffr.head())\n",
    "\n",
    "tb10y = pd.read_csv('/Users/kylenabors/Documents/Database/Other Data/10Y Treasury/T10YFF.csv')\n",
    "\n",
    "tb10y['DATE'] = pd.to_datetime(tb10y['DATE'])\n",
    "tb10y = tb10y.rename(columns={'T10YFF': 'tb10y'})\n",
    "\n",
    "tb10y = tb10y[tb10y['tb10y'] != '.']\n",
    "print(tb10y.head())\n",
    "\n",
    "ir1 = pd.read_csv(f\"{database}/Other Data/2YIR.csv\")\n",
    "ir1 = ir1.rename(columns={'DATE': 'date', 'DGS2': 'IR2'})\n",
    "ir1['date'] = pd.to_datetime(ir1['date'])\n",
    "ir1 = ir1[ir1['IR2'] != '.']"
   ]
  },
  {
   "cell_type": "code",
   "execution_count": 21,
   "metadata": {},
   "outputs": [
    {
     "name": "stdout",
     "output_type": "stream",
     "text": [
      "date         datetime64[ns]\n",
      "after               float64\n",
      "sentiment           float64\n",
      "event               float64\n",
      "before              float64\n",
      "ffr_price           float64\n",
      "ffr_vol             float64\n",
      "tb10y               float64\n",
      "IR2                 float64\n",
      "dtype: object\n",
      "            date  after  sentiment  event  before  ffr_price    ffr_vol  \\\n",
      "0     2000-02-01    NaN        NaN    NaN  1.0000    94.1900  3750.0000   \n",
      "1     2000-02-02    NaN     0.2857 1.0000     NaN    94.2400 12560.0000   \n",
      "2     2000-02-03 1.0000        NaN    NaN     NaN    94.2500  7190.0000   \n",
      "3     2000-03-20    NaN        NaN    NaN  1.0000    94.1400  1420.0000   \n",
      "4     2000-03-21    NaN     0.1429 1.0000     NaN    94.1600  1720.0000   \n",
      "...          ...    ...        ...    ...     ...        ...        ...   \n",
      "28923 2023-12-14    NaN        NaN    NaN     NaN        NaN        NaN   \n",
      "28924 2023-12-15    NaN        NaN    NaN     NaN        NaN        NaN   \n",
      "28925 2023-12-18    NaN        NaN    NaN     NaN        NaN        NaN   \n",
      "28926 2023-12-19    NaN        NaN    NaN     NaN        NaN        NaN   \n",
      "28927 2023-12-20    NaN        NaN    NaN     NaN        NaN        NaN   \n",
      "\n",
      "       tb10y    IR2  \n",
      "0     0.8300 6.6000  \n",
      "1     0.9600 6.6300  \n",
      "2     0.7800 6.5600  \n",
      "3     0.3600 6.5200  \n",
      "4     0.3200 6.5000  \n",
      "...      ...    ...  \n",
      "28923    NaN 4.3700  \n",
      "28924    NaN 4.4400  \n",
      "28925    NaN 4.4300  \n",
      "28926    NaN 4.4100  \n",
      "28927    NaN 4.3400  \n",
      "\n",
      "[28928 rows x 9 columns]\n"
     ]
    }
   ],
   "source": [
    "#Convert date to datetime\n",
    "df1['date'] = pd.to_datetime(df1['date'])\n",
    "df1 = df1.merge(ffr, how='outer', left_on='date', right_on='Date')\n",
    "df1 = df1.drop(columns=['Date'])\n",
    "\n",
    "df1 = df1.merge(tb10y, how='outer', left_on='date', right_on='DATE')\n",
    "df1 = df1.drop(columns=['DATE'])\n",
    "\n",
    "df1 = df1.merge(ir1, how='outer', left_on='date', right_on='date')\n",
    "\n",
    "#Convert tb10y and IR2 to float\n",
    "df1['tb10y'] = df1['tb10y'].astype(float)\n",
    "df1['IR2'] = df1['IR2'].astype(float)\n",
    "\n",
    "print(df1.dtypes)\n",
    "#df1 = df1.dropna()\n",
    "print(df1.head(-10))   \n"
   ]
  },
  {
   "cell_type": "code",
   "execution_count": 22,
   "metadata": {},
   "outputs": [],
   "source": [
    "df_temp = pd.read_csv(f\"/Users/kylenabors/Documents/Database/Other Data/SPY/SPYs.csv\")"
   ]
  },
  {
   "cell_type": "code",
   "execution_count": 23,
   "metadata": {},
   "outputs": [
    {
     "name": "stdout",
     "output_type": "stream",
     "text": [
      "        date  spy_price\n",
      "0 2011-04-01  1006.5733\n",
      "1 2011-04-04  1005.2782\n",
      "2 2011-04-05  1007.8674\n",
      "3 2011-04-06  1007.7223\n",
      "4 2011-04-07  1005.8883\n"
     ]
    }
   ],
   "source": [
    "spy = df_temp.copy(deep=True)\n",
    "spy = spy[['DATE', 'CRSPTM1']]\n",
    "spy = spy.rename(columns={'DATE': 'date', 'CRSPTM1': 'spy_price'})\n",
    "spy[\"date\"] = pd.to_datetime(spy[\"date\"])\n",
    "spy = spy.groupby(['date']).mean().reset_index()\n",
    "print(spy.head()) \n"
   ]
  },
  {
   "cell_type": "code",
   "execution_count": 24,
   "metadata": {},
   "outputs": [
    {
     "name": "stdout",
     "output_type": "stream",
     "text": [
      "        date  spy_price  after  sentiment  event  before  ffr_price  ffr_vol  \\\n",
      "0 2011-04-01  1006.5733    NaN        NaN    NaN     NaN        NaN      NaN   \n",
      "1 2011-04-04  1005.2782    NaN        NaN    NaN     NaN        NaN      NaN   \n",
      "2 2011-04-05  1007.8674    NaN        NaN    NaN     NaN        NaN      NaN   \n",
      "3 2011-04-06  1007.7223    NaN        NaN    NaN     NaN        NaN      NaN   \n",
      "4 2011-04-07  1005.8883    NaN        NaN    NaN     NaN        NaN      NaN   \n",
      "\n",
      "   tb10y    IR2  positive  negative  neutral  \n",
      "0    NaN 0.8000         0         0        0  \n",
      "1    NaN 0.7700         0         0        0  \n",
      "2    NaN 0.8400         0         0        0  \n",
      "3    NaN 0.8500         0         0        0  \n",
      "4    NaN 0.8100         0         0        0  \n"
     ]
    }
   ],
   "source": [
    "\n",
    "spy = pd.merge(spy, df1, how='outer', left_on='date', right_on='date')\n",
    "#spy = spy.drop(columns=['date_y'])\n",
    "#spy = spy.rename(columns={'date_x': 'date'})\n",
    "#spy = spy[['date', 'spy_price', 'sentiment', 'time']]\n",
    "#spy = spy.dropna()\n",
    "\n",
    "\n",
    "spy[\"positive\"] = np.where(spy[\"sentiment\"] > 0.05, 1, 0)\n",
    "spy[\"negative\"] = np.where(spy[\"sentiment\"] < -0.05, 1, 0)\n",
    "spy[\"neutral\"] = np.where((spy[\"sentiment\"] <= 0.05) & (spy[\"sentiment\"] >= -0.05), 1, 0)\n",
    "print(spy.head())\n",
    "\n",
    "spy_pos = spy[spy['positive'] == 1]\n",
    "spy_neg = spy[spy['negative'] == 1]\n",
    "spy_neu = spy[spy['neutral'] == 1]"
   ]
  },
  {
   "cell_type": "code",
   "execution_count": 25,
   "metadata": {},
   "outputs": [
    {
     "name": "stdout",
     "output_type": "stream",
     "text": [
      "           date  spy_price  sentiment  ffr_price  tb10y    IR2  event  before  \\\n",
      "2523 2000-02-01        NaN        NaN    94.1900 0.8300 6.6000    NaN  1.0000   \n",
      "2524 2000-02-02        NaN     0.2857    94.2400 0.9600 6.6300 1.0000     NaN   \n",
      "2525 2000-02-03        NaN        NaN    94.2500 0.7800 6.5600    NaN     NaN   \n",
      "2556 2000-03-20        NaN        NaN    94.1400 0.3600 6.5200    NaN  1.0000   \n",
      "2557 2000-03-21        NaN     0.1429    94.1600 0.3200 6.5000 1.0000     NaN   \n",
      "\n",
      "      after  \n",
      "2523    NaN  \n",
      "2524    NaN  \n",
      "2525 1.0000  \n",
      "2556    NaN  \n",
      "2557    NaN  \n"
     ]
    }
   ],
   "source": [
    "dfr = spy[['date', 'spy_price', 'sentiment', 'ffr_price', 'tb10y', 'IR2', 'event', 'before', 'after']]\n",
    "dfr = dfr.groupby(['date']).mean().reset_index()\n",
    "dfr = dfr[(dfr['event'] == 1) | (dfr['before'] == 1) | (dfr['after'] == 1)]\n",
    "print(dfr.head())"
   ]
  },
  {
   "cell_type": "code",
   "execution_count": null,
   "metadata": {},
   "outputs": [],
   "source": []
  }
 ],
 "metadata": {
  "kernelspec": {
   "display_name": "Python 3",
   "language": "python",
   "name": "python3"
  },
  "language_info": {
   "codemirror_mode": {
    "name": "ipython",
    "version": 3
   },
   "file_extension": ".py",
   "mimetype": "text/x-python",
   "name": "python",
   "nbconvert_exporter": "python",
   "pygments_lexer": "ipython3",
   "version": "3.11.4"
  }
 },
 "nbformat": 4,
 "nbformat_minor": 2
}
