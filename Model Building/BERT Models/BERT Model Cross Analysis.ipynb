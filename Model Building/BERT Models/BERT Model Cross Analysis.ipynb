{
 "cells": [
  {
   "cell_type": "code",
   "execution_count": 10,
   "metadata": {},
   "outputs": [],
   "source": [
    "import os \n",
    "import sys\n",
    "import pandas as pd\n",
    "import numpy as np\n",
    "\n",
    "from bertopic import BERTopic\n",
    "from sentence_transformers import SentenceTransformer\n",
    "from hdbscan import HDBSCAN\n",
    "from bertopic.representation import KeyBERTInspired, MaximalMarginalRelevance, TextGeneration\n",
    "from bertopic.vectorizers import ClassTfidfTransformer\n",
    "\n",
    "from sklearn.feature_extraction.text import CountVectorizer\n",
    "from umap import UMAP\n",
    "import torch \n",
    "import nltk\n",
    "import spacy"
   ]
  },
  {
   "cell_type": "code",
   "execution_count": 11,
   "metadata": {},
   "outputs": [
    {
     "name": "stderr",
     "output_type": "stream",
     "text": [
      "[nltk_data] Downloading package stopwords to\n",
      "[nltk_data]     /Users/kylenabors/nltk_data...\n",
      "[nltk_data]   Package stopwords is already up-to-date!\n"
     ]
    }
   ],
   "source": [
    "# NLTK English stopwords\n",
    "nlp = spacy.load(\"en_core_web_lg\")\n",
    "nltk.download('stopwords') \n",
    "stopwords_en = nltk.corpus.stopwords.words('english')\n",
    "stopwords_sp = nltk.corpus.stopwords.words('spanish')\n",
    "stopwords_fr = nltk.corpus.stopwords.words('french')\n",
    "stopwords_it = nltk.corpus.stopwords.words('italian')\n",
    "stopwords = stopwords_en + stopwords_sp + stopwords_fr + stopwords_it\n"
   ]
  },
  {
   "cell_type": "code",
   "execution_count": 12,
   "metadata": {},
   "outputs": [
    {
     "name": "stdout",
     "output_type": "stream",
     "text": [
      "/Users/kylenabors/Documents/GitHub/Finance-ML-Modeling\n"
     ]
    }
   ],
   "source": [
    "\n",
    "#Importing Configs\n",
    "# Define the path where config.py is located\n",
    "os.chdir('/Users/kylenabors/Documents/GitHub/Finance-ML-Modeling')\n",
    "config_file_path = os.getcwd()\n",
    "print(config_file_path)\n",
    "\n",
    "# Add this path to the sys.path\n",
    "sys.path.append(config_file_path)\n",
    "\n",
    "import config\n",
    "\n",
    "#Variables, Paramaters, and Pathnames needed for this script\n",
    "database_file = config.database\n",
    "database_folder = config.database_folder\n",
    "bert_models = config.bert_models\n",
    "bert_models_local = config.bert_models_local\n",
    "keywords = config.keywords\n",
    "Model_Folder_Texts = config.texts\n",
    "\n",
    "#ECB THEN FED!!!!!!!!!!"
   ]
  },
  {
   "cell_type": "code",
   "execution_count": 13,
   "metadata": {},
   "outputs": [],
   "source": [
    "Body = config.Body\n",
    "Model = config.Model\n",
    "Model_Subfolder = f'/{Body} Texts/{Model}'\n",
    "\n",
    "Model_Folder = Model_Folder_Texts + Model_Subfolder\n",
    "\n",
    "df = pd.read_csv(f\"{Model_Folder}/{Model}_texts.csv\")  \n",
    "docs = df[\"segment\"].to_list()\n",
    "timestamps = df['date'].to_list()\n",
    "type = df['type'].to_list()"
   ]
  },
  {
   "cell_type": "code",
   "execution_count": 14,
   "metadata": {},
   "outputs": [],
   "source": [
    "\n",
    "Body_2 = config.Body_2\n",
    "Model_2 = config.Model_2\n",
    "Model_Subfolder_2 = f'/{Body_2} Texts/{Model_2}'\n",
    "Model_Folder_2 = Model_Folder_Texts + Model_Subfolder_2\n",
    "\n",
    "df_2 = pd.read_csv(f\"{Model_Folder_2}/{Model_2}_texts.csv\")  \n",
    "docs_2 = df_2[\"segment\"].to_list()\n",
    "timestamps_2 = df_2['date'].to_list()\n",
    "type_2 = df_2['type'].to_list()"
   ]
  },
  {
   "cell_type": "code",
   "execution_count": 15,
   "metadata": {},
   "outputs": [],
   "source": [
    "Body_Cross = Body + '_' + Body_2\n",
    "Model_Cross = Model + '_' + Model_2\n",
    "\n",
    "Model_Subfolder_Cross = f'/{Body_Cross} Texts/{Model_Cross}'\n",
    "Model_Folder_Cross = Model_Folder_Texts + Model_Subfolder_Cross"
   ]
  },
  {
   "cell_type": "code",
   "execution_count": 16,
   "metadata": {},
   "outputs": [
    {
     "name": "stdout",
     "output_type": "stream",
     "text": [
      "Index(['Unnamed: 0', 'date', 'type', 'segment'], dtype='object')\n"
     ]
    }
   ],
   "source": [
    "df_all = pd.concat([df, df_2])\n",
    "print(df_all.columns)\n",
    "docs_all = df_all[\"segment\"].to_list()\n",
    "timestamps_all = df_all['date'].to_list()\n",
    "type_all = df_all['type'].to_list()"
   ]
  },
  {
   "cell_type": "code",
   "execution_count": 17,
   "metadata": {},
   "outputs": [
    {
     "name": "stdout",
     "output_type": "stream",
     "text": [
      "Done Preprocessing Data\n"
     ]
    }
   ],
   "source": [
    "# Embedding\n",
    "embedding_model = SentenceTransformer(\"paraphrase-multilingual-MiniLM-L12-v2\")\n",
    "#embeddings = embedding_model.encode(docs, batch_size=20, show_progress_bar=True)\n",
    "\n",
    "#Reduce Dimensionality\n",
    "umap_model = UMAP(n_neighbors=5, \n",
    "                  n_components=2, \n",
    "                  metric='cosine', \n",
    "                  n_epochs=500,\n",
    "                  min_dist=0.0, \n",
    "                  target_metric_kwds=keywords, \n",
    "                  target_weight=0.95, \n",
    "                  verbose=True)\n",
    "\n",
    "# Clustering model\n",
    "cluster_model = HDBSCAN(min_cluster_size = 10, \n",
    "                        min_samples=10,\n",
    "                        metric = 'euclidean', \n",
    "                        cluster_selection_method = 'eom', \n",
    "                        prediction_data = True)\n",
    "\n",
    "#Representation model\n",
    "representation_model = MaximalMarginalRelevance(diversity=0.4)\n",
    "\n",
    "#Create UMAP model\n",
    "vectorizer_model = CountVectorizer(stop_words=stopwords, ngram_range=(1, 3))\n",
    "\n",
    "ctfidf_model = ClassTfidfTransformer(bm25_weighting=True)\n",
    "\n",
    "print(\"Done Preprocessing Data\")"
   ]
  },
  {
   "cell_type": "code",
   "execution_count": 18,
   "metadata": {},
   "outputs": [
    {
     "data": {
      "application/vnd.jupyter.widget-view+json": {
       "model_id": "86f7e971444f4f47a8b42c8266aca300",
       "version_major": 2,
       "version_minor": 0
      },
      "text/plain": [
       "Batches:   0%|          | 0/7069 [00:00<?, ?it/s]"
      ]
     },
     "metadata": {},
     "output_type": "display_data"
    },
    {
     "name": "stderr",
     "output_type": "stream",
     "text": [
      "2023-10-11 12:38:18,208 - BERTopic - Transformed documents to Embeddings\n"
     ]
    },
    {
     "name": "stdout",
     "output_type": "stream",
     "text": [
      "UMAP(angular_rp_forest=True, metric='cosine', min_dist=0.0, n_epochs=500, n_neighbors=5, target_metric_kwds=['interest', 'inflation', 'unemployment', 'credit', 'market', 'trade', 'energy'], target_weight=0.95, verbose=True)\n",
      "Wed Oct 11 12:38:18 2023 Construct fuzzy simplicial set\n",
      "Wed Oct 11 12:38:18 2023 Finding Nearest Neighbors\n",
      "Wed Oct 11 12:38:18 2023 Building RP forest with 29 trees\n",
      "Wed Oct 11 12:38:23 2023 NN descent for 18 iterations\n",
      "\t 1  /  18\n",
      "\t 2  /  18\n",
      "\t 3  /  18\n",
      "\t 4  /  18\n",
      "\t 5  /  18\n",
      "\t 6  /  18\n",
      "\tStopping threshold met -- exiting after 6 iterations\n",
      "Wed Oct 11 12:40:06 2023 Finished Nearest Neighbor Search\n",
      "Wed Oct 11 12:40:07 2023 Construct embedding\n"
     ]
    },
    {
     "data": {
      "application/vnd.jupyter.widget-view+json": {
       "model_id": "149243408b53401193eb2ca51f7c9f4d",
       "version_major": 2,
       "version_minor": 0
      },
      "text/plain": [
       "Epochs completed:   0%|            0/500 [00:00]"
      ]
     },
     "metadata": {},
     "output_type": "display_data"
    },
    {
     "name": "stdout",
     "output_type": "stream",
     "text": [
      "Wed Oct 11 12:41:06 2023 Finished embedding\n"
     ]
    },
    {
     "name": "stderr",
     "output_type": "stream",
     "text": [
      "2023-10-11 12:41:07,903 - BERTopic - Reduced dimensionality\n"
     ]
    },
    {
     "name": "stdout",
     "output_type": "stream",
     "text": [
      "huggingface/tokenizers: The current process just got forked, after parallelism has already been used. Disabling parallelism to avoid deadlocks...\n",
      "To disable this warning, you can either:\n",
      "\t- Avoid using `tokenizers` before the fork if possible\n",
      "\t- Explicitly set the environment variable TOKENIZERS_PARALLELISM=(true | false)\n",
      "huggingface/tokenizers: The current process just got forked, after parallelism has already been used. Disabling parallelism to avoid deadlocks...\n",
      "To disable this warning, you can either:\n",
      "\t- Avoid using `tokenizers` before the fork if possible\n",
      "\t- Explicitly set the environment variable TOKENIZERS_PARALLELISM=(true | false)\n",
      "huggingface/tokenizers: The current process just got forked, after parallelism has already been used. Disabling parallelism to avoid deadlocks...\n",
      "To disable this warning, you can either:\n",
      "\t- Avoid using `tokenizers` before the fork if possible\n",
      "\t- Explicitly set the environment variable TOKENIZERS_PARALLELISM=(true | false)\n",
      "huggingface/tokenizers: The current process just got forked, after parallelism has already been used. Disabling parallelism to avoid deadlocks...\n",
      "To disable this warning, you can either:\n",
      "\t- Avoid using `tokenizers` before the fork if possible\n",
      "\t- Explicitly set the environment variable TOKENIZERS_PARALLELISM=(true | false)\n",
      "huggingface/tokenizers: The current process just got forked, after parallelism has already been used. Disabling parallelism to avoid deadlocks...\n",
      "To disable this warning, you can either:\n",
      "\t- Avoid using `tokenizers` before the fork if possible\n",
      "\t- Explicitly set the environment variable TOKENIZERS_PARALLELISM=(true | false)\n"
     ]
    },
    {
     "name": "stderr",
     "output_type": "stream",
     "text": [
      "2023-10-11 12:41:18,188 - BERTopic - Clustered reduced embeddings\n",
      "2023-10-11 12:50:50,345 - BERTopic - Reduced number of topics from 3288 to 64\n"
     ]
    }
   ],
   "source": [
    "topic_model = BERTopic(language= 'english',\n",
    "                       min_topic_size=15,\n",
    "                       n_gram_range=(1, 3),\n",
    "                       nr_topics = 64,\n",
    "                       embedding_model=embedding_model,\n",
    "                       umap_model=umap_model,\n",
    "                       hdbscan_model=cluster_model,\n",
    "                       vectorizer_model=vectorizer_model,\n",
    "                       ctfidf_model=ctfidf_model,\n",
    "                       representation_model=representation_model,\n",
    "                       verbose=True\n",
    "                       ).fit(docs)"
   ]
  },
  {
   "cell_type": "code",
   "execution_count": 19,
   "metadata": {},
   "outputs": [
    {
     "name": "stdout",
     "output_type": "stream",
     "text": [
      "Wed Oct 11 12:51:02 2023 Worst tree score: 0.17427518\n",
      "Wed Oct 11 12:51:02 2023 Mean tree score: 0.17887270\n",
      "Wed Oct 11 12:51:02 2023 Best tree score: 0.18698993\n",
      "Wed Oct 11 12:51:08 2023 Forward diversification reduced edges from 1130970 to 779522\n",
      "Wed Oct 11 12:51:09 2023 Reverse diversification reduced edges from 779522 to 779522\n"
     ]
    },
    {
     "name": "stderr",
     "output_type": "stream",
     "text": [
      "/Library/Frameworks/Python.framework/Versions/3.11/lib/python3.11/site-packages/scipy/sparse/_index.py:143: SparseEfficiencyWarning: Changing the sparsity structure of a csr_matrix is expensive. lil_matrix is more efficient.\n",
      "  self._set_arrayXarray(i, j, x)\n"
     ]
    },
    {
     "name": "stdout",
     "output_type": "stream",
     "text": [
      "Wed Oct 11 12:51:10 2023 Degree pruning reduced edges from 846000 to 822441\n",
      "Wed Oct 11 12:51:10 2023 Resorting data and graph based on tree order\n",
      "Wed Oct 11 12:51:10 2023 Building and compiling search function\n"
     ]
    }
   ],
   "source": [
    "torch.save(topic_model, f\"{Model_Folder_Cross}/{Model_Cross}_topic_model_{Body}.pt\")"
   ]
  },
  {
   "cell_type": "code",
   "execution_count": 20,
   "metadata": {},
   "outputs": [
    {
     "data": {
      "application/vnd.jupyter.widget-view+json": {
       "model_id": "c2130e0fa610488796e8a7d36005a103",
       "version_major": 2,
       "version_minor": 0
      },
      "text/plain": [
       "Batches:   0%|          | 0/538 [00:00<?, ?it/s]"
      ]
     },
     "metadata": {},
     "output_type": "display_data"
    },
    {
     "name": "stderr",
     "output_type": "stream",
     "text": [
      "2023-10-11 12:53:44,005 - BERTopic - Transformed documents to Embeddings\n"
     ]
    },
    {
     "name": "stdout",
     "output_type": "stream",
     "text": [
      "UMAP(angular_rp_forest=True, metric='cosine', min_dist=0.0, n_epochs=500, n_neighbors=5, target_metric_kwds=['interest', 'inflation', 'unemployment', 'credit', 'market', 'trade', 'energy'], target_weight=0.95, verbose=True)\n",
      "Wed Oct 11 12:53:44 2023 Construct fuzzy simplicial set\n",
      "Wed Oct 11 12:53:44 2023 Finding Nearest Neighbors\n",
      "Wed Oct 11 12:53:44 2023 Building RP forest with 12 trees\n",
      "Wed Oct 11 12:53:44 2023 NN descent for 14 iterations\n",
      "\t 1  /  14\n",
      "\t 2  /  14\n",
      "\t 3  /  14\n",
      "\t 4  /  14\n",
      "\t 5  /  14\n",
      "\t 6  /  14\n",
      "\t 7  /  14\n",
      "\tStopping threshold met -- exiting after 7 iterations\n",
      "Wed Oct 11 12:53:44 2023 Finished Nearest Neighbor Search\n",
      "Wed Oct 11 12:53:44 2023 Construct embedding\n"
     ]
    },
    {
     "data": {
      "application/vnd.jupyter.widget-view+json": {
       "model_id": "5dfa524abdf2486eadeb4b453a9b9273",
       "version_major": 2,
       "version_minor": 0
      },
      "text/plain": [
       "Epochs completed:   0%|            0/500 [00:00]"
      ]
     },
     "metadata": {},
     "output_type": "display_data"
    },
    {
     "name": "stderr",
     "output_type": "stream",
     "text": [
      "2023-10-11 12:53:48,491 - BERTopic - Reduced dimensionality\n"
     ]
    },
    {
     "name": "stdout",
     "output_type": "stream",
     "text": [
      "Wed Oct 11 12:53:48 2023 Finished embedding\n",
      "huggingface/tokenizers: The current process just got forked, after parallelism has already been used. Disabling parallelism to avoid deadlocks...\n",
      "To disable this warning, you can either:\n",
      "\t- Avoid using `tokenizers` before the fork if possible\n",
      "\t- Explicitly set the environment variable TOKENIZERS_PARALLELISM=(true | false)\n",
      "huggingface/tokenizers: The current process just got forked, after parallelism has already been used. Disabling parallelism to avoid deadlocks...\n",
      "To disable this warning, you can either:\n",
      "\t- Avoid using `tokenizers` before the fork if possible\n",
      "\t- Explicitly set the environment variable TOKENIZERS_PARALLELISM=(true | false)\n",
      "huggingface/tokenizers: The current process just got forked, after parallelism has already been used. Disabling parallelism to avoid deadlocks...\n",
      "To disable this warning, you can either:\n",
      "\t- Avoid using `tokenizers` before the fork if possible\n",
      "\t- Explicitly set the environment variable TOKENIZERS_PARALLELISM=(true | false)\n",
      "huggingface/tokenizers: The current process just got forked, after parallelism has already been used. Disabling parallelism to avoid deadlocks...\n",
      "To disable this warning, you can either:\n",
      "\t- Avoid using `tokenizers` before the fork if possible\n",
      "\t- Explicitly set the environment variable TOKENIZERS_PARALLELISM=(true | false)\n"
     ]
    },
    {
     "name": "stderr",
     "output_type": "stream",
     "text": [
      "2023-10-11 12:53:49,380 - BERTopic - Clustered reduced embeddings\n",
      "2023-10-11 12:55:05,166 - BERTopic - Reduced number of topics from 408 to 64\n"
     ]
    }
   ],
   "source": [
    "topic_model_2 = BERTopic(language= 'english',\n",
    "                       min_topic_size=15,\n",
    "                       n_gram_range=(1, 3),\n",
    "                       nr_topics = 64,\n",
    "                       embedding_model=embedding_model,\n",
    "                       umap_model=umap_model,\n",
    "                       hdbscan_model=cluster_model,\n",
    "                       vectorizer_model=vectorizer_model,\n",
    "                       ctfidf_model=ctfidf_model,\n",
    "                       representation_model=representation_model,\n",
    "                       verbose=True\n",
    "                       ).fit(docs_2)"
   ]
  },
  {
   "cell_type": "code",
   "execution_count": 21,
   "metadata": {},
   "outputs": [
    {
     "name": "stdout",
     "output_type": "stream",
     "text": [
      "Wed Oct 11 12:55:06 2023 Worst tree score: 0.27795861\n",
      "Wed Oct 11 12:55:06 2023 Mean tree score: 0.28808223\n",
      "Wed Oct 11 12:55:06 2023 Best tree score: 0.29394327\n",
      "Wed Oct 11 12:55:06 2023 Forward diversification reduced edges from 86020 to 60173\n",
      "Wed Oct 11 12:55:06 2023 Reverse diversification reduced edges from 60173 to 60173\n",
      "Wed Oct 11 12:55:06 2023 Degree pruning reduced edges from 62742 to 62015\n",
      "Wed Oct 11 12:55:06 2023 Resorting data and graph based on tree order\n",
      "Wed Oct 11 12:55:06 2023 Building and compiling search function\n"
     ]
    },
    {
     "name": "stderr",
     "output_type": "stream",
     "text": [
      "/Library/Frameworks/Python.framework/Versions/3.11/lib/python3.11/site-packages/scipy/sparse/_index.py:143: SparseEfficiencyWarning: Changing the sparsity structure of a csr_matrix is expensive. lil_matrix is more efficient.\n",
      "  self._set_arrayXarray(i, j, x)\n"
     ]
    }
   ],
   "source": [
    "torch.save(topic_model_2, f\"{Model_Folder_Cross}/{Model_Cross}_topic_model_{Body_2}.pt\")"
   ]
  },
  {
   "cell_type": "code",
   "execution_count": 22,
   "metadata": {},
   "outputs": [
    {
     "data": {
      "application/vnd.jupyter.widget-view+json": {
       "model_id": "51a803836c2e4497b9b0d698e48800ea",
       "version_major": 2,
       "version_minor": 0
      },
      "text/plain": [
       "Batches:   0%|          | 0/7607 [00:00<?, ?it/s]"
      ]
     },
     "metadata": {},
     "output_type": "display_data"
    },
    {
     "name": "stderr",
     "output_type": "stream",
     "text": [
      "2023-10-11 13:22:22,549 - BERTopic - Transformed documents to Embeddings\n"
     ]
    },
    {
     "name": "stdout",
     "output_type": "stream",
     "text": [
      "UMAP(angular_rp_forest=True, metric='cosine', min_dist=0.0, n_epochs=500, n_neighbors=5, target_metric_kwds=['interest', 'inflation', 'unemployment', 'credit', 'market', 'trade', 'energy'], target_weight=0.95, verbose=True)\n",
      "Wed Oct 11 13:22:22 2023 Construct fuzzy simplicial set\n",
      "Wed Oct 11 13:22:22 2023 Finding Nearest Neighbors\n",
      "Wed Oct 11 13:22:22 2023 Building RP forest with 30 trees\n",
      "Wed Oct 11 13:22:26 2023 NN descent for 18 iterations\n",
      "\t 1  /  18\n",
      "\t 2  /  18\n",
      "\t 3  /  18\n",
      "\t 4  /  18\n",
      "\t 5  /  18\n",
      "\t 6  /  18\n",
      "\tStopping threshold met -- exiting after 6 iterations\n",
      "Wed Oct 11 13:22:30 2023 Finished Nearest Neighbor Search\n",
      "Wed Oct 11 13:22:30 2023 Construct embedding\n"
     ]
    },
    {
     "data": {
      "application/vnd.jupyter.widget-view+json": {
       "model_id": "ffc6d702c5ab4600b861858c1043bb68",
       "version_major": 2,
       "version_minor": 0
      },
      "text/plain": [
       "Epochs completed:   0%|            0/500 [00:00]"
      ]
     },
     "metadata": {},
     "output_type": "display_data"
    },
    {
     "name": "stdout",
     "output_type": "stream",
     "text": [
      "Wed Oct 11 13:23:38 2023 Finished embedding\n"
     ]
    },
    {
     "name": "stderr",
     "output_type": "stream",
     "text": [
      "2023-10-11 13:23:40,261 - BERTopic - Reduced dimensionality\n"
     ]
    },
    {
     "name": "stdout",
     "output_type": "stream",
     "text": [
      "huggingface/tokenizers: The current process just got forked, after parallelism has already been used. Disabling parallelism to avoid deadlocks...\n",
      "To disable this warning, you can either:\n",
      "\t- Avoid using `tokenizers` before the fork if possible\n",
      "\t- Explicitly set the environment variable TOKENIZERS_PARALLELISM=(true | false)\n",
      "huggingface/tokenizers: The current process just got forked, after parallelism has already been used. Disabling parallelism to avoid deadlocks...\n",
      "To disable this warning, you can either:\n",
      "\t- Avoid using `tokenizers` before the fork if possible\n",
      "\t- Explicitly set the environment variable TOKENIZERS_PARALLELISM=(true | false)\n",
      "huggingface/tokenizers: The current process just got forked, after parallelism has already been used. Disabling parallelism to avoid deadlocks...\n",
      "To disable this warning, you can either:\n",
      "\t- Avoid using `tokenizers` before the fork if possible\n",
      "\t- Explicitly set the environment variable TOKENIZERS_PARALLELISM=(true | false)\n",
      "huggingface/tokenizers: The current process just got forked, after parallelism has already been used. Disabling parallelism to avoid deadlocks...\n",
      "To disable this warning, you can either:\n",
      "\t- Avoid using `tokenizers` before the fork if possible\n",
      "\t- Explicitly set the environment variable TOKENIZERS_PARALLELISM=(true | false)\n"
     ]
    },
    {
     "name": "stderr",
     "output_type": "stream",
     "text": [
      "2023-10-11 13:23:51,092 - BERTopic - Clustered reduced embeddings\n",
      "2023-10-11 13:33:58,068 - BERTopic - Reduced number of topics from 3482 to 64\n"
     ]
    }
   ],
   "source": [
    "topic_model_all = BERTopic(language= 'english',\n",
    "                       min_topic_size=15,\n",
    "                       n_gram_range=(1, 3),\n",
    "                       nr_topics = 64,\n",
    "                       embedding_model=embedding_model,\n",
    "                       umap_model=umap_model,\n",
    "                       hdbscan_model=cluster_model,\n",
    "                       vectorizer_model=vectorizer_model,\n",
    "                       ctfidf_model=ctfidf_model,\n",
    "                       representation_model=representation_model,\n",
    "                       verbose=True\n",
    "                       ).fit(docs_all)"
   ]
  },
  {
   "cell_type": "code",
   "execution_count": 23,
   "metadata": {},
   "outputs": [
    {
     "name": "stdout",
     "output_type": "stream",
     "text": [
      "Wed Oct 11 13:34:10 2023 Worst tree score: 0.17338680\n",
      "Wed Oct 11 13:34:10 2023 Mean tree score: 0.17777276\n",
      "Wed Oct 11 13:34:10 2023 Best tree score: 0.18711740\n",
      "Wed Oct 11 13:34:13 2023 Forward diversification reduced edges from 1216990 to 839987\n",
      "Wed Oct 11 13:34:13 2023 Reverse diversification reduced edges from 839987 to 839987\n",
      "Wed Oct 11 13:34:13 2023 Degree pruning reduced edges from 912096 to 886454\n",
      "Wed Oct 11 13:34:13 2023 Resorting data and graph based on tree order\n"
     ]
    },
    {
     "name": "stderr",
     "output_type": "stream",
     "text": [
      "/Library/Frameworks/Python.framework/Versions/3.11/lib/python3.11/site-packages/scipy/sparse/_index.py:143: SparseEfficiencyWarning: Changing the sparsity structure of a csr_matrix is expensive. lil_matrix is more efficient.\n",
      "  self._set_arrayXarray(i, j, x)\n"
     ]
    },
    {
     "name": "stdout",
     "output_type": "stream",
     "text": [
      "Wed Oct 11 13:34:14 2023 Building and compiling search function\n"
     ]
    }
   ],
   "source": [
    "torch.save(topic_model_all, f\"{Model_Folder_Cross}/{Model_Cross}_topic_model_{Body_Cross}.pt\")"
   ]
  },
  {
   "cell_type": "code",
   "execution_count": 24,
   "metadata": {},
   "outputs": [],
   "source": [
    "from sklearn.metrics.pairwise import cosine_similarity\n",
    "\n",
    "sim_matrix = cosine_similarity(topic_model.topic_embeddings_, topic_model_2.topic_embeddings_)"
   ]
  },
  {
   "cell_type": "code",
   "execution_count": 25,
   "metadata": {},
   "outputs": [],
   "source": [
    "topic = 10"
   ]
  },
  {
   "cell_type": "code",
   "execution_count": 26,
   "metadata": {},
   "outputs": [
    {
     "data": {
      "text/plain": [
       "[('latest observations', 0.021749176058509127),\n",
       " ('2022', 0.020929463956313846),\n",
       " ('2019 op', 0.018192814413071016),\n",
       " ('2018 op', 0.01752455174169975),\n",
       " ('data latest', 0.016899166206944143),\n",
       " ('2007', 0.015888847520837586),\n",
       " ('2020 op', 0.015857421193154177),\n",
       " ('annual data', 0.014986541819297362),\n",
       " ('2016', 0.014315126423998183),\n",
       " ('annual', 0.0138637516022952)]"
      ]
     },
     "execution_count": 26,
     "metadata": {},
     "output_type": "execute_result"
    }
   ],
   "source": [
    "topic_model.get_topic(topic)"
   ]
  },
  {
   "cell_type": "code",
   "execution_count": 27,
   "metadata": {},
   "outputs": [
    {
     "data": {
      "text/plain": [
       "[('congressional budget', 0.05283517596589791),\n",
       " ('congressional budget office', 0.04601481068997554),\n",
       " ('budget office', 0.04601481068997554),\n",
       " ('budget economic outlook', 0.03354510962831647),\n",
       " ('87th annual report', 0.02494917668440108),\n",
       " ('see congressional budget', 0.02494917668440108),\n",
       " ('text see congressional', 0.020470930118616216),\n",
       " ('budget office 2021', 0.020470930118616216),\n",
       " ('2017a 2017b', 0.019959341347520865),\n",
       " ('act 2021', 0.01953345457973714)]"
      ]
     },
     "execution_count": 27,
     "metadata": {},
     "output_type": "execute_result"
    }
   ],
   "source": [
    "most_similar_topic = np.argmax(sim_matrix[topic + 1])-1\n",
    "topic_model_2.get_topic(most_similar_topic)"
   ]
  },
  {
   "cell_type": "code",
   "execution_count": 28,
   "metadata": {},
   "outputs": [
    {
     "name": "stdout",
     "output_type": "stream",
     "text": [
      "[('see next slide', 0.07870197231702752), ('side', 0.044569489778491525), ('chart', 0.03558451896945302), ('slide see righthand', 0.03512650857990999), ('markets report european', 0.03512650857990999), ('london economics', 0.032670379251786334), ('financial markets report', 0.03161385772191899), ('macroeconomic impact integration', 0.03161385772191899), ('quantification macroeconomic', 0.03161385772191899), ('quantification macroeconomic impact', 0.03161385772191899)]\n"
     ]
    },
    {
     "name": "stderr",
     "output_type": "stream",
     "text": [
      "50it [05:57,  7.14s/it]\n"
     ]
    },
    {
     "name": "stdout",
     "output_type": "stream",
     "text": [
      "All Visuals Done\n"
     ]
    }
   ],
   "source": [
    "similar_topics, similarity = topic_model_all.find_topics(\"interest\", top_n=8)\n",
    "print(topic_model.get_topic(similar_topics[1]))\n",
    "\n",
    "topics_per_class = topic_model_all.topics_per_class(docs_all, classes=type_all)\n",
    "topic_model_all.visualize_topics_per_class(topics_per_class, top_n_topics=32).write_html(f\"{bert_models}/topics_per_class.html\")\n",
    "\n",
    "#topics_over_time = topic_model.topics_over_time(docs, timestamps, nr_bins=200)\n",
    "#save topics over time graph as HTML file\n",
    "#topic_model.visualize_topics_over_time(topics_over_time, top_n_topics=32).write_html(f\"{bert_models}/topics_over_time.html\")\n",
    "\n",
    "# Save intertopic distance map as HTML file\n",
    "topic_model_all.visualize_topics().write_html(f\"{bert_models}/intertopic_dist_map.html\")\n",
    "\n",
    "# Save topic-terms barcharts as HTML file\n",
    "topic_model_all.visualize_barchart(top_n_topics = 32, n_words=8).write_html(f\"{bert_models}/barchart.html\")\n",
    "\n",
    "# Save documents projection as HTML file\n",
    "topic_model_all.visualize_documents(docs_all).write_html(f\"{bert_models}/projections.html\")\n",
    "\n",
    "# Save topics dendrogram as HTML file\n",
    "topic_model_all.visualize_hierarchy().write_html(f\"{bert_models}/hieararchy.html\")\n",
    "\n",
    "print(\"All Visuals Done\")"
   ]
  }
 ],
 "metadata": {
  "kernelspec": {
   "display_name": "Python 3",
   "language": "python",
   "name": "python3"
  },
  "language_info": {
   "codemirror_mode": {
    "name": "ipython",
    "version": 3
   },
   "file_extension": ".py",
   "mimetype": "text/x-python",
   "name": "python",
   "nbconvert_exporter": "python",
   "pygments_lexer": "ipython3",
   "version": "3.11.4"
  }
 },
 "nbformat": 4,
 "nbformat_minor": 2
}
