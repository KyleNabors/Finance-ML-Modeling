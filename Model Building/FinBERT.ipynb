{
 "cells": [
  {
   "cell_type": "code",
   "execution_count": 1,
   "metadata": {},
   "outputs": [],
   "source": [
    "import os \n",
    "import sys\n",
    "import pandas as pd\n",
    "import numpy as np\n",
    "from nltk.tokenize import sent_tokenize\n",
    "from sklearn.feature_extraction.text import CountVectorizer\n",
    "import torch \n",
    "import nltk\n",
    "import spacy\n",
    "\n"
   ]
  },
  {
   "cell_type": "code",
   "execution_count": 2,
   "metadata": {},
   "outputs": [
    {
     "name": "stdout",
     "output_type": "stream",
     "text": [
      "/Users/kylenabors/Documents/GitHub/Finance-ML-Modeling\n",
      "/Users/kylenabors/Documents/GitHub/Finance-ML-Modeling\n",
      "/Users/kylenabors/Documents\n",
      "/Users/kylenabors/Documents/GitHub/Finance-ML-Modeling\n"
     ]
    }
   ],
   "source": [
    "\n",
    "#Importing Configs\n",
    "# Define the path where config.py is located\n",
    "#Mac\n",
    "os.chdir('/Users/kylenabors/Documents/GitHub/Finance-ML-Modeling')\n",
    "#Linux\n",
    "#os.chdir('/home/kwnabors/Documents/GitHub/Finance-ML-Modeling')\n",
    "config_file_path = os.getcwd()\n",
    "print(config_file_path)\n",
    "\n",
    "# Add this path to the sys.path\n",
    "sys.path.append(config_file_path)\n",
    "\n",
    "import config\n",
    "#Variables, Paramaters, and Pathnames needed for this script\n",
    "database_file = config.database\n",
    "database_folder = config.database_folder\n",
    "bert_models = config.bert_models\n",
    "bert_models_local = config.bert_models_local\n",
    "keywords = config.keywords\n",
    "finbert_models = config.finbert_models\n",
    "\n",
    "Body = config.Body\n",
    "Model = config.Model\n",
    "Model_Subfolder = f'/{Body} Texts/{Model}'\n",
    "Model_Folder = config.texts\n",
    "Model_Folder = Model_Folder + Model_Subfolder\n",
    "\n",
    "df = pd.read_csv(f\"{Model_Folder}/{Model}_texts_long.csv\")  \n",
    "df = df[df['language'] == 'en']\n",
    "df_2 = pd.read_csv(f\"{Model_Folder}/{Model}_texts.csv\")  \n",
    "df_2 = df_2[df_2['language'] == 'en']\n"
   ]
  },
  {
   "cell_type": "code",
   "execution_count": 3,
   "metadata": {},
   "outputs": [
    {
     "name": "stderr",
     "output_type": "stream",
     "text": [
      "/Library/Frameworks/Python.framework/Versions/3.8/lib/python3.8/site-packages/tqdm/auto.py:21: TqdmWarning: IProgress not found. Please update jupyter and ipywidgets. See https://ipywidgets.readthedocs.io/en/stable/user_install.html\n",
      "  from .autonotebook import tqdm as notebook_tqdm\n"
     ]
    }
   ],
   "source": [
    "#Finbert \n",
    "# Load model directly\n",
    "from transformers import AutoTokenizer, AutoModelForSequenceClassification\n",
    "from transformers import BertTokenizer, BertForSequenceClassification\n",
    "from transformers import pipeline\n",
    "\n",
    "tokenizer_1 = AutoTokenizer.from_pretrained(\"ProsusAI/finbert\")\n",
    "model_1 = AutoModelForSequenceClassification.from_pretrained(\"ProsusAI/finbert\")\n",
    "\n",
    "finbert = BertForSequenceClassification.from_pretrained('yiyanghkust/finbert-tone',num_labels=3)\n",
    "tokenizer_2 = BertTokenizer.from_pretrained('yiyanghkust/finbert-tone')\n",
    "nlp = pipeline(\"sentiment-analysis\", model=finbert, tokenizer=tokenizer_2)\n",
    "\n",
    "labels = {0:'neutral', 1:'positive',2:'negative'}\n",
    "out_1= []\n",
    "out_2 = []\n",
    "sent_val = list()\n",
    "tone_val = list()\n",
    "long = 0\n",
    "errors = 0"
   ]
  },
  {
   "cell_type": "code",
   "execution_count": 4,
   "metadata": {},
   "outputs": [
    {
     "name": "stdout",
     "output_type": "stream",
     "text": [
      "  doc_num        date                                            title  \\\n",
      "0    ECB1  2008-06-01  Financial turmoil, securitisation and liquidity   \n",
      "1    ECB1  2008-06-01  Financial turmoil, securitisation and liquidity   \n",
      "2    ECB1  2008-06-01  Financial turmoil, securitisation and liquidity   \n",
      "3    ECB1  2008-06-01  Financial turmoil, securitisation and liquidity   \n",
      "4    ECB1  2008-06-01  Financial turmoil, securitisation and liquidity   \n",
      "\n",
      "   sentiment                                            segment  \n",
      "0          0  financial turmoil , securitisation and liquidi...  \n",
      "1          0  i would like to thank the european securitisat...  \n",
      "2         -1  the fact that the markets for assetbacked secu...  \n",
      "3          1  securitisation , together with financial innov...  \n",
      "4          1  the securitisation of their loan portfolios ha...  \n",
      "The analysis failed 1 times.\n"
     ]
    }
   ],
   "source": [
    "for index, row in df_2.iterrows():\n",
    "    docs = row[\"segment\"]\n",
    "    timestamps = row['date']\n",
    "    type = row['type']\n",
    "    title = row['title']\n",
    "    docs = str(docs)\n",
    "    doc_num = row['doc_num']\n",
    "    \n",
    "    try:\n",
    "            results = nlp(docs)\n",
    "    except:\n",
    "            errors += 1\n",
    "            continue\n",
    "    \n",
    "    results = results[0]['label']\n",
    "    if results == \"Negative\":\n",
    "        r_num = -1 \n",
    "    if results == \"Neutral\":\n",
    "        r_num = 0\n",
    "    if results == \"Positive\":\n",
    "        r_num = 1\n",
    "\n",
    "    out_1.append([doc_num, timestamps, title, r_num, docs])\n",
    "    \n",
    "df_out_1 = pd.DataFrame(out_1, columns=[\"doc_num\", \"date\", \"title\", \"sentiment\", \"segment\"])\n",
    "df_out_1_2 = df_out_1[[\"doc_num\", \"sentiment\"]]\n",
    "df_out_1_2 = df_out_1_2.groupby(['doc_num']).mean()\n",
    "\n",
    "print(df_out_1.head())\n",
    "\n",
    "print(f'The analysis failed {errors} times.')\n"
   ]
  },
  {
   "cell_type": "code",
   "execution_count": 5,
   "metadata": {},
   "outputs": [],
   "source": [
    "for index, row in df.iterrows():\n",
    "    docs = row[\"segment\"]\n",
    "    timestamps = row['date']\n",
    "    #type = row['type']\n",
    "    title = row['title']\n",
    "    docs = str(docs)\n",
    "    doc_num = row['doc_num']\n",
    "    \n",
    "    inputs_2 = tokenizer_2(docs, return_tensors=\"pt\", padding=True, truncation=True, max_length=511)\n",
    "    outputs_2 = finbert(**inputs_2)[0]\n",
    "    val_2 = labels[np.argmax(outputs_2.detach().numpy())]\n",
    "    #tone_val.append(val_2)\n",
    "\n",
    "    out_2.append([doc_num, timestamps, title, type, docs, val_2])\n",
    "\n"
   ]
  },
  {
   "cell_type": "code",
   "execution_count": 6,
   "metadata": {},
   "outputs": [
    {
     "name": "stdout",
     "output_type": "stream",
     "text": [
      "done\n"
     ]
    }
   ],
   "source": [
    "df_out_2 = pd.DataFrame(out_2, columns=[\"doc_num\", \"date\", \"title\", \"type\", \"segment\", \"tone\"])\n",
    "\n",
    "\n",
    "df_out = df_out_2.merge(df_out_1_2, on='doc_num', how='inner')\n",
    "\n",
    "df_out.to_csv(f\"{finbert_models}/{Body}_{Model}_finbert model.csv\")  \n",
    "df_out_1.to_csv(f\"{finbert_models}/{Body}_{Model}_finbert model_line.csv\")  \n",
    "\n",
    "print('done')"
   ]
  },
  {
   "cell_type": "code",
   "execution_count": null,
   "metadata": {},
   "outputs": [],
   "source": []
  }
 ],
 "metadata": {
  "kernelspec": {
   "display_name": "Python 3",
   "language": "python",
   "name": "python3"
  },
  "language_info": {
   "codemirror_mode": {
    "name": "ipython",
    "version": 3
   },
   "file_extension": ".py",
   "mimetype": "text/x-python",
   "name": "python",
   "nbconvert_exporter": "python",
   "pygments_lexer": "ipython3",
   "version": "3.8.0"
  }
 },
 "nbformat": 4,
 "nbformat_minor": 2
}
