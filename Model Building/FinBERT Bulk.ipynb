{
 "cells": [
  {
   "cell_type": "code",
   "execution_count": 1,
   "metadata": {},
   "outputs": [
    {
     "name": "stderr",
     "output_type": "stream",
     "text": [
      "[nltk_data] Downloading package punkt to\n",
      "[nltk_data]     /Users/kylenabors/nltk_data...\n",
      "[nltk_data]   Package punkt is already up-to-date!\n"
     ]
    },
    {
     "data": {
      "text/plain": [
       "True"
      ]
     },
     "execution_count": 1,
     "metadata": {},
     "output_type": "execute_result"
    }
   ],
   "source": [
    "import os \n",
    "import sys\n",
    "import pandas as pd\n",
    "import numpy as np\n",
    "from nltk.tokenize import sent_tokenize\n",
    "from sklearn.feature_extraction.text import CountVectorizer\n",
    "import torch \n",
    "import nltk\n",
    "import spacy\n",
    "import tensorflow as tf\n",
    "\n",
    "nltk.download('punkt')"
   ]
  },
  {
   "cell_type": "code",
   "execution_count": 2,
   "metadata": {},
   "outputs": [
    {
     "name": "stdout",
     "output_type": "stream",
     "text": [
      "tensor([1.], device='mps:0')\n"
     ]
    }
   ],
   "source": [
    "import platform\n",
    "platform.platform()\n",
    "\n",
    "torch.backends.mps.is_built()\n",
    "\n",
    "if torch.backends.mps.is_available():\n",
    "    mps_device = torch.device(\"mps\")\n",
    "    x = torch.ones(1, device=mps_device)\n",
    "    print (x)\n",
    "else:\n",
    "    print (\"MPS device not found.\")"
   ]
  },
  {
   "cell_type": "code",
   "execution_count": 3,
   "metadata": {},
   "outputs": [
    {
     "name": "stdout",
     "output_type": "stream",
     "text": [
      "/Users/kylenabors/Documents/GitHub/Finance-ML-Modeling\n",
      "/Users/kylenabors/Documents/GitHub/Finance-ML-Modeling\n",
      "/Users/kylenabors/Documents\n",
      "/Users/kylenabors/Documents/GitHub/Finance-ML-Modeling\n"
     ]
    }
   ],
   "source": [
    "\n",
    "#Importing Configs\n",
    "# Define the path where config.py is located\n",
    "#Mac\n",
    "os.chdir('/Users/kylenabors/Documents/GitHub/Finance-ML-Modeling')\n",
    "#Linux\n",
    "#os.chdir('/home/kwnabors/Documents/GitHub/Finance-ML-Modeling')\n",
    "config_file_path = os.getcwd()\n",
    "print(config_file_path)\n",
    "\n",
    "# Add this path to the sys.path\n",
    "sys.path.append(config_file_path)\n",
    "\n",
    "import config\n",
    "#Variables, Paramaters, and Pathnames needed for this script\n",
    "database_file = config.database\n",
    "database_folder = config.database_folder\n",
    "bert_models = config.bert_models\n",
    "bert_models_local = config.bert_models_local\n",
    "keywords = config.keywords\n",
    "finbert_models = config.finbert_models\n",
    "\n",
    "Body = config.Body\n",
    "Model = config.Model\n",
    "Model_Subfolder = f'/{Body} Texts/{Model}'\n",
    "Model_Folder = config.texts\n",
    "Model_Folder = Model_Folder + Model_Subfolder\n",
    "\n",
    "df = pd.read_csv(f\"{Model_Folder}/{Model}_texts.csv\") \n",
    "if Model == \"Beige Book\":\n",
    "    print(\"skip\")\n",
    "else:\n",
    "    df = df[df['language'] == 'en']\n"
   ]
  },
  {
   "cell_type": "code",
   "execution_count": 4,
   "metadata": {},
   "outputs": [
    {
     "data": {
      "application/vnd.jupyter.widget-view+json": {
       "model_id": "0700d4103dcd4cf1bc48bdac45bd2e55",
       "version_major": 2,
       "version_minor": 0
      },
      "text/plain": [
       "tokenizer_config.json:   0%|          | 0.00/252 [00:00<?, ?B/s]"
      ]
     },
     "metadata": {},
     "output_type": "display_data"
    },
    {
     "data": {
      "application/vnd.jupyter.widget-view+json": {
       "model_id": "c4dcddb18248417a9398a85505a119f6",
       "version_major": 2,
       "version_minor": 0
      },
      "text/plain": [
       "config.json:   0%|          | 0.00/758 [00:00<?, ?B/s]"
      ]
     },
     "metadata": {},
     "output_type": "display_data"
    },
    {
     "data": {
      "application/vnd.jupyter.widget-view+json": {
       "model_id": "23a32308ee2a4a4aaff1388857a6e77c",
       "version_major": 2,
       "version_minor": 0
      },
      "text/plain": [
       "tokenizer_config.json:   0%|          | 0.00/252 [00:00<?, ?B/s]"
      ]
     },
     "metadata": {},
     "output_type": "display_data"
    },
    {
     "data": {
      "application/vnd.jupyter.widget-view+json": {
       "model_id": "ef70e8b3995941318ac47289c41b6c59",
       "version_major": 2,
       "version_minor": 0
      },
      "text/plain": [
       "vocab.txt:   0%|          | 0.00/232k [00:00<?, ?B/s]"
      ]
     },
     "metadata": {},
     "output_type": "display_data"
    },
    {
     "data": {
      "application/vnd.jupyter.widget-view+json": {
       "model_id": "e910c5df40904f559f30633d899cc879",
       "version_major": 2,
       "version_minor": 0
      },
      "text/plain": [
       "special_tokens_map.json:   0%|          | 0.00/112 [00:00<?, ?B/s]"
      ]
     },
     "metadata": {},
     "output_type": "display_data"
    },
    {
     "data": {
      "application/vnd.jupyter.widget-view+json": {
       "model_id": "e376016a40ef40c191df80ab2c0dca5a",
       "version_major": 2,
       "version_minor": 0
      },
      "text/plain": [
       "tokenizer_config.json:   0%|          | 0.00/252 [00:00<?, ?B/s]"
      ]
     },
     "metadata": {},
     "output_type": "display_data"
    },
    {
     "data": {
      "application/vnd.jupyter.widget-view+json": {
       "model_id": "cdf55b6752724f0ab75e80833c0522e7",
       "version_major": 2,
       "version_minor": 0
      },
      "text/plain": [
       "config.json:   0%|          | 0.00/758 [00:00<?, ?B/s]"
      ]
     },
     "metadata": {},
     "output_type": "display_data"
    },
    {
     "data": {
      "application/vnd.jupyter.widget-view+json": {
       "model_id": "a61cfbd17b71498b9cc1bd9d4b5427a8",
       "version_major": 2,
       "version_minor": 0
      },
      "text/plain": [
       "config.json:   0%|          | 0.00/758 [00:00<?, ?B/s]"
      ]
     },
     "metadata": {},
     "output_type": "display_data"
    },
    {
     "data": {
      "application/vnd.jupyter.widget-view+json": {
       "model_id": "566f593b99eb44d498a37b96df32b236",
       "version_major": 2,
       "version_minor": 0
      },
      "text/plain": [
       "pytorch_model.bin:   0%|          | 0.00/438M [00:00<?, ?B/s]"
      ]
     },
     "metadata": {},
     "output_type": "display_data"
    }
   ],
   "source": [
    "#Finbert \n",
    "# Load model directly\n",
    "from transformers import AutoTokenizer, AutoModelForSequenceClassification\n",
    "from transformers import BertTokenizer, BertForSequenceClassification\n",
    "from transformers import pipeline\n",
    "\n",
    "tokenizer_1 = AutoTokenizer.from_pretrained(\"ProsusAI/finbert\", force_download=True)\n",
    "model_1 = AutoModelForSequenceClassification.from_pretrained(\"ProsusAI/finbert\", force_download=True)\n",
    "model_1 = model_1.to('mps')\n",
    "\n",
    "labels = {0:'positive', 1:'negative',2:'neutral'}\n",
    "labels2 = {0:'neutral', 1:'positive',2:'negative'}\n",
    "out_1= []\n",
    "out_2 = []\n",
    "sent_val = list()\n",
    "tone_val = list()\n",
    "long = 0\n",
    "errors = 0\n",
    "total = 0"
   ]
  },
  {
   "cell_type": "code",
   "execution_count": 5,
   "metadata": {},
   "outputs": [],
   "source": [
    "Fed_list = [\"Speeches\", \"Minutes\", \"Beige Book\", \"Statements\"]\n",
    "#ECB_list = [\"Speeches\", \"Monetary policy decisions\", \"Economic Bulletin\", 'Press Conferences']\n",
    "ECB_list = [\"Monetary policy decisions\", \"Economic Bulletin\", 'Press Conferences']"
   ]
  },
  {
   "cell_type": "code",
   "execution_count": 6,
   "metadata": {},
   "outputs": [
    {
     "name": "stdout",
     "output_type": "stream",
     "text": [
      "Errors Long: 2\n",
      "Errors Long %: 0.001330574608644743\n",
      "Errors Long: 0\n",
      "Errors Long %: 0.0\n",
      "skip\n",
      "Errors Long: 22\n",
      "Errors Long %: 0.02876004967644944\n",
      "Errors Long: 0\n",
      "Errors Long %: 0.0\n"
     ]
    }
   ],
   "source": [
    "for i in Fed_list:\n",
    "    out_1= []\n",
    "    out_2 = []\n",
    "    sent_val = list()\n",
    "    tone_val = list()\n",
    "    long = 0\n",
    "    errors = 0\n",
    "    total = 0\n",
    "    Body = \"Fed\"\n",
    "    Model = i\n",
    "    Model_Subfolder = f'/{Body} Texts/{Model}'\n",
    "    Model_Folder = config.texts\n",
    "    Model_Folder = Model_Folder + Model_Subfolder\n",
    "\n",
    "    df = pd.read_csv(f\"{Model_Folder}/{Model}_texts_blocks.csv\") \n",
    "    if Model == \"Beige Book\":\n",
    "        print(\"skip\")\n",
    "    else:\n",
    "        df = df[df['language'] == 'en']\n",
    "\n",
    "    for index, row in df.iterrows():\n",
    "        docs = row[\"segment\"]\n",
    "        timestamps = row['date']\n",
    "        title = row['title']\n",
    "        docs = str(docs)\n",
    "        doc_num = row['doc_num']\n",
    "        event = row['event']\n",
    "        type = row['type']\n",
    "        \n",
    "        total += 1\n",
    "        try:\n",
    "            inputs_1 = tokenizer_1(docs, return_tensors=\"pt\", padding='max_length', max_length=511).to('mps')\n",
    "            outputs_1 = model_1(**inputs_1)\n",
    "            val_1 = torch.nn.functional.softmax(outputs_1.logits, dim=-1).to('cpu')\n",
    "            val_1 = val_1.detach().numpy()  \n",
    "            \n",
    "            positive = val_1[:, 0][0]\n",
    "            negative = val_1[:, 1][0]\n",
    "            neutral = val_1[:, 2][0]\n",
    "            net = labels[np.argmax(val_1)]\n",
    "\n",
    "            out_1.append([doc_num, timestamps, type, event, title, docs, positive, negative, neutral, net])\n",
    "            \n",
    "            \n",
    "        except:\n",
    "            errors += 1\n",
    "\n",
    "    percent = (errors/total)*100\n",
    "    print(f'Errors Long: {errors}')\n",
    "    print(f'Errors Long %: {percent}')\n",
    "    df_out_1 = pd.DataFrame(out_1, columns=[\"doc_num\", \"date\", \"type\", \"event\", \"title\",  \"segment\", \"positive\", \"negative\", \"neutral\", \"sentiment\"])\n",
    "    df_out_1[\"sentiment\"] = df_out_1[\"sentiment\"].replace({'positive': 1, 'neutral' : 0, 'negative' : -1})\n",
    "\n",
    "    df_out_1.to_csv(f\"{finbert_models}/{Body}/{Model}/{Body}_{Model}_finbert_model_short.csv\")  \n"
   ]
  },
  {
   "cell_type": "code",
   "execution_count": 6,
   "metadata": {},
   "outputs": [
    {
     "ename": "KeyError",
     "evalue": "'doc_type'",
     "output_type": "error",
     "traceback": [
      "\u001b[0;31m---------------------------------------------------------------------------\u001b[0m",
      "\u001b[0;31mKeyError\u001b[0m                                  Traceback (most recent call last)",
      "File \u001b[0;32m/Library/Frameworks/Python.framework/Versions/3.11/lib/python3.11/site-packages/pandas/core/indexes/base.py:3653\u001b[0m, in \u001b[0;36mIndex.get_loc\u001b[0;34m(self, key)\u001b[0m\n\u001b[1;32m   3652\u001b[0m \u001b[38;5;28;01mtry\u001b[39;00m:\n\u001b[0;32m-> 3653\u001b[0m     \u001b[38;5;28;01mreturn\u001b[39;00m \u001b[38;5;28;43mself\u001b[39;49m\u001b[38;5;241;43m.\u001b[39;49m\u001b[43m_engine\u001b[49m\u001b[38;5;241;43m.\u001b[39;49m\u001b[43mget_loc\u001b[49m\u001b[43m(\u001b[49m\u001b[43mcasted_key\u001b[49m\u001b[43m)\u001b[49m\n\u001b[1;32m   3654\u001b[0m \u001b[38;5;28;01mexcept\u001b[39;00m \u001b[38;5;167;01mKeyError\u001b[39;00m \u001b[38;5;28;01mas\u001b[39;00m err:\n",
      "File \u001b[0;32m/Library/Frameworks/Python.framework/Versions/3.11/lib/python3.11/site-packages/pandas/_libs/index.pyx:147\u001b[0m, in \u001b[0;36mpandas._libs.index.IndexEngine.get_loc\u001b[0;34m()\u001b[0m\n",
      "File \u001b[0;32m/Library/Frameworks/Python.framework/Versions/3.11/lib/python3.11/site-packages/pandas/_libs/index.pyx:176\u001b[0m, in \u001b[0;36mpandas._libs.index.IndexEngine.get_loc\u001b[0;34m()\u001b[0m\n",
      "File \u001b[0;32mpandas/_libs/hashtable_class_helper.pxi:7080\u001b[0m, in \u001b[0;36mpandas._libs.hashtable.PyObjectHashTable.get_item\u001b[0;34m()\u001b[0m\n",
      "File \u001b[0;32mpandas/_libs/hashtable_class_helper.pxi:7088\u001b[0m, in \u001b[0;36mpandas._libs.hashtable.PyObjectHashTable.get_item\u001b[0;34m()\u001b[0m\n",
      "\u001b[0;31mKeyError\u001b[0m: 'doc_type'",
      "\nThe above exception was the direct cause of the following exception:\n",
      "\u001b[0;31mKeyError\u001b[0m                                  Traceback (most recent call last)",
      "Cell \u001b[0;32mIn[6], line 28\u001b[0m\n\u001b[1;32m     26\u001b[0m doc_num \u001b[38;5;241m=\u001b[39m row[\u001b[38;5;124m'\u001b[39m\u001b[38;5;124mdoc_num\u001b[39m\u001b[38;5;124m'\u001b[39m]\n\u001b[1;32m     27\u001b[0m event \u001b[38;5;241m=\u001b[39m row[\u001b[38;5;124m'\u001b[39m\u001b[38;5;124mevent\u001b[39m\u001b[38;5;124m'\u001b[39m]\n\u001b[0;32m---> 28\u001b[0m \u001b[38;5;28mtype\u001b[39m \u001b[38;5;241m=\u001b[39m \u001b[43mrow\u001b[49m\u001b[43m[\u001b[49m\u001b[38;5;124;43m'\u001b[39;49m\u001b[38;5;124;43mdoc_type\u001b[39;49m\u001b[38;5;124;43m'\u001b[39;49m\u001b[43m]\u001b[49m\n\u001b[1;32m     30\u001b[0m total \u001b[38;5;241m+\u001b[39m\u001b[38;5;241m=\u001b[39m \u001b[38;5;241m1\u001b[39m\n\u001b[1;32m     31\u001b[0m \u001b[38;5;28;01mtry\u001b[39;00m:\n",
      "File \u001b[0;32m/Library/Frameworks/Python.framework/Versions/3.11/lib/python3.11/site-packages/pandas/core/series.py:1007\u001b[0m, in \u001b[0;36mSeries.__getitem__\u001b[0;34m(self, key)\u001b[0m\n\u001b[1;32m   1004\u001b[0m     \u001b[38;5;28;01mreturn\u001b[39;00m \u001b[38;5;28mself\u001b[39m\u001b[38;5;241m.\u001b[39m_values[key]\n\u001b[1;32m   1006\u001b[0m \u001b[38;5;28;01melif\u001b[39;00m key_is_scalar:\n\u001b[0;32m-> 1007\u001b[0m     \u001b[38;5;28;01mreturn\u001b[39;00m \u001b[38;5;28;43mself\u001b[39;49m\u001b[38;5;241;43m.\u001b[39;49m\u001b[43m_get_value\u001b[49m\u001b[43m(\u001b[49m\u001b[43mkey\u001b[49m\u001b[43m)\u001b[49m\n\u001b[1;32m   1009\u001b[0m \u001b[38;5;28;01mif\u001b[39;00m is_hashable(key):\n\u001b[1;32m   1010\u001b[0m     \u001b[38;5;66;03m# Otherwise index.get_value will raise InvalidIndexError\u001b[39;00m\n\u001b[1;32m   1011\u001b[0m     \u001b[38;5;28;01mtry\u001b[39;00m:\n\u001b[1;32m   1012\u001b[0m         \u001b[38;5;66;03m# For labels that don't resolve as scalars like tuples and frozensets\u001b[39;00m\n",
      "File \u001b[0;32m/Library/Frameworks/Python.framework/Versions/3.11/lib/python3.11/site-packages/pandas/core/series.py:1116\u001b[0m, in \u001b[0;36mSeries._get_value\u001b[0;34m(self, label, takeable)\u001b[0m\n\u001b[1;32m   1113\u001b[0m     \u001b[38;5;28;01mreturn\u001b[39;00m \u001b[38;5;28mself\u001b[39m\u001b[38;5;241m.\u001b[39m_values[label]\n\u001b[1;32m   1115\u001b[0m \u001b[38;5;66;03m# Similar to Index.get_value, but we do not fall back to positional\u001b[39;00m\n\u001b[0;32m-> 1116\u001b[0m loc \u001b[38;5;241m=\u001b[39m \u001b[38;5;28;43mself\u001b[39;49m\u001b[38;5;241;43m.\u001b[39;49m\u001b[43mindex\u001b[49m\u001b[38;5;241;43m.\u001b[39;49m\u001b[43mget_loc\u001b[49m\u001b[43m(\u001b[49m\u001b[43mlabel\u001b[49m\u001b[43m)\u001b[49m\n\u001b[1;32m   1118\u001b[0m \u001b[38;5;28;01mif\u001b[39;00m is_integer(loc):\n\u001b[1;32m   1119\u001b[0m     \u001b[38;5;28;01mreturn\u001b[39;00m \u001b[38;5;28mself\u001b[39m\u001b[38;5;241m.\u001b[39m_values[loc]\n",
      "File \u001b[0;32m/Library/Frameworks/Python.framework/Versions/3.11/lib/python3.11/site-packages/pandas/core/indexes/base.py:3655\u001b[0m, in \u001b[0;36mIndex.get_loc\u001b[0;34m(self, key)\u001b[0m\n\u001b[1;32m   3653\u001b[0m     \u001b[38;5;28;01mreturn\u001b[39;00m \u001b[38;5;28mself\u001b[39m\u001b[38;5;241m.\u001b[39m_engine\u001b[38;5;241m.\u001b[39mget_loc(casted_key)\n\u001b[1;32m   3654\u001b[0m \u001b[38;5;28;01mexcept\u001b[39;00m \u001b[38;5;167;01mKeyError\u001b[39;00m \u001b[38;5;28;01mas\u001b[39;00m err:\n\u001b[0;32m-> 3655\u001b[0m     \u001b[38;5;28;01mraise\u001b[39;00m \u001b[38;5;167;01mKeyError\u001b[39;00m(key) \u001b[38;5;28;01mfrom\u001b[39;00m \u001b[38;5;21;01merr\u001b[39;00m\n\u001b[1;32m   3656\u001b[0m \u001b[38;5;28;01mexcept\u001b[39;00m \u001b[38;5;167;01mTypeError\u001b[39;00m:\n\u001b[1;32m   3657\u001b[0m     \u001b[38;5;66;03m# If we have a listlike key, _check_indexing_error will raise\u001b[39;00m\n\u001b[1;32m   3658\u001b[0m     \u001b[38;5;66;03m#  InvalidIndexError. Otherwise we fall through and re-raise\u001b[39;00m\n\u001b[1;32m   3659\u001b[0m     \u001b[38;5;66;03m#  the TypeError.\u001b[39;00m\n\u001b[1;32m   3660\u001b[0m     \u001b[38;5;28mself\u001b[39m\u001b[38;5;241m.\u001b[39m_check_indexing_error(key)\n",
      "\u001b[0;31mKeyError\u001b[0m: 'doc_type'"
     ]
    }
   ],
   "source": [
    "for i in ECB_list:\n",
    "    out_1= []\n",
    "    out_2 = []\n",
    "    sent_val = list()\n",
    "    tone_val = list()\n",
    "    long = 0\n",
    "    errors = 0\n",
    "    total = 0\n",
    "    Body = \"ECB\"\n",
    "    Model = i\n",
    "    Model_Subfolder = f'/{Body} Texts/{Model}'\n",
    "    Model_Folder = config.texts\n",
    "    Model_Folder = Model_Folder + Model_Subfolder\n",
    "\n",
    "    df = pd.read_csv(f\"{Model_Folder}/{Model}_texts_blocks.csv\") \n",
    "    if Model == \"Beige Book\":\n",
    "        print(\"skip\")\n",
    "    else:\n",
    "        df = df[df['language'] == 'en']\n",
    "\n",
    "    for index, row in df.iterrows():\n",
    "        docs = row[\"segment\"]\n",
    "        timestamps = row['date']\n",
    "        title = row['title']\n",
    "        docs = str(docs)\n",
    "        doc_num = row['doc_num']\n",
    "        event = row['event']\n",
    "        type = row['type']\n",
    "        \n",
    "        total += 1\n",
    "        try:\n",
    "            inputs_1 = tokenizer_1(docs, return_tensors=\"pt\", padding='max_length', max_length=511).to('mps')\n",
    "            outputs_1 = model_1(**inputs_1)\n",
    "            val_1 = torch.nn.functional.softmax(outputs_1.logits, dim=-1).to('cpu')\n",
    "            val_1 = val_1.detach().numpy()  \n",
    "            \n",
    "            positive = val_1[:, 0][0]\n",
    "            negative = val_1[:, 1][0]\n",
    "            neutral = val_1[:, 2][0]\n",
    "            net = labels[np.argmax(val_1)]\n",
    "\n",
    "            out_1.append([doc_num, timestamps, type, event, title, docs, positive, negative, neutral, net])\n",
    "            \n",
    "            \n",
    "        except:\n",
    "            errors += 1\n",
    "\n",
    "    percent = (errors/total)*100\n",
    "    print(f'Errors Long: {errors}')\n",
    "    print(f'Errors Long %: {percent}')\n",
    "    df_out_1 = pd.DataFrame(out_1, columns=[\"doc_num\", \"date\", \"event_type\", \"event\", \"title\",  \"segment\", \"positive\", \"negative\", \"neutral\", \"sentiment\"])\n",
    "    df_out_1[\"sentiment\"] = df_out_1[\"sentiment\"].replace({'positive': 1, 'neutral' : 0, 'negative' : -1})\n",
    "\n",
    "    df_out_1.to_csv(f\"{finbert_models}/{Body}/{Model}/{Body}_{Model}_finbert_model_short.csv\")  \n",
    "\n",
    "    "
   ]
  },
  {
   "cell_type": "code",
   "execution_count": null,
   "metadata": {},
   "outputs": [],
   "source": [
    "print(\"Totally Done\")"
   ]
  }
 ],
 "metadata": {
  "kernelspec": {
   "display_name": "Python 3",
   "language": "python",
   "name": "python3"
  },
  "language_info": {
   "codemirror_mode": {
    "name": "ipython",
    "version": 3
   },
   "file_extension": ".py",
   "mimetype": "text/x-python",
   "name": "python",
   "nbconvert_exporter": "python",
   "pygments_lexer": "ipython3",
   "version": "3.11.6"
  }
 },
 "nbformat": 4,
 "nbformat_minor": 2
}
