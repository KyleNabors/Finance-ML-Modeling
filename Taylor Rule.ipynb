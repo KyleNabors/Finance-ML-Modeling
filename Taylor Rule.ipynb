{
 "cells": [
  {
   "cell_type": "code",
   "execution_count": 101,
   "metadata": {},
   "outputs": [],
   "source": [
    "#Importing the necessary libraries\n",
    "\n",
    "import os \n",
    "import sys\n",
    "import pandas as pd\n",
    "import matplotlib.pyplot as plt\n",
    "from matplotlib import ticker\n",
    "import numpy as np\n",
    "\n",
    "import statsmodels.api as sm\n"
   ]
  },
  {
   "cell_type": "code",
   "execution_count": 102,
   "metadata": {},
   "outputs": [],
   "source": [
    "#Global Settings \n",
    "pd.set_option('display.float_format', lambda x: '%.4f' % x)"
   ]
  },
  {
   "cell_type": "code",
   "execution_count": 103,
   "metadata": {},
   "outputs": [
    {
     "name": "stdout",
     "output_type": "stream",
     "text": [
      "/Users/kylenabors/Documents/GitHub/Finance-ML-Modeling\n"
     ]
    }
   ],
   "source": [
    "#Importing Configs\n",
    "# Define the path where config.py is located\n",
    "#Mac\n",
    "os.chdir('/Users/kylenabors/Documents/GitHub/Finance-ML-Modeling')\n",
    "config_file_path = os.getcwd()\n",
    "print(config_file_path)\n",
    "\n",
    "# Add this path to the sys.path\n",
    "sys.path.append(config_file_path)\n",
    "\n",
    "import config\n",
    "\n",
    "#Configs\n",
    "finbert_models = config.finbert_models\n",
    "Body = config.Body\n",
    "database = config.Local_Database"
   ]
  },
  {
   "cell_type": "code",
   "execution_count": 104,
   "metadata": {},
   "outputs": [],
   "source": [
    "sentiment = pd.date_range(start='1/1/1990', end='1/1/2024', freq='D')\n",
    "sentiment = pd.DataFrame(sentiment, columns=['date'])\n",
    "\n",
    "state = pd.read_csv(f\"{finbert_models}/{Body}/Statements/{Body}_Statements_finbert_model_short.csv\")\n",
    "state = state[['date','sentiment']]\n",
    "state = state.rename(columns={'sentiment':'statement_sentiment'})\n",
    "state['date'] = pd.to_datetime(state['date'])\n",
    "sentiment = pd.merge(sentiment, state, how='left', left_on='date', right_on='date')"
   ]
  },
  {
   "cell_type": "code",
   "execution_count": 105,
   "metadata": {},
   "outputs": [
    {
     "name": "stdout",
     "output_type": "stream",
     "text": [
      "Index(['date', 'sp500_price', 'sp500_volume', 'emini_price',\n",
      "       'eurodollar_price', 'fedfutures_price', 'vix_sentiment', 'unemployment',\n",
      "       'inflation', 'fedfunds', 'pce', 'gdp', 'gdp_pot'],\n",
      "      dtype='object')\n"
     ]
    }
   ],
   "source": [
    "market =pd.read_csv(f'{database}/Market Data/All Market Data.csv')\n",
    "market = market.rename(columns={'PCE':'pce', 'GDP':'gdp', 'GDPPOT':'gdp_pot'})\n",
    "market['date'] = pd.to_datetime(market['date'])\n",
    "print(market.columns)\n"
   ]
  },
  {
   "cell_type": "code",
   "execution_count": 106,
   "metadata": {},
   "outputs": [],
   "source": [
    "taylor = pd.read_csv(f'/Users/kylenabors/Documents/Database/Market Data/Taylor/Taylor.csv')\n",
    "taylor['date'] = pd.to_datetime(taylor['date'])\n",
    "taylor = taylor.rename({'Taylor':'taylor_fred'})"
   ]
  },
  {
   "cell_type": "code",
   "execution_count": 107,
   "metadata": {},
   "outputs": [],
   "source": [
    "\n",
    "sentiment = pd.merge(sentiment, market, how='left', left_on='date', right_on='date')\n",
    "sentiment = pd.merge(sentiment, taylor, how='left', left_on='date', right_on='date')"
   ]
  },
  {
   "cell_type": "code",
   "execution_count": 108,
   "metadata": {},
   "outputs": [],
   "source": [
    "sentiment = sentiment[(sentiment['date'] >= '2000-01-01') & (sentiment['date'] <= '2023-12-30')]\n",
    "sentiment = sentiment.set_index('date')\n",
    "sentiment = sentiment.resample('Q').mean().reset_index()\n"
   ]
  },
  {
   "cell_type": "code",
   "execution_count": 109,
   "metadata": {},
   "outputs": [],
   "source": [
    "\n",
    "filter_items = ['pce', 'gdp', 'gdp_pot', 'inflation']\n",
    "\n",
    "for item in filter_items:\n",
    "    filter_df = sentiment.copy(deep=True)\n",
    "    filter_df = filter_df[['date', f'{item}']]\n",
    "\n",
    "    cycle, trend = sm.tsa.filters.hpfilter(filter_df[f'{item}'], 1600)\n",
    "\n",
    "    item_decomp = filter_df[[f'{item}']]\n",
    "    item_decomp[f\"{item}_cycle\"] = cycle\n",
    "    item_decomp[f\"{item}_trend\"] = trend\n",
    "\n",
    "    filter_df = pd.merge(filter_df, item_decomp, on=f'{item}', how='left')  \n",
    "    filter_df = filter_df[['date', f'{item}_cycle', f'{item}_trend']]\n",
    "    sentiment = pd.merge(sentiment, filter_df, on='date', how='left')"
   ]
  },
  {
   "cell_type": "code",
   "execution_count": 110,
   "metadata": {},
   "outputs": [],
   "source": [
    "\n",
    "sentiment['gap'] = (sentiment['gdp_trend'] - sentiment['gdp_pot_trend'])/sentiment['gdp_pot_trend']\n",
    "sentiment['gap'] = sentiment['gap']*100"
   ]
  },
  {
   "cell_type": "code",
   "execution_count": 111,
   "metadata": {},
   "outputs": [],
   "source": [
    "sentiment['taylor'] = sentiment['inflation_trend'] + sentiment['pce_trend'] + 0.5*(sentiment['pce_trend'] - 2) + 0.5*(sentiment['gap'])\n"
   ]
  },
  {
   "cell_type": "code",
   "execution_count": 112,
   "metadata": {},
   "outputs": [],
   "source": [
    "\n",
    "sentiment_groups = ['statement']\n",
    "for group in sentiment_groups:\n",
    "    for i in range(0, 10):\n",
    "        sentiment[f'{group}_sentiment_{i}'] = sentiment[f'{group}_sentiment'].shift(i)\n",
    "        sentiment[f'{group}_sentiment_forward_{i}'] = sentiment[f'{group}_sentiment'].shift(-i)"
   ]
  },
  {
   "cell_type": "code",
   "execution_count": 113,
   "metadata": {},
   "outputs": [],
   "source": [
    "\n",
    "sentiment.to_csv(f'/Users/kylenabors/Documents/Database/Models/FinBERT Models/taylor.csv', index=False)\n"
   ]
  }
 ],
 "metadata": {
  "kernelspec": {
   "display_name": "Python 3",
   "language": "python",
   "name": "python3"
  },
  "language_info": {
   "codemirror_mode": {
    "name": "ipython",
    "version": 3
   },
   "file_extension": ".py",
   "mimetype": "text/x-python",
   "name": "python",
   "nbconvert_exporter": "python",
   "pygments_lexer": "ipython3",
   "version": "3.11.6"
  }
 },
 "nbformat": 4,
 "nbformat_minor": 2
}
