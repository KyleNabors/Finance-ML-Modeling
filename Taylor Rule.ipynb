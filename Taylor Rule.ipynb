{
 "cells": [
  {
   "cell_type": "code",
   "execution_count": null,
   "metadata": {},
   "outputs": [],
   "source": [
    "#Importing the necessary libraries\n",
    "\n",
    "import os \n",
    "import sys\n",
    "import pandas as pd\n",
    "import matplotlib.pyplot as plt\n",
    "from matplotlib import ticker\n",
    "import numpy as np\n",
    "\n",
    "import statsmodels.api as sm\n"
   ]
  },
  {
   "cell_type": "code",
   "execution_count": null,
   "metadata": {},
   "outputs": [],
   "source": [
    "#Global Settings \n",
    "pd.set_option('display.float_format', lambda x: '%.4f' % x)"
   ]
  },
  {
   "cell_type": "code",
   "execution_count": null,
   "metadata": {},
   "outputs": [],
   "source": [
    "#Importing Configs\n",
    "# Define the path where config.py is located\n",
    "#Mac\n",
    "os.chdir('/Users/kylenabors/Documents/GitHub/Finance-ML-Modeling')\n",
    "config_file_path = os.getcwd()\n",
    "print(config_file_path)\n",
    "\n",
    "# Add this path to the sys.path\n",
    "sys.path.append(config_file_path)\n",
    "\n",
    "import config\n",
    "\n",
    "#Configs\n",
    "finbert_models = config.finbert_models\n",
    "Body = config.Body\n",
    "database = config.Local_Database"
   ]
  },
  {
   "cell_type": "code",
   "execution_count": null,
   "metadata": {},
   "outputs": [],
   "source": [
    "sentiment = pd.date_range(start='1/1/1990', end='1/1/2024', freq='D')\n",
    "sentiment = pd.DataFrame(sentiment, columns=['date'])\n",
    "\n",
    "state = pd.read_csv(f\"{finbert_models}/{Body}/Statements/{Body}_Statements_finbert_model_short.csv\")\n",
    "state = state[['date','sentiment']]\n",
    "state = state.rename(columns={'sentiment':'statement_sentiment'})\n",
    "state['date'] = pd.to_datetime(state['date'])\n",
    "sentiment = pd.merge(sentiment, state, how='left', left_on='date', right_on='date')\n",
    "\n",
    "minutes = pd.read_csv(f\"{finbert_models}/{Body}/Minutes/{Body}_Minutes_finbert_model_short.csv\")\n",
    "minutes = minutes[['date','sentiment']]\n",
    "minutes = minutes.rename(columns={'sentiment':'minute_sentiment'})\n",
    "minutes['date'] = pd.to_datetime(minutes['date'])\n",
    "sentiment = pd.merge(sentiment, minutes, how='left', left_on='date', right_on='date')\n",
    "\n",
    "Body = 'ECB'\n",
    "mpd = pd.read_csv(f\"{finbert_models}/{Body}/Monetary policy decisions/{Body}_Monetary policy decisions_finbert_model_short.csv\")\n",
    "mpd = mpd[['date','sentiment']]\n",
    "mpd = mpd.rename(columns={'sentiment':'mpd_sentiment'})\n",
    "mpd['date'] = pd.to_datetime(mpd['date'])\n",
    "sentiment = pd.merge(sentiment, mpd, how='left', left_on='date', right_on='date')\n",
    "\n",
    "fed = pd.merge(state, minutes, on='date', how='outer')\n",
    "fed = fed.groupby('date').mean().reset_index()\n",
    "fed['fed_sentiment'] = fed[['statement_sentiment', 'minute_sentiment']].mean(axis=1)\n",
    "fed = fed[['date', 'fed_sentiment']]    \n",
    "sentiment = pd.merge(sentiment, fed, how='outer', left_on='date', right_on='date')"
   ]
  },
  {
   "cell_type": "code",
   "execution_count": null,
   "metadata": {},
   "outputs": [],
   "source": [
    "market =pd.read_csv(f'{database}/Market Data/All Market Data.csv')\n",
    "market = market.rename(columns={'PCE':'pce', 'GDP':'gdp', 'GDPPOT':'gdp_pot'})\n",
    "market['date'] = pd.to_datetime(market['date'])\n",
    "print(market.columns)\n"
   ]
  },
  {
   "cell_type": "code",
   "execution_count": null,
   "metadata": {},
   "outputs": [],
   "source": [
    "taylor = pd.read_csv(f'/Users/kylenabors/Documents/Database/Market Data/Taylor/Taylor.csv')\n",
    "taylor['date'] = pd.to_datetime(taylor['date'])\n",
    "taylor = taylor.rename(columns={'Taylor':'taylor_fred'})"
   ]
  },
  {
   "cell_type": "code",
   "execution_count": null,
   "metadata": {},
   "outputs": [],
   "source": [
    "\n",
    "sentiment = pd.merge(sentiment, market, how='left', left_on='date', right_on='date')\n",
    "sentiment = pd.merge(sentiment, taylor, how='left', left_on='date', right_on='date')"
   ]
  },
  {
   "cell_type": "code",
   "execution_count": null,
   "metadata": {},
   "outputs": [],
   "source": [
    "sentiment = sentiment[(sentiment['date'] >= '2000-01-01') & (sentiment['date'] <= '2023-06-30')]\n",
    "sentiment = sentiment.set_index('date')\n",
    "sentiment = sentiment.resample('Q').mean().reset_index()\n"
   ]
  },
  {
   "cell_type": "code",
   "execution_count": null,
   "metadata": {},
   "outputs": [],
   "source": [
    "\n",
    "filter_items = ['pce', 'gdp', 'gdp_pot', 'inflation', 'taylor_fred']\n",
    "\n",
    "for item in filter_items:\n",
    "    filter_df = sentiment.copy(deep=True)\n",
    "    filter_df = filter_df[['date', f'{item}']]\n",
    "\n",
    "    cycle, trend = sm.tsa.filters.hpfilter(filter_df[f'{item}'], 1600)\n",
    "\n",
    "    item_decomp = filter_df[[f'{item}']]\n",
    "    item_decomp[f\"{item}_cycle\"] = cycle\n",
    "    item_decomp[f\"{item}_trend\"] = trend\n",
    "\n",
    "    filter_df = pd.merge(filter_df, item_decomp, on=f'{item}', how='left')  \n",
    "    filter_df = filter_df[['date', f'{item}_cycle', f'{item}_trend']]\n",
    "    sentiment = pd.merge(sentiment, filter_df, on='date', how='left')"
   ]
  },
  {
   "cell_type": "code",
   "execution_count": null,
   "metadata": {},
   "outputs": [],
   "source": [
    "\n",
    "sentiment['gap'] = (sentiment['gdp'] - sentiment['gdp_pot'])/sentiment['gdp_pot']\n",
    "sentiment['gap'] = sentiment['gap']*100"
   ]
  },
  {
   "cell_type": "code",
   "execution_count": null,
   "metadata": {},
   "outputs": [],
   "source": [
    "sentiment['taylor'] = 2 + sentiment['gdpdef'] + 0.5*(sentiment['gdpdef'] - 2) + 0.5*(sentiment['gap'])\n"
   ]
  },
  {
   "cell_type": "code",
   "execution_count": null,
   "metadata": {},
   "outputs": [],
   "source": [
    "#if statment_sentiment is greater than 0 make 1 if it is less than 0 make -1\n",
    "#sentiment['statement_sentiment'] = np.where(sentiment['statement_sentiment'] > 0, 1, -1)"
   ]
  },
  {
   "cell_type": "code",
   "execution_count": null,
   "metadata": {},
   "outputs": [],
   "source": [
    "\n",
    "sentiment_groups = ['statement', 'minute', 'fed', 'mpd']\n",
    "for group in sentiment_groups:\n",
    "    for i in range(0, 11):\n",
    "        sentiment[f'{group}_sentiment_{i}'] = sentiment[f'{group}_sentiment'].shift(i)\n",
    "        sentiment[f'{group}_sentiment_forward_{i}'] = sentiment[f'{group}_sentiment'].shift(-i)\n",
    "        \n",
    "market_groups = ['fedfunds', 'taylor']\n",
    "\n",
    "for group in market_groups:\n",
    "    for i in range(0, 11):\n",
    "        sentiment[f'{group}_{i}'] = sentiment[f'{group}'].shift(i)\n",
    "        sentiment[f'{group}_forward_{i}'] = sentiment[f'{group}'].shift(-i)"
   ]
  },
  {
   "cell_type": "code",
   "execution_count": null,
   "metadata": {},
   "outputs": [],
   "source": [
    "#Caculate correlation of All Minutes sentiment with taylor rule\n",
    "correlation = sentiment[['minute_sentiment','minute_sentiment_1', 'minute_sentiment_2', 'minute_sentiment_3', 'minute_sentiment_4', 'minute_sentiment_5', 'minute_sentiment_6', 'minute_sentiment_7', 'minute_sentiment_8', 'minute_sentiment_9', 'taylor_fred', 'fedfunds']].corr()\n",
    "print(correlation)"
   ]
  },
  {
   "cell_type": "code",
   "execution_count": null,
   "metadata": {},
   "outputs": [],
   "source": [
    "\n",
    "sentiment.to_csv(f'/Users/kylenabors/Documents/Database/Models/FinBERT Models/taylor.csv', index=False)\n"
   ]
  },
  {
   "cell_type": "code",
   "execution_count": null,
   "metadata": {},
   "outputs": [],
   "source": [
    "sentiment['statement_sentiment'] = (sentiment['statement_sentiment'] - sentiment['statement_sentiment'].mean()) / (sentiment['statement_sentiment'].max() - sentiment['statement_sentiment'].min())\n",
    "sentiment['minute_sentiment'] = (sentiment['minute_sentiment'] - sentiment['minute_sentiment'].mean()) / (sentiment['minute_sentiment'].max() - sentiment['minute_sentiment'].min())\n",
    "\n",
    "\n",
    "sentiment['taylor'] = (sentiment['taylor'] - sentiment['taylor'].mean()) / (sentiment['taylor'].max() - sentiment['taylor'].min())\n",
    "sentiment['fedfunds'] = (sentiment['fedfunds'] - sentiment['fedfunds'].mean()) / (sentiment['fedfunds'].max() - sentiment['fedfunds'].min())\n",
    "sentiment['sp500_price'] = (sentiment['sp500_price'] - sentiment['sp500_price'].mean()) / (sentiment['sp500_price'].max() - sentiment['sp500_price'].min())\n",
    "sentiment['vix_sentiment'] = (sentiment['vix_sentiment'] - sentiment['vix_sentiment'].mean()) / (sentiment['vix_sentiment'].max() - sentiment['sp500_price'].min())"
   ]
  },
  {
   "cell_type": "code",
   "execution_count": null,
   "metadata": {},
   "outputs": [],
   "source": [
    "print(sentiment.columns)\n",
    "\n",
    "#Graph the Data\n",
    "fig, ax = plt.subplots(figsize = (40, 20))\n",
    "\n",
    "ax.scatter(sentiment['date'], sentiment['statement_sentiment'], label='FOMC Statement Sentiment', color='blue')\n",
    "ax.plot(sentiment['date'], sentiment['statement_sentiment'], label='FOMC Statement Sentiment', color='lightblue')\n",
    "\n",
    "ax.scatter(sentiment['date'], sentiment['minute_sentiment'], label='FOMC Minute Sentiment', color='green')\n",
    "ax.plot(sentiment['date'], sentiment['minute_sentiment'], label='FOMC Minute Sentiment', color='lightgreen')\n",
    "\n",
    "ax.scatter(sentiment['date'], sentiment['taylor'], label='Taylor Rule', color='red')\n",
    "ax.plot(sentiment['date'], sentiment['taylor'], label='Taylor Rule', color='lightcoral')\n",
    "\n",
    "# ax.scatter(sentiment['date'], sentiment['fedfunds'], label='Fedfunds', color='yellow')\n",
    "# ax.plot(sentiment['date'], sentiment['fedfunds'], label='Fedfunds', color='yellow')\n",
    "\n",
    "ax.scatter(sentiment['date'], sentiment['sp500_price'], label='SP500', color='black')\n",
    "ax.plot(sentiment['date'], sentiment['sp500_price'], label='SP500', color='grey')\n",
    "\n",
    "ax.scatter(sentiment['date'], sentiment['vix_sentiment'], label='VIX', color='purple')\n",
    "ax.plot(sentiment['date'], sentiment['vix_sentiment'], label='VIX', color='violet')\n",
    "\n",
    "#Create a vertical line at every year \n",
    "for year in range(2000, 2025):\n",
    "    ax.axvline(pd.to_datetime(f'{year}-01-01'), color='gray', linestyle='--', lw=1)\n",
    "\n",
    "ax.set_xlabel('Date')\n",
    "ax.set_ylabel('Taylor Rule')\n",
    "ax.legend()\n",
    "plt.show()\n"
   ]
  },
  {
   "cell_type": "code",
   "execution_count": null,
   "metadata": {},
   "outputs": [],
   "source": [
    "import plotly.graph_objs as go\n",
    "from plotly.subplots import make_subplots\n",
    "\n",
    "# Assuming 'sentiment' is your DataFrame and it has been properly preprocessed\n",
    "\n",
    "# Create subplots\n",
    "fig = make_subplots(rows=1, cols=1)\n",
    "\n",
    "# Add traces\n",
    "fig.add_trace(go.Scatter(x=sentiment['date'], y=sentiment['statement_sentiment'], mode='lines', name='FOMC Statement Sentiment'))\n",
    "fig.add_trace(go.Scatter(x=sentiment['date'], y=sentiment['minute_sentiment'], mode='lines', name='FOMC Minute Sentiment'))\n",
    "fig.add_trace(go.Scatter(x=sentiment['date'], y=sentiment['taylor'], mode='lines', name='Taylor Rule'))\n",
    "fig.add_trace(go.Scatter(x=sentiment['date'], y=sentiment['fedfunds'], mode='lines', name='fedfunds'))\n",
    "fig.add_trace(go.Scatter(x=sentiment['date'], y=sentiment['sp500_price'], mode='lines', name='SP500 Price'))\n",
    "fig.add_trace(go.Scatter(x=sentiment['date'], y=sentiment['vix_sentiment'], mode='lines', name='VIX Sentiment'))\n",
    "\n",
    "# Update layout for interactive functionality\n",
    "fig.update_layout(\n",
    "    title='Interactive Plot',\n",
    "    xaxis_title='Date',\n",
    "    yaxis_title='Value',\n",
    "    showlegend=True\n",
    ")\n",
    "\n",
    "# Add vertical lines at each year start for reference (this is just an example, adjust as necessary)\n",
    "for year in range(sentiment['date'].dt.year.min(), sentiment['date'].dt.year.max() + 1):\n",
    "    fig.add_vline(x=f'{year}-01-01', line=dict(color='gray', dash='dash'))\n",
    "\n",
    "# Show the interactive plot\n",
    "fig.show()\n",
    "#Export the plot as html\n",
    "fig.write_html(\"/Users/kylenabors/Documents/Database/Models/FinBERT Models/interactive_plot.html\")\n"
   ]
  }
 ],
 "metadata": {
  "kernelspec": {
   "display_name": "Python 3",
   "language": "python",
   "name": "python3"
  },
  "language_info": {
   "codemirror_mode": {
    "name": "ipython",
    "version": 3
   },
   "file_extension": ".py",
   "mimetype": "text/x-python",
   "name": "python",
   "nbconvert_exporter": "python",
   "pygments_lexer": "ipython3",
   "version": "3.11.6"
  }
 },
 "nbformat": 4,
 "nbformat_minor": 2
}
