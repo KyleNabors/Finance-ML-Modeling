{
 "cells": [
  {
   "cell_type": "code",
   "execution_count": 377,
   "metadata": {},
   "outputs": [],
   "source": [
    "#Importing the necessary libraries\n",
    "\n",
    "import os \n",
    "import sys\n",
    "import pandas as pd\n",
    "import matplotlib.pyplot as plt\n",
    "from matplotlib import ticker\n",
    "import numpy as np\n",
    "\n",
    "import statsmodels.api as sm\n"
   ]
  },
  {
   "cell_type": "code",
   "execution_count": 378,
   "metadata": {},
   "outputs": [],
   "source": [
    "#Global Settings \n",
    "pd.set_option('display.float_format', lambda x: '%.4f' % x)"
   ]
  },
  {
   "cell_type": "code",
   "execution_count": 379,
   "metadata": {},
   "outputs": [
    {
     "name": "stdout",
     "output_type": "stream",
     "text": [
      "/Users/kylenabors/Documents/GitHub/Finance-ML-Modeling\n"
     ]
    }
   ],
   "source": [
    "#Importing Configs\n",
    "# Define the path where config.py is located\n",
    "#Mac\n",
    "os.chdir('/Users/kylenabors/Documents/GitHub/Finance-ML-Modeling')\n",
    "#Linux\n",
    "#os.chdir('/home/kwnabors/Documents/GitHub/Finance-ML-Modeling')\n",
    "config_file_path = os.getcwd()\n",
    "print(config_file_path)\n",
    "\n",
    "# Add this path to the sys.path\n",
    "sys.path.append(config_file_path)\n",
    "\n",
    "import config\n",
    "\n",
    "#Configs\n",
    "finbert_models = config.finbert_models\n",
    "Body = config.Body\n",
    "database = config.Local_Database"
   ]
  },
  {
   "cell_type": "code",
   "execution_count": 380,
   "metadata": {},
   "outputs": [],
   "source": [
    "#Import Sentiment Data \n",
    "state = pd.read_csv(f\"{finbert_models}/{Body}/Statements/{Body}_Statements_finbert_model_short.csv\")\n",
    "#state = state[['date','sentiment', 'positive', 'negative', 'neutral']]\n",
    "state = state[['date','sentiment']]\n",
    "#state = state.groupby('date').mean().reset_index()\n",
    "\n",
    "state = pd.read_csv(f\"{finbert_models}/{Body}/Minutes/{Body}_Minutes_finbert_model_short.csv\")\n",
    "state = state[['date','sentiment', 'positive', 'negative', 'neutral']]\n",
    "#mins = mins.groupby('date').mean().reset_index()\n",
    "\n",
    "state['date'] = pd.to_datetime(state['date'])\n",
    "#mins['date'] = pd.to_datetime(mins['date'])\n",
    "\n",
    "# state = pd.merge(state, mins, on='date', how='outer')\n",
    "# state['sentiment_x'] = state['sentiment_x'].fillna(state['sentiment_y'])\n",
    "# state['sentiment_y'] = state['sentiment_y'].fillna(state['sentiment_x'])\n",
    "# state['sentiment'] = state[['sentiment_x', 'sentiment_y']].mean(axis=1)\n",
    "# print(state.head())\n"
   ]
  },
  {
   "cell_type": "code",
   "execution_count": 381,
   "metadata": {},
   "outputs": [],
   "source": [
    "fedfunds = pd.read_csv(f'{database}/Market Data/Fed Funds/Fed Funds.csv')\n",
    "fedfunds = fedfunds[['date', 'fedfunds']]\n",
    "fedfunds['date'] = pd.to_datetime(fedfunds['date'])\n",
    "\n",
    "state = pd.merge(state, fedfunds, on='date', how='outer')\n",
    "\n",
    "state['diff'] = state['fedfunds'].diff()\n",
    "\n",
    "state['event'] = 0"
   ]
  },
  {
   "cell_type": "code",
   "execution_count": 382,
   "metadata": {},
   "outputs": [],
   "source": [
    "#Event\n",
    "state['event'] = np.where((state['sentiment'].notna() == True), 1, 0)\n",
    "\n",
    "#High Rates \n",
    "# state['event'] = np.where((state['fedfunds'] > state['fedfunds'].mean()) & (state['sentiment'].notna() == True), 1, 0)\n",
    "\n",
    "#Rate Hike\n",
    "#state['event'] = np.where((state['diff'] >= 0.25) & (state['sentiment'].notna() == True), 1, 0)\n",
    "\n",
    "#Rate cut\n",
    "#state['event'] = np.where((state['diff'] <= -0.25) & (state['sentiment'].notna() == True), 1, 0)\n",
    "\n",
    "#Positive Sentiment \n",
    "#state = state[(state['sentiment'] > state['sentiment'].mean())]\n",
    "\n",
    "#Negative Sentiment\n",
    "#state = state[(state['sentiment'] < state['sentiment'].mean())]\n",
    "\n",
    "state = state[['date', 'sentiment', 'event']]"
   ]
  },
  {
   "cell_type": "code",
   "execution_count": 383,
   "metadata": {},
   "outputs": [],
   "source": [
    "#Create a dataframe with a column date that ranges from 1990-01-01 to 2024-01-01 with a daily frequency\n",
    "#This is used to merge the dataframes\n",
    "date_rng = pd.date_range(start='1/1/1990', end='1/1/2024', freq='D')\n",
    "date_rng = pd.DataFrame(date_rng, columns=['date'])\n",
    "date_rng['temp'] = 1\n",
    "state = pd.merge(date_rng, state, on='date', how='outer')\n",
    "state = state[['date', 'sentiment', 'event']]"
   ]
  },
  {
   "cell_type": "code",
   "execution_count": 384,
   "metadata": {},
   "outputs": [],
   "source": [
    "#Importing Market Data\n",
    "sp500 = pd.read_csv(f'{database}/Market Data/SP500/SP500.csv')\n",
    "sp500 = sp500[['date', 'price', 'volume']]\n",
    "sp500['volume'] = sp500['volume']/1000000\n",
    "sp500 = sp500.rename(columns={'price':'sp500_price', 'volume':'sp500_volume'})\n",
    "\n",
    "emini = pd.read_csv(f'{database}/Market Data/E Mini/E Mini SP500.csv')\n",
    "emini = emini[['date', 'price']]\n",
    "emini = emini.rename(columns={'price':'emini_price'})\n",
    "\n",
    "eurodollar = pd.read_csv(f'{database}/Market Data/Eurodollar/Eurodollar.csv')\n",
    "eurodollar = eurodollar[['date', 'price']]\n",
    "eurodollar = eurodollar.rename(columns={'price':'eurodollar_price'})\n",
    "\n",
    "fedfutures = pd.read_csv(f'{database}/Market Data/Fed Futures/FFF 30 Day.csv')\n",
    "fedfutures = fedfutures[['date', 'price']]\n",
    "fedfutures = fedfutures.rename(columns={'price':'fedfutures_price'})\n",
    "\n",
    "vix = pd.read_csv(f'{database}/Market Data/VIX/VIX.csv')\n",
    "vix = vix[['date', 'sentiment']]\n",
    "vix = vix.rename(columns={'sentiment':'vix_sentiment'})\n",
    "\n",
    "unemployment = pd.read_csv(f'{database}/Market Data/Unemployment/Unemployment.csv')\n",
    "unemployment = unemployment[['date', 'unemployment']]\n",
    "\n",
    "inflation = pd.read_csv(f'{database}/Market Data/Inflation/Inflation.csv')\n",
    "inflation = inflation[['date', 'inflation']]\n",
    "\n",
    "fedfunds = pd.read_csv(f'{database}/Market Data/Fed Funds/Fed Funds.csv')\n",
    "fedfunds = fedfunds[['date', 'fedfunds']]\n",
    "\n",
    "pce = pd.read_csv(f'{database}/Market Data/PCE/PCE.csv')\n",
    "pce = pce.rename(columns={'PCEC_PCH': 'PCE', 'DATE':'date'})\n",
    "\n",
    "gdp = pd.read_csv(f'{database}/Market Data/GDP/GDP.csv')\n",
    "gdp = gdp.rename(columns={'DATE':'date', 'GDPC1':'GDP'})\n",
    "\n",
    "gdppot = pd.read_csv(f'{database}/Market Data/GDPPOT/GDPPOT.csv')\n",
    "gdppot = gdppot.rename(columns={'DATE':'date'})"
   ]
  },
  {
   "cell_type": "code",
   "execution_count": 385,
   "metadata": {},
   "outputs": [],
   "source": [
    "#conveting date to datetime\n",
    "\n",
    "sp500['date'] = pd.to_datetime(sp500['date'])\n",
    "emini['date'] = pd.to_datetime(emini['date'])\n",
    "eurodollar['date'] = pd.to_datetime(eurodollar['date'])\n",
    "fedfutures['date'] = pd.to_datetime(fedfutures['date'])\n",
    "vix['date'] = pd.to_datetime(vix['date'])\n",
    "unemployment['date'] = pd.to_datetime(unemployment['date'])\n",
    "inflation['date'] = pd.to_datetime(inflation['date'])\n",
    "fedfunds['date'] = pd.to_datetime(fedfunds['date'])\n",
    "pce['date'] = pd.to_datetime(pce['date'])\n",
    "gdp['date'] = pd.to_datetime(gdp['date'])\n",
    "gdppot['date'] = pd.to_datetime(gdppot['date'])"
   ]
  },
  {
   "cell_type": "code",
   "execution_count": 386,
   "metadata": {},
   "outputs": [
    {
     "name": "stdout",
     "output_type": "stream",
     "text": [
      "State: 1990-01-01 00:00:00 - 2024-02-06 00:00:00\n",
      "Mins: 1998-07-02 00:00:00 - 2023-05-24 00:00:00\n",
      "SP500: 1990-01-02 00:00:00 - 2024-02-01 00:00:00\n",
      "E Mini: 1997-09-09 00:00:00 - 2024-02-01 00:00:00\n",
      "Eurodollar: 1990-02-02 00:00:00 - 2023-06-15 00:00:00\n",
      "Fed Futures: 1990-12-14 00:00:00 - 2024-02-01 00:00:00\n",
      "VIX: 1990-02-02 00:00:00 - 2024-02-01 00:00:00\n",
      "Unemployment: 1990-01-01 00:00:00 - 2024-01-01 00:00:00\n",
      "Inflation: 1990-01-01 00:00:00 - 2023-12-01 00:00:00\n",
      "Fed Funds: 1990-01-01 00:00:00 - 2024-02-06 00:00:00\n"
     ]
    }
   ],
   "source": [
    "#Print the first and last dates of every dataframe\n",
    "print(f\"State: {state.date.min()} - {state.date.max()}\")\n",
    "print(f\"Mins: {mins.date.min()} - {mins.date.max()}\")\n",
    "print(f\"SP500: {sp500.date.min()} - {sp500.date.max()}\")\n",
    "print(f\"E Mini: {emini.date.min()} - {emini.date.max()}\")\n",
    "print(f\"Eurodollar: {eurodollar.date.min()} - {eurodollar.date.max()}\")\n",
    "print(f\"Fed Futures: {fedfutures.date.min()} - {fedfutures.date.max()}\")\n",
    "print(f\"VIX: {vix.date.min()} - {vix.date.max()}\")\n",
    "print(f\"Unemployment: {unemployment.date.min()} - {unemployment.date.max()}\")\n",
    "print(f\"Inflation: {inflation.date.min()} - {inflation.date.max()}\")\n",
    "print(f\"Fed Funds: {fedfunds.date.min()} - {fedfunds.date.max()}\")\n",
    "\n"
   ]
  },
  {
   "cell_type": "code",
   "execution_count": 387,
   "metadata": {},
   "outputs": [],
   "source": [
    "\n",
    "#pce['PCE'] = np.log(pce['PCE'])\n",
    "\n",
    "gdp['GDP'] = np.log(gdp['GDP'])\n",
    "\n",
    "gdppot['GDPPOT'] = np.log(gdppot['GDPPOT'])"
   ]
  },
  {
   "cell_type": "code",
   "execution_count": 388,
   "metadata": {},
   "outputs": [],
   "source": [
    "cycle, trend = sm.tsa.filters.hpfilter(pce['PCE'], 1600)\n",
    "\n",
    "pce_decomp = pce[['PCE']]\n",
    "pce_decomp[\"cycle\"] = cycle\n",
    "pce_decomp[\"trend\"] = trend\n",
    "\n",
    "# print(pce_decomp.head())\n",
    "\n",
    "# fig, ax = plt.subplots(figsize=(20, 20))\n",
    "# #pce_decomp[[\"PCE\", \"trend\"]].plot(ax=ax, fontsize=16)\n",
    "# pce_decomp[[\"cycle\"]].plot(ax=ax, fontsize=16)\n",
    "# plt.show()\n",
    "\n",
    "pce = pd.merge(pce, pce_decomp, on='PCE', how='outer')\n",
    "pce = pce[['date', 'PCE', 'cycle', 'trend']]\n",
    "pce = pce.rename(columns={'cycle':'pce_cycle', 'trend':'pce_trend'})"
   ]
  },
  {
   "cell_type": "code",
   "execution_count": 389,
   "metadata": {},
   "outputs": [],
   "source": [
    "cycle, trend = sm.tsa.filters.hpfilter(gdp['GDP'], 1600)\n",
    "\n",
    "gdp_decomp = gdp[['GDP']]\n",
    "gdp_decomp[\"cycle\"] = cycle\n",
    "gdp_decomp[\"trend\"] = trend\n",
    "\n",
    "gdp = pd.merge(gdp, gdp_decomp, on='GDP', how='outer')\n",
    "gdp = gdp[['date', 'GDP', 'cycle', 'trend']]\n",
    "gdp = gdp.rename(columns={'cycle':'gdp_cycle', 'trend':'gdp_trend'})"
   ]
  },
  {
   "cell_type": "code",
   "execution_count": 390,
   "metadata": {},
   "outputs": [],
   "source": [
    "cycle, trend = sm.tsa.filters.hpfilter(gdppot['GDPPOT'], 1600)\n",
    "\n",
    "gdppot_decomp = gdppot[['GDPPOT']]\n",
    "gdppot_decomp[\"cycle\"] = cycle\n",
    "gdppot_decomp[\"trend\"] = trend\n",
    "\n",
    "gdppot = pd.merge(gdppot, gdppot_decomp, on='GDPPOT', how='outer')\n",
    "gdppot = gdppot[['date', 'GDPPOT', 'cycle', 'trend']]\n",
    "gdppot = gdppot.rename(columns={'cycle':'gdppot_cycle', 'trend':'gdppot_trend'})"
   ]
  },
  {
   "cell_type": "code",
   "execution_count": 391,
   "metadata": {},
   "outputs": [
    {
     "name": "stdout",
     "output_type": "stream",
     "text": [
      "        date    GDP  gdp_cycle  gdp_trend  GDPPOT  gdppot_cycle  gdppot_trend  \\\n",
      "0 1990-01-01 9.2151     0.0221     9.1930  9.2115       -0.0002        9.2117   \n",
      "1 1990-04-01 9.2187     0.0200     9.1987  9.2186        0.0007        9.2178   \n",
      "2 1990-07-01 9.2194     0.0148     9.2045  9.2254        0.0014        9.2239   \n",
      "3 1990-10-01 9.2102    -0.0001     9.2104  9.2319        0.0019        9.2300   \n",
      "4 1991-01-01 9.2055    -0.0107     9.2163  9.2383        0.0021        9.2361   \n",
      "\n",
      "      gap  \n",
      "0 -0.0188  \n",
      "1 -0.0191  \n",
      "2 -0.0194  \n",
      "3 -0.0197  \n",
      "4 -0.0199  \n"
     ]
    }
   ],
   "source": [
    "gdp = pd.merge(gdp, gdppot, on='date', how='outer') \n",
    "\n",
    "gdp['gap'] = gdp['gdp_trend'] - gdp['gdppot_trend']\n",
    "\n",
    "\n",
    "print(gdp.head())"
   ]
  },
  {
   "cell_type": "code",
   "execution_count": 392,
   "metadata": {},
   "outputs": [
    {
     "name": "stdout",
     "output_type": "stream",
     "text": [
      "        date  sentiment  PCE  pce_cycle  pce_trend  GDP  gdp_cycle  gdp_trend  \\\n",
      "0 1954-09-30        NaN  NaN        NaN        NaN  NaN        NaN        NaN   \n",
      "1 1954-12-31        NaN  NaN        NaN        NaN  NaN        NaN        NaN   \n",
      "2 1955-03-31        NaN  NaN        NaN        NaN  NaN        NaN        NaN   \n",
      "3 1955-06-30        NaN  NaN        NaN        NaN  NaN        NaN        NaN   \n",
      "4 1955-09-30        NaN  NaN        NaN        NaN  NaN        NaN        NaN   \n",
      "\n",
      "   GDPPOT  gdppot_cycle  ...  taylor  sentiment_1  sentiment_2  sentiment_3  \\\n",
      "0     NaN           NaN  ...  1.3689          NaN          NaN          NaN   \n",
      "1     NaN           NaN  ...  2.1482          NaN          NaN          NaN   \n",
      "2     NaN           NaN  ...  3.4913          NaN          NaN          NaN   \n",
      "3     NaN           NaN  ...  4.4720          NaN          NaN          NaN   \n",
      "4     NaN           NaN  ...  5.6988          NaN          NaN          NaN   \n",
      "\n",
      "   sentiment_4  sentiment_5  sentiment_6  sentiment_7  sentiment_8  \\\n",
      "0          NaN          NaN          NaN          NaN          NaN   \n",
      "1          NaN          NaN          NaN          NaN          NaN   \n",
      "2          NaN          NaN          NaN          NaN          NaN   \n",
      "3          NaN          NaN          NaN          NaN          NaN   \n",
      "4          NaN          NaN          NaN          NaN          NaN   \n",
      "\n",
      "   sentiment_9  \n",
      "0          NaN  \n",
      "1          NaN  \n",
      "2          NaN  \n",
      "3          NaN  \n",
      "4          NaN  \n",
      "\n",
      "[5 rows x 22 columns]\n"
     ]
    }
   ],
   "source": [
    "\n",
    "state_q = state.copy(deep=True)\n",
    "state_q = state_q[['date', 'sentiment']]\n",
    "state_q = pd.merge(state_q, pce, on='date', how='outer')\n",
    "state_q = pd.merge(state_q, gdp, on='date', how='outer')\n",
    "\n",
    "taylor = pd.read_csv(f'/Users/kylenabors/Documents/Database/Market Data/Taylor/Taylor.csv')\n",
    "taylor['date'] = pd.to_datetime(taylor['date'])\n",
    "state_q = pd.merge(state_q, taylor, on='date', how='outer')\n",
    "state_q = state_q.rename(columns={'Taylor':'taylor'})\n",
    "\n",
    "state_q = state_q.set_index('date')\n",
    "state_q = state_q.resample('Q').mean().reset_index()\n",
    "\n",
    "for i in range(1, 10):\n",
    "    state_q[f'sentiment_{i}'] = state_q['sentiment'].shift(i)\n",
    "   #state_q[f'sentiment_neg{i}'] = state_q['sentiment'].shift(-i)\n",
    "\n",
    "\n",
    "print(state_q.head())"
   ]
  },
  {
   "cell_type": "code",
   "execution_count": 393,
   "metadata": {},
   "outputs": [
    {
     "name": "stdout",
     "output_type": "stream",
     "text": [
      "          date  sentiment    PCE  pce_cycle  pce_trend    GDP  gdp_cycle  \\\n",
      "182 2000-03-31     0.1626 2.3377     0.8598     1.4779 9.5381     0.0137   \n",
      "183 2000-06-30     0.2674 1.4157    -0.0471     1.4628 9.5561     0.0236   \n",
      "184 2000-09-30     0.0000 1.6102     0.1640     1.4462 9.5571     0.0168   \n",
      "185 2000-12-31    -0.0946 1.4461     0.0170     1.4291 9.5631     0.0152   \n",
      "186 2001-03-31    -0.1339 1.1085    -0.3042     1.4127 9.5598     0.0045   \n",
      "\n",
      "     gdp_trend  GDPPOT  gdppot_cycle  ...  taylor  sentiment_1  sentiment_2  \\\n",
      "182     9.5244  9.5220        0.0051  ...  4.7553       0.1269       0.1293   \n",
      "183     9.5325  9.5326        0.0063  ...  5.5119       0.1626       0.1269   \n",
      "184     9.5403  9.5426        0.0071  ...  5.4089       0.2674       0.1626   \n",
      "185     9.5479  9.5519        0.0075  ...  5.2128       0.0000       0.2674   \n",
      "186     9.5553  9.5606        0.0074  ...  4.6026      -0.0946       0.0000   \n",
      "\n",
      "     sentiment_3  sentiment_4  sentiment_5  sentiment_6  sentiment_7  \\\n",
      "182       0.0737       0.0139      -0.1014      -0.0918          NaN   \n",
      "183       0.1293       0.0737       0.0139      -0.1014      -0.0918   \n",
      "184       0.1269       0.1293       0.0737       0.0139      -0.1014   \n",
      "185       0.1626       0.1269       0.1293       0.0737       0.0139   \n",
      "186       0.2674       0.1626       0.1269       0.1293       0.0737   \n",
      "\n",
      "     sentiment_8  sentiment_9  \n",
      "182          NaN          NaN  \n",
      "183          NaN          NaN  \n",
      "184      -0.0918          NaN  \n",
      "185      -0.1014      -0.0918  \n",
      "186       0.0139      -0.1014  \n",
      "\n",
      "[5 rows x 22 columns]\n"
     ]
    }
   ],
   "source": [
    "#Calculate taylor rule\n",
    "#state_q['taylor'] = 2 + state_q['pce_trend'] + 0.5*(state_q['pce_trend'] - 2) + 0.5*(state_q['gap'])\n",
    "\n",
    "\n",
    "\n",
    "\n",
    "state_q = state_q[(state_q['date'] >= '2000-01-01') & (state_q['date'] <= '2023-06-30')]\n",
    "print(state_q.head())\n",
    "\n",
    "state_q.to_csv(f'/Users/kylenabors/Documents/Database/Models/FinBERT Models/taylor.csv', index=False)\n"
   ]
  },
  {
   "cell_type": "code",
   "execution_count": 394,
   "metadata": {},
   "outputs": [
    {
     "data": {
      "image/png": "[encoded data removed]",
      "text/plain": [
       "<Figure size 2000x1500 with 1 Axes>"
      ]
     },
     "metadata": {},
     "output_type": "display_data"
    }
   ],
   "source": [
    "import matplotlib.pyplot as plt\n",
    "\n",
    "fig, ax = plt.subplots(figsize=(20, 15))  # Adjust the figsize as per your preference\n",
    "\n",
    "ax.scatter(state_q['date'], state_q['sentiment'], label='Sentiment')\n",
    "ax.scatter(state_q['date'], state_q['taylor'], label='Taylor')\n",
    "ax.set_xlabel('Date')\n",
    "ax.set_ylabel('Value')\n",
    "ax.legend()\n",
    "plt.show()\n"
   ]
  },
  {
   "cell_type": "code",
   "execution_count": 395,
   "metadata": {},
   "outputs": [
    {
     "ename": "NameError",
     "evalue": "name 'stop' is not defined",
     "output_type": "error",
     "traceback": [
      "\u001b[0;31m---------------------------------------------------------------------------\u001b[0m",
      "\u001b[0;31mNameError\u001b[0m                                 Traceback (most recent call last)",
      "Cell \u001b[0;32mIn[395], line 1\u001b[0m\n\u001b[0;32m----> 1\u001b[0m \u001b[43mstop\u001b[49m()\n\u001b[1;32m      2\u001b[0m state \u001b[38;5;241m=\u001b[39m pd\u001b[38;5;241m.\u001b[39mmerge(state, fedfunds, on\u001b[38;5;241m=\u001b[39m\u001b[38;5;124m'\u001b[39m\u001b[38;5;124mdate\u001b[39m\u001b[38;5;124m'\u001b[39m, how\u001b[38;5;241m=\u001b[39m\u001b[38;5;124m'\u001b[39m\u001b[38;5;124mouter\u001b[39m\u001b[38;5;124m'\u001b[39m)\n",
      "\u001b[0;31mNameError\u001b[0m: name 'stop' is not defined"
     ]
    }
   ],
   "source": [
    "stop()\n",
    "state = pd.merge(state, fedfunds, on='date', how='outer')"
   ]
  },
  {
   "cell_type": "code",
   "execution_count": null,
   "metadata": {},
   "outputs": [],
   "source": [
    "market = date_rng.copy(deep=True)\n",
    "market = market[['date']]\n",
    "market = pd.merge(market, sp500, on='date', how='outer')\n",
    "market = pd.merge(market, emini, on='date', how='outer')\n",
    "market = pd.merge(market, eurodollar, on='date', how='outer')\n",
    "market = pd.merge(market, fedfutures, on='date', how='outer')\n",
    "market = pd.merge(market, vix, on='date', how='outer')\n",
    "market = pd.merge(market, unemployment, on='date', how='outer')\n",
    "market = pd.merge(market, inflation, on='date', how='outer')\n",
    "\n",
    "market = market.sort_values(by='date')\n",
    "\n",
    "market['unemployment'] = market['unemployment'].fillna(method='ffill')\n",
    "market['inflation'] = market['inflation'].fillna(method='ffill')\n",
    "\n",
    "market = market.fillna(method='ffill')\n",
    "\n",
    "state = pd.merge(state, market, on='date', how='outer')\n",
    "\n",
    "state = state[state['date'] >= '2001-01-01']\n",
    "\n"
   ]
  },
  {
   "cell_type": "code",
   "execution_count": null,
   "metadata": {},
   "outputs": [],
   "source": [
    "#Replace NaN with 0\n",
    "state['event'] = state['event'].fillna(0)\n",
    "#Sort state by date assending\n",
    "state = state.sort_values(by='date')"
   ]
  },
  {
   "cell_type": "code",
   "execution_count": null,
   "metadata": {},
   "outputs": [],
   "source": [
    "#create correlation matrix\n",
    "#print(state.corr())"
   ]
  },
  {
   "cell_type": "code",
   "execution_count": null,
   "metadata": {},
   "outputs": [],
   "source": [
    "#print(state.describe())"
   ]
  },
  {
   "cell_type": "code",
   "execution_count": null,
   "metadata": {},
   "outputs": [],
   "source": [
    "#Create a column that is the number of days since the last event for up to 10 days after the event\n",
    "state['days_since_event'] = state['event'].groupby((state['event'] != state['event'].shift()).cumsum()).cumcount()\n",
    "state['days_since_event'] = state['days_since_event'] + 1\n",
    "#If state state['days_since_event'] is greater than 10, set it to nan\n",
    "state['days_since_event'] = np.where(state['days_since_event'] > 30, np.nan, state['days_since_event'])\n",
    "#If event = 1 sent days_since_event to 0\n",
    "state['days_since_event'] = np.where(state['event'] == 1, 0, state['days_since_event'])\n",
    "\n",
    "#Now do the same thing but for 10 days leading up to the event \n",
    "state['days_until_event'] = state['event'][::-1].groupby((state['event'][::-1] != state['event'][::-1].shift()).cumsum()).cumcount()[::-1]\n",
    "state['days_until_event'] = state['days_until_event'] + 1\n",
    "#If state state['days_until_event'] is greater than 10, set it to nan\n",
    "state['days_until_event'] = np.where(state['days_until_event'] > 10, np.nan, state['days_until_event'])\n",
    "#If event = 1 sent days_until_event to 0\n",
    "state['days_until_event'] = np.where(state['event'] == 1, 0, state['days_until_event'])\n",
    "state['days_until_event'] = state['days_until_event'] * -1\n",
    "\n",
    "#create column event_count that is the combonation of days_since_event and days_until_event where it is na if both are na\n",
    "state['event_count'] = state['days_since_event'].fillna(state['days_until_event'])\n",
    "\n"
   ]
  },
  {
   "cell_type": "code",
   "execution_count": null,
   "metadata": {},
   "outputs": [],
   "source": [
    "state = state[['date', 'sp500_price', 'sp500_volume', 'emini_price', 'eurodollar_price', 'fedfutures_price', 'vix_sentiment', 'event_count', 'unemployment', 'inflation', 'fedfunds']]\n",
    "state = state.dropna()\n",
    "\n",
    "state = state.groupby('event_count').mean().reset_index()\n",
    "\n",
    "#create a graph of the mean of the market varaibles over the 10 days leading up to and after the event with all the variables scaled between -1 and 1\n",
    "state['sp500_price'] = (state['sp500_price'] - state['sp500_price'].mean()) / (state['sp500_price'].max() - state['sp500_price'].min())\n",
    "#state['sp500_std_30'] = (state['sp500_std_30'] - state['sp500_std_30'].mean()) / (state['sp500_std_30'].max() - state['sp500_std_30'].min())\n",
    "#state['sp500_std_mean'] = (state['sp500_std_mean'] - state['sp500_std_mean'].mean()) / (state['sp500_std_mean'].max() - state['sp500_std_mean'].min())\n",
    "state['sp500_volume'] = (state['sp500_volume'] - state['sp500_volume'].mean()) / (state['sp500_volume'].max() - state['sp500_volume'].min())\n",
    "state['emini_price'] = (state['emini_price'] - state['emini_price'].mean()) / (state['emini_price'].max() - state['emini_price'].min())\n",
    "state['eurodollar_price'] = (state['eurodollar_price'] - state['eurodollar_price'].mean()) / (state['eurodollar_price'].max() - state['eurodollar_price'].min())\n",
    "state['fedfutures_price'] = (state['fedfutures_price'] - state['fedfutures_price'].mean()) / (state['fedfutures_price'].max() - state['fedfutures_price'].min())\n",
    "state['vix_sentiment'] = (state['vix_sentiment'] - state['vix_sentiment'].mean()) / (state['vix_sentiment'].max() - state['vix_sentiment'].min())\n",
    "state['unemployment'] = (state['unemployment'] - state['unemployment'].mean()) / (state['unemployment'].max() - state['unemployment'].min())\n",
    "state['inflation'] = (state['inflation'] - state['inflation'].mean()) / (state['inflation'].max() - state['inflation'].min())\n",
    "state['fedfunds'] = (state['fedfunds'] - state['fedfunds'].mean()) / (state['fedfunds'].max() - state['fedfunds'].min())\n",
    "\n",
    "\n",
    "\n",
    "#Plot the data\n",
    "fig, ax = plt.subplots(figsize=(25, 15))\n",
    "ax.plot(state['event_count'], state['sp500_price'], label='SP500 Price')\n",
    "ax.plot(state['event_count'], state['sp500_volume'], label='SP500 Volume')\n",
    "ax.plot(state['event_count'], state['emini_price'], label='E Mini Price')\n",
    "ax.plot(state['event_count'], state['eurodollar_price'], label='Eurodollar Price')\n",
    "ax.plot(state['event_count'], state['fedfutures_price'], label='Fed Futures Price')\n",
    "ax.plot(state['event_count'], state['vix_sentiment'], label='VIX Sentiment')\n",
    "#ax.plot(state['event_count'], state['unemployment'], label='Unemployment')\n",
    "#ax.plot(state['event_count'], state['inflation'], label='Inflation')\n",
    "#ax.plot(state['event_count'], state['fedfunds'], label='Fed Funds')\n",
    "ax.xaxis.set_major_locator(ticker.MaxNLocator(10))\n",
    "\n",
    "ax.set_xticks(state['event_count'])\n",
    "\n",
    "#Set Y axis sale to -1 to 1\n",
    "ax.set_ylim(-1, 1)\n",
    "\n",
    "# #Add a vertical line at all days +-10 Days from the event\n",
    "# for i in range(0, 11):\n",
    "#     ax.axvline(x=i, color='gray', linestyle='--', alpha=0.5)\n",
    "#     ax.axvline(x=i * -1, color='gray', linestyle='--', alpha=0.5)\n",
    "\n",
    "#Add a vertical line at all days 25 Days from the event\n",
    "for i in range(0, 31):\n",
    "    ax.axvline(x=i, color='gray', linestyle='--', alpha=0.5)\n",
    "for i in range(0, 11):\n",
    "    ax.axvline(x=i * -1, color='gray', linestyle='--', alpha=0.5)\n",
    "    \n",
    "    \n",
    "#Create a Black Vertical line at 21 days from the event\n",
    "ax.axvline(x=21, color='black', linestyle='-', alpha=0.5)\n",
    "ax.axvline(x=0, color='black', linestyle='-', alpha=0.5)\n",
    "\n",
    "ax.legend()\n",
    "plt.show()\n",
    "\n"
   ]
  }
 ],
 "metadata": {
  "kernelspec": {
   "display_name": "Python 3",
   "language": "python",
   "name": "python3"
  },
  "language_info": {
   "codemirror_mode": {
    "name": "ipython",
    "version": 3
   },
   "file_extension": ".py",
   "mimetype": "text/x-python",
   "name": "python",
   "nbconvert_exporter": "python",
   "pygments_lexer": "ipython3",
   "version": "3.11.6"
  }
 },
 "nbformat": 4,
 "nbformat_minor": 2
}
