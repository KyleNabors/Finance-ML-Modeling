{
 "cells": [
  {
   "cell_type": "code",
   "execution_count": 1,
   "metadata": {},
   "outputs": [
    {
     "name": "stderr",
     "output_type": "stream",
     "text": [
      "/Library/Frameworks/Python.framework/Versions/3.11/lib/python3.11/site-packages/umap/distances.py:1063: NumbaDeprecationWarning: The 'nopython' keyword argument was not supplied to the 'numba.jit' decorator. The implicit default value for this argument is currently False, but it will be changed to True in Numba 0.59.0. See https://numba.readthedocs.io/en/stable/reference/deprecation.html#deprecation-of-object-mode-fall-back-behaviour-when-using-jit for details.\n",
      "  @numba.jit()\n",
      "/Library/Frameworks/Python.framework/Versions/3.11/lib/python3.11/site-packages/umap/distances.py:1071: NumbaDeprecationWarning: The 'nopython' keyword argument was not supplied to the 'numba.jit' decorator. The implicit default value for this argument is currently False, but it will be changed to True in Numba 0.59.0. See https://numba.readthedocs.io/en/stable/reference/deprecation.html#deprecation-of-object-mode-fall-back-behaviour-when-using-jit for details.\n",
      "  @numba.jit()\n",
      "/Library/Frameworks/Python.framework/Versions/3.11/lib/python3.11/site-packages/umap/distances.py:1086: NumbaDeprecationWarning: The 'nopython' keyword argument was not supplied to the 'numba.jit' decorator. The implicit default value for this argument is currently False, but it will be changed to True in Numba 0.59.0. See https://numba.readthedocs.io/en/stable/reference/deprecation.html#deprecation-of-object-mode-fall-back-behaviour-when-using-jit for details.\n",
      "  @numba.jit()\n",
      "/Library/Frameworks/Python.framework/Versions/3.11/lib/python3.11/site-packages/umap/umap_.py:660: NumbaDeprecationWarning: The 'nopython' keyword argument was not supplied to the 'numba.jit' decorator. The implicit default value for this argument is currently False, but it will be changed to True in Numba 0.59.0. See https://numba.readthedocs.io/en/stable/reference/deprecation.html#deprecation-of-object-mode-fall-back-behaviour-when-using-jit for details.\n",
      "  @numba.jit()\n"
     ]
    }
   ],
   "source": [
    "#Base Libraries\n",
    "import os \n",
    "import sys\n",
    "import json\n",
    "import csv\n",
    "\n",
    "#Core Libraries \n",
    "import pandas as pd\n",
    "import numpy as np\n",
    "import matplotlib.pyplot as plt\n",
    "import pygwalker as pyg\n",
    "import datetime as dt\n",
    "#Model Libraries\n",
    "from bertopic import BERTopic\n",
    "from sklearn.metrics.pairwise import cosine_similarity\n",
    "from umap import UMAP\n",
    "#import umap.plot\n",
    "from sentence_transformers import SentenceTransformer\n",
    "\n",
    "#ML Libraries\n",
    "import torch \n"
   ]
  },
  {
   "cell_type": "code",
   "execution_count": 2,
   "metadata": {},
   "outputs": [
    {
     "name": "stdout",
     "output_type": "stream",
     "text": [
      "/Users/kylenabors/Documents/GitHub/Finance-ML-Modeling\n",
      "/Users/kylenabors/Documents/GitHub/Finance-ML-Modeling\n",
      "/Users/kylenabors/Documents\n"
     ]
    }
   ],
   "source": [
    "\n",
    "#Importing Configs\n",
    "# Define the path where config.py is located\n",
    "os.chdir('/Users/kylenabors/Documents/GitHub/Finance-ML-Modeling')\n",
    "config_file_path = os.getcwd()\n",
    "print(config_file_path)\n",
    "\n",
    "# Add this path to the sys.path\n",
    "sys.path.append(config_file_path)\n",
    "\n",
    "import config\n",
    "\n",
    "#Configs\n",
    "database_file = config.database\n",
    "database_folder = config.database_folder\n",
    "bert_models = config.bert_models\n",
    "bert_models_local = config.bert_models_local"
   ]
  },
  {
   "cell_type": "code",
   "execution_count": 3,
   "metadata": {},
   "outputs": [
    {
     "name": "stdout",
     "output_type": "stream",
     "text": [
      "  Year-Month-Day                 Type       Keyword  Frequency\n",
      "0     2016-12-31  Citi Annual Reports      decrease         97\n",
      "1     2016-12-31  Citi Annual Reports  unemployment          3\n",
      "2     2016-12-31  Citi Annual Reports        crisis          1\n",
      "3     2016-12-31  Citi Annual Reports      negative         28\n",
      "4     2016-12-31  Citi Annual Reports      downward          0\n"
     ]
    }
   ],
   "source": [
    "freq_ts = pd.read_csv('/Users/kylenabors/Documents/GitHub/Finance-ML-Modeling/Models/Word2Vec Models/keyword_info_ts.csv')\n",
    "print(freq_ts.head())"
   ]
  },
  {
   "cell_type": "code",
   "execution_count": 4,
   "metadata": {},
   "outputs": [
    {
     "name": "stdout",
     "output_type": "stream",
     "text": [
      "  Year-Month-Day                 Type       Keyword  Frequency Year-Month\n",
      "0     2016-12-31  Citi Annual Reports      decrease         97    2016-12\n",
      "1     2016-12-31  Citi Annual Reports  unemployment          3    2016-12\n",
      "2     2016-12-31  Citi Annual Reports        crisis          1    2016-12\n",
      "3     2016-12-31  Citi Annual Reports      negative         28    2016-12\n",
      "4     2016-12-31  Citi Annual Reports      downward          0    2016-12\n"
     ]
    }
   ],
   "source": [
    "freq_ts_m = freq_ts.copy(deep=True)\n",
    "freq_ts_m[\"Year-Month\"] = pd.to_datetime(freq_ts_m[\"Year-Month-Day\"])\n",
    "freq_ts_m['Year-Month'] = freq_ts_m['Year-Month'].dt.to_period('M')\n",
    "print(freq_ts_m.head())"
   ]
  },
  {
   "cell_type": "code",
   "execution_count": 5,
   "metadata": {},
   "outputs": [
    {
     "name": "stdout",
     "output_type": "stream",
     "text": [
      "Keyword     crisis  decrease  downward  negative  unemployment\n",
      "Year-Month                                                    \n",
      "2006-12        0.0      14.5       0.0       8.0           0.5\n",
      "2007-12        3.0      19.5       1.0       7.0           0.0\n",
      "2008-12        7.5      26.5       1.5      20.5           3.5\n",
      "2009-12       14.0      69.0       2.0      34.5          14.0\n",
      "2010-12       15.0      78.0       2.0      38.0          11.5\n"
     ]
    }
   ],
   "source": [
    "freq_ts_m = freq_ts_m.pivot_table(index='Year-Month', columns='Keyword', values='Frequency')\n",
    "print(freq_ts_m.head())"
   ]
  },
  {
   "cell_type": "code",
   "execution_count": 6,
   "metadata": {},
   "outputs": [
    {
     "name": "stdout",
     "output_type": "stream",
     "text": [
      "Keyword Year-Month  crisis  decrease  downward  negative  unemployment\n",
      "0          2006-12     0.0      14.5       0.0       8.0           0.5\n",
      "1          2007-12     3.0      19.5       1.0       7.0           0.0\n",
      "2          2008-12     7.5      26.5       1.5      20.5           3.5\n",
      "3          2009-12    14.0      69.0       2.0      34.5          14.0\n",
      "4          2010-12    15.0      78.0       2.0      38.0          11.5\n"
     ]
    }
   ],
   "source": [
    "freq_ts_m.columns\n",
    "freq_ts_m.reset_index(inplace=True)\n",
    "print(freq_ts_m.head())"
   ]
  },
  {
   "cell_type": "code",
   "execution_count": 7,
   "metadata": {},
   "outputs": [
    {
     "name": "stdout",
     "output_type": "stream",
     "text": [
      "  Year-Month  crisis  decrease  downward  negative  unemployment     DATE  \\\n",
      "0    2006-12     0.0      14.5       0.0       8.0           0.5  2006-12   \n",
      "1    2007-12     3.0      19.5       1.0       7.0           0.0  2007-12   \n",
      "2    2008-12     7.5      26.5       1.5      20.5           3.5  2008-12   \n",
      "3    2009-12    14.0      69.0       2.0      34.5          14.0  2009-12   \n",
      "4    2010-12    15.0      78.0       2.0      38.0          11.5  2010-12   \n",
      "\n",
      "   CPIENGSL  \n",
      "0   192.700  \n",
      "1   225.649  \n",
      "2   176.583  \n",
      "3   209.915  \n",
      "4   227.130  \n"
     ]
    }
   ],
   "source": [
    "energy = pd.read_csv('/Users/kylenabors/Documents/Database/Other Data/Energy Prices/US Energy CPI.csv')\n",
    "energy[\"DATE\"] = pd.to_datetime(energy[\"DATE\"]).dt.to_period('M')\n",
    "freq_ts_m = freq_ts_m.merge(energy, left_on='Year-Month', right_on='DATE', how='left')\n",
    "print(freq_ts_m.head())\n",
    "freq_ts_m.drop(columns=['DATE'], inplace=True)"
   ]
  },
  {
   "cell_type": "code",
   "execution_count": 8,
   "metadata": {},
   "outputs": [],
   "source": [
    "funds = pd.read_excel('/Users/kylenabors/Documents/Database/Other Data/FedFundsRate.xlsx', sheet_name='Monthly')\n",
    "funds['Date Adjusted'] = funds['Date Adjusted'].dt.to_period(freq='M')\n",
    "freq_ts_m = freq_ts_m.merge(funds, left_on='Year-Month', right_on='Date Adjusted', how='left')"
   ]
  },
  {
   "cell_type": "code",
   "execution_count": 9,
   "metadata": {},
   "outputs": [
    {
     "name": "stdout",
     "output_type": "stream",
     "text": [
      "  Year-Month  Value  diff\n",
      "0    2000-01  168.8   NaN\n",
      "1    2000-02  169.8   1.0\n",
      "2    2000-03  171.2   1.4\n",
      "3    2000-04  171.3   0.1\n",
      "4    2000-05  171.5   0.2\n",
      "  Year-Month  crisis  decrease  downward  negative  unemployment  CPIENGSL  \\\n",
      "0    2006-12     0.0      14.5       0.0       8.0           0.5   192.700   \n",
      "1    2007-12     3.0      19.5       1.0       7.0           0.0   225.649   \n",
      "2    2008-12     7.5      26.5       1.5      20.5           3.5   176.583   \n",
      "3    2009-12    14.0      69.0       2.0      34.5          14.0   209.915   \n",
      "4    2010-12    15.0      78.0       2.0      38.0          11.5   227.130   \n",
      "\n",
      "        DATE  FEDFUNDS    Value   diff  \n",
      "0 2006-11-30      5.24  201.800  0.300  \n",
      "1 2007-11-30      4.24  210.036 -0.141  \n",
      "2 2008-11-30      0.16  210.228 -2.197  \n",
      "3 2009-11-30      0.12  215.949 -0.381  \n",
      "4 2010-11-30      0.18  219.179  0.376  \n"
     ]
    }
   ],
   "source": [
    "cpi = pd.read_excel('/Users/kylenabors/Documents/Database/Other Data/Urban Consumer CPI.xlsx', sheet_name='Monthly')\n",
    "cpi['diff'] = cpi['Value'].diff()\n",
    "print(cpi.head())\n",
    "cpi[\"Year-Month\"] = pd.to_datetime(cpi[\"Year-Month\"]).dt.to_period('M')\n",
    "freq_ts_m = freq_ts_m.merge(cpi, left_on='Year-Month', right_on='Year-Month', how='left')\n",
    "freq_ts_m.drop(columns=['Date Adjusted'], inplace=True)\n",
    "print(freq_ts_m.head())"
   ]
  },
  {
   "cell_type": "code",
   "execution_count": 10,
   "metadata": {},
   "outputs": [
    {
     "name": "stdout",
     "output_type": "stream",
     "text": [
      "  Year-Month  crisis  decrease  downward  negative  unemployment  CPIENGSL  \\\n",
      "0    2006-12     0.0      14.5       0.0       8.0           0.5   192.700   \n",
      "1    2007-12     3.0      19.5       1.0       7.0           0.0   225.649   \n",
      "2    2008-12     7.5      26.5       1.5      20.5           3.5   176.583   \n",
      "3    2009-12    14.0      69.0       2.0      34.5          14.0   209.915   \n",
      "4    2010-12    15.0      78.0       2.0      38.0          11.5   227.130   \n",
      "\n",
      "        DATE  FEDFUNDS      CPI   diff  \n",
      "0 2006-11-30      5.24  201.800  0.300  \n",
      "1 2007-11-30      4.24  210.036 -0.141  \n",
      "2 2008-11-30      0.16  210.228 -2.197  \n",
      "3 2009-11-30      0.12  215.949 -0.381  \n",
      "4 2010-11-30      0.18  219.179  0.376  \n"
     ]
    }
   ],
   "source": [
    "freq_ts_m.rename(columns={'Value_x': 'Energy CPI', 'Value_y': 'Fed Funds Rate', 'Value': 'CPI'}, inplace=True)\n",
    "print(freq_ts_m.head())"
   ]
  },
  {
   "cell_type": "code",
   "execution_count": 12,
   "metadata": {},
   "outputs": [
    {
     "data": {
      "text/plain": [
       "<Axes: xlabel='Year-Month'>"
      ]
     },
     "execution_count": 12,
     "metadata": {},
     "output_type": "execute_result"
    },
    {
     "data": {
      "image/png": "[encoded data removed]",
      "text/plain": [
       "<Figure size 640x480 with 1 Axes>"
      ]
     },
     "metadata": {},
     "output_type": "display_data"
    }
   ],
   "source": [
    "freq_ts_m.plot(x='Year-Month', y=[\"decrease\", \"unemployment\", \"crisis\", \"negative\", \"downward\"])"
   ]
  },
  {
   "cell_type": "code",
   "execution_count": 13,
   "metadata": {},
   "outputs": [
    {
     "data": {
      "text/html": [],
      "text/plain": [
       "<IPython.core.display.HTML object>"
      ]
     },
     "metadata": {},
     "output_type": "display_data"
    },
    {
     "data": {
      "application/vnd.jupyter.widget-view+json": {
       "model_id": "63037552bf9c449095a827f138684598",
       "version_major": 2,
       "version_minor": 0
      },
      "text/plain": [
       "Box(children=(HTML(value='<div id=\"ifr-pyg-0\" style=\"height: auto\">\\n    <head>\\n        <meta http-equiv=\"Con…"
      ]
     },
     "metadata": {},
     "output_type": "display_data"
    },
    {
     "data": {
      "text/html": [
       "<html>\n",
       "<style>\n",
       ".tabs{\n",
       "    position:relative;\n",
       "    height:660px;\n",
       "}\n",
       ".tab-pane{\n",
       "    display:inline-block;\n",
       "}\n",
       ".tabs input[type='radio']{\n",
       "    position:absolute;\n",
       "    clip:rect(0,0,0,0)\n",
       "}\n",
       ".tab-item{\n",
       "    display:block;\n",
       "    height:34px;\n",
       "    line-height:34px;\n",
       "    cursor:pointer;\n",
       "    padding:0 10px\n",
       "}\n",
       "\n",
       ".tabs input[type='radio']:checked+.tab-item{\n",
       "    background:#2563eb;\n",
       "    color:#fff\n",
       "}\n",
       "\n",
       ".tab-content{\n",
       "    display: none;\n",
       "    position:absolute;\n",
       "    left:0;\n",
       "    top:56px;\n",
       "    bottom:0;\n",
       "    right:0;\n",
       "}\n",
       "\n",
       ".tabs input[type='radio']:checked+.tab-item+.tab-content{\n",
       "    display: block;\n",
       "}\n",
       "</style>\n",
       "\n",
       "<body>\n",
       "    <div id=\"pygwalker-preview-0\">\n",
       "        <div class=\"tabs\">\n",
       "            \n",
       "        </div>\n",
       "    </div>\n",
       "</body>\n",
       "</html>"
      ],
      "text/plain": [
       "<IPython.core.display.HTML object>"
      ]
     },
     "metadata": {},
     "output_type": "display_data"
    }
   ],
   "source": [
    "gwalker = pyg.walk(freq_ts_m)"
   ]
  },
  {
   "cell_type": "code",
   "execution_count": null,
   "metadata": {},
   "outputs": [],
   "source": []
  }
 ],
 "metadata": {
  "kernelspec": {
   "display_name": "Python 3",
   "language": "python",
   "name": "python3"
  },
  "language_info": {
   "codemirror_mode": {
    "name": "ipython",
    "version": 3
   },
   "file_extension": ".py",
   "mimetype": "text/x-python",
   "name": "python",
   "nbconvert_exporter": "python",
   "pygments_lexer": "ipython3",
   "version": "3.11.4"
  },
  "orig_nbformat": 4
 },
 "nbformat": 4,
 "nbformat_minor": 2
}
