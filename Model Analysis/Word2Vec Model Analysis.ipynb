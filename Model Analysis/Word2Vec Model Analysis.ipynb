{
 "cells": [
  {
   "cell_type": "code",
   "execution_count": 117,
   "metadata": {},
   "outputs": [],
   "source": [
    "#Base Libraries\n",
    "import os \n",
    "import sys\n",
    "import json\n",
    "import csv\n",
    "\n",
    "#Core Libraries \n",
    "import pandas as pd\n",
    "import numpy as np\n",
    "import matplotlib.pyplot as plt\n",
    "import pygwalker as pyg\n",
    "import datetime as dt\n",
    "#Model Libraries\n",
    "from bertopic import BERTopic\n",
    "from sklearn.metrics.pairwise import cosine_similarity\n",
    "from umap import UMAP\n",
    "#import umap.plot\n",
    "from sentence_transformers import SentenceTransformer\n",
    "\n",
    "#ML Libraries\n",
    "import torch \n"
   ]
  },
  {
   "cell_type": "code",
   "execution_count": 118,
   "metadata": {},
   "outputs": [
    {
     "name": "stdout",
     "output_type": "stream",
     "text": [
      "/Users/kylenabors/Documents/GitHub/Finance-ML-Modeling\n"
     ]
    }
   ],
   "source": [
    "\n",
    "#Importing Configs\n",
    "# Define the path where config.py is located\n",
    "os.chdir('/Users/kylenabors/Documents/GitHub/Finance-ML-Modeling')\n",
    "config_file_path = os.getcwd()\n",
    "print(config_file_path)\n",
    "\n",
    "# Add this path to the sys.path\n",
    "sys.path.append(config_file_path)\n",
    "\n",
    "import config\n",
    "\n",
    "#Configs\n",
    "database_file = config.database\n",
    "database_folder = config.database_folder\n",
    "bert_models = config.bert_models\n",
    "bert_models_local = config.bert_models_local"
   ]
  },
  {
   "cell_type": "code",
   "execution_count": 119,
   "metadata": {},
   "outputs": [
    {
     "name": "stdout",
     "output_type": "stream",
     "text": [
      "  Year-Month  credit  energy  inflation  interest  market  trade  \\\n",
      "0    2007-02      19      39          2        26      42     16   \n",
      "1    2007-07      26      32          3        19      37      8   \n",
      "2    2008-02      68      30          2        27      71      8   \n",
      "3    2008-07      69      32          7        31      92      9   \n",
      "4    2009-02      96      28          3        35     132      7   \n",
      "\n",
      "   unemployment  CPIENGSL        DATE  FEDFUNDS      CPI  \n",
      "0            11   192.310  2007-01-31      5.26  203.499  \n",
      "1            11   209.639  2007-06-30      5.26  208.299  \n",
      "2            26   229.731  2008-01-31      2.98  211.693  \n",
      "3            22   271.149  2008-06-30      2.01  219.964  \n",
      "4            32   183.721  2009-01-31      0.22  212.193  \n"
     ]
    }
   ],
   "source": [
    "freq_ts = pd.read_csv('/Users/kylenabors/Documents/GitHub/Finance-ML-Modeling/Models/Word2Vec Models/keyword_info_ts.csv')\n",
    "print(freq_ts.head())"
   ]
  },
  {
   "cell_type": "code",
   "execution_count": 120,
   "metadata": {},
   "outputs": [
    {
     "ename": "KeyError",
     "evalue": "'Year-Month-Day'",
     "output_type": "error",
     "traceback": [
      "\u001b[0;31m---------------------------------------------------------------------------\u001b[0m",
      "\u001b[0;31mKeyError\u001b[0m                                  Traceback (most recent call last)",
      "File \u001b[0;32m/Library/Frameworks/Python.framework/Versions/3.11/lib/python3.11/site-packages/pandas/core/indexes/base.py:3653\u001b[0m, in \u001b[0;36mIndex.get_loc\u001b[0;34m(self, key)\u001b[0m\n\u001b[1;32m   3652\u001b[0m \u001b[39mtry\u001b[39;00m:\n\u001b[0;32m-> 3653\u001b[0m     \u001b[39mreturn\u001b[39;00m \u001b[39mself\u001b[39;49m\u001b[39m.\u001b[39;49m_engine\u001b[39m.\u001b[39;49mget_loc(casted_key)\n\u001b[1;32m   3654\u001b[0m \u001b[39mexcept\u001b[39;00m \u001b[39mKeyError\u001b[39;00m \u001b[39mas\u001b[39;00m err:\n",
      "File \u001b[0;32m/Library/Frameworks/Python.framework/Versions/3.11/lib/python3.11/site-packages/pandas/_libs/index.pyx:147\u001b[0m, in \u001b[0;36mpandas._libs.index.IndexEngine.get_loc\u001b[0;34m()\u001b[0m\n",
      "File \u001b[0;32m/Library/Frameworks/Python.framework/Versions/3.11/lib/python3.11/site-packages/pandas/_libs/index.pyx:176\u001b[0m, in \u001b[0;36mpandas._libs.index.IndexEngine.get_loc\u001b[0;34m()\u001b[0m\n",
      "File \u001b[0;32mpandas/_libs/hashtable_class_helper.pxi:7080\u001b[0m, in \u001b[0;36mpandas._libs.hashtable.PyObjectHashTable.get_item\u001b[0;34m()\u001b[0m\n",
      "File \u001b[0;32mpandas/_libs/hashtable_class_helper.pxi:7088\u001b[0m, in \u001b[0;36mpandas._libs.hashtable.PyObjectHashTable.get_item\u001b[0;34m()\u001b[0m\n",
      "\u001b[0;31mKeyError\u001b[0m: 'Year-Month-Day'",
      "\nThe above exception was the direct cause of the following exception:\n",
      "\u001b[0;31mKeyError\u001b[0m                                  Traceback (most recent call last)",
      "\u001b[1;32m/Users/kylenabors/Documents/GitHub/Finance-ML-Modeling/Model Analysis/Word2Vec Model Analysis.ipynb Cell 4\u001b[0m line \u001b[0;36m2\n\u001b[1;32m      <a href='vscode-notebook-cell:/Users/kylenabors/Documents/GitHub/Finance-ML-Modeling/Model%20Analysis/Word2Vec%20Model%20Analysis.ipynb#W4sZmlsZQ%3D%3D?line=0'>1</a>\u001b[0m freq_ts_m \u001b[39m=\u001b[39m freq_ts\u001b[39m.\u001b[39mcopy(deep\u001b[39m=\u001b[39m\u001b[39mTrue\u001b[39;00m)\n\u001b[0;32m----> <a href='vscode-notebook-cell:/Users/kylenabors/Documents/GitHub/Finance-ML-Modeling/Model%20Analysis/Word2Vec%20Model%20Analysis.ipynb#W4sZmlsZQ%3D%3D?line=1'>2</a>\u001b[0m freq_ts_m[\u001b[39m\"\u001b[39m\u001b[39mYear-Month\u001b[39m\u001b[39m\"\u001b[39m] \u001b[39m=\u001b[39m pd\u001b[39m.\u001b[39mto_datetime(freq_ts_m[\u001b[39m\"\u001b[39;49m\u001b[39mYear-Month-Day\u001b[39;49m\u001b[39m\"\u001b[39;49m])\n\u001b[1;32m      <a href='vscode-notebook-cell:/Users/kylenabors/Documents/GitHub/Finance-ML-Modeling/Model%20Analysis/Word2Vec%20Model%20Analysis.ipynb#W4sZmlsZQ%3D%3D?line=2'>3</a>\u001b[0m freq_ts_m[\u001b[39m'\u001b[39m\u001b[39mYear-Month\u001b[39m\u001b[39m'\u001b[39m] \u001b[39m=\u001b[39m freq_ts_m[\u001b[39m'\u001b[39m\u001b[39mYear-Month\u001b[39m\u001b[39m'\u001b[39m]\u001b[39m.\u001b[39mdt\u001b[39m.\u001b[39mto_period(\u001b[39m'\u001b[39m\u001b[39mM\u001b[39m\u001b[39m'\u001b[39m)\n\u001b[1;32m      <a href='vscode-notebook-cell:/Users/kylenabors/Documents/GitHub/Finance-ML-Modeling/Model%20Analysis/Word2Vec%20Model%20Analysis.ipynb#W4sZmlsZQ%3D%3D?line=3'>4</a>\u001b[0m \u001b[39mprint\u001b[39m(freq_ts_m\u001b[39m.\u001b[39mhead())\n",
      "File \u001b[0;32m/Library/Frameworks/Python.framework/Versions/3.11/lib/python3.11/site-packages/pandas/core/frame.py:3761\u001b[0m, in \u001b[0;36mDataFrame.__getitem__\u001b[0;34m(self, key)\u001b[0m\n\u001b[1;32m   3759\u001b[0m \u001b[39mif\u001b[39;00m \u001b[39mself\u001b[39m\u001b[39m.\u001b[39mcolumns\u001b[39m.\u001b[39mnlevels \u001b[39m>\u001b[39m \u001b[39m1\u001b[39m:\n\u001b[1;32m   3760\u001b[0m     \u001b[39mreturn\u001b[39;00m \u001b[39mself\u001b[39m\u001b[39m.\u001b[39m_getitem_multilevel(key)\n\u001b[0;32m-> 3761\u001b[0m indexer \u001b[39m=\u001b[39m \u001b[39mself\u001b[39;49m\u001b[39m.\u001b[39;49mcolumns\u001b[39m.\u001b[39;49mget_loc(key)\n\u001b[1;32m   3762\u001b[0m \u001b[39mif\u001b[39;00m is_integer(indexer):\n\u001b[1;32m   3763\u001b[0m     indexer \u001b[39m=\u001b[39m [indexer]\n",
      "File \u001b[0;32m/Library/Frameworks/Python.framework/Versions/3.11/lib/python3.11/site-packages/pandas/core/indexes/base.py:3655\u001b[0m, in \u001b[0;36mIndex.get_loc\u001b[0;34m(self, key)\u001b[0m\n\u001b[1;32m   3653\u001b[0m     \u001b[39mreturn\u001b[39;00m \u001b[39mself\u001b[39m\u001b[39m.\u001b[39m_engine\u001b[39m.\u001b[39mget_loc(casted_key)\n\u001b[1;32m   3654\u001b[0m \u001b[39mexcept\u001b[39;00m \u001b[39mKeyError\u001b[39;00m \u001b[39mas\u001b[39;00m err:\n\u001b[0;32m-> 3655\u001b[0m     \u001b[39mraise\u001b[39;00m \u001b[39mKeyError\u001b[39;00m(key) \u001b[39mfrom\u001b[39;00m \u001b[39merr\u001b[39;00m\n\u001b[1;32m   3656\u001b[0m \u001b[39mexcept\u001b[39;00m \u001b[39mTypeError\u001b[39;00m:\n\u001b[1;32m   3657\u001b[0m     \u001b[39m# If we have a listlike key, _check_indexing_error will raise\u001b[39;00m\n\u001b[1;32m   3658\u001b[0m     \u001b[39m#  InvalidIndexError. Otherwise we fall through and re-raise\u001b[39;00m\n\u001b[1;32m   3659\u001b[0m     \u001b[39m#  the TypeError.\u001b[39;00m\n\u001b[1;32m   3660\u001b[0m     \u001b[39mself\u001b[39m\u001b[39m.\u001b[39m_check_indexing_error(key)\n",
      "\u001b[0;31mKeyError\u001b[0m: 'Year-Month-Day'"
     ]
    }
   ],
   "source": [
    "freq_ts_m = freq_ts.copy(deep=True)\n",
    "freq_ts_m[\"Year-Month\"] = pd.to_datetime(freq_ts_m[\"Year-Month-Day\"])\n",
    "freq_ts_m['Year-Month'] = freq_ts_m['Year-Month'].dt.to_period('M')\n",
    "print(freq_ts_m.head())"
   ]
  },
  {
   "cell_type": "code",
   "execution_count": null,
   "metadata": {},
   "outputs": [
    {
     "name": "stdout",
     "output_type": "stream",
     "text": [
      "Keyword     credit  energy  inflation  interest  market  trade  unemployment\n",
      "Year-Month                                                                  \n",
      "2007-02         19      39          2        26      42     16            11\n",
      "2007-07         26      32          3        19      37      8            11\n",
      "2008-02         68      30          2        27      71      8            26\n",
      "2008-07         69      32          7        31      92      9            22\n",
      "2009-02         96      28          3        35     132      7            32\n"
     ]
    }
   ],
   "source": [
    "freq_ts_m = freq_ts_m.pivot_table(index='Year-Month', columns='Keyword', values='Frequency')\n",
    "print(freq_ts_m.head())"
   ]
  },
  {
   "cell_type": "code",
   "execution_count": null,
   "metadata": {},
   "outputs": [
    {
     "name": "stdout",
     "output_type": "stream",
     "text": [
      "Keyword Year-Month  credit  energy  inflation  interest  market  trade  \\\n",
      "0          2007-02      19      39          2        26      42     16   \n",
      "1          2007-07      26      32          3        19      37      8   \n",
      "2          2008-02      68      30          2        27      71      8   \n",
      "3          2008-07      69      32          7        31      92      9   \n",
      "4          2009-02      96      28          3        35     132      7   \n",
      "\n",
      "Keyword  unemployment  \n",
      "0                  11  \n",
      "1                  11  \n",
      "2                  26  \n",
      "3                  22  \n",
      "4                  32  \n"
     ]
    }
   ],
   "source": [
    "freq_ts_m.columns\n",
    "freq_ts_m.reset_index(inplace=True)\n",
    "print(freq_ts_m.head())"
   ]
  },
  {
   "cell_type": "code",
   "execution_count": null,
   "metadata": {},
   "outputs": [
    {
     "name": "stdout",
     "output_type": "stream",
     "text": [
      "  Year-Month  credit  energy  inflation  interest  market  trade  \\\n",
      "0    2007-02      19      39          2        26      42     16   \n",
      "1    2007-07      26      32          3        19      37      8   \n",
      "2    2008-02      68      30          2        27      71      8   \n",
      "3    2008-07      69      32          7        31      92      9   \n",
      "4    2009-02      96      28          3        35     132      7   \n",
      "\n",
      "   unemployment     DATE  CPIENGSL  \n",
      "0            11  2007-02   192.310  \n",
      "1            11  2007-07   209.639  \n",
      "2            26  2008-02   229.731  \n",
      "3            22  2008-07   271.149  \n",
      "4            32  2009-02   183.721  \n"
     ]
    }
   ],
   "source": [
    "energy = pd.read_csv('/Users/kylenabors/Documents/Database/Other Data/Energy Prices/US Energy CPI.csv')\n",
    "energy[\"DATE\"] = pd.to_datetime(energy[\"DATE\"]).dt.to_period('M')\n",
    "freq_ts_m = freq_ts_m.merge(energy, left_on='Year-Month', right_on='DATE', how='left')\n",
    "print(freq_ts_m.head())\n",
    "freq_ts_m.drop(columns=['DATE'], inplace=True)"
   ]
  },
  {
   "cell_type": "code",
   "execution_count": null,
   "metadata": {},
   "outputs": [],
   "source": [
    "funds = pd.read_excel('/Users/kylenabors/Documents/Database/Other Data/FedFundsRate.xlsx', sheet_name='Monthly')\n",
    "funds['Date Adjusted'] = funds['Date Adjusted'].dt.to_period(freq='M')\n",
    "freq_ts_m = freq_ts_m.merge(funds, left_on='Year-Month', right_on='Date Adjusted', how='left')"
   ]
  },
  {
   "cell_type": "code",
   "execution_count": null,
   "metadata": {},
   "outputs": [
    {
     "name": "stdout",
     "output_type": "stream",
     "text": [
      "  Year-Month  Value\n",
      "0    2000-01  168.8\n",
      "1    2000-02  169.8\n",
      "2    2000-03  171.2\n",
      "3    2000-04  171.3\n",
      "4    2000-05  171.5\n",
      "  Year-Month  credit  energy  inflation  interest  market  trade  \\\n",
      "0    2007-02      19      39          2        26      42     16   \n",
      "1    2007-07      26      32          3        19      37      8   \n",
      "2    2008-02      68      30          2        27      71      8   \n",
      "3    2008-07      69      32          7        31      92      9   \n",
      "4    2009-02      96      28          3        35     132      7   \n",
      "\n",
      "   unemployment  CPIENGSL       DATE  FEDFUNDS    Value  \n",
      "0            11   192.310 2007-01-31      5.26  203.499  \n",
      "1            11   209.639 2007-06-30      5.26  208.299  \n",
      "2            26   229.731 2008-01-31      2.98  211.693  \n",
      "3            22   271.149 2008-06-30      2.01  219.964  \n",
      "4            32   183.721 2009-01-31      0.22  212.193  \n"
     ]
    }
   ],
   "source": [
    "cpi = pd.read_excel('/Users/kylenabors/Documents/Database/Other Data/Urban Consumer CPI.xlsx', sheet_name='Monthly')\n",
    "print(cpi.head())\n",
    "cpi[\"Year-Month\"] = pd.to_datetime(cpi[\"Year-Month\"]).dt.to_period('M')\n",
    "freq_ts_m = freq_ts_m.merge(cpi, left_on='Year-Month', right_on='Year-Month', how='left')\n",
    "freq_ts_m.drop(columns=['Date Adjusted'], inplace=True)\n",
    "print(freq_ts_m.head())"
   ]
  },
  {
   "cell_type": "code",
   "execution_count": null,
   "metadata": {},
   "outputs": [
    {
     "name": "stdout",
     "output_type": "stream",
     "text": [
      "  Year-Month  credit  energy  inflation  interest  market  trade  \\\n",
      "0    2007-02      19      39          2        26      42     16   \n",
      "1    2007-07      26      32          3        19      37      8   \n",
      "2    2008-02      68      30          2        27      71      8   \n",
      "3    2008-07      69      32          7        31      92      9   \n",
      "4    2009-02      96      28          3        35     132      7   \n",
      "\n",
      "   unemployment  CPIENGSL       DATE  FEDFUNDS      CPI  \n",
      "0            11   192.310 2007-01-31      5.26  203.499  \n",
      "1            11   209.639 2007-06-30      5.26  208.299  \n",
      "2            26   229.731 2008-01-31      2.98  211.693  \n",
      "3            22   271.149 2008-06-30      2.01  219.964  \n",
      "4            32   183.721 2009-01-31      0.22  212.193  \n"
     ]
    }
   ],
   "source": [
    "freq_ts_m.rename(columns={'Value_x': 'Energy CPI', 'Value_y': 'Fed Funds Rate', 'Value': 'CPI'}, inplace=True)\n",
    "freq_ts_m.drop(columns=['DATE'], inplace=True)\n",
    "print(freq_ts_m.head())"
   ]
  },
  {
   "cell_type": "code",
   "execution_count": null,
   "metadata": {},
   "outputs": [],
   "source": [
    "freq_ts_m.to_csv('/Users/kylenabors/Documents/GitHub/Finance-ML-Modeling/Models/Word2Vec Models/keyword_info_ts.csv', index=False)"
   ]
  },
  {
   "cell_type": "code",
   "execution_count": null,
   "metadata": {},
   "outputs": [
    {
     "data": {
      "text/html": [],
      "text/plain": [
       "<IPython.core.display.HTML object>"
      ]
     },
     "metadata": {},
     "output_type": "display_data"
    },
    {
     "data": {
      "application/vnd.jupyter.widget-view+json": {
       "model_id": "2e8fcaa3604d4d6da1627e3d03cf09e1",
       "version_major": 2,
       "version_minor": 0
      },
      "text/plain": [
       "Box(children=(HTML(value='<div id=\"ifr-pyg-7\" style=\"height: auto\">\\n    <head>\\n        <meta http-equiv=\"Con…"
      ]
     },
     "metadata": {},
     "output_type": "display_data"
    },
    {
     "data": {
      "text/html": [
       "<html>\n",
       "<style>\n",
       ".tabs{\n",
       "    position:relative;\n",
       "    height:660px;\n",
       "}\n",
       ".tab-pane{\n",
       "    display:inline-block;\n",
       "}\n",
       ".tabs input[type='radio']{\n",
       "    position:absolute;\n",
       "    clip:rect(0,0,0,0)\n",
       "}\n",
       ".tab-item{\n",
       "    display:block;\n",
       "    height:34px;\n",
       "    line-height:34px;\n",
       "    cursor:pointer;\n",
       "    padding:0 10px\n",
       "}\n",
       "\n",
       ".tabs input[type='radio']:checked+.tab-item{\n",
       "    background:#2563eb;\n",
       "    color:#fff\n",
       "}\n",
       "\n",
       ".tab-content{\n",
       "    display: none;\n",
       "    position:absolute;\n",
       "    left:0;\n",
       "    top:56px;\n",
       "    bottom:0;\n",
       "    right:0;\n",
       "}\n",
       "\n",
       ".tabs input[type='radio']:checked+.tab-item+.tab-content{\n",
       "    display: block;\n",
       "}\n",
       "</style>\n",
       "\n",
       "<body>\n",
       "    <div id=\"pygwalker-preview-7\">\n",
       "        <div class=\"tabs\">\n",
       "            \n",
       "        </div>\n",
       "    </div>\n",
       "</body>\n",
       "</html>"
      ],
      "text/plain": [
       "<IPython.core.display.HTML object>"
      ]
     },
     "metadata": {},
     "output_type": "display_data"
    }
   ],
   "source": [
    "gwalker = pyg.walk(freq_ts_m)"
   ]
  },
  {
   "cell_type": "code",
   "execution_count": null,
   "metadata": {},
   "outputs": [],
   "source": []
  }
 ],
 "metadata": {
  "kernelspec": {
   "display_name": "Python 3",
   "language": "python",
   "name": "python3"
  },
  "language_info": {
   "codemirror_mode": {
    "name": "ipython",
    "version": 3
   },
   "file_extension": ".py",
   "mimetype": "text/x-python",
   "name": "python",
   "nbconvert_exporter": "python",
   "pygments_lexer": "ipython3",
   "version": "3.11.4"
  },
  "orig_nbformat": 4
 },
 "nbformat": 4,
 "nbformat_minor": 2
}
