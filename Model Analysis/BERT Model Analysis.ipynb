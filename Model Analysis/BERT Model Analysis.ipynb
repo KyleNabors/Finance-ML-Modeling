{
 "cells": [
  {
   "cell_type": "code",
   "execution_count": 77,
   "metadata": {},
   "outputs": [],
   "source": [
    "#Base Libraries\n",
    "import os \n",
    "import sys\n",
    "import json\n",
    "import csv\n",
    "\n",
    "#Core Libraries \n",
    "import pandas as pd\n",
    "import numpy as np\n",
    "import matplotlib.pyplot as plt\n",
    "import pygwalker as pyg\n",
    "import datetime as dt\n",
    "#Model Libraries\n",
    "from bertopic import BERTopic\n",
    "from sklearn.metrics.pairwise import cosine_similarity\n",
    "from umap import UMAP\n",
    "#import umap.plot\n",
    "from sentence_transformers import SentenceTransformer\n",
    "\n",
    "#ML Libraries\n",
    "import torch \n"
   ]
  },
  {
   "cell_type": "code",
   "execution_count": 78,
   "metadata": {},
   "outputs": [
    {
     "name": "stdout",
     "output_type": "stream",
     "text": [
      "/Users/kylenabors/Documents/GitHub/Finance-ML-Modeling\n"
     ]
    }
   ],
   "source": [
    "\n",
    "#Importing Configs\n",
    "# Define the path where config.py is located\n",
    "os.chdir('/Users/kylenabors/Documents/GitHub/Finance-ML-Modeling')\n",
    "config_file_path = os.getcwd()\n",
    "print(config_file_path)\n",
    "\n",
    "# Add this path to the sys.path\n",
    "sys.path.append(config_file_path)\n",
    "\n",
    "import config\n",
    "\n",
    "#Configs\n",
    "database_file = config.database\n",
    "database_folder = config.database_folder\n",
    "bert_models = config.bert_models\n",
    "bert_models_local = config.bert_models_local"
   ]
  },
  {
   "cell_type": "code",
   "execution_count": 79,
   "metadata": {},
   "outputs": [
    {
     "name": "stdout",
     "output_type": "stream",
     "text": [
      "Wed Sep 20 18:37:07 2023 Building and compiling search function\n",
      "Done Loading Model\n"
     ]
    },
    {
     "data": {
      "text/plain": [
       "['-1_residential_retail_labor_wage',\n",
       " 'Employment',\n",
       " 'Housing',\n",
       " 'Banking',\n",
       " 'Inflation',\n",
       " 'Agriculture',\n",
       " 'Transportation',\n",
       " 'Growth',\n",
       " 'Oil',\n",
       " '8_tourism_hospitality_seasonal_montana',\n",
       " '9_bureau_data_department_statistics',\n",
       " '10_raw_rose_goods_selling',\n",
       " '11_restaurant_dining_meat_industry',\n",
       " '12_staff_closed_fill_cutting',\n",
       " '13_steel_utilization_service_capacity',\n",
       " '14_beige_book_information_informal',\n",
       " '15_dow_indices_stock_merger',\n",
       " '16_pandemic_poultry_flu_covid',\n",
       " '17_affordable_insurance_medical_hospital',\n",
       " '18_nonfinancial_construction_moderate_development',\n",
       " '19_tax_stimulus_sequestration_federal',\n",
       " '20_confidence_interval_width_pa',\n",
       " '21_mall_attendance_broadway_ticket',\n",
       " '22_semiconductor_core_memory_chips',\n",
       " '23_south_northern_regional_region',\n",
       " '24_hurricane_casino_atlantic_storm',\n",
       " '25_range_number_distribution_table',\n",
       " '26_policy_gap_democratic_transparency',\n",
       " '27_pressure_downward_upward_home',\n",
       " '28_legal_underwriting_regulatory_discretionary',\n",
       " '29_saw_robust_freight_growth',\n",
       " '30_committee_effective_horizontal_axis',\n",
       " '31_flat_edged_land_slight',\n",
       " '32_pipeline_downstream_midstream_cost',\n",
       " '33_survey_indexed_monthly_board',\n",
       " '34_district_table_ninth_york',\n",
       " '35_nonprofit_nonfarm_advisory_array',\n",
       " '36_expand_close_reduce_add',\n",
       " '37_receipts_fell_august_dairy',\n",
       " '38_commonwealth_bank_san_york',\n",
       " '39_middle_median_tendency_highest',\n",
       " '40_comparison_curate_diverse_objective',\n",
       " '41_yield_mae_coupon_current',\n",
       " '42_space_availability_outpace_vacancy',\n",
       " '43_table_note_contents_district',\n",
       " '44_absorption_vacancy_beige_providence',\n",
       " '45_tight_labor_tightness_coping',\n",
       " '46_environment_characterize_competitive_sever',\n",
       " '47_mixed_desirability_paint_drew',\n",
       " '48_permit_relative_slight_march',\n",
       " '49_fish_frozen_manufacturer_aquarium',\n",
       " '50_unsold_inventory_climb_level',\n",
       " '51_submit_participant_funds_target',\n",
       " '52_output_throughput_fraction_gain',\n",
       " '53_total_largely__',\n",
       " '54_myrtle_beach_outer_contact',\n",
       " '55_pass_passing_crucial_surcharge',\n",
       " '56_projection_weight_distributed_weighted',\n",
       " '57_mortgage_loan_lender_prime',\n",
       " '58_shaded_key_order_extend']"
      ]
     },
     "execution_count": 79,
     "metadata": {},
     "output_type": "execute_result"
    }
   ],
   "source": [
    "Body = 'Fed'\n",
    "Model = 'Beige and Monetary'\n",
    "Model_Subfolder = f'/{Body} Texts/{Model}'\n",
    "Model_Folder = config.texts\n",
    "Model_Folder = Model_Folder + Model_Subfolder\n",
    "\n",
    "\n",
    "#-------------------------------------------------------------------------------------------------------------------\n",
    "df = pd.read_csv(f\"{Model_Folder}/{Model}_texts.csv\")  \n",
    "docs = df[\"segment\"].to_list()\n",
    "timestamps = df['date'].to_list()\n",
    "type = df['type'].to_list()\n",
    "\n",
    "#Initial Model\n",
    "#topic_model = torch.load(f\"{bert_models_local}/topic_model_{Model}.pt\")\n",
    "\n",
    "#Edited Model\n",
    "topic_model_policy= torch.load(f\"{bert_models_local}/topic_model_{Model}_edited.pt\")\n",
    "print(\"Done Loading Model\")\n",
    "\n",
    "topic_model_policy.set_topic_labels({0: \"Employment\", \n",
    "                                     1: \"Housing\", \n",
    "                                     2: \"Banking\", \n",
    "                                     3: \"Inflation\", \n",
    "                                     4: \"Agriculture\", \n",
    "                                     5: \"Transportation\", \n",
    "                                     6: \"Growth\", \n",
    "                                     7: \"Oil\"})\n",
    "topic_model_policy.custom_labels_\n"
   ]
  },
  {
   "cell_type": "code",
   "execution_count": 80,
   "metadata": {},
   "outputs": [
    {
     "name": "stderr",
     "output_type": "stream",
     "text": [
      "139it [03:39,  1.58s/it]"
     ]
    },
    {
     "name": "stdout",
     "output_type": "stream",
     "text": [
      "   Topic                                             Words  Frequency  \\\n",
      "0     -1          fi, residential, housing, rate, increase        382   \n",
      "1      0  compensation, employment, wage, inventory, wages        165   \n",
      "2      1           san, residential, housing, york, rental        158   \n",
      "3      2        reserve, federal, monetary, loan, treasury        138   \n",
      "4      3        fi, spending, quarters, nominal, inflation        115   \n",
      "\n",
      "    Timestamp  \n",
      "0  2007-01-10  \n",
      "1  2007-01-10  \n",
      "2  2007-01-10  \n",
      "3  2007-01-10  \n",
      "4  2007-01-10  \n"
     ]
    },
    {
     "name": "stderr",
     "output_type": "stream",
     "text": [
      "\n"
     ]
    }
   ],
   "source": [
    "topics_over_time = topic_model_policy.topics_over_time(docs, timestamps, nr_bins=200)\n",
    "\n",
    "df_tot = pd.DataFrame(topics_over_time, columns=['Topic', 'Words', 'Frequency', 'Timestamp'])\n",
    "df_tot['Timestamp'] = pd.to_datetime(df_tot['Timestamp'], format='%Y-%m-%d').dt.to_period('D')\n",
    "df_tot.to_csv(f\"{bert_models_local}/tot.csv\", index=True)\n",
    "print(df_tot.head())"
   ]
  },
  {
   "cell_type": "code",
   "execution_count": 81,
   "metadata": {},
   "outputs": [
    {
     "name": "stdout",
     "output_type": "stream",
     "text": [
      "Topic       Employment  Housing  Banking  Inflation  Agriculture  \\\n",
      "Timestamp                                                          \n",
      "2007-01-10       165.0    158.0    138.0      115.0         37.0   \n",
      "2007-02-16       135.0    145.0     28.0       20.0         36.0   \n",
      "2007-04-17       142.0    130.0     34.0       26.0         37.0   \n",
      "2007-05-17       124.0    122.0     45.0       41.0         39.0   \n",
      "2007-07-16       184.0    136.0    151.0      128.0         41.0   \n",
      "\n",
      "Topic       Transportation  Growth   Oil  \n",
      "Timestamp                                 \n",
      "2007-01-10            33.0    37.0  62.0  \n",
      "2007-02-16            31.0    23.0  45.0  \n",
      "2007-04-17            32.0    37.0  38.0  \n",
      "2007-05-17            22.0    33.0  40.0  \n",
      "2007-07-16            33.0    48.0  55.0  \n"
     ]
    }
   ],
   "source": [
    "\n",
    "a = [0,1,2,3,4,5,6,7]\n",
    "df_tot.drop(['Words'], axis=1, inplace=True)\n",
    "df_tot = df_tot[df_tot['Topic'].isin(a)==True]\n",
    "\n",
    "df_tpt = df_tot.pivot_table(index='Timestamp', columns='Topic', values='Frequency')\n",
    "\n",
    "df_tpt.rename(columns={0: \"Employment\", \n",
    "                        1: \"Housing\", \n",
    "                        2: \"Banking\", \n",
    "                        3: \"Inflation\", \n",
    "                        4: \"Agriculture\", \n",
    "                        5: \"Transportation\", \n",
    "                        6: \"Growth\", \n",
    "                        7: \"Oil\"}, inplace=True)\n",
    "print(df_tpt.head())\n"
   ]
  },
  {
   "cell_type": "code",
   "execution_count": 82,
   "metadata": {},
   "outputs": [],
   "source": [
    "df_tpt.columns\n",
    "df_tpt.reset_index(inplace=True)\n",
    "\n",
    "#df_tpt.drop(['Topic'], axis = 1 , inplace=True)"
   ]
  },
  {
   "cell_type": "code",
   "execution_count": 83,
   "metadata": {},
   "outputs": [],
   "source": [
    "df_tpt_m = df_tpt.copy(deep=True)\n",
    "df_tpt['Timestamp'] = df_tpt[\"Timestamp\"].dt.to_timestamp(freq='D')\n",
    "df_tpt_m[\"Timestamp\"] = df_tpt_m[\"Timestamp\"].dt.to_timestamp(freq='M')\n",
    "df_tpt_m['Timestamp'] = df_tpt_m['Timestamp'].dt.to_period('M')\n"
   ]
  },
  {
   "cell_type": "code",
   "execution_count": 84,
   "metadata": {},
   "outputs": [],
   "source": [
    "energy = pd.read_csv('/Users/kylenabors/Documents/Database/Other Data/Energy Prices/US Energy CPI.csv')\n",
    "energy[\"DATE\"] = pd.to_datetime(energy[\"DATE\"]).dt.to_period('M')\n",
    "df_tpt_m = df_tpt_m.merge(energy, left_on='Timestamp', right_on='DATE', how='left')"
   ]
  },
  {
   "cell_type": "code",
   "execution_count": 85,
   "metadata": {},
   "outputs": [],
   "source": [
    "df_tpt_m.drop(['DATE'], axis=1, inplace=True)"
   ]
  },
  {
   "cell_type": "code",
   "execution_count": 86,
   "metadata": {},
   "outputs": [],
   "source": [
    "funds = pd.read_excel('/Users/kylenabors/Documents/Database/Other Data/FedFundsRate.xlsx', sheet_name='Monthly')\n",
    "funds['Date Adjusted'] = funds['Date Adjusted'].dt.to_period(freq='M')\n",
    "df_tpt_m = df_tpt_m.merge(funds, left_on='Timestamp', right_on='Date Adjusted', how='left')\n"
   ]
  },
  {
   "cell_type": "code",
   "execution_count": 87,
   "metadata": {},
   "outputs": [],
   "source": [
    "df_tpt_m.drop(['DATE', 'Date Adjusted'], axis=1, inplace=True)"
   ]
  },
  {
   "cell_type": "code",
   "execution_count": 88,
   "metadata": {},
   "outputs": [
    {
     "name": "stderr",
     "output_type": "stream",
     "text": [
      "2it [00:05,  2.96s/it]\n"
     ]
    }
   ],
   "source": [
    "topics_per_class = topic_model_policy.topics_per_class(docs, classes = type)\n",
    "\n",
    "# Save topic-terms barcharts as HTML file\n",
    "topic_model_policy.visualize_barchart(top_n_topics = 100, n_words=8, custom_labels=True).write_html(f\"{bert_models}/barchart.html\")"
   ]
  },
  {
   "cell_type": "code",
   "execution_count": 89,
   "metadata": {},
   "outputs": [],
   "source": [
    "\n",
    "df_tpc = pd.DataFrame(topics_per_class, columns=['Topic', 'Words', 'Frequency', 'Class'])\n",
    "df_tpc.to_csv(f\"{bert_models_local}/tpc.csv\", index=True)"
   ]
  },
  {
   "cell_type": "code",
   "execution_count": 90,
   "metadata": {},
   "outputs": [],
   "source": [
    "categories_all = df_tpc['Class'].to_list()\n",
    "categories = list(set(categories_all))\n",
    "\n",
    "topics = topic_model_policy.get_topics()\n"
   ]
  },
  {
   "cell_type": "code",
   "execution_count": 91,
   "metadata": {},
   "outputs": [],
   "source": [
    "\n",
    "pivot_df_tot = df_tot.pivot(index='Timestamp', columns='Topic', values='Frequency')\n",
    "pivot_df_tot = pivot_df_tot.fillna(0)\n",
    "pivot_df_tot.to_csv(f\"{bert_models_local}/pivot_df_tot.csv\", index=True)"
   ]
  },
  {
   "cell_type": "code",
   "execution_count": 92,
   "metadata": {},
   "outputs": [
    {
     "name": "stdout",
     "output_type": "stream",
     "text": [
      "  Timestamp  Employment  Housing  Banking  Inflation  Agriculture  \\\n",
      "0   2007-01       165.0    158.0    138.0      115.0         37.0   \n",
      "1   2007-02       135.0    145.0     28.0       20.0         36.0   \n",
      "2   2007-04       142.0    130.0     34.0       26.0         37.0   \n",
      "3   2007-05       124.0    122.0     45.0       41.0         39.0   \n",
      "4   2007-07       184.0    136.0    151.0      128.0         41.0   \n",
      "5   2007-08       141.0    134.0     78.0       36.0         35.0   \n",
      "6   2007-10       122.0    114.0     53.0       34.0         37.0   \n",
      "7   2007-11        12.0      9.0      9.0        3.0          7.0   \n",
      "8   2008-01       110.0    125.0     58.0       34.0         25.0   \n",
      "9   2008-02       161.0    154.0    280.0      172.0         34.0   \n",
      "\n",
      "   Transportation  Growth   Oil  CPIENGSL  FEDFUNDS  \n",
      "0            33.0    37.0  62.0   190.281      5.25  \n",
      "1            31.0    23.0  45.0   192.310      5.26  \n",
      "2            32.0    37.0  38.0   203.307      5.25  \n",
      "3            22.0    33.0  40.0   208.635      5.25  \n",
      "4            33.0    48.0  55.0   209.639      5.26  \n",
      "5            36.0    36.0  29.0   206.412      5.02  \n",
      "6            28.0    34.0  31.0   212.386      4.76  \n",
      "7             2.0     2.0   3.0   223.814      4.49  \n",
      "8            36.0    26.0  33.0   226.775      3.94  \n",
      "9            41.0    57.0  39.0   229.731      2.98  \n"
     ]
    }
   ],
   "source": [
    "print(df_tpt_m.head(10))\n",
    "Employment_mean = df_tpt_m['Employment'].mean()\n",
    "Housing_mean = df_tpt_m['Housing'].mean()\n",
    "Banking_mean = df_tpt_m['Banking'].mean()\n",
    "Inflation_mean = df_tpt_m['Inflation'].mean()\n",
    "Agriculture_mean = df_tpt_m['Agriculture'].mean()\n",
    "Transportation_mean = df_tpt_m['Transportation'].mean()\n",
    "Growth_mean = df_tpt_m['Growth'].mean()\n",
    "Oil_mean = df_tpt_m['Oil'].mean()\n",
    "\n"
   ]
  },
  {
   "cell_type": "code",
   "execution_count": 93,
   "metadata": {},
   "outputs": [],
   "source": [
    "df_tpt_m['Employment_Mean_Diff'] = df_tpt_m['Employment'] - Employment_mean\n",
    "df_tpt_m['Housing_Mean_Diff'] = df_tpt_m['Housing'] - Housing_mean\n",
    "df_tpt_m['Banking_Mean_Diff'] = df_tpt_m['Banking'] - Banking_mean\n",
    "df_tpt_m['Inflation_Mean_Diff'] = df_tpt_m['Inflation'] - Inflation_mean\n",
    "df_tpt_m['Agriculture_Mean_Diff'] = df_tpt_m['Agriculture'] - Agriculture_mean\n",
    "df_tpt_m['Transportation_Mean_Diff'] = df_tpt_m['Transportation'] - Transportation_mean\n",
    "df_tpt_m['Growth_Mean_Diff'] = df_tpt_m['Growth'] - Growth_mean\n",
    "df_tpt_m['Oil_Mean_Diff'] = df_tpt_m['Oil'] - Oil_mean\n"
   ]
  },
  {
   "cell_type": "code",
   "execution_count": 94,
   "metadata": {},
   "outputs": [],
   "source": [
    "\n",
    "change_df_tpt_m = df_tpt_m.copy(deep=True)\n",
    "change_df_tpt_m['Employment'] = change_df_tpt_m['Employment'].diff()\n",
    "change_df_tpt_m['Housing'] = change_df_tpt_m['Housing'].diff()\n",
    "change_df_tpt_m['Banking'] = change_df_tpt_m['Banking'].diff()\n",
    "change_df_tpt_m['Inflation'] = change_df_tpt_m['Inflation'].diff()\n",
    "change_df_tpt_m['Agriculture'] = change_df_tpt_m['Agriculture'].diff()\n",
    "change_df_tpt_m['Transportation'] = change_df_tpt_m['Transportation'].diff()\n",
    "change_df_tpt_m['Growth'] = change_df_tpt_m['Growth'].diff()\n",
    "change_df_tpt_m['Oil'] = change_df_tpt_m['Oil'].diff()\n",
    "change_df_tpt_m['CPIENGLS'] = change_df_tpt_m['CPIENGSL'].diff()\n",
    "change_df_tpt_m['FEDFUNDS_Change'] = change_df_tpt_m['FEDFUNDS'].diff()\n"
   ]
  },
  {
   "cell_type": "code",
   "execution_count": 95,
   "metadata": {},
   "outputs": [],
   "source": [
    "df_tpt_m['FEDFUNDS_Diff'] = df_tpt_m['FEDFUNDS'].diff()"
   ]
  },
  {
   "cell_type": "code",
   "execution_count": 96,
   "metadata": {},
   "outputs": [],
   "source": [
    "df_tpt_m.to_csv(f\"{bert_models_local}/tpt monthly merged.csv\", index=True)\n",
    "change_df_tpt_m.to_csv(f\"{bert_models_local}/tpt change monthly merged.csv\", index=True)\n"
   ]
  },
  {
   "cell_type": "code",
   "execution_count": 97,
   "metadata": {},
   "outputs": [
    {
     "data": {
      "text/html": [],
      "text/plain": [
       "<IPython.core.display.HTML object>"
      ]
     },
     "metadata": {},
     "output_type": "display_data"
    },
    {
     "data": {
      "application/vnd.jupyter.widget-view+json": {
       "model_id": "c4de4303718c4413bc1b6f17c7859cdf",
       "version_major": 2,
       "version_minor": 0
      },
      "text/plain": [
       "Box(children=(HTML(value='<div id=\"ifr-pyg-6\" style=\"height: auto\">\\n    <head>\\n        <meta http-equiv=\"Con…"
      ]
     },
     "metadata": {},
     "output_type": "display_data"
    },
    {
     "data": {
      "text/html": [
       "<html>\n",
       "<style>\n",
       ".tabs{\n",
       "    position:relative;\n",
       "    height:660px;\n",
       "}\n",
       ".tab-pane{\n",
       "    display:inline-block;\n",
       "}\n",
       ".tabs input[type='radio']{\n",
       "    position:absolute;\n",
       "    clip:rect(0,0,0,0)\n",
       "}\n",
       ".tab-item{\n",
       "    display:block;\n",
       "    height:34px;\n",
       "    line-height:34px;\n",
       "    cursor:pointer;\n",
       "    padding:0 10px\n",
       "}\n",
       "\n",
       ".tabs input[type='radio']:checked+.tab-item{\n",
       "    background:#2563eb;\n",
       "    color:#fff\n",
       "}\n",
       "\n",
       ".tab-content{\n",
       "    display: none;\n",
       "    position:absolute;\n",
       "    left:0;\n",
       "    top:56px;\n",
       "    bottom:0;\n",
       "    right:0;\n",
       "}\n",
       "\n",
       ".tabs input[type='radio']:checked+.tab-item+.tab-content{\n",
       "    display: block;\n",
       "}\n",
       "</style>\n",
       "\n",
       "<body>\n",
       "    <div id=\"pygwalker-preview-6\">\n",
       "        <div class=\"tabs\">\n",
       "            \n",
       "        </div>\n",
       "    </div>\n",
       "</body>\n",
       "</html>"
      ],
      "text/plain": [
       "<IPython.core.display.HTML object>"
      ]
     },
     "metadata": {},
     "output_type": "display_data"
    }
   ],
   "source": [
    "gwalker = pyg.walk(df_tot)"
   ]
  },
  {
   "cell_type": "code",
   "execution_count": 98,
   "metadata": {},
   "outputs": [
    {
     "data": {
      "text/html": [],
      "text/plain": [
       "<IPython.core.display.HTML object>"
      ]
     },
     "metadata": {},
     "output_type": "display_data"
    },
    {
     "data": {
      "application/vnd.jupyter.widget-view+json": {
       "model_id": "85659832ccaa4e5e9453e22b4ae93b3d",
       "version_major": 2,
       "version_minor": 0
      },
      "text/plain": [
       "Box(children=(HTML(value='<div id=\"ifr-pyg-7\" style=\"height: auto\">\\n    <head>\\n        <meta http-equiv=\"Con…"
      ]
     },
     "metadata": {},
     "output_type": "display_data"
    },
    {
     "data": {
      "text/html": [
       "<html>\n",
       "<style>\n",
       ".tabs{\n",
       "    position:relative;\n",
       "    height:660px;\n",
       "}\n",
       ".tab-pane{\n",
       "    display:inline-block;\n",
       "}\n",
       ".tabs input[type='radio']{\n",
       "    position:absolute;\n",
       "    clip:rect(0,0,0,0)\n",
       "}\n",
       ".tab-item{\n",
       "    display:block;\n",
       "    height:34px;\n",
       "    line-height:34px;\n",
       "    cursor:pointer;\n",
       "    padding:0 10px\n",
       "}\n",
       "\n",
       ".tabs input[type='radio']:checked+.tab-item{\n",
       "    background:#2563eb;\n",
       "    color:#fff\n",
       "}\n",
       "\n",
       ".tab-content{\n",
       "    display: none;\n",
       "    position:absolute;\n",
       "    left:0;\n",
       "    top:56px;\n",
       "    bottom:0;\n",
       "    right:0;\n",
       "}\n",
       "\n",
       ".tabs input[type='radio']:checked+.tab-item+.tab-content{\n",
       "    display: block;\n",
       "}\n",
       "</style>\n",
       "\n",
       "<body>\n",
       "    <div id=\"pygwalker-preview-7\">\n",
       "        <div class=\"tabs\">\n",
       "            \n",
       "        </div>\n",
       "    </div>\n",
       "</body>\n",
       "</html>"
      ],
      "text/plain": [
       "<IPython.core.display.HTML object>"
      ]
     },
     "metadata": {},
     "output_type": "display_data"
    }
   ],
   "source": [
    "gwalker = pyg.walk(change_df_tpt_m)\n"
   ]
  }
 ],
 "metadata": {
  "kernelspec": {
   "display_name": "Python 3",
   "language": "python",
   "name": "python3"
  },
  "language_info": {
   "codemirror_mode": {
    "name": "ipython",
    "version": 3
   },
   "file_extension": ".py",
   "mimetype": "text/x-python",
   "name": "python",
   "nbconvert_exporter": "python",
   "pygments_lexer": "ipython3",
   "version": "3.11.4"
  },
  "orig_nbformat": 4
 },
 "nbformat": 4,
 "nbformat_minor": 2
}
