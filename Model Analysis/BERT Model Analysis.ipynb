{
 "cells": [
  {
   "cell_type": "code",
   "execution_count": null,
   "metadata": {},
   "outputs": [],
   "source": [
    "#Base Libraries\n",
    "import os \n",
    "import sys\n",
    "import json\n",
    "import csv\n",
    "\n",
    "#Core Libraries \n",
    "import pandas as pd\n",
    "import numpy as np\n",
    "import matplotlib.pyplot as plt\n",
    "import pygwalker as pyg\n",
    "import datetime as dt\n",
    "#Model Libraries\n",
    "from bertopic import BERTopic\n",
    "from sklearn.metrics.pairwise import cosine_similarity\n",
    "from umap import UMAP\n",
    "import umap.plot\n",
    "from sentence_transformers import SentenceTransformer\n",
    "\n",
    "#ML Libraries\n",
    "import torch \n"
   ]
  },
  {
   "cell_type": "code",
   "execution_count": null,
   "metadata": {},
   "outputs": [],
   "source": [
    "\n",
    "#Importing Configs\n",
    "# Define the path where config.py is located\n",
    "os.chdir('/Users/kylenabors/Documents/GitHub/Finance-ML-Modeling')\n",
    "config_file_path = os.getcwd()\n",
    "print(config_file_path)\n",
    "\n",
    "# Add this path to the sys.path\n",
    "sys.path.append(config_file_path)\n",
    "\n",
    "import config\n",
    "\n",
    "#Configs\n",
    "database_file = config.database\n",
    "database_folder = config.database_folder\n",
    "bert_models = config.bert_models\n",
    "bert_models_local = config.bert_models_local"
   ]
  },
  {
   "cell_type": "code",
   "execution_count": null,
   "metadata": {},
   "outputs": [],
   "source": [
    "Body = 'Fed'\n",
    "Model = 'Beige Book'\n",
    "Model_Subfolder = f'/{Body} Texts/{Model}'\n",
    "Model_Folder = config.texts\n",
    "Model_Folder = Model_Folder + Model_Subfolder\n",
    "print(Model_Folder)\n",
    "\n",
    "df = pd.read_csv(f\"{Model_Folder}/{Model}_texts.csv\")  \n",
    "docs = df[\"segment\"].to_list()\n",
    "timestamps = df['date'].to_list()\n",
    "type = df['type'].to_list()\n",
    "\n",
    "#BERT Models\n",
    "topic_model_Beige_Book = torch.load(f\"{bert_models_local}/topic_model_Beige Book.pt\")\n",
    "topic_model_all = torch.load(f\"{bert_models_local}/topic_model_IMF Stability Reports.pt\")"
   ]
  },
  {
   "cell_type": "code",
   "execution_count": null,
   "metadata": {},
   "outputs": [],
   "source": [
    "topics_over_time = topic_model_Beige_Book.topics_over_time(docs, timestamps, nr_bins=100)\n",
    "\n",
    "df_tot = pd.DataFrame(topics_over_time, columns=['Topic', 'Words', 'Frequency', 'Timestamp'])\n",
    "df_tot['Timestamp'] = pd.to_datetime(df_tot['Timestamp'], format='%Y-%m-%d').dt.to_period('D')\n",
    "df_tot.to_csv(f\"{bert_models_local}/tot.csv\", index=True)"
   ]
  },
  {
   "cell_type": "code",
   "execution_count": null,
   "metadata": {},
   "outputs": [],
   "source": [
    "topics_per_class = topic_model_Beige_Book.topics_per_class(docs, classes = type)\n",
    "print(topics_per_class)\n",
    "\n",
    "# Save topic-terms barcharts as HTML file\n",
    "topic_model_Beige_Book.visualize_barchart(top_n_topics = 100, n_words=8).write_html(f\"{bert_models}/barchart.html\")"
   ]
  },
  {
   "cell_type": "code",
   "execution_count": null,
   "metadata": {},
   "outputs": [],
   "source": [
    "\n",
    "df_tpc = pd.DataFrame(topics_per_class, columns=['Topic', 'Words', 'Frequency', 'Class'])\n",
    "df_tpc.to_csv(f\"{bert_models_local}/tpc.csv\", index=True)"
   ]
  },
  {
   "cell_type": "code",
   "execution_count": null,
   "metadata": {},
   "outputs": [],
   "source": [
    "print(topics_over_time)"
   ]
  },
  {
   "cell_type": "code",
   "execution_count": null,
   "metadata": {},
   "outputs": [],
   "source": [
    "categories_all = df_tpc['Class'].to_list()\n",
    "categories = list(set(categories_all))\n",
    "print(categories)\n",
    "topics = topic_model_all.get_topics()\n",
    "print(topics)"
   ]
  },
  {
   "cell_type": "code",
   "execution_count": null,
   "metadata": {},
   "outputs": [],
   "source": [
    "\n",
    "pivot_df_tot = df_tot.pivot(index='Timestamp', columns='Topic', values='Frequency')\n",
    "\n",
    "pivot_df_tot = pivot_df_tot.fillna(0)\n",
    "print(pivot_df_tot.head())\n",
    "\n",
    "pivot_df_tot.to_csv(f\"{bert_models_local}/pivot_df_tot.csv\", index=True)"
   ]
  },
  {
   "cell_type": "code",
   "execution_count": null,
   "metadata": {},
   "outputs": [],
   "source": [
    "gwalker = pyg.walk(df_tot)"
   ]
  },
  {
   "cell_type": "code",
   "execution_count": null,
   "metadata": {},
   "outputs": [],
   "source": [
    "gwalker = pyg.walk(df_tpc)"
   ]
  },
  {
   "cell_type": "code",
   "execution_count": null,
   "metadata": {},
   "outputs": [],
   "source": [
    "mapper = umap.UMAP().fit(pendigits.data)\n"
   ]
  }
 ],
 "metadata": {
  "kernelspec": {
   "display_name": "Python 3",
   "language": "python",
   "name": "python3"
  },
  "language_info": {
   "codemirror_mode": {
    "name": "ipython",
    "version": 3
   },
   "file_extension": ".py",
   "mimetype": "text/x-python",
   "name": "python",
   "nbconvert_exporter": "python",
   "pygments_lexer": "ipython3",
   "version": "3.11.4"
  },
  "orig_nbformat": 4
 },
 "nbformat": 4,
 "nbformat_minor": 2
}
