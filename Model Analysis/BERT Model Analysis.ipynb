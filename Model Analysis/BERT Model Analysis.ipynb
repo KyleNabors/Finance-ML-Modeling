{
 "cells": [
  {
   "cell_type": "code",
   "execution_count": null,
   "metadata": {},
   "outputs": [],
   "source": [
    "#Base Libraries\n",
    "import os \n",
    "import sys\n",
    "import json\n",
    "import csv\n",
    "\n",
    "#Core Libraries \n",
    "import pandas as pd\n",
    "import numpy as np\n",
    "import matplotlib.pyplot as plt\n",
    "import pygwalker as pyg\n",
    "import datetime as dt\n",
    "#Model Libraries\n",
    "from bertopic import BERTopic\n",
    "from sklearn.metrics.pairwise import cosine_similarity\n",
    "from umap import UMAP\n",
    "from sentence_transformers import SentenceTransformer\n",
    "\n",
    "#ML Libraries\n",
    "import torch \n"
   ]
  },
  {
   "cell_type": "code",
   "execution_count": null,
   "metadata": {},
   "outputs": [],
   "source": [
    "\n",
    "#Importing Configs\n",
    "# Define the path where config.py is located\n",
    "os.chdir('/Users/kylenabors/Documents/GitHub/Finance-ML-Modeling')\n",
    "config_file_path = os.getcwd()\n",
    "print(config_file_path)\n",
    "\n",
    "# Add this path to the sys.path\n",
    "sys.path.append(config_file_path)\n",
    "\n",
    "import config\n",
    "\n",
    "#Configs\n",
    "database_file = config.database\n",
    "database_folder = config.database_folder\n",
    "bert_models = config.bert_models\n",
    "bert_models_local = config.bert_models_local"
   ]
  },
  {
   "cell_type": "code",
   "execution_count": null,
   "metadata": {},
   "outputs": [],
   "source": [
    "df = pd.read_csv(\"/Users/kylenabors/Documents/Database/Training Data/Fed/Mass Fed Data/fomc_documents.csv\")\n",
    "\n",
    "# Specify the year and month you want to start and end processing files from\n",
    "start_year_month_day = '2006-12-31'\n",
    "end_year_month_day = '2023-12-31'\n",
    "df = df[df['meeting_date'] >= start_year_month_day]\n",
    "df = df[df['meeting_date'] <= end_year_month_day]\n",
    "\n",
    "docs = df[\"text\"].to_list()\n",
    "timestamps = df['meeting_date'].to_list()\n",
    "type = df['document_kind'].to_list()\n",
    "\n",
    "#BERT Models\n",
    "topic_model_BB = torch.load(f\"{bert_models_local}/topic_model_fed_BB.pt\")\n",
    "topic_model_all = torch.load(f\"{bert_models_local}/topic_model_fed_all.pt\")"
   ]
  },
  {
   "cell_type": "code",
   "execution_count": null,
   "metadata": {},
   "outputs": [],
   "source": [
    "topics_over_time = topic_model_all.topics_over_time(docs, timestamps, nr_bins=100)\n",
    "\n",
    "df_tot = pd.DataFrame(topics_over_time, columns=['Topic', 'Words', 'Frequency', 'Timestamp'])\n",
    "df_tot['Timestamp'] = pd.to_datetime(df_tot['Timestamp'], format='%Y-%m-%d').dt.to_period('D')\n",
    "df_tot.to_csv(f\"{bert_models_local}/tot.csv\", index=True)"
   ]
  },
  {
   "cell_type": "code",
   "execution_count": null,
   "metadata": {},
   "outputs": [],
   "source": [
    "topics_per_class = topic_model_all.topics_per_class(docs, classes = type)\n",
    "print(topics_per_class)\n",
    "\n",
    "df_tpc = pd.DataFrame(topics_per_class, columns=['Topic', 'Words', 'Frequency', 'Class'])\n",
    "df_tpc.to_csv(f\"{bert_models_local}/tpc.csv\", index=True)"
   ]
  },
  {
   "cell_type": "code",
   "execution_count": 23,
   "metadata": {},
   "outputs": [
    {
     "name": "stdout",
     "output_type": "stream",
     "text": [
      "     Topic                                              Words  Frequency  \\\n",
      "0        0       would, chairman, inflation, forecast, policy          4   \n",
      "1        1                      percent, 2007, q4, 2005, 2000          4   \n",
      "2        2  committee, inflation, moderate, voting, pressures          2   \n",
      "3        3        funds, rate, federal, inflation, securities          2   \n",
      "4        5      open, action, confirmation, market, committee          1   \n",
      "..     ...                                                ...        ...   \n",
      "813      0   inflation, monetary, market, committee, remained          1   \n",
      "814      6       activity, demand, continued, district, sales          2   \n",
      "815      7     reserve, federal, agency, transactions, coupon          2   \n",
      "816     14             powell, think, inflation, going, smith          2   \n",
      "817     21      committee, email, monetary, inflation, policy          2   \n",
      "\n",
      "              Timestamp  \n",
      "0   2007-01-24 23:31:12  \n",
      "1   2007-01-24 23:31:12  \n",
      "2   2007-01-24 23:31:12  \n",
      "3   2007-01-24 23:31:12  \n",
      "4   2007-01-24 23:31:12  \n",
      "..                  ...  \n",
      "813 2023-05-26 19:12:00  \n",
      "814 2023-05-26 19:12:00  \n",
      "815 2023-05-26 19:12:00  \n",
      "816 2023-05-26 19:12:00  \n",
      "817 2023-05-26 19:12:00  \n",
      "\n",
      "[818 rows x 4 columns]\n"
     ]
    }
   ],
   "source": [
    "print(topics_over_time)"
   ]
  },
  {
   "cell_type": "code",
   "execution_count": 29,
   "metadata": {},
   "outputs": [
    {
     "name": "stdout",
     "output_type": "stream",
     "text": [
      "['statement_on_longer_run_goals_and_monetary_policy_strategy', 'agenda', 'tealbook_b', 'greenbook_part_two', 'memos', 'minutes', 'bluebook', 'addendum_to_the_policy_normalization_principles_and_plans', 'statement', 'sep_participant_key', 'presentation_materials', 'tealbook_a', 'transcript', 'accessible_material', 'related_current_faqs', 'policy_normalization_principles_and_plans', 'accessible_version', 'press_conference', 'sep_individual_projections', 'greenbook_part_one', 'greenbook_supplement', 'implementation_note', 'beige_book']\n",
      "{-1: [('tealbook', 0.019951591913217336), ('percent', 0.017696477692526986), ('2011', 0.013827413085096538), ('rate', 0.01343436351637362), ('gdp', 0.012961347400814734), ('inflation', 0.011252880681693455), ('market', 0.0100266714179151), ('economic', 0.010010954127241518), ('treasury', 0.00946476306272693), ('prices', 0.009248623903862895)], 0: [('inflation', 0.012970657793834538), ('chairman', 0.012690541899607553), ('policy', 0.011732607014438274), ('rate', 0.010465567536250943), ('committee', 0.009123119067106987), ('monetary', 0.007706259915470527), ('markets', 0.007696270624684269), ('rates', 0.007556076774571306), ('federal', 0.007497162232647372), ('percent', 0.007393326460600368)], 1: [('tealbook', 0.016311542827469796), ('gdp', 0.014243778954205684), ('annual', 0.013425904655763057), ('rate', 0.013169811774589256), ('2007', 0.012502140598366481), ('prices', 0.011647437722247063), ('2009', 0.011151758504630191), ('2005', 0.00976579161286088), ('percentage', 0.00938582813611572), ('2000', 0.009385486055527067)], 2: [('committee', 0.06501756306455413), ('inflation', 0.03668123557797218), ('federal', 0.030043673036649243), ('securities', 0.025609813526421398), ('funds', 0.02162744893640614), ('agency', 0.020953050566965035), ('mandate', 0.020501229871658942), ('stability', 0.019334947348976436), ('mortgage', 0.017923893855036975), ('fomc', 0.017774809250470685)], 3: [('committee', 0.024713471587527357), ('federal', 0.02452121325316707), ('securities', 0.02246098604640001), ('funds', 0.02152098275672439), ('rate', 0.020248022768254374), ('inflation', 0.016792307161162482), ('reserve', 0.016010724519682027), ('treasury', 0.015183142828740007), ('policymakers', 0.010092530958006269), ('quarter', 0.0096461941365401)], 4: [('district', 0.03389272580533944), ('sales', 0.033335803789371864), ('demand', 0.026411597892471994), ('construction', 0.020828463036707316), ('estate', 0.01960402218763556), ('increased', 0.01860205878762571), ('districts', 0.018432864569615737), ('firms', 0.0171699147928434), ('retail', 0.013445516343108489), ('reports', 0.013217390456735822)], 5: [('open', 0.1262087816948908), ('action', 0.12058521003857409), ('committee', 0.09278744341742184), ('staff', 0.09257781484948271), ('developments', 0.09132018211261543), ('operations', 0.08607548694512257), ('market', 0.08355092877782815), ('meeting', 0.07555923891525536), ('directive', 0.06220150978586694), ('transactions', 0.05327709604429228)], 6: [('activity', 0.02909775498133378), ('demand', 0.025612435551059964), ('district', 0.02539297305167509), ('sales', 0.023325866763168186), ('increased', 0.023226892415227924), ('retail', 0.014477429148402438), ('moderately', 0.01439227671674716), ('levels', 0.013840339393344153), ('growth', 0.01381336264663728), ('wages', 0.013718457750464555)], 7: [('reserve', 0.09211422694974686), ('federal', 0.08742401677918538), ('agency', 0.061985728245949216), ('securities', 0.05165918822694018), ('decisions', 0.04331454710691984), ('transactions', 0.041443704590515044), ('repurchase', 0.03787768733232516), ('holdings', 0.03575424164552419), ('operational', 0.03456417041856812), ('committee', 0.03408171984959777)], 8: [('securities', 0.03047703425599278), ('agency', 0.02844059909176503), ('federal', 0.02437914290021744), ('inflation', 0.022576306646589505), ('mortgage', 0.020429919115404965), ('rate', 0.016640282095496523), ('maintain', 0.016157055804565865), ('funds', 0.015584288408002002), ('treasury', 0.014883921251664867), ('mandate', 0.013965064227780218)], 9: [('committee', 0.03643596633609554), ('securities', 0.027407460242383223), ('federal', 0.023008052149975512), ('fomc', 0.01996197306730266), ('treasury', 0.019141588245983783), ('reserve', 0.01885535162610794), ('stability', 0.017210881020851797), ('inflation', 0.01558221179680303), ('market', 0.013977770268791939), ('horizon', 0.013869612516471638)], 10: [('growth', 0.02929411508936314), ('projections', 0.02701198002126166), ('unemployment', 0.02641685040308529), ('forecast', 0.026161815895940795), ('uncertainty', 0.020231818739157758), ('policy', 0.018443631903065888), ('gdp', 0.016379098038347407), ('2015', 0.014147633638589974), ('expect', 0.01363049684287069), ('lr', 0.0136298785115997)], 11: [('goods', 0.01598506698472126), ('percent', 0.014822974083330774), ('2000', 0.013676035966535141), ('2007', 0.013470702961342743), ('annual', 0.01326471720098246), ('2004', 0.013012246980573591), ('federal', 0.012338361190935159), ('rate', 0.011117503710416041), ('fomc', 0.010273891489572605), ('index', 0.009789165949009221)], 12: [('myplayer', 0.5031799274524226), ('custom_fields', 0.27692525939498264), ('mediainfo', 0.27692525939498264), ('videoinfo', 0.1944801848992882), ('transcriptlinklabel', 0.1944801848992882), ('pdf', 0.14964098156976574), ('actualdatetext', 0.10564488472147868), ('transcripttext', 0.10564488472147868), ('addeventlistener', 0.05699498073468252), ('domcontentloaded', 0.05699498073468252)], 13: [('frb', 0.4992127612799912), ('participant', 0.2154829517471542), ('governors', 0.2007259767652149), ('charles', 0.11995299184798829), ('affiliation', 0.0881459880388955), ('dennis', 0.06918934695098049), ('jeffrey', 0.0691115530506181), ('richard', 0.06386476417852198), ('rosengren', 0.049867991585306616), ('duke', 0.04690438781500549)], 14: [('powell', 0.044070179393136746), ('think', 0.03228162977645208), ('chair', 0.025838307392580834), ('inflation', 0.023316572543486663), ('economy', 0.019881914459040875), ('policy', 0.01655674852369517), ('fed', 0.015167114308829449), ('thing', 0.013744084473109179), ('mentioned', 0.012315732862191798), ('like', 0.011713299380301174)], 15: [('powell', 0.03865170723169182), ('economy', 0.02587602910013689), ('think', 0.024885454315004572), ('michelle', 0.02380182162595539), ('smith', 0.022527059170520534), ('going', 0.02211434647244029), ('inflation', 0.015345373339534457), ('fed', 0.015276626961275375), ('pandemic', 0.01283419211138479), ('policy', 0.011887371890485323)], 16: [('01', 0.15759953229814522), ('08', 0.11776139827431985), ('07', 0.08783568666234924), ('09', 0.0427364872399282), ('2007', 0.03727468285404953), ('bps', 0.024217187803201395), ('bloomberg', 0.019230738392340584), ('january', 0.017977795555264547), ('02', 0.016939376827218817), ('reserve', 0.01692301174469998)], 17: [('committee', 0.05937991734532601), ('maximum', 0.04576118395952296), ('employment', 0.04474805065671365), ('goals', 0.04463439188746), ('inflation', 0.03853656660977275), ('economy', 0.03495658454559853), ('households', 0.0318463801202439), ('achieve', 0.02867825171534337), ('policy', 0.02807254517525828), ('assessments', 0.024169168455909534)], 18: [('projections', 0.16664907647400795), ('table', 0.13860286850995837), ('variables', 0.11154364615713684), ('pce', 0.08272356593189417), ('histograms', 0.07680379549866012), ('annualized', 0.06941053846039368), ('inflation', 0.047216200139992115), ('notes', 0.03652210336587478), ('assessment', 0.035926744417256115), ('expenditures', 0.033990883107659194)], 19: [('committee', 0.0599943389880309), ('currency', 0.03214004795038298), ('federal', 0.030199646241479843), ('bank', 0.029323464829692353), ('transactions', 0.024057101339999647), ('account', 0.021564980965426625), ('reserve', 0.01852609897316265), ('subcommittee', 0.01797956089597634), ('securities', 0.017367170066831993), ('agency', 0.013879791561815352)], 20: [('2008', 0.06478844068899056), ('series', 0.05674616761337323), ('horizon', 0.0547927307349248), ('2007', 0.029174011081019857), ('spreads', 0.026828418558915854), ('reserve', 0.02355217955013288), ('bloomberg', 0.023513699176774025), ('federal', 0.02231552623100688), ('chart', 0.02161910221595371), ('fomc', 0.017316916756899635)], 21: [('committee', 0.08858551334768348), ('monetary', 0.058532702584231766), ('inflation', 0.05085195949516933), ('email', 0.05062235232684792), ('range', 0.04506623056769327), ('policy', 0.04229176243931045), ('philip', 0.034540346104874095), ('cook', 0.03404845096606853), ('implications', 0.032984453511984604), ('target', 0.03172867237179134)], 22: [('pdf', 0.23152399014956665), ('nbsp', 0.12628653628136946), ('dsge', 0.04112454564958507), ('fomc', 0.027850894568582533), ('monetary', 0.020370637650856428), ('federal', 0.01955152543690234), ('reserve', 0.016744262748110045), ('memos', 0.0164118432241716), ('securities', 0.01532127785922149), ('inflation', 0.014362770017621984)], 23: [('districts', 0.11128088768973919), ('dallas', 0.06617222049913532), ('city', 0.06223853222213461), ('chicago', 0.05563877098061282), ('atlanta', 0.05210318413912739), ('philadelphia', 0.04356301408089435), ('minneapolis', 0.04127629553191956), ('district', 0.03533112657356037), ('sales', 0.031199002603605936), ('demand', 0.02781564139823015)], 24: [('bank', 0.30397777955584987), ('reserve', 0.263177340145504), ('participant', 0.19119897481228973), ('members', 0.17240476681807126), ('board', 0.1283675930656217), ('affiliation', 0.0782123245027237), ('anonymous', 0.0759167475924653), ('loretta', 0.059611805263011304), ('kaplan', 0.05785277497679225), ('brainard', 0.05339651977160425)], 25: [('sp', 0.043624081788006655), ('growth', 0.029409339529120268), ('projections', 0.02892588569396274), ('forecast', 0.028038072533496227), ('unemployment', 0.02437041468196736), ('inflation', 0.02381740920236647), ('2014', 0.018127565221034134), ('uncertainty', 0.01775748744937795), ('gdp', 0.015486340728504857), ('policy', 0.014856067817829355)], 26: [('securities', 0.029200777049592477), ('federal', 0.024344533974390233), ('reserve', 0.02329643357180111), ('bank', 0.021193093226284137), ('treasury', 0.0202075389428899), ('return', 0.017772880359410506), ('mortgage', 0.015716763310871823), ('debt', 0.015011979101297899), ('fomc', 0.014719863668500102), ('maturities', 0.01436105557644443)], 27: [('projections', 0.06455841155481522), ('participants', 0.04708407750340552), ('judgment', 0.0457479362859979), ('table', 0.037423152066649354), ('uncertainty', 0.03720633407158543), ('pce', 0.03431488283161408), ('reserve', 0.022647888005232014), ('securities', 0.022234766852149326), ('value', 0.02101665197234899), ('data', 0.019250795411625696)], 28: [('committee', 0.079627800052176), ('assessments', 0.0753506901189967), ('employment', 0.0657781028720779), ('monetary', 0.056462521431794595), ('goals', 0.051208607509446405), ('disturbances', 0.04536290758011493), ('mandate', 0.03620879486369391), ('inflation', 0.03469239321663096), ('rates', 0.029995811494950644), ('fomc', 0.028566030959792325)], 29: [('2009', 0.04231614107400292), ('greenbook', 0.04053992736416756), ('inflation', 0.038638311875674534), ('forecast', 0.028620574274750166), ('pce', 0.023392930103407938), ('gdp', 0.020772986075185403), ('financial', 0.019609482697803614), ('housing', 0.018870223208300632), ('economy', 0.017423901385851592), ('risks', 0.016503012376575105)], 30: [('07', 0.08728885389933698), ('horizon', 0.04092664622839866), ('bloomberg', 0.028522165223604793), ('fomc', 0.028419937184270317), ('chart', 0.026745650255437296), ('eurodollar', 0.025263437340611407), ('abx', 0.023569181754629447), ('subprime', 0.021361630429604712), ('futures', 0.021034573316349066), ('equity', 0.018585135222621296)]}\n"
     ]
    }
   ],
   "source": [
    "categories_all = df_tpc['Class'].to_list()\n",
    "categories = list(set(categories_all))\n",
    "print(categories)\n",
    "topics = topic_model_all.get_topics()\n",
    "print(topics)"
   ]
  },
  {
   "cell_type": "code",
   "execution_count": 30,
   "metadata": {},
   "outputs": [
    {
     "ename": "ValueError",
     "evalue": "All arrays must be of the same length",
     "output_type": "error",
     "traceback": [
      "\u001b[0;31m---------------------------------------------------------------------------\u001b[0m",
      "\u001b[0;31mValueError\u001b[0m                                Traceback (most recent call last)",
      "\u001b[1;32m/Users/kylenabors/Documents/GitHub/Finance-ML-Modeling/Model Analysis/BERT Model Analysis.ipynb Cell 8\u001b[0m line \u001b[0;36m3\n\u001b[1;32m      <a href='vscode-notebook-cell:/Users/kylenabors/Documents/GitHub/Finance-ML-Modeling/Model%20Analysis/BERT%20Model%20Analysis.ipynb#X20sZmlsZQ%3D%3D?line=0'>1</a>\u001b[0m TEST \u001b[39m=\u001b[39m pd\u001b[39m.\u001b[39mDataFrame(columns\u001b[39m=\u001b[39m[\u001b[39m'\u001b[39m\u001b[39mTopic\u001b[39m\u001b[39m'\u001b[39m, \u001b[39m'\u001b[39m\u001b[39mWords\u001b[39m\u001b[39m'\u001b[39m, \u001b[39m'\u001b[39m\u001b[39mFrequency\u001b[39m\u001b[39m'\u001b[39m, \u001b[39m'\u001b[39m\u001b[39mTimestamp\u001b[39m\u001b[39m'\u001b[39m, \u001b[39m'\u001b[39m\u001b[39mClass\u001b[39m\u001b[39m'\u001b[39m])\n\u001b[1;32m      <a href='vscode-notebook-cell:/Users/kylenabors/Documents/GitHub/Finance-ML-Modeling/Model%20Analysis/BERT%20Model%20Analysis.ipynb#X20sZmlsZQ%3D%3D?line=1'>2</a>\u001b[0m \u001b[39mfor\u001b[39;00m category \u001b[39min\u001b[39;00m categories:\n\u001b[0;32m----> <a href='vscode-notebook-cell:/Users/kylenabors/Documents/GitHub/Finance-ML-Modeling/Model%20Analysis/BERT%20Model%20Analysis.ipynb#X20sZmlsZQ%3D%3D?line=2'>3</a>\u001b[0m     documents \u001b[39m=\u001b[39m pd\u001b[39m.\u001b[39;49mDataFrame({\u001b[39m\"\u001b[39;49m\u001b[39mDocument\u001b[39;49m\u001b[39m\"\u001b[39;49m: docs,\n\u001b[1;32m      <a href='vscode-notebook-cell:/Users/kylenabors/Documents/GitHub/Finance-ML-Modeling/Model%20Analysis/BERT%20Model%20Analysis.ipynb#X20sZmlsZQ%3D%3D?line=3'>4</a>\u001b[0m                           \u001b[39m\"\u001b[39;49m\u001b[39mID\u001b[39;49m\u001b[39m\"\u001b[39;49m: \u001b[39mrange\u001b[39;49m(\u001b[39mlen\u001b[39;49m(docs)),\n\u001b[1;32m      <a href='vscode-notebook-cell:/Users/kylenabors/Documents/GitHub/Finance-ML-Modeling/Model%20Analysis/BERT%20Model%20Analysis.ipynb#X20sZmlsZQ%3D%3D?line=4'>5</a>\u001b[0m                           \u001b[39m\"\u001b[39;49m\u001b[39mTopic\u001b[39;49m\u001b[39m\"\u001b[39;49m: topics,\n\u001b[1;32m      <a href='vscode-notebook-cell:/Users/kylenabors/Documents/GitHub/Finance-ML-Modeling/Model%20Analysis/BERT%20Model%20Analysis.ipynb#X20sZmlsZQ%3D%3D?line=5'>6</a>\u001b[0m                           \u001b[39m\"\u001b[39;49m\u001b[39mCategory\u001b[39;49m\u001b[39m\"\u001b[39;49m: categories_all})\n\u001b[1;32m      <a href='vscode-notebook-cell:/Users/kylenabors/Documents/GitHub/Finance-ML-Modeling/Model%20Analysis/BERT%20Model%20Analysis.ipynb#X20sZmlsZQ%3D%3D?line=7'>8</a>\u001b[0m     subset \u001b[39m=\u001b[39m documents\u001b[39m.\u001b[39mloc[documents\u001b[39m.\u001b[39mCategory \u001b[39m==\u001b[39m \u001b[39mf\u001b[39m\u001b[39m'\u001b[39m\u001b[39m{\u001b[39;00mcategory\u001b[39m}\u001b[39;00m\u001b[39m'\u001b[39m, :]\n\u001b[1;32m      <a href='vscode-notebook-cell:/Users/kylenabors/Documents/GitHub/Finance-ML-Modeling/Model%20Analysis/BERT%20Model%20Analysis.ipynb#X20sZmlsZQ%3D%3D?line=8'>9</a>\u001b[0m     subset_labels \u001b[39m=\u001b[39m \u001b[39msorted\u001b[39m(\u001b[39mlist\u001b[39m(subset\u001b[39m.\u001b[39mTopic\u001b[39m.\u001b[39munique()))\n",
      "File \u001b[0;32m/Library/Frameworks/Python.framework/Versions/3.11/lib/python3.11/site-packages/pandas/core/frame.py:709\u001b[0m, in \u001b[0;36mDataFrame.__init__\u001b[0;34m(self, data, index, columns, dtype, copy)\u001b[0m\n\u001b[1;32m    703\u001b[0m     mgr \u001b[39m=\u001b[39m \u001b[39mself\u001b[39m\u001b[39m.\u001b[39m_init_mgr(\n\u001b[1;32m    704\u001b[0m         data, axes\u001b[39m=\u001b[39m{\u001b[39m\"\u001b[39m\u001b[39mindex\u001b[39m\u001b[39m\"\u001b[39m: index, \u001b[39m\"\u001b[39m\u001b[39mcolumns\u001b[39m\u001b[39m\"\u001b[39m: columns}, dtype\u001b[39m=\u001b[39mdtype, copy\u001b[39m=\u001b[39mcopy\n\u001b[1;32m    705\u001b[0m     )\n\u001b[1;32m    707\u001b[0m \u001b[39melif\u001b[39;00m \u001b[39misinstance\u001b[39m(data, \u001b[39mdict\u001b[39m):\n\u001b[1;32m    708\u001b[0m     \u001b[39m# GH#38939 de facto copy defaults to False only in non-dict cases\u001b[39;00m\n\u001b[0;32m--> 709\u001b[0m     mgr \u001b[39m=\u001b[39m dict_to_mgr(data, index, columns, dtype\u001b[39m=\u001b[39;49mdtype, copy\u001b[39m=\u001b[39;49mcopy, typ\u001b[39m=\u001b[39;49mmanager)\n\u001b[1;32m    710\u001b[0m \u001b[39melif\u001b[39;00m \u001b[39misinstance\u001b[39m(data, ma\u001b[39m.\u001b[39mMaskedArray):\n\u001b[1;32m    711\u001b[0m     \u001b[39mfrom\u001b[39;00m \u001b[39mnumpy\u001b[39;00m\u001b[39m.\u001b[39;00m\u001b[39mma\u001b[39;00m \u001b[39mimport\u001b[39;00m mrecords\n",
      "File \u001b[0;32m/Library/Frameworks/Python.framework/Versions/3.11/lib/python3.11/site-packages/pandas/core/internals/construction.py:481\u001b[0m, in \u001b[0;36mdict_to_mgr\u001b[0;34m(data, index, columns, dtype, typ, copy)\u001b[0m\n\u001b[1;32m    477\u001b[0m     \u001b[39melse\u001b[39;00m:\n\u001b[1;32m    478\u001b[0m         \u001b[39m# dtype check to exclude e.g. range objects, scalars\u001b[39;00m\n\u001b[1;32m    479\u001b[0m         arrays \u001b[39m=\u001b[39m [x\u001b[39m.\u001b[39mcopy() \u001b[39mif\u001b[39;00m \u001b[39mhasattr\u001b[39m(x, \u001b[39m\"\u001b[39m\u001b[39mdtype\u001b[39m\u001b[39m\"\u001b[39m) \u001b[39melse\u001b[39;00m x \u001b[39mfor\u001b[39;00m x \u001b[39min\u001b[39;00m arrays]\n\u001b[0;32m--> 481\u001b[0m \u001b[39mreturn\u001b[39;00m arrays_to_mgr(arrays, columns, index, dtype\u001b[39m=\u001b[39;49mdtype, typ\u001b[39m=\u001b[39;49mtyp, consolidate\u001b[39m=\u001b[39;49mcopy)\n",
      "File \u001b[0;32m/Library/Frameworks/Python.framework/Versions/3.11/lib/python3.11/site-packages/pandas/core/internals/construction.py:115\u001b[0m, in \u001b[0;36marrays_to_mgr\u001b[0;34m(arrays, columns, index, dtype, verify_integrity, typ, consolidate)\u001b[0m\n\u001b[1;32m    112\u001b[0m \u001b[39mif\u001b[39;00m verify_integrity:\n\u001b[1;32m    113\u001b[0m     \u001b[39m# figure out the index, if necessary\u001b[39;00m\n\u001b[1;32m    114\u001b[0m     \u001b[39mif\u001b[39;00m index \u001b[39mis\u001b[39;00m \u001b[39mNone\u001b[39;00m:\n\u001b[0;32m--> 115\u001b[0m         index \u001b[39m=\u001b[39m _extract_index(arrays)\n\u001b[1;32m    116\u001b[0m     \u001b[39melse\u001b[39;00m:\n\u001b[1;32m    117\u001b[0m         index \u001b[39m=\u001b[39m ensure_index(index)\n",
      "File \u001b[0;32m/Library/Frameworks/Python.framework/Versions/3.11/lib/python3.11/site-packages/pandas/core/internals/construction.py:655\u001b[0m, in \u001b[0;36m_extract_index\u001b[0;34m(data)\u001b[0m\n\u001b[1;32m    653\u001b[0m lengths \u001b[39m=\u001b[39m \u001b[39mlist\u001b[39m(\u001b[39mset\u001b[39m(raw_lengths))\n\u001b[1;32m    654\u001b[0m \u001b[39mif\u001b[39;00m \u001b[39mlen\u001b[39m(lengths) \u001b[39m>\u001b[39m \u001b[39m1\u001b[39m:\n\u001b[0;32m--> 655\u001b[0m     \u001b[39mraise\u001b[39;00m \u001b[39mValueError\u001b[39;00m(\u001b[39m\"\u001b[39m\u001b[39mAll arrays must be of the same length\u001b[39m\u001b[39m\"\u001b[39m)\n\u001b[1;32m    657\u001b[0m \u001b[39mif\u001b[39;00m have_dicts:\n\u001b[1;32m    658\u001b[0m     \u001b[39mraise\u001b[39;00m \u001b[39mValueError\u001b[39;00m(\n\u001b[1;32m    659\u001b[0m         \u001b[39m\"\u001b[39m\u001b[39mMixing dicts with non-Series may lead to ambiguous ordering.\u001b[39m\u001b[39m\"\u001b[39m\n\u001b[1;32m    660\u001b[0m     )\n",
      "\u001b[0;31mValueError\u001b[0m: All arrays must be of the same length"
     ]
    }
   ],
   "source": [
    "\n",
    "TEST = pd.DataFrame(columns=['Topic', 'Words', 'Frequency', 'Timestamp', 'Class'])\n",
    "for category in categories:\n",
    "    documents = pd.DataFrame({\"Document\": docs,\n",
    "                          \"ID\": range(len(docs)),\n",
    "                          \"Topic\": topics,\n",
    "                          \"Category\": categories_all})\n",
    "    \n",
    "    subset = documents.loc[documents.Category == f'{category}', :]\n",
    "    subset_labels = sorted(list(subset.Topic.unique()))\n",
    "    # First, we group the documents per topic\n",
    "    documents_per_topic = subset.groupby(['Topic'], as_index=False).agg({'Document': ' '.join})\n",
    "\n",
    "    # Then we calculate the c-TF-IDF representation but we do not fit this method \n",
    "    # as it was already fitted on the entire dataset\n",
    "    topic_model_all.c_tf_idf, words = topic_model_all._c_tf_idf(documents_per_topic, fit=False)\n",
    "\n",
    "    # Lastly, we extract the words per topic based on the subset_labels,\n",
    "    # and we update the topic size to correspond with the subset\n",
    "    topic_model_all.topics = topic_model_all._extract_words_per_topic(words, labels=subset_labels)\n",
    "    topic_model_all._create_topic_vectors()\n",
    "    topic_model_all.topic_names = {key: f\"{key}_\" + \"_\".join([word[0] for word in values[:4]])\n",
    "                        for key, values in\n",
    "                        topic_model_all.topics.items()}\n",
    "    topic_model._update_topic_size(subset)"
   ]
  },
  {
   "cell_type": "code",
   "execution_count": 26,
   "metadata": {},
   "outputs": [
    {
     "ename": "ValueError",
     "evalue": "All arrays must be of the same length",
     "output_type": "error",
     "traceback": [
      "\u001b[0;31m---------------------------------------------------------------------------\u001b[0m",
      "\u001b[0;31mValueError\u001b[0m                                Traceback (most recent call last)",
      "\u001b[1;32m/Users/kylenabors/Documents/GitHub/Finance-ML-Modeling/Model Analysis/BERT Model Analysis.ipynb Cell 8\u001b[0m line \u001b[0;36m3\n\u001b[1;32m      <a href='vscode-notebook-cell:/Users/kylenabors/Documents/GitHub/Finance-ML-Modeling/Model%20Analysis/BERT%20Model%20Analysis.ipynb#X13sZmlsZQ%3D%3D?line=0'>1</a>\u001b[0m TEST \u001b[39m=\u001b[39m pd\u001b[39m.\u001b[39mDataFrame(columns\u001b[39m=\u001b[39m[\u001b[39m'\u001b[39m\u001b[39mTopic\u001b[39m\u001b[39m'\u001b[39m, \u001b[39m'\u001b[39m\u001b[39mWords\u001b[39m\u001b[39m'\u001b[39m, \u001b[39m'\u001b[39m\u001b[39mFrequency\u001b[39m\u001b[39m'\u001b[39m, \u001b[39m'\u001b[39m\u001b[39mTimestamp\u001b[39m\u001b[39m'\u001b[39m, \u001b[39m'\u001b[39m\u001b[39mClass\u001b[39m\u001b[39m'\u001b[39m])\n\u001b[1;32m      <a href='vscode-notebook-cell:/Users/kylenabors/Documents/GitHub/Finance-ML-Modeling/Model%20Analysis/BERT%20Model%20Analysis.ipynb#X13sZmlsZQ%3D%3D?line=1'>2</a>\u001b[0m \u001b[39mfor\u001b[39;00m category \u001b[39min\u001b[39;00m categories:\n\u001b[0;32m----> <a href='vscode-notebook-cell:/Users/kylenabors/Documents/GitHub/Finance-ML-Modeling/Model%20Analysis/BERT%20Model%20Analysis.ipynb#X13sZmlsZQ%3D%3D?line=2'>3</a>\u001b[0m     documents \u001b[39m=\u001b[39m pd\u001b[39m.\u001b[39;49mDataFrame({\u001b[39m\"\u001b[39;49m\u001b[39mDocument\u001b[39;49m\u001b[39m\"\u001b[39;49m: docs,\n\u001b[1;32m      <a href='vscode-notebook-cell:/Users/kylenabors/Documents/GitHub/Finance-ML-Modeling/Model%20Analysis/BERT%20Model%20Analysis.ipynb#X13sZmlsZQ%3D%3D?line=3'>4</a>\u001b[0m                           \u001b[39m\"\u001b[39;49m\u001b[39mID\u001b[39;49m\u001b[39m\"\u001b[39;49m: \u001b[39mrange\u001b[39;49m(\u001b[39mlen\u001b[39;49m(docs)),\n\u001b[1;32m      <a href='vscode-notebook-cell:/Users/kylenabors/Documents/GitHub/Finance-ML-Modeling/Model%20Analysis/BERT%20Model%20Analysis.ipynb#X13sZmlsZQ%3D%3D?line=4'>5</a>\u001b[0m                           \u001b[39m\"\u001b[39;49m\u001b[39mTopic\u001b[39;49m\u001b[39m\"\u001b[39;49m: topics,\n\u001b[1;32m      <a href='vscode-notebook-cell:/Users/kylenabors/Documents/GitHub/Finance-ML-Modeling/Model%20Analysis/BERT%20Model%20Analysis.ipynb#X13sZmlsZQ%3D%3D?line=5'>6</a>\u001b[0m                           \u001b[39m\"\u001b[39;49m\u001b[39mCategory\u001b[39;49m\u001b[39m\"\u001b[39;49m: categories})\n\u001b[1;32m     <a href='vscode-notebook-cell:/Users/kylenabors/Documents/GitHub/Finance-ML-Modeling/Model%20Analysis/BERT%20Model%20Analysis.ipynb#X13sZmlsZQ%3D%3D?line=11'>12</a>\u001b[0m     sub_df \u001b[39m=\u001b[39m df[df[\u001b[39m'\u001b[39m\u001b[39mdocument_kind\u001b[39m\u001b[39m'\u001b[39m] \u001b[39m==\u001b[39m \u001b[39mf\u001b[39m\u001b[39m'\u001b[39m\u001b[39m{\u001b[39;00mcategory\u001b[39m}\u001b[39;00m\u001b[39m'\u001b[39m]\n\u001b[1;32m     <a href='vscode-notebook-cell:/Users/kylenabors/Documents/GitHub/Finance-ML-Modeling/Model%20Analysis/BERT%20Model%20Analysis.ipynb#X13sZmlsZQ%3D%3D?line=12'>13</a>\u001b[0m     \u001b[39m# Specify the year and month you want to start and end processing files from\u001b[39;00m\n",
      "File \u001b[0;32m/Library/Frameworks/Python.framework/Versions/3.11/lib/python3.11/site-packages/pandas/core/frame.py:709\u001b[0m, in \u001b[0;36mDataFrame.__init__\u001b[0;34m(self, data, index, columns, dtype, copy)\u001b[0m\n\u001b[1;32m    703\u001b[0m     mgr \u001b[39m=\u001b[39m \u001b[39mself\u001b[39m\u001b[39m.\u001b[39m_init_mgr(\n\u001b[1;32m    704\u001b[0m         data, axes\u001b[39m=\u001b[39m{\u001b[39m\"\u001b[39m\u001b[39mindex\u001b[39m\u001b[39m\"\u001b[39m: index, \u001b[39m\"\u001b[39m\u001b[39mcolumns\u001b[39m\u001b[39m\"\u001b[39m: columns}, dtype\u001b[39m=\u001b[39mdtype, copy\u001b[39m=\u001b[39mcopy\n\u001b[1;32m    705\u001b[0m     )\n\u001b[1;32m    707\u001b[0m \u001b[39melif\u001b[39;00m \u001b[39misinstance\u001b[39m(data, \u001b[39mdict\u001b[39m):\n\u001b[1;32m    708\u001b[0m     \u001b[39m# GH#38939 de facto copy defaults to False only in non-dict cases\u001b[39;00m\n\u001b[0;32m--> 709\u001b[0m     mgr \u001b[39m=\u001b[39m dict_to_mgr(data, index, columns, dtype\u001b[39m=\u001b[39;49mdtype, copy\u001b[39m=\u001b[39;49mcopy, typ\u001b[39m=\u001b[39;49mmanager)\n\u001b[1;32m    710\u001b[0m \u001b[39melif\u001b[39;00m \u001b[39misinstance\u001b[39m(data, ma\u001b[39m.\u001b[39mMaskedArray):\n\u001b[1;32m    711\u001b[0m     \u001b[39mfrom\u001b[39;00m \u001b[39mnumpy\u001b[39;00m\u001b[39m.\u001b[39;00m\u001b[39mma\u001b[39;00m \u001b[39mimport\u001b[39;00m mrecords\n",
      "File \u001b[0;32m/Library/Frameworks/Python.framework/Versions/3.11/lib/python3.11/site-packages/pandas/core/internals/construction.py:481\u001b[0m, in \u001b[0;36mdict_to_mgr\u001b[0;34m(data, index, columns, dtype, typ, copy)\u001b[0m\n\u001b[1;32m    477\u001b[0m     \u001b[39melse\u001b[39;00m:\n\u001b[1;32m    478\u001b[0m         \u001b[39m# dtype check to exclude e.g. range objects, scalars\u001b[39;00m\n\u001b[1;32m    479\u001b[0m         arrays \u001b[39m=\u001b[39m [x\u001b[39m.\u001b[39mcopy() \u001b[39mif\u001b[39;00m \u001b[39mhasattr\u001b[39m(x, \u001b[39m\"\u001b[39m\u001b[39mdtype\u001b[39m\u001b[39m\"\u001b[39m) \u001b[39melse\u001b[39;00m x \u001b[39mfor\u001b[39;00m x \u001b[39min\u001b[39;00m arrays]\n\u001b[0;32m--> 481\u001b[0m \u001b[39mreturn\u001b[39;00m arrays_to_mgr(arrays, columns, index, dtype\u001b[39m=\u001b[39;49mdtype, typ\u001b[39m=\u001b[39;49mtyp, consolidate\u001b[39m=\u001b[39;49mcopy)\n",
      "File \u001b[0;32m/Library/Frameworks/Python.framework/Versions/3.11/lib/python3.11/site-packages/pandas/core/internals/construction.py:115\u001b[0m, in \u001b[0;36marrays_to_mgr\u001b[0;34m(arrays, columns, index, dtype, verify_integrity, typ, consolidate)\u001b[0m\n\u001b[1;32m    112\u001b[0m \u001b[39mif\u001b[39;00m verify_integrity:\n\u001b[1;32m    113\u001b[0m     \u001b[39m# figure out the index, if necessary\u001b[39;00m\n\u001b[1;32m    114\u001b[0m     \u001b[39mif\u001b[39;00m index \u001b[39mis\u001b[39;00m \u001b[39mNone\u001b[39;00m:\n\u001b[0;32m--> 115\u001b[0m         index \u001b[39m=\u001b[39m _extract_index(arrays)\n\u001b[1;32m    116\u001b[0m     \u001b[39melse\u001b[39;00m:\n\u001b[1;32m    117\u001b[0m         index \u001b[39m=\u001b[39m ensure_index(index)\n",
      "File \u001b[0;32m/Library/Frameworks/Python.framework/Versions/3.11/lib/python3.11/site-packages/pandas/core/internals/construction.py:655\u001b[0m, in \u001b[0;36m_extract_index\u001b[0;34m(data)\u001b[0m\n\u001b[1;32m    653\u001b[0m lengths \u001b[39m=\u001b[39m \u001b[39mlist\u001b[39m(\u001b[39mset\u001b[39m(raw_lengths))\n\u001b[1;32m    654\u001b[0m \u001b[39mif\u001b[39;00m \u001b[39mlen\u001b[39m(lengths) \u001b[39m>\u001b[39m \u001b[39m1\u001b[39m:\n\u001b[0;32m--> 655\u001b[0m     \u001b[39mraise\u001b[39;00m \u001b[39mValueError\u001b[39;00m(\u001b[39m\"\u001b[39m\u001b[39mAll arrays must be of the same length\u001b[39m\u001b[39m\"\u001b[39m)\n\u001b[1;32m    657\u001b[0m \u001b[39mif\u001b[39;00m have_dicts:\n\u001b[1;32m    658\u001b[0m     \u001b[39mraise\u001b[39;00m \u001b[39mValueError\u001b[39;00m(\n\u001b[1;32m    659\u001b[0m         \u001b[39m\"\u001b[39m\u001b[39mMixing dicts with non-Series may lead to ambiguous ordering.\u001b[39m\u001b[39m\"\u001b[39m\n\u001b[1;32m    660\u001b[0m     )\n",
      "\u001b[0;31mValueError\u001b[0m: All arrays must be of the same length"
     ]
    }
   ],
   "source": [
    "\n",
    "TEST = pd.DataFrame(columns=['Topic', 'Words', 'Frequency', 'Timestamp', 'Class'])\n",
    "for category in categories:\n",
    "    \n",
    "    sub_df = df[df['document_kind'] == f'{category}']\n",
    "    # Specify the year and month you want to start and end processing files from\n",
    "    start_year_month_day = '2006-12-31'\n",
    "    end_year_month_day = '2023-12-31'\n",
    "    sub_df = sub_df[sub_df['meeting_date'] >= start_year_month_day]\n",
    "    sub_df = sub_df[sub_df['meeting_date'] <= end_year_month_day]\n",
    "\n",
    "    sub_docs = sub_df[\"text\"].to_list()\n",
    "    sub_timestamps = sub_df['meeting_date'].to_list()\n",
    "    sub_type = sub_df['document_kind'].to_list()\n",
    "    topic_model_all.update_topics(sub_docs, sub_timestamps, sub_type)\n",
    "    topics_over_time = topic_model_all.topics_over_time(sub_docs, sub_timestamps, nr_bins=100)\n"
   ]
  },
  {
   "cell_type": "code",
   "execution_count": 21,
   "metadata": {},
   "outputs": [
    {
     "name": "stdout",
     "output_type": "stream",
     "text": [
      "Topic       -1    0    1    2    3    4    5    6    7    8   ...   21   22  \\\n",
      "Timestamp                                                     ...             \n",
      "2007-01-24  0.0  4.0  4.0  2.0  2.0  0.0  1.0  0.0  0.0  0.0  ...  0.0  1.0   \n",
      "2007-04-01  1.0  2.0  2.0  1.0  1.0  0.0  1.0  0.0  0.0  0.0  ...  0.0  0.0   \n",
      "2007-05-31  0.0  2.0  2.0  1.0  1.0  0.0  1.0  0.0  0.0  0.0  ...  0.0  0.0   \n",
      "2007-07-30  0.0  6.0  4.0  4.0  2.0  0.0  2.0  0.0  0.0  0.0  ...  0.0  0.0   \n",
      "2007-09-28  0.0  2.0  2.0  1.0  1.0  0.0  1.0  0.0  0.0  0.0  ...  0.0  0.0   \n",
      "\n",
      "Topic        23   24   25   26   27   28   29   30  \n",
      "Timestamp                                           \n",
      "2007-01-24  2.0  0.0  0.0  0.0  0.0  0.0  0.0  2.0  \n",
      "2007-04-01  1.0  0.0  0.0  0.0  0.0  0.0  0.0  1.0  \n",
      "2007-05-31  1.0  0.0  0.0  0.0  0.0  0.0  0.0  0.0  \n",
      "2007-07-30  2.0  0.0  0.0  0.0  0.0  0.0  0.0  1.0  \n",
      "2007-09-28  1.0  0.0  0.0  0.0  0.0  0.0  1.0  0.0  \n",
      "\n",
      "[5 rows x 32 columns]\n"
     ]
    }
   ],
   "source": [
    "\n",
    "      \n",
    "pivot_df_tot = df_tot.pivot(index='Timestamp', columns='Topic', values='Frequency')\n",
    "\n",
    "pivot_df_tot = pivot_df_tot.fillna(0)\n",
    "print(pivot_df_tot.head())\n",
    "\n",
    "pivot_df_tot.to_csv(f\"{bert_models_local}/pivot_df_tot.csv\", index=True)\n"
   ]
  },
  {
   "cell_type": "code",
   "execution_count": null,
   "metadata": {},
   "outputs": [],
   "source": [
    "gwalker = pyg.walk(df_tot)"
   ]
  },
  {
   "cell_type": "code",
   "execution_count": null,
   "metadata": {},
   "outputs": [],
   "source": [
    "gwalker = pyg.walk(df_tpc)"
   ]
  },
  {
   "cell_type": "code",
   "execution_count": null,
   "metadata": {},
   "outputs": [],
   "source": []
  }
 ],
 "metadata": {
  "kernelspec": {
   "display_name": "Python 3",
   "language": "python",
   "name": "python3"
  },
  "language_info": {
   "codemirror_mode": {
    "name": "ipython",
    "version": 3
   },
   "file_extension": ".py",
   "mimetype": "text/x-python",
   "name": "python",
   "nbconvert_exporter": "python",
   "pygments_lexer": "ipython3",
   "version": "3.11.4"
  },
  "orig_nbformat": 4
 },
 "nbformat": 4,
 "nbformat_minor": 2
}
