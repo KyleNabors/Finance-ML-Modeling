{
 "cells": [
  {
   "cell_type": "code",
   "execution_count": 9,
   "metadata": {},
   "outputs": [],
   "source": [
    "import pandas as pd\n",
    "from sklearn import datasets\n",
    "import statsmodels.api as sm\n",
    "from stargazer.stargazer import Stargazer\n",
    "from IPython.display import display, HTML"
   ]
  },
  {
   "cell_type": "code",
   "execution_count": 10,
   "metadata": {},
   "outputs": [],
   "source": [
    "sentiment = pd.read_csv(f'/Users/kylenabors/Documents/Database/Models/FinBERT Models/taylor.csv')"
   ]
  },
  {
   "cell_type": "code",
   "execution_count": 11,
   "metadata": {},
   "outputs": [],
   "source": [
    "exog0 = sm.add_constant(sentiment[['minute_sentiment_0']])\n",
    "exog1 = sm.add_constant(sentiment[['minute_sentiment_1']])\n",
    "exog2 = sm.add_constant(sentiment[['minute_sentiment_2']])\n",
    "exog3 = sm.add_constant(sentiment[['minute_sentiment_3']])\n",
    "\n",
    "exog0 = exog0.dropna()\n",
    "exog1 = exog1.dropna()\n",
    "exog2 = exog2.dropna()\n",
    "exog3 = exog3.dropna()\n",
    "\n",
    "endog0 = sentiment['taylor'].loc[exog0.index]\n",
    "endog1 = sentiment['taylor'].loc[exog1.index]\n",
    "endog2 = sentiment['taylor'].loc[exog2.index]\n",
    "endog3 = sentiment['taylor'].loc[exog3.index]\n",
    "\n",
    "reg0 = sm.OLS(endog=endog0, exog=exog0).fit()\n",
    "reg1 = sm.OLS(endog=endog1, exog=exog1).fit()\n",
    "reg2 = sm.OLS(endog=endog2, exog=exog2).fit()\n",
    "reg3 = sm.OLS(endog=endog3, exog=exog3).fit()"
   ]
  },
  {
   "cell_type": "code",
   "execution_count": 12,
   "metadata": {},
   "outputs": [
    {
     "data": {
      "text/html": [
       "<table style=\"text-align:center\"><tr><td colspan=\"5\" style=\"border-bottom: 1px solid black\"></td></tr>\n",
       "<tr><td style=\"text-align:left\"></td><td colspan=\"4\"><em>Dependent variable: taylor</em></td></tr><tr><td style=\"text-align:left\"></td><tr><td style=\"text-align:left\"></td><td>(1)</td><td>(2)</td><td>(3)</td><td>(4)</td></tr>\n",
       "<tr><td colspan=\"5\" style=\"border-bottom: 1px solid black\"></td></tr>\n",
       "\n",
       "<tr><td style=\"text-align:left\">const</td><td>0.017<sup></sup></td><td>0.021<sup></sup></td><td>0.023<sup></sup></td><td>0.023<sup></sup></td></tr>\n",
       "<tr><td style=\"text-align:left\"></td><td>(0.018)</td><td>(0.018)</td><td>(0.017)</td><td>(0.017)</td></tr>\n",
       "<tr><td style=\"text-align:left\">minute_sentiment_0</td><td>0.554<sup>***</sup></td><td></td><td></td><td></td></tr>\n",
       "<tr><td style=\"text-align:left\"></td><td>(0.150)</td><td></td><td></td><td></td></tr>\n",
       "<tr><td style=\"text-align:left\">minute_sentiment_1</td><td></td><td>0.701<sup>***</sup></td><td></td><td></td></tr>\n",
       "<tr><td style=\"text-align:left\"></td><td></td><td>(0.144)</td><td></td><td></td></tr>\n",
       "<tr><td style=\"text-align:left\">minute_sentiment_2</td><td></td><td></td><td>0.848<sup>***</sup></td><td></td></tr>\n",
       "<tr><td style=\"text-align:left\"></td><td></td><td></td><td>(0.137)</td><td></td></tr>\n",
       "<tr><td style=\"text-align:left\">minute_sentiment_3</td><td></td><td></td><td></td><td>0.887<sup>***</sup></td></tr>\n",
       "<tr><td style=\"text-align:left\"></td><td></td><td></td><td></td><td>(0.134)</td></tr>\n",
       "\n",
       "<td colspan=\"5\" style=\"border-bottom: 1px solid black\"></td></tr>\n",
       "<tr><td style=\"text-align: left\">Observations</td><td>94</td><td>93</td><td>92</td><td>91</td></tr><tr><td style=\"text-align: left\">R<sup>2</sup></td><td>0.129</td><td>0.205</td><td>0.300</td><td>0.329</td></tr><tr><td style=\"text-align: left\">Adjusted R<sup>2</sup></td><td>0.119</td><td>0.197</td><td>0.292</td><td>0.321</td></tr><tr><td style=\"text-align: left\">Residual Std. Error</td><td>0.172 (df=92)</td><td>0.165 (df=91)</td><td>0.156 (df=90)</td><td>0.153 (df=89)</td></tr><tr><td style=\"text-align: left\">F Statistic</td><td>13.568<sup>***</sup> (df=1; 92)</td><td>23.529<sup>***</sup> (df=1; 91)</td><td>38.584<sup>***</sup> (df=1; 90)</td><td>43.619<sup>***</sup> (df=1; 89)</td></tr>\n",
       "<tr><td colspan=\"5\" style=\"border-bottom: 1px solid black\"></td></tr><tr><td style=\"text-align: left\">Note:</td><td colspan=\"4\" style=\"text-align: right\"><sup>*</sup>p&lt;0.1; <sup>**</sup>p&lt;0.05; <sup>***</sup>p&lt;0.01</td></tr></table>"
      ],
      "text/plain": [
       "<IPython.core.display.HTML object>"
      ]
     },
     "metadata": {},
     "output_type": "display_data"
    }
   ],
   "source": [
    "\n",
    "stargazer = Stargazer([reg0, reg1, reg2, reg3])\n",
    "display(HTML(stargazer.render_html()))"
   ]
  }
 ],
 "metadata": {
  "kernelspec": {
   "display_name": "Python 3",
   "language": "python",
   "name": "python3"
  },
  "language_info": {
   "codemirror_mode": {
    "name": "ipython",
    "version": 3
   },
   "file_extension": ".py",
   "mimetype": "text/x-python",
   "name": "python",
   "nbconvert_exporter": "python",
   "pygments_lexer": "ipython3",
   "version": "3.11.6"
  }
 },
 "nbformat": 4,
 "nbformat_minor": 2
}
