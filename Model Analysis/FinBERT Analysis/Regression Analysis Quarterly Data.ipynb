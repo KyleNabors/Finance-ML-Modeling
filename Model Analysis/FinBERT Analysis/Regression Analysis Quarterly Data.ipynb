{
 "cells": [
  {
   "cell_type": "code",
   "execution_count": null,
   "metadata": {},
   "outputs": [],
   "source": [
    "import pandas as pd\n",
    "from sklearn import datasets\n",
    "import statsmodels.api as sm\n",
    "from stargazer.stargazer import Stargazer\n",
    "from IPython.display import display, HTML"
   ]
  },
  {
   "cell_type": "code",
   "execution_count": null,
   "metadata": {},
   "outputs": [],
   "source": [
    "sentiment = pd.read_csv(f'/Users/kylenabors/Documents/Database/Models/FinBERT Models/taylor.csv')"
   ]
  },
  {
   "cell_type": "code",
   "execution_count": null,
   "metadata": {},
   "outputs": [],
   "source": [
    "#Europe Sentiment Compare"
   ]
  },
  {
   "cell_type": "code",
   "execution_count": null,
   "metadata": {},
   "outputs": [],
   "source": [
    "x0 = ['minute_sentiment_0']\n",
    "x1 = ['minute_sentiment_1']\n",
    "x2 = ['minute_sentiment_2']\n",
    "x3 = ['minute_sentiment_3']\n",
    "x4 = ['minute_sentiment_4']\n",
    "\n",
    "yvar = 'mpd_sentiment'\n",
    "\n",
    "exog0 = (sm.add_constant(sentiment[x0])).dropna()\n",
    "exog1 = (sm.add_constant(sentiment[x1])).dropna()\n",
    "exog2 = (sm.add_constant(sentiment[x2])).dropna()\n",
    "exog3 = (sm.add_constant(sentiment[x3])).dropna()\n",
    "exog4 = (sm.add_constant(sentiment[x4])).dropna()\n",
    "\n",
    "reg0 = sm.OLS(endog=sentiment[yvar].loc[exog0.index], exog=exog0).fit()\n",
    "reg1 = sm.OLS(endog=sentiment[yvar].loc[exog1.index], exog=exog1).fit()\n",
    "reg2 = sm.OLS(endog=sentiment[yvar].loc[exog2.index], exog=exog2).fit()\n",
    "reg3 = sm.OLS(endog=sentiment[yvar].loc[exog3.index], exog=exog3).fit()\n",
    "reg4 = sm.OLS(endog=sentiment[yvar].loc[exog4.index], exog=exog4).fit()\n",
    "\n",
    "stargazer = Stargazer([reg0, reg1, reg2, reg3, reg4])\n",
    "display(HTML(stargazer.render_html()))\n",
    "stargazer.render_latex()"
   ]
  },
  {
   "cell_type": "code",
   "execution_count": null,
   "metadata": {},
   "outputs": [],
   "source": [
    "#Europe Sentiment Compare\n",
    "x0 = ['mpd_sentiment_0']\n",
    "x1 = ['mpd_sentiment_1']\n",
    "x2 = ['mpd_sentiment_2']\n",
    "x3 = ['mpd_sentiment_3']\n",
    "x4 = ['mpd_sentiment_4']\n",
    "\n",
    "yvar = 'minute_sentiment'\n",
    "\n",
    "exog0 = (sm.add_constant(sentiment[x0])).dropna()\n",
    "exog1 = (sm.add_constant(sentiment[x1])).dropna()\n",
    "exog2 = (sm.add_constant(sentiment[x2])).dropna()\n",
    "exog3 = (sm.add_constant(sentiment[x3])).dropna()\n",
    "exog4 = (sm.add_constant(sentiment[x4])).dropna()\n",
    "\n",
    "reg0 = sm.OLS(endog=sentiment[yvar].loc[exog0.index], exog=exog0).fit()\n",
    "reg1 = sm.OLS(endog=sentiment[yvar].loc[exog1.index], exog=exog1).fit()\n",
    "reg2 = sm.OLS(endog=sentiment[yvar].loc[exog2.index], exog=exog2).fit()\n",
    "reg3 = sm.OLS(endog=sentiment[yvar].loc[exog3.index], exog=exog3).fit()\n",
    "reg4 = sm.OLS(endog=sentiment[yvar].loc[exog4.index], exog=exog4).fit()\n",
    "\n",
    "stargazer = Stargazer([reg0, reg1, reg2, reg3, reg4])\n",
    "display(HTML(stargazer.render_html()))\n",
    "stargazer.render_latex()"
   ]
  },
  {
   "cell_type": "code",
   "execution_count": null,
   "metadata": {},
   "outputs": [],
   "source": [
    "#Taylor Series Regressions"
   ]
  },
  {
   "cell_type": "code",
   "execution_count": null,
   "metadata": {},
   "outputs": [],
   "source": [
    "x0 = ['minute_sentiment_0']\n",
    "x1 = ['minute_sentiment_1']\n",
    "x2 = ['minute_sentiment_2']\n",
    "x3 = ['minute_sentiment_3']\n",
    "x4 = ['minute_sentiment_4']\n",
    "\n",
    "yvar = 'taylor'\n",
    "\n",
    "exog0 = (sm.add_constant(sentiment[x0])).dropna()\n",
    "exog1 = (sm.add_constant(sentiment[x1])).dropna()\n",
    "exog2 = (sm.add_constant(sentiment[x2])).dropna()\n",
    "exog3 = (sm.add_constant(sentiment[x3])).dropna()\n",
    "exog4 = (sm.add_constant(sentiment[x4])).dropna()\n",
    "\n",
    "reg0 = sm.OLS(endog=sentiment[yvar].loc[exog0.index], exog=exog0).fit()\n",
    "reg1 = sm.OLS(endog=sentiment[yvar].loc[exog1.index], exog=exog1).fit()\n",
    "reg2 = sm.OLS(endog=sentiment[yvar].loc[exog2.index], exog=exog2).fit()\n",
    "reg3 = sm.OLS(endog=sentiment[yvar].loc[exog3.index], exog=exog3).fit()\n",
    "reg4 = sm.OLS(endog=sentiment[yvar].loc[exog4.index], exog=exog4).fit()\n",
    "\n",
    "stargazer = Stargazer([reg0, reg1, reg2, reg3, reg4])\n",
    "display(HTML(stargazer.render_html()))\n",
    "stargazer.render_latex()"
   ]
  },
  {
   "cell_type": "code",
   "execution_count": null,
   "metadata": {},
   "outputs": [],
   "source": [
    "x0 = ['mpd_sentiment_0']\n",
    "x1 = ['mpd_sentiment_1']\n",
    "x2 = ['mpd_sentiment_2']\n",
    "x3 = ['mpd_sentiment_3']\n",
    "x4 = ['mpd_sentiment_4']\n",
    "\n",
    "yvar = 'taylor_euro'\n",
    "\n",
    "exog0 = (sm.add_constant(sentiment[x0])).dropna()\n",
    "exog1 = (sm.add_constant(sentiment[x1])).dropna()\n",
    "exog2 = (sm.add_constant(sentiment[x2])).dropna()\n",
    "exog3 = (sm.add_constant(sentiment[x3])).dropna()\n",
    "exog4 = (sm.add_constant(sentiment[x4])).dropna()\n",
    "\n",
    "reg0 = sm.OLS(endog=sentiment[yvar].loc[exog0.index], exog=exog0).fit()\n",
    "reg1 = sm.OLS(endog=sentiment[yvar].loc[exog1.index], exog=exog1).fit()\n",
    "reg2 = sm.OLS(endog=sentiment[yvar].loc[exog2.index], exog=exog2).fit()\n",
    "reg3 = sm.OLS(endog=sentiment[yvar].loc[exog3.index], exog=exog3).fit()\n",
    "reg4 = sm.OLS(endog=sentiment[yvar].loc[exog4.index], exog=exog4).fit()\n",
    "\n",
    "stargazer = Stargazer([reg0, reg1, reg2, reg3, reg4])\n",
    "display(HTML(stargazer.render_html()))\n",
    "stargazer.render_latex()"
   ]
  },
  {
   "cell_type": "code",
   "execution_count": null,
   "metadata": {},
   "outputs": [],
   "source": [
    "#Interest Rate Analysis"
   ]
  },
  {
   "cell_type": "code",
   "execution_count": null,
   "metadata": {},
   "outputs": [],
   "source": [
    "x0 = ['minute_sentiment_0']\n",
    "x1 = ['minute_sentiment_1']\n",
    "x2 = ['minute_sentiment_2']\n",
    "x3 = ['minute_sentiment_3']\n",
    "x4 = ['minute_sentiment_4']\n",
    "\n",
    "yvar = 'fedfunds'\n",
    "\n",
    "exog0 = (sm.add_constant(sentiment[x0])).dropna()\n",
    "exog1 = (sm.add_constant(sentiment[x1])).dropna()\n",
    "exog2 = (sm.add_constant(sentiment[x2])).dropna()\n",
    "exog3 = (sm.add_constant(sentiment[x3])).dropna()\n",
    "exog4 = (sm.add_constant(sentiment[x4])).dropna()\n",
    "\n",
    "reg0 = sm.OLS(endog=sentiment[yvar].loc[exog0.index], exog=exog0).fit()\n",
    "reg1 = sm.OLS(endog=sentiment[yvar].loc[exog1.index], exog=exog1).fit()\n",
    "reg2 = sm.OLS(endog=sentiment[yvar].loc[exog2.index], exog=exog2).fit()\n",
    "reg3 = sm.OLS(endog=sentiment[yvar].loc[exog3.index], exog=exog3).fit()\n",
    "reg4 = sm.OLS(endog=sentiment[yvar].loc[exog4.index], exog=exog4).fit()\n",
    "\n",
    "stargazer = Stargazer([reg0, reg1, reg2, reg3, reg4])\n",
    "display(HTML(stargazer.render_html()))\n",
    "stargazer.render_latex()"
   ]
  },
  {
   "cell_type": "code",
   "execution_count": null,
   "metadata": {},
   "outputs": [],
   "source": [
    "x0 = ['mpd_sentiment_0']\n",
    "x1 = ['mpd_sentiment_1']\n",
    "x2 = ['mpd_sentiment_2']\n",
    "x3 = ['mpd_sentiment_3']\n",
    "x4 = ['mpd_sentiment_4']\n",
    "\n",
    "yvar = 'euro_funds'\n",
    "\n",
    "exog0 = (sm.add_constant(sentiment[x0])).dropna()\n",
    "exog1 = (sm.add_constant(sentiment[x1])).dropna()\n",
    "exog2 = (sm.add_constant(sentiment[x2])).dropna()\n",
    "exog3 = (sm.add_constant(sentiment[x3])).dropna()\n",
    "exog4 = (sm.add_constant(sentiment[x4])).dropna()\n",
    "\n",
    "reg0 = sm.OLS(endog=sentiment[yvar].loc[exog0.index], exog=exog0).fit()\n",
    "reg1 = sm.OLS(endog=sentiment[yvar].loc[exog1.index], exog=exog1).fit()\n",
    "reg2 = sm.OLS(endog=sentiment[yvar].loc[exog2.index], exog=exog2).fit()\n",
    "reg3 = sm.OLS(endog=sentiment[yvar].loc[exog3.index], exog=exog3).fit()\n",
    "reg4 = sm.OLS(endog=sentiment[yvar].loc[exog4.index], exog=exog4).fit()\n",
    "\n",
    "stargazer = Stargazer([reg0, reg1, reg2, reg3, reg4])\n",
    "display(HTML(stargazer.render_html()))\n",
    "stargazer.render_latex()"
   ]
  }
 ],
 "metadata": {
  "kernelspec": {
   "display_name": "Python 3",
   "language": "python",
   "name": "python3"
  },
  "language_info": {
   "codemirror_mode": {
    "name": "ipython",
    "version": 3
   },
   "file_extension": ".py",
   "mimetype": "text/x-python",
   "name": "python",
   "nbconvert_exporter": "python",
   "pygments_lexer": "ipython3",
   "version": "3.11.6"
  }
 },
 "nbformat": 4,
 "nbformat_minor": 2
}
