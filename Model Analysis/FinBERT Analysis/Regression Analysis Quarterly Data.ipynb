{
 "cells": [
  {
   "cell_type": "code",
   "execution_count": 1,
   "metadata": {},
   "outputs": [],
   "source": [
    "import pandas as pd\n",
    "from sklearn import datasets\n",
    "import statsmodels.api as sm\n",
    "from stargazer.stargazer import Stargazer\n",
    "from IPython.display import display, HTML"
   ]
  },
  {
   "cell_type": "code",
   "execution_count": 2,
   "metadata": {},
   "outputs": [],
   "source": [
    "sentiment = pd.read_csv(f'/Users/kylenabors/Documents/Database/Models/FinBERT Models/taylor.csv')"
   ]
  },
  {
   "cell_type": "code",
   "execution_count": 3,
   "metadata": {},
   "outputs": [],
   "source": [
    "#Europe Sentiment Compare"
   ]
  },
  {
   "cell_type": "code",
   "execution_count": 4,
   "metadata": {},
   "outputs": [
    {
     "data": {
      "text/html": [
       "<table style=\"text-align:center\"><tr><td colspan=\"6\" style=\"border-bottom: 1px solid black\"></td></tr>\n",
       "<tr><td style=\"text-align:left\"></td><td colspan=\"5\"><em>Dependent variable: mpd_sentiment</em></td></tr><tr><td style=\"text-align:left\"></td><tr><td style=\"text-align:left\"></td><td>(1)</td><td>(2)</td><td>(3)</td><td>(4)</td><td>(5)</td></tr>\n",
       "<tr><td colspan=\"6\" style=\"border-bottom: 1px solid black\"></td></tr>\n",
       "\n",
       "<tr><td style=\"text-align:left\">const</td><td>0.231<sup>***</sup></td><td>0.222<sup>***</sup></td><td>0.221<sup>***</sup></td><td>0.218<sup>***</sup></td><td>0.215<sup>***</sup></td></tr>\n",
       "<tr><td style=\"text-align:left\"></td><td>(0.019)</td><td>(0.019)</td><td>(0.019)</td><td>(0.020)</td><td>(0.020)</td></tr>\n",
       "<tr><td style=\"text-align:left\">minute_sentiment_0</td><td>0.392<sup>**</sup></td><td></td><td></td><td></td><td></td></tr>\n",
       "<tr><td style=\"text-align:left\"></td><td>(0.156)</td><td></td><td></td><td></td><td></td></tr>\n",
       "<tr><td style=\"text-align:left\">minute_sentiment_1</td><td></td><td>0.237<sup></sup></td><td></td><td></td><td></td></tr>\n",
       "<tr><td style=\"text-align:left\"></td><td></td><td>(0.157)</td><td></td><td></td><td></td></tr>\n",
       "<tr><td style=\"text-align:left\">minute_sentiment_2</td><td></td><td></td><td>0.228<sup></sup></td><td></td><td></td></tr>\n",
       "<tr><td style=\"text-align:left\"></td><td></td><td></td><td>(0.158)</td><td></td><td></td></tr>\n",
       "<tr><td style=\"text-align:left\">minute_sentiment_3</td><td></td><td></td><td></td><td>0.101<sup></sup></td><td></td></tr>\n",
       "<tr><td style=\"text-align:left\"></td><td></td><td></td><td></td><td>(0.161)</td><td></td></tr>\n",
       "<tr><td style=\"text-align:left\">minute_sentiment_4</td><td></td><td></td><td></td><td></td><td>0.009<sup></sup></td></tr>\n",
       "<tr><td style=\"text-align:left\"></td><td></td><td></td><td></td><td></td><td>(0.163)</td></tr>\n",
       "\n",
       "<td colspan=\"6\" style=\"border-bottom: 1px solid black\"></td></tr>\n",
       "<tr><td style=\"text-align: left\">Observations</td><td>94</td><td>93</td><td>92</td><td>91</td><td>90</td></tr><tr><td style=\"text-align: left\">R<sup>2</sup></td><td>0.064</td><td>0.025</td><td>0.022</td><td>0.004</td><td>0.000</td></tr><tr><td style=\"text-align: left\">Adjusted R<sup>2</sup></td><td>0.054</td><td>0.014</td><td>0.012</td><td>-0.007</td><td>-0.011</td></tr><tr><td style=\"text-align: left\">Residual Std. Error</td><td>0.178 (df=92)</td><td>0.180 (df=91)</td><td>0.181 (df=90)</td><td>0.183 (df=89)</td><td>0.185 (df=88)</td></tr><tr><td style=\"text-align: left\">F Statistic</td><td>6.339<sup>**</sup> (df=1; 92)</td><td>2.290<sup></sup> (df=1; 91)</td><td>2.071<sup></sup> (df=1; 90)</td><td>0.395<sup></sup> (df=1; 89)</td><td>0.003<sup></sup> (df=1; 88)</td></tr>\n",
       "<tr><td colspan=\"6\" style=\"border-bottom: 1px solid black\"></td></tr><tr><td style=\"text-align: left\">Note:</td><td colspan=\"5\" style=\"text-align: right\"><sup>*</sup>p&lt;0.1; <sup>**</sup>p&lt;0.05; <sup>***</sup>p&lt;0.01</td></tr></table>"
      ],
      "text/plain": [
       "<IPython.core.display.HTML object>"
      ]
     },
     "metadata": {},
     "output_type": "display_data"
    },
    {
     "data": {
      "text/plain": [
       "'\\\\begin{table}[!htbp] \\\\centering\\n\\\\begin{tabular}{@{\\\\extracolsep{5pt}}lccccc}\\n\\\\\\\\[-1.8ex]\\\\hline\\n\\\\hline \\\\\\\\[-1.8ex]\\n& \\\\multicolumn{5}{c}{\\\\textit{Dependent variable: mpd_sentiment}} \\\\\\n\\\\cr \\\\cline{2-6}\\n\\\\\\\\[-1.8ex] & (1) & (2) & (3) & (4) & (5) \\\\\\\\\\n\\\\hline \\\\\\\\[-1.8ex]\\n const & 0.231$^{***}$ & 0.222$^{***}$ & 0.221$^{***}$ & 0.218$^{***}$ & 0.215$^{***}$ \\\\\\\\\\n& (0.019) & (0.019) & (0.019) & (0.020) & (0.020) \\\\\\\\\\n minute_sentiment_0 & 0.392$^{**}$ & & & & \\\\\\\\\\n& (0.156) & & & & \\\\\\\\\\n minute_sentiment_1 & & 0.237$^{}$ & & & \\\\\\\\\\n& & (0.157) & & & \\\\\\\\\\n minute_sentiment_2 & & & 0.228$^{}$ & & \\\\\\\\\\n& & & (0.158) & & \\\\\\\\\\n minute_sentiment_3 & & & & 0.101$^{}$ & \\\\\\\\\\n& & & & (0.161) & \\\\\\\\\\n minute_sentiment_4 & & & & & 0.009$^{}$ \\\\\\\\\\n& & & & & (0.163) \\\\\\\\\\n\\\\hline \\\\\\\\[-1.8ex]\\n Observations & 94 & 93 & 92 & 91 & 90 \\\\\\\\\\n $R^2$ & 0.064 & 0.025 & 0.022 & 0.004 & 0.000 \\\\\\\\\\n Adjusted $R^2$ & 0.054 & 0.014 & 0.012 & -0.007 & -0.011 \\\\\\\\\\n Residual Std. Error & 0.178 (df=92) & 0.180 (df=91) & 0.181 (df=90) & 0.183 (df=89) & 0.185 (df=88) \\\\\\\\\\n F Statistic & 6.339$^{**}$ (df=1; 92) & 2.290$^{}$ (df=1; 91) & 2.071$^{}$ (df=1; 90) & 0.395$^{}$ (df=1; 89) & 0.003$^{}$ (df=1; 88) \\\\\\\\\\n\\\\hline\\n\\\\hline \\\\\\\\[-1.8ex]\\n\\\\textit{Note:} & \\\\multicolumn{5}{r}{$^{*}$p$<$0.1; $^{**}$p$<$0.05; $^{***}$p$<$0.01} \\\\\\\\\\n\\\\end{tabular}\\n\\\\end{table}'"
      ]
     },
     "execution_count": 4,
     "metadata": {},
     "output_type": "execute_result"
    }
   ],
   "source": [
    "x0 = ['minute_sentiment_0']\n",
    "x1 = ['minute_sentiment_1']\n",
    "x2 = ['minute_sentiment_2']\n",
    "x3 = ['minute_sentiment_3']\n",
    "x4 = ['minute_sentiment_4']\n",
    "\n",
    "yvar = 'mpd_sentiment'\n",
    "\n",
    "exog0 = (sm.add_constant(sentiment[x0])).dropna()\n",
    "exog1 = (sm.add_constant(sentiment[x1])).dropna()\n",
    "exog2 = (sm.add_constant(sentiment[x2])).dropna()\n",
    "exog3 = (sm.add_constant(sentiment[x3])).dropna()\n",
    "exog4 = (sm.add_constant(sentiment[x4])).dropna()\n",
    "\n",
    "reg0 = sm.OLS(endog=sentiment[yvar].loc[exog0.index], exog=exog0).fit()\n",
    "reg1 = sm.OLS(endog=sentiment[yvar].loc[exog1.index], exog=exog1).fit()\n",
    "reg2 = sm.OLS(endog=sentiment[yvar].loc[exog2.index], exog=exog2).fit()\n",
    "reg3 = sm.OLS(endog=sentiment[yvar].loc[exog3.index], exog=exog3).fit()\n",
    "reg4 = sm.OLS(endog=sentiment[yvar].loc[exog4.index], exog=exog4).fit()\n",
    "\n",
    "stargazer = Stargazer([reg0, reg1, reg2, reg3, reg4])\n",
    "display(HTML(stargazer.render_html()))\n",
    "stargazer.render_latex()"
   ]
  },
  {
   "cell_type": "code",
   "execution_count": 5,
   "metadata": {},
   "outputs": [
    {
     "data": {
      "text/html": [
       "<table style=\"text-align:center\"><tr><td colspan=\"6\" style=\"border-bottom: 1px solid black\"></td></tr>\n",
       "<tr><td style=\"text-align:left\"></td><td colspan=\"5\"><em>Dependent variable: minute_sentiment</em></td></tr><tr><td style=\"text-align:left\"></td><tr><td style=\"text-align:left\"></td><td>(1)</td><td>(2)</td><td>(3)</td><td>(4)</td><td>(5)</td></tr>\n",
       "<tr><td colspan=\"6\" style=\"border-bottom: 1px solid black\"></td></tr>\n",
       "\n",
       "<tr><td style=\"text-align:left\">const</td><td>-0.067<sup>***</sup></td><td>-0.072<sup>***</sup></td><td>-0.057<sup>***</sup></td><td>-0.040<sup>**</sup></td><td>-0.013<sup></sup></td></tr>\n",
       "<tr><td style=\"text-align:left\"></td><td>(0.019)</td><td>(0.019)</td><td>(0.019)</td><td>(0.020)</td><td>(0.020)</td></tr>\n",
       "<tr><td style=\"text-align:left\">mpd_sentiment_0</td><td>0.164<sup>**</sup></td><td></td><td></td><td></td><td></td></tr>\n",
       "<tr><td style=\"text-align:left\"></td><td>(0.065)</td><td></td><td></td><td></td><td></td></tr>\n",
       "<tr><td style=\"text-align:left\">mpd_sentiment_1</td><td></td><td>0.177<sup>***</sup></td><td></td><td></td><td></td></tr>\n",
       "<tr><td style=\"text-align:left\"></td><td></td><td>(0.065)</td><td></td><td></td><td></td></tr>\n",
       "<tr><td style=\"text-align:left\">mpd_sentiment_2</td><td></td><td></td><td>0.093<sup></sup></td><td></td><td></td></tr>\n",
       "<tr><td style=\"text-align:left\"></td><td></td><td></td><td>(0.066)</td><td></td><td></td></tr>\n",
       "<tr><td style=\"text-align:left\">mpd_sentiment_3</td><td></td><td></td><td></td><td>0.016<sup></sup></td><td></td></tr>\n",
       "<tr><td style=\"text-align:left\"></td><td></td><td></td><td></td><td>(0.070)</td><td></td></tr>\n",
       "<tr><td style=\"text-align:left\">mpd_sentiment_4</td><td></td><td></td><td></td><td></td><td>-0.103<sup></sup></td></tr>\n",
       "<tr><td style=\"text-align:left\"></td><td></td><td></td><td></td><td></td><td>(0.070)</td></tr>\n",
       "\n",
       "<td colspan=\"6\" style=\"border-bottom: 1px solid black\"></td></tr>\n",
       "<tr><td style=\"text-align: left\">Observations</td><td>94</td><td>93</td><td>92</td><td>91</td><td>90</td></tr><tr><td style=\"text-align: left\">R<sup>2</sup></td><td>0.064</td><td>0.075</td><td>0.022</td><td>0.001</td><td>0.024</td></tr><tr><td style=\"text-align: left\">Adjusted R<sup>2</sup></td><td>0.054</td><td>0.065</td><td>0.011</td><td>-0.011</td><td>0.013</td></tr><tr><td style=\"text-align: left\">Residual Std. Error</td><td>0.116 (df=92)</td><td>0.114 (df=91)</td><td>0.114 (df=90)</td><td>0.116 (df=89)</td><td>0.115 (df=88)</td></tr><tr><td style=\"text-align: left\">F Statistic</td><td>6.339<sup>**</sup> (df=1; 92)</td><td>7.358<sup>***</sup> (df=1; 91)</td><td>1.993<sup></sup> (df=1; 90)</td><td>0.051<sup></sup> (df=1; 89)</td><td>2.142<sup></sup> (df=1; 88)</td></tr>\n",
       "<tr><td colspan=\"6\" style=\"border-bottom: 1px solid black\"></td></tr><tr><td style=\"text-align: left\">Note:</td><td colspan=\"5\" style=\"text-align: right\"><sup>*</sup>p&lt;0.1; <sup>**</sup>p&lt;0.05; <sup>***</sup>p&lt;0.01</td></tr></table>"
      ],
      "text/plain": [
       "<IPython.core.display.HTML object>"
      ]
     },
     "metadata": {},
     "output_type": "display_data"
    },
    {
     "data": {
      "text/plain": [
       "'\\\\begin{table}[!htbp] \\\\centering\\n\\\\begin{tabular}{@{\\\\extracolsep{5pt}}lccccc}\\n\\\\\\\\[-1.8ex]\\\\hline\\n\\\\hline \\\\\\\\[-1.8ex]\\n& \\\\multicolumn{5}{c}{\\\\textit{Dependent variable: minute_sentiment}} \\\\\\n\\\\cr \\\\cline{2-6}\\n\\\\\\\\[-1.8ex] & (1) & (2) & (3) & (4) & (5) \\\\\\\\\\n\\\\hline \\\\\\\\[-1.8ex]\\n const & -0.067$^{***}$ & -0.072$^{***}$ & -0.057$^{***}$ & -0.040$^{**}$ & -0.013$^{}$ \\\\\\\\\\n& (0.019) & (0.019) & (0.019) & (0.020) & (0.020) \\\\\\\\\\n mpd_sentiment_0 & 0.164$^{**}$ & & & & \\\\\\\\\\n& (0.065) & & & & \\\\\\\\\\n mpd_sentiment_1 & & 0.177$^{***}$ & & & \\\\\\\\\\n& & (0.065) & & & \\\\\\\\\\n mpd_sentiment_2 & & & 0.093$^{}$ & & \\\\\\\\\\n& & & (0.066) & & \\\\\\\\\\n mpd_sentiment_3 & & & & 0.016$^{}$ & \\\\\\\\\\n& & & & (0.070) & \\\\\\\\\\n mpd_sentiment_4 & & & & & -0.103$^{}$ \\\\\\\\\\n& & & & & (0.070) \\\\\\\\\\n\\\\hline \\\\\\\\[-1.8ex]\\n Observations & 94 & 93 & 92 & 91 & 90 \\\\\\\\\\n $R^2$ & 0.064 & 0.075 & 0.022 & 0.001 & 0.024 \\\\\\\\\\n Adjusted $R^2$ & 0.054 & 0.065 & 0.011 & -0.011 & 0.013 \\\\\\\\\\n Residual Std. Error & 0.116 (df=92) & 0.114 (df=91) & 0.114 (df=90) & 0.116 (df=89) & 0.115 (df=88) \\\\\\\\\\n F Statistic & 6.339$^{**}$ (df=1; 92) & 7.358$^{***}$ (df=1; 91) & 1.993$^{}$ (df=1; 90) & 0.051$^{}$ (df=1; 89) & 2.142$^{}$ (df=1; 88) \\\\\\\\\\n\\\\hline\\n\\\\hline \\\\\\\\[-1.8ex]\\n\\\\textit{Note:} & \\\\multicolumn{5}{r}{$^{*}$p$<$0.1; $^{**}$p$<$0.05; $^{***}$p$<$0.01} \\\\\\\\\\n\\\\end{tabular}\\n\\\\end{table}'"
      ]
     },
     "execution_count": 5,
     "metadata": {},
     "output_type": "execute_result"
    }
   ],
   "source": [
    "#Europe Sentiment Compare\n",
    "x0 = ['mpd_sentiment_0']\n",
    "x1 = ['mpd_sentiment_1']\n",
    "x2 = ['mpd_sentiment_2']\n",
    "x3 = ['mpd_sentiment_3']\n",
    "x4 = ['mpd_sentiment_4']\n",
    "\n",
    "yvar = 'minute_sentiment'\n",
    "\n",
    "exog0 = (sm.add_constant(sentiment[x0])).dropna()\n",
    "exog1 = (sm.add_constant(sentiment[x1])).dropna()\n",
    "exog2 = (sm.add_constant(sentiment[x2])).dropna()\n",
    "exog3 = (sm.add_constant(sentiment[x3])).dropna()\n",
    "exog4 = (sm.add_constant(sentiment[x4])).dropna()\n",
    "\n",
    "reg0 = sm.OLS(endog=sentiment[yvar].loc[exog0.index], exog=exog0).fit()\n",
    "reg1 = sm.OLS(endog=sentiment[yvar].loc[exog1.index], exog=exog1).fit()\n",
    "reg2 = sm.OLS(endog=sentiment[yvar].loc[exog2.index], exog=exog2).fit()\n",
    "reg3 = sm.OLS(endog=sentiment[yvar].loc[exog3.index], exog=exog3).fit()\n",
    "reg4 = sm.OLS(endog=sentiment[yvar].loc[exog4.index], exog=exog4).fit()\n",
    "\n",
    "stargazer = Stargazer([reg0, reg1, reg2, reg3, reg4])\n",
    "display(HTML(stargazer.render_html()))\n",
    "stargazer.render_latex()"
   ]
  },
  {
   "cell_type": "code",
   "execution_count": 6,
   "metadata": {},
   "outputs": [],
   "source": [
    "#Taylor Series Regressions"
   ]
  },
  {
   "cell_type": "code",
   "execution_count": 7,
   "metadata": {},
   "outputs": [
    {
     "data": {
      "text/html": [
       "<table style=\"text-align:center\"><tr><td colspan=\"6\" style=\"border-bottom: 1px solid black\"></td></tr>\n",
       "<tr><td style=\"text-align:left\"></td><td colspan=\"5\"><em>Dependent variable: taylor</em></td></tr><tr><td style=\"text-align:left\"></td><tr><td style=\"text-align:left\"></td><td>(1)</td><td>(2)</td><td>(3)</td><td>(4)</td><td>(5)</td></tr>\n",
       "<tr><td colspan=\"6\" style=\"border-bottom: 1px solid black\"></td></tr>\n",
       "\n",
       "<tr><td style=\"text-align:left\">const</td><td>0.017<sup></sup></td><td>0.021<sup></sup></td><td>0.023<sup></sup></td><td>0.023<sup></sup></td><td>0.020<sup></sup></td></tr>\n",
       "<tr><td style=\"text-align:left\"></td><td>(0.018)</td><td>(0.018)</td><td>(0.017)</td><td>(0.017)</td><td>(0.017)</td></tr>\n",
       "<tr><td style=\"text-align:left\">minute_sentiment_0</td><td>0.554<sup>***</sup></td><td></td><td></td><td></td><td></td></tr>\n",
       "<tr><td style=\"text-align:left\"></td><td>(0.150)</td><td></td><td></td><td></td><td></td></tr>\n",
       "<tr><td style=\"text-align:left\">minute_sentiment_1</td><td></td><td>0.701<sup>***</sup></td><td></td><td></td><td></td></tr>\n",
       "<tr><td style=\"text-align:left\"></td><td></td><td>(0.144)</td><td></td><td></td><td></td></tr>\n",
       "<tr><td style=\"text-align:left\">minute_sentiment_2</td><td></td><td></td><td>0.848<sup>***</sup></td><td></td><td></td></tr>\n",
       "<tr><td style=\"text-align:left\"></td><td></td><td></td><td>(0.137)</td><td></td><td></td></tr>\n",
       "<tr><td style=\"text-align:left\">minute_sentiment_3</td><td></td><td></td><td></td><td>0.887<sup>***</sup></td><td></td></tr>\n",
       "<tr><td style=\"text-align:left\"></td><td></td><td></td><td></td><td>(0.134)</td><td></td></tr>\n",
       "<tr><td style=\"text-align:left\">minute_sentiment_4</td><td></td><td></td><td></td><td></td><td>0.851<sup>***</sup></td></tr>\n",
       "<tr><td style=\"text-align:left\"></td><td></td><td></td><td></td><td></td><td>(0.138)</td></tr>\n",
       "\n",
       "<td colspan=\"6\" style=\"border-bottom: 1px solid black\"></td></tr>\n",
       "<tr><td style=\"text-align: left\">Observations</td><td>94</td><td>93</td><td>92</td><td>91</td><td>90</td></tr><tr><td style=\"text-align: left\">R<sup>2</sup></td><td>0.129</td><td>0.205</td><td>0.300</td><td>0.329</td><td>0.302</td></tr><tr><td style=\"text-align: left\">Adjusted R<sup>2</sup></td><td>0.119</td><td>0.197</td><td>0.292</td><td>0.321</td><td>0.294</td></tr><tr><td style=\"text-align: left\">Residual Std. Error</td><td>0.172 (df=92)</td><td>0.165 (df=91)</td><td>0.156 (df=90)</td><td>0.153 (df=89)</td><td>0.157 (df=88)</td></tr><tr><td style=\"text-align: left\">F Statistic</td><td>13.568<sup>***</sup> (df=1; 92)</td><td>23.529<sup>***</sup> (df=1; 91)</td><td>38.584<sup>***</sup> (df=1; 90)</td><td>43.619<sup>***</sup> (df=1; 89)</td><td>38.101<sup>***</sup> (df=1; 88)</td></tr>\n",
       "<tr><td colspan=\"6\" style=\"border-bottom: 1px solid black\"></td></tr><tr><td style=\"text-align: left\">Note:</td><td colspan=\"5\" style=\"text-align: right\"><sup>*</sup>p&lt;0.1; <sup>**</sup>p&lt;0.05; <sup>***</sup>p&lt;0.01</td></tr></table>"
      ],
      "text/plain": [
       "<IPython.core.display.HTML object>"
      ]
     },
     "metadata": {},
     "output_type": "display_data"
    },
    {
     "data": {
      "text/plain": [
       "'\\\\begin{table}[!htbp] \\\\centering\\n\\\\begin{tabular}{@{\\\\extracolsep{5pt}}lccccc}\\n\\\\\\\\[-1.8ex]\\\\hline\\n\\\\hline \\\\\\\\[-1.8ex]\\n& \\\\multicolumn{5}{c}{\\\\textit{Dependent variable: taylor}} \\\\\\n\\\\cr \\\\cline{2-6}\\n\\\\\\\\[-1.8ex] & (1) & (2) & (3) & (4) & (5) \\\\\\\\\\n\\\\hline \\\\\\\\[-1.8ex]\\n const & 0.017$^{}$ & 0.021$^{}$ & 0.023$^{}$ & 0.023$^{}$ & 0.020$^{}$ \\\\\\\\\\n& (0.018) & (0.018) & (0.017) & (0.017) & (0.017) \\\\\\\\\\n minute_sentiment_0 & 0.554$^{***}$ & & & & \\\\\\\\\\n& (0.150) & & & & \\\\\\\\\\n minute_sentiment_1 & & 0.701$^{***}$ & & & \\\\\\\\\\n& & (0.144) & & & \\\\\\\\\\n minute_sentiment_2 & & & 0.848$^{***}$ & & \\\\\\\\\\n& & & (0.137) & & \\\\\\\\\\n minute_sentiment_3 & & & & 0.887$^{***}$ & \\\\\\\\\\n& & & & (0.134) & \\\\\\\\\\n minute_sentiment_4 & & & & & 0.851$^{***}$ \\\\\\\\\\n& & & & & (0.138) \\\\\\\\\\n\\\\hline \\\\\\\\[-1.8ex]\\n Observations & 94 & 93 & 92 & 91 & 90 \\\\\\\\\\n $R^2$ & 0.129 & 0.205 & 0.300 & 0.329 & 0.302 \\\\\\\\\\n Adjusted $R^2$ & 0.119 & 0.197 & 0.292 & 0.321 & 0.294 \\\\\\\\\\n Residual Std. Error & 0.172 (df=92) & 0.165 (df=91) & 0.156 (df=90) & 0.153 (df=89) & 0.157 (df=88) \\\\\\\\\\n F Statistic & 13.568$^{***}$ (df=1; 92) & 23.529$^{***}$ (df=1; 91) & 38.584$^{***}$ (df=1; 90) & 43.619$^{***}$ (df=1; 89) & 38.101$^{***}$ (df=1; 88) \\\\\\\\\\n\\\\hline\\n\\\\hline \\\\\\\\[-1.8ex]\\n\\\\textit{Note:} & \\\\multicolumn{5}{r}{$^{*}$p$<$0.1; $^{**}$p$<$0.05; $^{***}$p$<$0.01} \\\\\\\\\\n\\\\end{tabular}\\n\\\\end{table}'"
      ]
     },
     "execution_count": 7,
     "metadata": {},
     "output_type": "execute_result"
    }
   ],
   "source": [
    "x0 = ['minute_sentiment_0']\n",
    "x1 = ['minute_sentiment_1']\n",
    "x2 = ['minute_sentiment_2']\n",
    "x3 = ['minute_sentiment_3']\n",
    "x4 = ['minute_sentiment_4']\n",
    "\n",
    "yvar = 'taylor'\n",
    "\n",
    "exog0 = (sm.add_constant(sentiment[x0])).dropna()\n",
    "exog1 = (sm.add_constant(sentiment[x1])).dropna()\n",
    "exog2 = (sm.add_constant(sentiment[x2])).dropna()\n",
    "exog3 = (sm.add_constant(sentiment[x3])).dropna()\n",
    "exog4 = (sm.add_constant(sentiment[x4])).dropna()\n",
    "\n",
    "reg0 = sm.OLS(endog=sentiment[yvar].loc[exog0.index], exog=exog0).fit()\n",
    "reg1 = sm.OLS(endog=sentiment[yvar].loc[exog1.index], exog=exog1).fit()\n",
    "reg2 = sm.OLS(endog=sentiment[yvar].loc[exog2.index], exog=exog2).fit()\n",
    "reg3 = sm.OLS(endog=sentiment[yvar].loc[exog3.index], exog=exog3).fit()\n",
    "reg4 = sm.OLS(endog=sentiment[yvar].loc[exog4.index], exog=exog4).fit()\n",
    "\n",
    "stargazer = Stargazer([reg0, reg1, reg2, reg3, reg4])\n",
    "display(HTML(stargazer.render_html()))\n",
    "stargazer.render_latex()"
   ]
  },
  {
   "cell_type": "code",
   "execution_count": 8,
   "metadata": {},
   "outputs": [
    {
     "data": {
      "text/html": [
       "<table style=\"text-align:center\"><tr><td colspan=\"6\" style=\"border-bottom: 1px solid black\"></td></tr>\n",
       "<tr><td style=\"text-align:left\"></td><td colspan=\"5\"><em>Dependent variable: taylor_euro</em></td></tr><tr><td style=\"text-align:left\"></td><tr><td style=\"text-align:left\"></td><td>(1)</td><td>(2)</td><td>(3)</td><td>(4)</td><td>(5)</td></tr>\n",
       "<tr><td colspan=\"6\" style=\"border-bottom: 1px solid black\"></td></tr>\n",
       "\n",
       "<tr><td style=\"text-align:left\">const</td><td>3.932<sup>***</sup></td><td>3.789<sup>***</sup></td><td>3.664<sup>***</sup></td><td>3.484<sup>***</sup></td><td>3.317<sup>***</sup></td></tr>\n",
       "<tr><td style=\"text-align:left\"></td><td>(0.367)</td><td>(0.385)</td><td>(0.400)</td><td>(0.424)</td><td>(0.440)</td></tr>\n",
       "<tr><td style=\"text-align:left\">mpd_sentiment_0</td><td>-4.816<sup>***</sup></td><td></td><td></td><td></td><td></td></tr>\n",
       "<tr><td style=\"text-align:left\"></td><td>(1.289)</td><td></td><td></td><td></td><td></td></tr>\n",
       "<tr><td style=\"text-align:left\">mpd_sentiment_1</td><td></td><td>-4.060<sup>***</sup></td><td></td><td></td><td></td></tr>\n",
       "<tr><td style=\"text-align:left\"></td><td></td><td>(1.343)</td><td></td><td></td><td></td></tr>\n",
       "<tr><td style=\"text-align:left\">mpd_sentiment_2</td><td></td><td></td><td>-3.398<sup>**</sup></td><td></td><td></td></tr>\n",
       "<tr><td style=\"text-align:left\"></td><td></td><td></td><td>(1.391)</td><td></td><td></td></tr>\n",
       "<tr><td style=\"text-align:left\">mpd_sentiment_3</td><td></td><td></td><td></td><td>-2.500<sup>*</sup></td><td></td></tr>\n",
       "<tr><td style=\"text-align:left\"></td><td></td><td></td><td></td><td>(1.470)</td><td></td></tr>\n",
       "<tr><td style=\"text-align:left\">mpd_sentiment_4</td><td></td><td></td><td></td><td></td><td>-1.724<sup></sup></td></tr>\n",
       "<tr><td style=\"text-align:left\"></td><td></td><td></td><td></td><td></td><td>(1.518)</td></tr>\n",
       "\n",
       "<td colspan=\"6\" style=\"border-bottom: 1px solid black\"></td></tr>\n",
       "<tr><td style=\"text-align: left\">Observations</td><td>94</td><td>93</td><td>92</td><td>91</td><td>90</td></tr><tr><td style=\"text-align: left\">R<sup>2</sup></td><td>0.132</td><td>0.091</td><td>0.062</td><td>0.031</td><td>0.014</td></tr><tr><td style=\"text-align: left\">Adjusted R<sup>2</sup></td><td>0.122</td><td>0.081</td><td>0.052</td><td>0.021</td><td>0.003</td></tr><tr><td style=\"text-align: left\">Residual Std. Error</td><td>2.280 (df=92)</td><td>2.344 (df=91)</td><td>2.392 (df=90)</td><td>2.443 (df=89)</td><td>2.478 (df=88)</td></tr><tr><td style=\"text-align: left\">F Statistic</td><td>13.964<sup>***</sup> (df=1; 92)</td><td>9.136<sup>***</sup> (df=1; 91)</td><td>5.970<sup>**</sup> (df=1; 90)</td><td>2.893<sup>*</sup> (df=1; 89)</td><td>1.290<sup></sup> (df=1; 88)</td></tr>\n",
       "<tr><td colspan=\"6\" style=\"border-bottom: 1px solid black\"></td></tr><tr><td style=\"text-align: left\">Note:</td><td colspan=\"5\" style=\"text-align: right\"><sup>*</sup>p&lt;0.1; <sup>**</sup>p&lt;0.05; <sup>***</sup>p&lt;0.01</td></tr></table>"
      ],
      "text/plain": [
       "<IPython.core.display.HTML object>"
      ]
     },
     "metadata": {},
     "output_type": "display_data"
    },
    {
     "data": {
      "text/plain": [
       "'\\\\begin{table}[!htbp] \\\\centering\\n\\\\begin{tabular}{@{\\\\extracolsep{5pt}}lccccc}\\n\\\\\\\\[-1.8ex]\\\\hline\\n\\\\hline \\\\\\\\[-1.8ex]\\n& \\\\multicolumn{5}{c}{\\\\textit{Dependent variable: taylor_euro}} \\\\\\n\\\\cr \\\\cline{2-6}\\n\\\\\\\\[-1.8ex] & (1) & (2) & (3) & (4) & (5) \\\\\\\\\\n\\\\hline \\\\\\\\[-1.8ex]\\n const & 3.932$^{***}$ & 3.789$^{***}$ & 3.664$^{***}$ & 3.484$^{***}$ & 3.317$^{***}$ \\\\\\\\\\n& (0.367) & (0.385) & (0.400) & (0.424) & (0.440) \\\\\\\\\\n mpd_sentiment_0 & -4.816$^{***}$ & & & & \\\\\\\\\\n& (1.289) & & & & \\\\\\\\\\n mpd_sentiment_1 & & -4.060$^{***}$ & & & \\\\\\\\\\n& & (1.343) & & & \\\\\\\\\\n mpd_sentiment_2 & & & -3.398$^{**}$ & & \\\\\\\\\\n& & & (1.391) & & \\\\\\\\\\n mpd_sentiment_3 & & & & -2.500$^{*}$ & \\\\\\\\\\n& & & & (1.470) & \\\\\\\\\\n mpd_sentiment_4 & & & & & -1.724$^{}$ \\\\\\\\\\n& & & & & (1.518) \\\\\\\\\\n\\\\hline \\\\\\\\[-1.8ex]\\n Observations & 94 & 93 & 92 & 91 & 90 \\\\\\\\\\n $R^2$ & 0.132 & 0.091 & 0.062 & 0.031 & 0.014 \\\\\\\\\\n Adjusted $R^2$ & 0.122 & 0.081 & 0.052 & 0.021 & 0.003 \\\\\\\\\\n Residual Std. Error & 2.280 (df=92) & 2.344 (df=91) & 2.392 (df=90) & 2.443 (df=89) & 2.478 (df=88) \\\\\\\\\\n F Statistic & 13.964$^{***}$ (df=1; 92) & 9.136$^{***}$ (df=1; 91) & 5.970$^{**}$ (df=1; 90) & 2.893$^{*}$ (df=1; 89) & 1.290$^{}$ (df=1; 88) \\\\\\\\\\n\\\\hline\\n\\\\hline \\\\\\\\[-1.8ex]\\n\\\\textit{Note:} & \\\\multicolumn{5}{r}{$^{*}$p$<$0.1; $^{**}$p$<$0.05; $^{***}$p$<$0.01} \\\\\\\\\\n\\\\end{tabular}\\n\\\\end{table}'"
      ]
     },
     "execution_count": 8,
     "metadata": {},
     "output_type": "execute_result"
    }
   ],
   "source": [
    "x0 = ['mpd_sentiment_0']\n",
    "x1 = ['mpd_sentiment_1']\n",
    "x2 = ['mpd_sentiment_2']\n",
    "x3 = ['mpd_sentiment_3']\n",
    "x4 = ['mpd_sentiment_4']\n",
    "\n",
    "yvar = 'taylor_euro'\n",
    "\n",
    "exog0 = (sm.add_constant(sentiment[x0])).dropna()\n",
    "exog1 = (sm.add_constant(sentiment[x1])).dropna()\n",
    "exog2 = (sm.add_constant(sentiment[x2])).dropna()\n",
    "exog3 = (sm.add_constant(sentiment[x3])).dropna()\n",
    "exog4 = (sm.add_constant(sentiment[x4])).dropna()\n",
    "\n",
    "reg0 = sm.OLS(endog=sentiment[yvar].loc[exog0.index], exog=exog0).fit()\n",
    "reg1 = sm.OLS(endog=sentiment[yvar].loc[exog1.index], exog=exog1).fit()\n",
    "reg2 = sm.OLS(endog=sentiment[yvar].loc[exog2.index], exog=exog2).fit()\n",
    "reg3 = sm.OLS(endog=sentiment[yvar].loc[exog3.index], exog=exog3).fit()\n",
    "reg4 = sm.OLS(endog=sentiment[yvar].loc[exog4.index], exog=exog4).fit()\n",
    "\n",
    "stargazer = Stargazer([reg0, reg1, reg2, reg3, reg4])\n",
    "display(HTML(stargazer.render_html()))\n",
    "stargazer.render_latex()"
   ]
  },
  {
   "cell_type": "code",
   "execution_count": 9,
   "metadata": {},
   "outputs": [],
   "source": [
    "#Interest Rate Analysis"
   ]
  },
  {
   "cell_type": "code",
   "execution_count": 10,
   "metadata": {},
   "outputs": [
    {
     "data": {
      "text/html": [
       "<table style=\"text-align:center\"><tr><td colspan=\"6\" style=\"border-bottom: 1px solid black\"></td></tr>\n",
       "<tr><td style=\"text-align:left\"></td><td colspan=\"5\"><em>Dependent variable: fedfunds</em></td></tr><tr><td style=\"text-align:left\"></td><tr><td style=\"text-align:left\"></td><td>(1)</td><td>(2)</td><td>(3)</td><td>(4)</td><td>(5)</td></tr>\n",
       "<tr><td colspan=\"6\" style=\"border-bottom: 1px solid black\"></td></tr>\n",
       "\n",
       "<tr><td style=\"text-align:left\">const</td><td>1.792<sup>***</sup></td><td>1.803<sup>***</sup></td><td>1.797<sup>***</sup></td><td>1.773<sup>***</sup></td><td>1.743<sup>***</sup></td></tr>\n",
       "<tr><td style=\"text-align:left\"></td><td>(0.202)</td><td>(0.193)</td><td>(0.181)</td><td>(0.167)</td><td>(0.149)</td></tr>\n",
       "<tr><td style=\"text-align:left\">minute_sentiment_0</td><td>2.434<sup></sup></td><td></td><td></td><td></td><td></td></tr>\n",
       "<tr><td style=\"text-align:left\"></td><td>(1.652)</td><td></td><td></td><td></td><td></td></tr>\n",
       "<tr><td style=\"text-align:left\">minute_sentiment_1</td><td></td><td>4.270<sup>***</sup></td><td></td><td></td><td></td></tr>\n",
       "<tr><td style=\"text-align:left\"></td><td></td><td>(1.579)</td><td></td><td></td><td></td></tr>\n",
       "<tr><td style=\"text-align:left\">minute_sentiment_2</td><td></td><td></td><td>5.917<sup>***</sup></td><td></td><td></td></tr>\n",
       "<tr><td style=\"text-align:left\"></td><td></td><td></td><td>(1.476)</td><td></td><td></td></tr>\n",
       "<tr><td style=\"text-align:left\">minute_sentiment_3</td><td></td><td></td><td></td><td>6.953<sup>***</sup></td><td></td></tr>\n",
       "<tr><td style=\"text-align:left\"></td><td></td><td></td><td></td><td>(1.358)</td><td></td></tr>\n",
       "<tr><td style=\"text-align:left\">minute_sentiment_4</td><td></td><td></td><td></td><td></td><td>8.093<sup>***</sup></td></tr>\n",
       "<tr><td style=\"text-align:left\"></td><td></td><td></td><td></td><td></td><td>(1.211)</td></tr>\n",
       "\n",
       "<td colspan=\"6\" style=\"border-bottom: 1px solid black\"></td></tr>\n",
       "<tr><td style=\"text-align: left\">Observations</td><td>94</td><td>93</td><td>92</td><td>91</td><td>90</td></tr><tr><td style=\"text-align: left\">R<sup>2</sup></td><td>0.023</td><td>0.074</td><td>0.152</td><td>0.228</td><td>0.337</td></tr><tr><td style=\"text-align: left\">Adjusted R<sup>2</sup></td><td>0.012</td><td>0.064</td><td>0.142</td><td>0.219</td><td>0.329</td></tr><tr><td style=\"text-align: left\">Residual Std. Error</td><td>1.893 (df=92)</td><td>1.808 (df=91)</td><td>1.683 (df=90)</td><td>1.549 (df=89)</td><td>1.377 (df=88)</td></tr><tr><td style=\"text-align: left\">F Statistic</td><td>2.171<sup></sup> (df=1; 92)</td><td>7.315<sup>***</sup> (df=1; 91)</td><td>16.077<sup>***</sup> (df=1; 90)</td><td>26.212<sup>***</sup> (df=1; 89)</td><td>44.634<sup>***</sup> (df=1; 88)</td></tr>\n",
       "<tr><td colspan=\"6\" style=\"border-bottom: 1px solid black\"></td></tr><tr><td style=\"text-align: left\">Note:</td><td colspan=\"5\" style=\"text-align: right\"><sup>*</sup>p&lt;0.1; <sup>**</sup>p&lt;0.05; <sup>***</sup>p&lt;0.01</td></tr></table>"
      ],
      "text/plain": [
       "<IPython.core.display.HTML object>"
      ]
     },
     "metadata": {},
     "output_type": "display_data"
    },
    {
     "data": {
      "text/plain": [
       "'\\\\begin{table}[!htbp] \\\\centering\\n\\\\begin{tabular}{@{\\\\extracolsep{5pt}}lccccc}\\n\\\\\\\\[-1.8ex]\\\\hline\\n\\\\hline \\\\\\\\[-1.8ex]\\n& \\\\multicolumn{5}{c}{\\\\textit{Dependent variable: fedfunds}} \\\\\\n\\\\cr \\\\cline{2-6}\\n\\\\\\\\[-1.8ex] & (1) & (2) & (3) & (4) & (5) \\\\\\\\\\n\\\\hline \\\\\\\\[-1.8ex]\\n const & 1.792$^{***}$ & 1.803$^{***}$ & 1.797$^{***}$ & 1.773$^{***}$ & 1.743$^{***}$ \\\\\\\\\\n& (0.202) & (0.193) & (0.181) & (0.167) & (0.149) \\\\\\\\\\n minute_sentiment_0 & 2.434$^{}$ & & & & \\\\\\\\\\n& (1.652) & & & & \\\\\\\\\\n minute_sentiment_1 & & 4.270$^{***}$ & & & \\\\\\\\\\n& & (1.579) & & & \\\\\\\\\\n minute_sentiment_2 & & & 5.917$^{***}$ & & \\\\\\\\\\n& & & (1.476) & & \\\\\\\\\\n minute_sentiment_3 & & & & 6.953$^{***}$ & \\\\\\\\\\n& & & & (1.358) & \\\\\\\\\\n minute_sentiment_4 & & & & & 8.093$^{***}$ \\\\\\\\\\n& & & & & (1.211) \\\\\\\\\\n\\\\hline \\\\\\\\[-1.8ex]\\n Observations & 94 & 93 & 92 & 91 & 90 \\\\\\\\\\n $R^2$ & 0.023 & 0.074 & 0.152 & 0.228 & 0.337 \\\\\\\\\\n Adjusted $R^2$ & 0.012 & 0.064 & 0.142 & 0.219 & 0.329 \\\\\\\\\\n Residual Std. Error & 1.893 (df=92) & 1.808 (df=91) & 1.683 (df=90) & 1.549 (df=89) & 1.377 (df=88) \\\\\\\\\\n F Statistic & 2.171$^{}$ (df=1; 92) & 7.315$^{***}$ (df=1; 91) & 16.077$^{***}$ (df=1; 90) & 26.212$^{***}$ (df=1; 89) & 44.634$^{***}$ (df=1; 88) \\\\\\\\\\n\\\\hline\\n\\\\hline \\\\\\\\[-1.8ex]\\n\\\\textit{Note:} & \\\\multicolumn{5}{r}{$^{*}$p$<$0.1; $^{**}$p$<$0.05; $^{***}$p$<$0.01} \\\\\\\\\\n\\\\end{tabular}\\n\\\\end{table}'"
      ]
     },
     "execution_count": 10,
     "metadata": {},
     "output_type": "execute_result"
    }
   ],
   "source": [
    "x0 = ['minute_sentiment_0']\n",
    "x1 = ['minute_sentiment_1']\n",
    "x2 = ['minute_sentiment_2']\n",
    "x3 = ['minute_sentiment_3']\n",
    "x4 = ['minute_sentiment_4']\n",
    "\n",
    "yvar = 'fedfunds'\n",
    "\n",
    "exog0 = (sm.add_constant(sentiment[x0])).dropna()\n",
    "exog1 = (sm.add_constant(sentiment[x1])).dropna()\n",
    "exog2 = (sm.add_constant(sentiment[x2])).dropna()\n",
    "exog3 = (sm.add_constant(sentiment[x3])).dropna()\n",
    "exog4 = (sm.add_constant(sentiment[x4])).dropna()\n",
    "\n",
    "reg0 = sm.OLS(endog=sentiment[yvar].loc[exog0.index], exog=exog0).fit()\n",
    "reg1 = sm.OLS(endog=sentiment[yvar].loc[exog1.index], exog=exog1).fit()\n",
    "reg2 = sm.OLS(endog=sentiment[yvar].loc[exog2.index], exog=exog2).fit()\n",
    "reg3 = sm.OLS(endog=sentiment[yvar].loc[exog3.index], exog=exog3).fit()\n",
    "reg4 = sm.OLS(endog=sentiment[yvar].loc[exog4.index], exog=exog4).fit()\n",
    "\n",
    "stargazer = Stargazer([reg0, reg1, reg2, reg3, reg4])\n",
    "display(HTML(stargazer.render_html()))\n",
    "stargazer.render_latex()"
   ]
  },
  {
   "cell_type": "code",
   "execution_count": 11,
   "metadata": {},
   "outputs": [
    {
     "data": {
      "text/html": [
       "<table style=\"text-align:center\"><tr><td colspan=\"6\" style=\"border-bottom: 1px solid black\"></td></tr>\n",
       "<tr><td style=\"text-align:left\"></td><td colspan=\"5\"><em>Dependent variable: euro_funds</em></td></tr><tr><td style=\"text-align:left\"></td><tr><td style=\"text-align:left\"></td><td>(1)</td><td>(2)</td><td>(3)</td><td>(4)</td><td>(5)</td></tr>\n",
       "<tr><td colspan=\"6\" style=\"border-bottom: 1px solid black\"></td></tr>\n",
       "\n",
       "<tr><td style=\"text-align:left\">const</td><td>1.176<sup>***</sup></td><td>1.081<sup>***</sup></td><td>0.986<sup>***</sup></td><td>0.841<sup>***</sup></td><td>0.774<sup>***</sup></td></tr>\n",
       "<tr><td style=\"text-align:left\"></td><td>(0.243)</td><td>(0.246)</td><td>(0.246)</td><td>(0.248)</td><td>(0.247)</td></tr>\n",
       "<tr><td style=\"text-align:left\">mpd_sentiment_0</td><td>1.584<sup>*</sup></td><td></td><td></td><td></td><td></td></tr>\n",
       "<tr><td style=\"text-align:left\"></td><td>(0.854)</td><td></td><td></td><td></td><td></td></tr>\n",
       "<tr><td style=\"text-align:left\">mpd_sentiment_1</td><td></td><td>1.906<sup>**</sup></td><td></td><td></td><td></td></tr>\n",
       "<tr><td style=\"text-align:left\"></td><td></td><td>(0.858)</td><td></td><td></td><td></td></tr>\n",
       "<tr><td style=\"text-align:left\">mpd_sentiment_2</td><td></td><td></td><td>2.192<sup>**</sup></td><td></td><td></td></tr>\n",
       "<tr><td style=\"text-align:left\"></td><td></td><td></td><td>(0.856)</td><td></td><td></td></tr>\n",
       "<tr><td style=\"text-align:left\">mpd_sentiment_3</td><td></td><td></td><td></td><td>2.635<sup>***</sup></td><td></td></tr>\n",
       "<tr><td style=\"text-align:left\"></td><td></td><td></td><td></td><td>(0.859)</td><td></td></tr>\n",
       "<tr><td style=\"text-align:left\">mpd_sentiment_4</td><td></td><td></td><td></td><td></td><td>2.724<sup>***</sup></td></tr>\n",
       "<tr><td style=\"text-align:left\"></td><td></td><td></td><td></td><td></td><td>(0.851)</td></tr>\n",
       "\n",
       "<td colspan=\"6\" style=\"border-bottom: 1px solid black\"></td></tr>\n",
       "<tr><td style=\"text-align: left\">Observations</td><td>94</td><td>93</td><td>92</td><td>91</td><td>90</td></tr><tr><td style=\"text-align: left\">R<sup>2</sup></td><td>0.036</td><td>0.051</td><td>0.068</td><td>0.096</td><td>0.104</td></tr><tr><td style=\"text-align: left\">Adjusted R<sup>2</sup></td><td>0.026</td><td>0.041</td><td>0.058</td><td>0.085</td><td>0.094</td></tr><tr><td style=\"text-align: left\">Residual Std. Error</td><td>1.511 (df=92)</td><td>1.497 (df=91)</td><td>1.473 (df=90)</td><td>1.428 (df=89)</td><td>1.390 (df=88)</td></tr><tr><td style=\"text-align: left\">F Statistic</td><td>3.440<sup>*</sup> (df=1; 92)</td><td>4.937<sup>**</sup> (df=1; 91)</td><td>6.555<sup>**</sup> (df=1; 90)</td><td>9.400<sup>***</sup> (df=1; 89)</td><td>10.246<sup>***</sup> (df=1; 88)</td></tr>\n",
       "<tr><td colspan=\"6\" style=\"border-bottom: 1px solid black\"></td></tr><tr><td style=\"text-align: left\">Note:</td><td colspan=\"5\" style=\"text-align: right\"><sup>*</sup>p&lt;0.1; <sup>**</sup>p&lt;0.05; <sup>***</sup>p&lt;0.01</td></tr></table>"
      ],
      "text/plain": [
       "<IPython.core.display.HTML object>"
      ]
     },
     "metadata": {},
     "output_type": "display_data"
    },
    {
     "data": {
      "text/plain": [
       "'\\\\begin{table}[!htbp] \\\\centering\\n\\\\begin{tabular}{@{\\\\extracolsep{5pt}}lccccc}\\n\\\\\\\\[-1.8ex]\\\\hline\\n\\\\hline \\\\\\\\[-1.8ex]\\n& \\\\multicolumn{5}{c}{\\\\textit{Dependent variable: euro_funds}} \\\\\\n\\\\cr \\\\cline{2-6}\\n\\\\\\\\[-1.8ex] & (1) & (2) & (3) & (4) & (5) \\\\\\\\\\n\\\\hline \\\\\\\\[-1.8ex]\\n const & 1.176$^{***}$ & 1.081$^{***}$ & 0.986$^{***}$ & 0.841$^{***}$ & 0.774$^{***}$ \\\\\\\\\\n& (0.243) & (0.246) & (0.246) & (0.248) & (0.247) \\\\\\\\\\n mpd_sentiment_0 & 1.584$^{*}$ & & & & \\\\\\\\\\n& (0.854) & & & & \\\\\\\\\\n mpd_sentiment_1 & & 1.906$^{**}$ & & & \\\\\\\\\\n& & (0.858) & & & \\\\\\\\\\n mpd_sentiment_2 & & & 2.192$^{**}$ & & \\\\\\\\\\n& & & (0.856) & & \\\\\\\\\\n mpd_sentiment_3 & & & & 2.635$^{***}$ & \\\\\\\\\\n& & & & (0.859) & \\\\\\\\\\n mpd_sentiment_4 & & & & & 2.724$^{***}$ \\\\\\\\\\n& & & & & (0.851) \\\\\\\\\\n\\\\hline \\\\\\\\[-1.8ex]\\n Observations & 94 & 93 & 92 & 91 & 90 \\\\\\\\\\n $R^2$ & 0.036 & 0.051 & 0.068 & 0.096 & 0.104 \\\\\\\\\\n Adjusted $R^2$ & 0.026 & 0.041 & 0.058 & 0.085 & 0.094 \\\\\\\\\\n Residual Std. Error & 1.511 (df=92) & 1.497 (df=91) & 1.473 (df=90) & 1.428 (df=89) & 1.390 (df=88) \\\\\\\\\\n F Statistic & 3.440$^{*}$ (df=1; 92) & 4.937$^{**}$ (df=1; 91) & 6.555$^{**}$ (df=1; 90) & 9.400$^{***}$ (df=1; 89) & 10.246$^{***}$ (df=1; 88) \\\\\\\\\\n\\\\hline\\n\\\\hline \\\\\\\\[-1.8ex]\\n\\\\textit{Note:} & \\\\multicolumn{5}{r}{$^{*}$p$<$0.1; $^{**}$p$<$0.05; $^{***}$p$<$0.01} \\\\\\\\\\n\\\\end{tabular}\\n\\\\end{table}'"
      ]
     },
     "execution_count": 11,
     "metadata": {},
     "output_type": "execute_result"
    }
   ],
   "source": [
    "x0 = ['mpd_sentiment_0']\n",
    "x1 = ['mpd_sentiment_1']\n",
    "x2 = ['mpd_sentiment_2']\n",
    "x3 = ['mpd_sentiment_3']\n",
    "x4 = ['mpd_sentiment_4']\n",
    "\n",
    "yvar = 'euro_funds'\n",
    "\n",
    "exog0 = (sm.add_constant(sentiment[x0])).dropna()\n",
    "exog1 = (sm.add_constant(sentiment[x1])).dropna()\n",
    "exog2 = (sm.add_constant(sentiment[x2])).dropna()\n",
    "exog3 = (sm.add_constant(sentiment[x3])).dropna()\n",
    "exog4 = (sm.add_constant(sentiment[x4])).dropna()\n",
    "\n",
    "reg0 = sm.OLS(endog=sentiment[yvar].loc[exog0.index], exog=exog0).fit()\n",
    "reg1 = sm.OLS(endog=sentiment[yvar].loc[exog1.index], exog=exog1).fit()\n",
    "reg2 = sm.OLS(endog=sentiment[yvar].loc[exog2.index], exog=exog2).fit()\n",
    "reg3 = sm.OLS(endog=sentiment[yvar].loc[exog3.index], exog=exog3).fit()\n",
    "reg4 = sm.OLS(endog=sentiment[yvar].loc[exog4.index], exog=exog4).fit()\n",
    "\n",
    "stargazer = Stargazer([reg0, reg1, reg2, reg3, reg4])\n",
    "display(HTML(stargazer.render_html()))\n",
    "stargazer.render_latex()"
   ]
  }
 ],
 "metadata": {
  "kernelspec": {
   "display_name": "Python 3",
   "language": "python",
   "name": "python3"
  },
  "language_info": {
   "codemirror_mode": {
    "name": "ipython",
    "version": 3
   },
   "file_extension": ".py",
   "mimetype": "text/x-python",
   "name": "python",
   "nbconvert_exporter": "python",
   "pygments_lexer": "ipython3",
   "version": "3.11.6"
  }
 },
 "nbformat": 4,
 "nbformat_minor": 2
}
