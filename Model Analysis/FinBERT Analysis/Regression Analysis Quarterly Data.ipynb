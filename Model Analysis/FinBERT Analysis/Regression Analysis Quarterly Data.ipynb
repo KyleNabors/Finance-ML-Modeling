{
 "cells": [
  {
   "cell_type": "code",
   "execution_count": 555,
   "metadata": {},
   "outputs": [],
   "source": [
    "import pandas as pd\n",
    "from sklearn import datasets\n",
    "import statsmodels.api as sm\n",
    "from stargazer.stargazer import Stargazer\n",
    "from IPython.display import display, HTML"
   ]
  },
  {
   "cell_type": "code",
   "execution_count": 556,
   "metadata": {},
   "outputs": [],
   "source": [
    "sentiment = pd.read_csv(f'/Users/kylenabors/Documents/Database/Models/FinBERT Models/taylor.csv')"
   ]
  },
  {
   "cell_type": "code",
   "execution_count": 557,
   "metadata": {},
   "outputs": [],
   "source": [
    "#Europe Sentiment Compare"
   ]
  },
  {
   "cell_type": "code",
   "execution_count": 558,
   "metadata": {},
   "outputs": [
    {
     "data": {
      "text/html": [
       "ECB MPD Sentiment Regressed on FOMC Minute Sentiment<br><table style=\"text-align:center\"><tr><td colspan=\"6\" style=\"border-bottom: 1px solid black\"></td></tr>\n",
       "<tr><td style=\"text-align:left\"></td><tr><td></td><td colspan=\"1\">y_{t+0}</td><td colspan=\"1\">y_{t+1}</td><td colspan=\"1\">y_{t+2}</td><td colspan=\"1\">y_{t+3}</td><td colspan=\"1\">y_{t+4}</td></tr>\n",
       "<tr><td colspan=\"6\" style=\"border-bottom: 1px solid black\"></td></tr>\n",
       "\n",
       "<tr><td style=\"text-align:left\">Constant</td><td>0.073<sup>***</sup></td><td>0.132<sup>***</sup></td><td>0.128<sup>***</sup></td><td>0.131<sup>***</sup></td><td>0.130<sup>***</sup></td></tr>\n",
       "<tr><td style=\"text-align:left\"></td><td>(0.027)</td><td>(0.035)</td><td>(0.037)</td><td>(0.041)</td><td>(0.036)</td></tr>\n",
       "<tr><td style=\"text-align:left\">y_{t-1}</td><td>0.677<sup>***</sup></td><td>0.402<sup>***</sup></td><td>0.390<sup>***</sup></td><td>0.354<sup>***</sup></td><td>0.339<sup>***</sup></td></tr>\n",
       "<tr><td style=\"text-align:left\"></td><td>(0.098)</td><td>(0.135)</td><td>(0.118)</td><td>(0.125)</td><td>(0.103)</td></tr>\n",
       "<tr><td style=\"text-align:left\">x_{t}</td><td>0.189<sup></sup></td><td>-0.030<sup></sup></td><td>0.169<sup></sup></td><td>0.035<sup></sup></td><td>-0.095<sup></sup></td></tr>\n",
       "<tr><td style=\"text-align:left\"></td><td>(0.149)</td><td>(0.162)</td><td>(0.153)</td><td>(0.150)</td><td>(0.179)</td></tr>\n",
       "<tr><td style=\"text-align:left\">x_{t-1}</td><td>-0.157<sup></sup></td><td>0.095<sup></sup></td><td>-0.166<sup></sup></td><td>-0.134<sup></sup></td><td>-0.036<sup></sup></td></tr>\n",
       "<tr><td style=\"text-align:left\"></td><td>(0.124)</td><td>(0.154)</td><td>(0.158)</td><td>(0.157)</td><td>(0.173)</td></tr>\n",
       "\n",
       "<td colspan=\"6\" style=\"border-bottom: 1px solid black\"></td></tr>\n",
       "<tr><td style=\"text-align: left\">Observations</td><td>90</td><td>90</td><td>90</td><td>90</td><td>90</td></tr><tr><td style=\"text-align: left\">R<sup>2</sup></td><td>0.470</td><td>0.172</td><td>0.151</td><td>0.107</td><td>0.092</td></tr><tr><td style=\"text-align: left\">Adjusted R<sup>2</sup></td><td>0.452</td><td>0.143</td><td>0.121</td><td>0.076</td><td>0.061</td></tr><tr><td style=\"text-align: left\">Residual Std. Error</td><td>0.128 (df=86)</td><td>0.160 (df=86)</td><td>0.167 (df=86)</td><td>0.174 (df=86)</td><td>0.178 (df=86)</td></tr><tr><td style=\"text-align: left\">F Statistic</td><td>17.093<sup>***</sup> (df=3; 86)</td><td>4.157<sup>***</sup> (df=3; 86)</td><td>3.969<sup>**</sup> (df=3; 86)</td><td>2.737<sup>**</sup> (df=3; 86)</td><td>3.808<sup>**</sup> (df=3; 86)</td></tr>\n",
       "<tr><td colspan=\"6\" style=\"border-bottom: 1px solid black\"></td></tr><tr><td style=\"text-align: left\">Note:</td><td colspan=\"5\" style=\"text-align: right\"><sup>*</sup>p&lt;0.1; <sup>**</sup>p&lt;0.05; <sup>***</sup>p&lt;0.01</td></tr></table>"
      ],
      "text/plain": [
       "<IPython.core.display.HTML object>"
      ]
     },
     "metadata": {},
     "output_type": "display_data"
    },
    {
     "data": {
      "text/plain": [
       "'\\\\begin{table}[!htbp] \\\\centering\\n  \\\\caption{ECB MPD Sentiment Regressed on FOMC Minute Sentiment}\\n\\\\begin{tabular}{@{\\\\extracolsep{5pt}}lccccc}\\n\\\\\\\\[-1.8ex]\\\\hline\\n\\\\hline \\\\\\\\[-1.8ex]\\n\\\\\\\\[-1.8ex] & \\\\multicolumn{1}{c}{y_{t+0}} & \\\\multicolumn{1}{c}{y_{t+1}} & \\\\multicolumn{1}{c}{y_{t+2}} & \\\\multicolumn{1}{c}{y_{t+3}} & \\\\multicolumn{1}{c}{y_{t+4}}  \\\\\\\\\\n\\\\hline \\\\\\\\[-1.8ex]\\n Constant & 0.073$^{***}$ & 0.132$^{***}$ & 0.128$^{***}$ & 0.131$^{***}$ & 0.130$^{***}$ \\\\\\\\\\n& (0.027) & (0.035) & (0.037) & (0.041) & (0.036) \\\\\\\\\\n y_{t-1} & 0.677$^{***}$ & 0.402$^{***}$ & 0.390$^{***}$ & 0.354$^{***}$ & 0.339$^{***}$ \\\\\\\\\\n& (0.098) & (0.135) & (0.118) & (0.125) & (0.103) \\\\\\\\\\n x_{t} & 0.189$^{}$ & -0.030$^{}$ & 0.169$^{}$ & 0.035$^{}$ & -0.095$^{}$ \\\\\\\\\\n& (0.149) & (0.162) & (0.153) & (0.150) & (0.179) \\\\\\\\\\n x_{t-1} & -0.157$^{}$ & 0.095$^{}$ & -0.166$^{}$ & -0.134$^{}$ & -0.036$^{}$ \\\\\\\\\\n& (0.124) & (0.154) & (0.158) & (0.157) & (0.173) \\\\\\\\\\n\\\\hline \\\\\\\\[-1.8ex]\\n Observations & 90 & 90 & 90 & 90 & 90 \\\\\\\\\\n $R^2$ & 0.470 & 0.172 & 0.151 & 0.107 & 0.092 \\\\\\\\\\n Adjusted $R^2$ & 0.452 & 0.143 & 0.121 & 0.076 & 0.061 \\\\\\\\\\n Residual Std. Error & 0.128 (df=86) & 0.160 (df=86) & 0.167 (df=86) & 0.174 (df=86) & 0.178 (df=86) \\\\\\\\\\n F Statistic & 17.093$^{***}$ (df=3; 86) & 4.157$^{***}$ (df=3; 86) & 3.969$^{**}$ (df=3; 86) & 2.737$^{**}$ (df=3; 86) & 3.808$^{**}$ (df=3; 86) \\\\\\\\\\n\\\\hline\\n\\\\hline \\\\\\\\[-1.8ex]\\n\\\\textit{Note:} & \\\\multicolumn{5}{r}{$^{*}$p$<$0.1; $^{**}$p$<$0.05; $^{***}$p$<$0.01} \\\\\\\\\\n\\\\end{tabular}\\n\\\\end{table}'"
      ]
     },
     "execution_count": 558,
     "metadata": {},
     "output_type": "execute_result"
    }
   ],
   "source": [
    "x0 = ['mpd_sentiment_1', 'minute_sentiment_0', 'minute_sentiment_1']\n",
    "x1 = ['mpd_sentiment_1', 'minute_sentiment_0', 'minute_sentiment_1']\n",
    "x2 = ['mpd_sentiment_1', 'minute_sentiment_0', 'minute_sentiment_1']\n",
    "x3 = ['mpd_sentiment_1', 'minute_sentiment_0', 'minute_sentiment_1']\n",
    "x4 = ['mpd_sentiment_1', 'minute_sentiment_0', 'minute_sentiment_1']\n",
    "\n",
    "yvar0 = 'mpd_sentiment_forward_0'\n",
    "yvar1 = 'mpd_sentiment_forward_1'\n",
    "yvar2 = 'mpd_sentiment_forward_2'\n",
    "yvar3 = 'mpd_sentiment_forward_3'\n",
    "yvar4 = 'mpd_sentiment_forward_4'\n",
    "\n",
    "exog0 = (sm.add_constant(sentiment[x0])).dropna()\n",
    "exog1 = (sm.add_constant(sentiment[x1])).dropna()\n",
    "exog2 = (sm.add_constant(sentiment[x2])).dropna()\n",
    "exog3 = (sm.add_constant(sentiment[x3])).dropna()\n",
    "exog4 = (sm.add_constant(sentiment[x4])).dropna()\n",
    "\n",
    "reg0 = sm.OLS(endog=sentiment[yvar0].loc[exog0.index], exog=exog0).fit(cov_type = \"HC0\")\n",
    "reg1 = sm.OLS(endog=sentiment[yvar1].loc[exog1.index], exog=exog1).fit(cov_type = \"HC0\")\n",
    "reg2 = sm.OLS(endog=sentiment[yvar2].loc[exog2.index], exog=exog2).fit(cov_type = \"HC0\")\n",
    "reg3 = sm.OLS(endog=sentiment[yvar3].loc[exog3.index], exog=exog3).fit(cov_type = \"HC0\")\n",
    "reg4 = sm.OLS(endog=sentiment[yvar4].loc[exog4.index], exog=exog4).fit(cov_type = \"HC0\")\n",
    "\n",
    "stargazer = Stargazer([reg0, reg1, reg2, reg3, reg4])\n",
    "\n",
    "stargazer.title('ECB MPD Sentiment Regressed on FOMC Minute Sentiment')\n",
    "stargazer.custom_columns(['y_{t+0}', 'y_{t+1}', 'y_{t+2}', 'y_{t+3}', 'y_{t+4}'])\n",
    "stargazer.covariate_order(['const', 'mpd_sentiment_1', 'minute_sentiment_0', 'minute_sentiment_1'])\n",
    "stargazer.rename_covariates({'const': 'Constant', 'mpd_sentiment_1': 'y_{t-1}', 'minute_sentiment_0': 'x_{t}', 'minute_sentiment_1': 'x_{t-1}'})\n",
    "stargazer.show_model_numbers(False)\n",
    "stargazer.significant_digits(3)\n",
    "\n",
    "display(HTML(stargazer.render_html()))\n",
    "stargazer.render_latex()\n"
   ]
  },
  {
   "cell_type": "code",
   "execution_count": 559,
   "metadata": {},
   "outputs": [
    {
     "data": {
      "text/html": [
       "FOMC Minute Sentiment Regressed on ECB MPD Sentiment<br><table style=\"text-align:center\"><tr><td colspan=\"6\" style=\"border-bottom: 1px solid black\"></td></tr>\n",
       "<tr><td style=\"text-align:left\"></td><tr><td></td><td colspan=\"1\">y_{t+0}</td><td colspan=\"1\">y_{t+1}</td><td colspan=\"1\">y_{t+2}</td><td colspan=\"1\">y_{t+3}</td><td colspan=\"1\">y_{t+4}</td></tr>\n",
       "<tr><td colspan=\"6\" style=\"border-bottom: 1px solid black\"></td></tr>\n",
       "\n",
       "<tr><td style=\"text-align:left\">Constant</td><td>-0.035<sup>**</sup></td><td>-0.042<sup>**</sup></td><td>-0.026<sup></sup></td><td>-0.002<sup></sup></td><td>0.013<sup></sup></td></tr>\n",
       "<tr><td style=\"text-align:left\"></td><td>(0.016)</td><td>(0.020)</td><td>(0.021)</td><td>(0.022)</td><td>(0.022)</td></tr>\n",
       "<tr><td style=\"text-align:left\">y_{t-1}</td><td>0.630<sup>***</sup></td><td>0.424<sup>***</sup></td><td>0.306<sup>***</sup></td><td>0.287<sup>***</sup></td><td>0.198<sup>**</sup></td></tr>\n",
       "<tr><td style=\"text-align:left\"></td><td>(0.080)</td><td>(0.095)</td><td>(0.109)</td><td>(0.089)</td><td>(0.095)</td></tr>\n",
       "<tr><td style=\"text-align:left\">x_{t}</td><td>0.095<sup></sup></td><td>0.215<sup>***</sup></td><td>0.164<sup>**</sup></td><td>0.163<sup>**</sup></td><td>0.007<sup></sup></td></tr>\n",
       "<tr><td style=\"text-align:left\"></td><td>(0.074)</td><td>(0.072)</td><td>(0.076)</td><td>(0.077)</td><td>(0.086)</td></tr>\n",
       "<tr><td style=\"text-align:left\">x_{t-1}</td><td>0.011<sup></sup></td><td>-0.114<sup></sup></td><td>-0.162<sup>**</sup></td><td>-0.267<sup>***</sup></td><td>-0.193<sup>**</sup></td></tr>\n",
       "<tr><td style=\"text-align:left\"></td><td>(0.069)</td><td>(0.075)</td><td>(0.082)</td><td>(0.077)</td><td>(0.088)</td></tr>\n",
       "\n",
       "<td colspan=\"6\" style=\"border-bottom: 1px solid black\"></td></tr>\n",
       "<tr><td style=\"text-align: left\">Observations</td><td>90</td><td>90</td><td>90</td><td>90</td><td>90</td></tr><tr><td style=\"text-align: left\">R<sup>2</sup></td><td>0.450</td><td>0.241</td><td>0.125</td><td>0.137</td><td>0.092</td></tr><tr><td style=\"text-align: left\">Adjusted R<sup>2</sup></td><td>0.430</td><td>0.215</td><td>0.095</td><td>0.107</td><td>0.061</td></tr><tr><td style=\"text-align: left\">Residual Std. Error</td><td>0.091 (df=86)</td><td>0.106 (df=86)</td><td>0.109 (df=86)</td><td>0.109 (df=86)</td><td>0.112 (df=86)</td></tr><tr><td style=\"text-align: left\">F Statistic</td><td>23.092<sup>***</sup> (df=3; 86)</td><td>8.528<sup>***</sup> (df=3; 86)</td><td>3.731<sup>**</sup> (df=3; 86)</td><td>6.347<sup>***</sup> (df=3; 86)</td><td>3.388<sup>**</sup> (df=3; 86)</td></tr>\n",
       "<tr><td colspan=\"6\" style=\"border-bottom: 1px solid black\"></td></tr><tr><td style=\"text-align: left\">Note:</td><td colspan=\"5\" style=\"text-align: right\"><sup>*</sup>p&lt;0.1; <sup>**</sup>p&lt;0.05; <sup>***</sup>p&lt;0.01</td></tr></table>"
      ],
      "text/plain": [
       "<IPython.core.display.HTML object>"
      ]
     },
     "metadata": {},
     "output_type": "display_data"
    },
    {
     "data": {
      "text/plain": [
       "'\\\\begin{table}[!htbp] \\\\centering\\n  \\\\caption{FOMC Minute Sentiment Regressed on ECB MPD Sentiment}\\n\\\\begin{tabular}{@{\\\\extracolsep{5pt}}lccccc}\\n\\\\\\\\[-1.8ex]\\\\hline\\n\\\\hline \\\\\\\\[-1.8ex]\\n\\\\\\\\[-1.8ex] & \\\\multicolumn{1}{c}{y_{t+0}} & \\\\multicolumn{1}{c}{y_{t+1}} & \\\\multicolumn{1}{c}{y_{t+2}} & \\\\multicolumn{1}{c}{y_{t+3}} & \\\\multicolumn{1}{c}{y_{t+4}}  \\\\\\\\\\n\\\\hline \\\\\\\\[-1.8ex]\\n Constant & -0.035$^{**}$ & -0.042$^{**}$ & -0.026$^{}$ & -0.002$^{}$ & 0.013$^{}$ \\\\\\\\\\n& (0.016) & (0.020) & (0.021) & (0.022) & (0.022) \\\\\\\\\\n y_{t-1} & 0.630$^{***}$ & 0.424$^{***}$ & 0.306$^{***}$ & 0.287$^{***}$ & 0.198$^{**}$ \\\\\\\\\\n& (0.080) & (0.095) & (0.109) & (0.089) & (0.095) \\\\\\\\\\n x_{t} & 0.095$^{}$ & 0.215$^{***}$ & 0.164$^{**}$ & 0.163$^{**}$ & 0.007$^{}$ \\\\\\\\\\n& (0.074) & (0.072) & (0.076) & (0.077) & (0.086) \\\\\\\\\\n x_{t-1} & 0.011$^{}$ & -0.114$^{}$ & -0.162$^{**}$ & -0.267$^{***}$ & -0.193$^{**}$ \\\\\\\\\\n& (0.069) & (0.075) & (0.082) & (0.077) & (0.088) \\\\\\\\\\n\\\\hline \\\\\\\\[-1.8ex]\\n Observations & 90 & 90 & 90 & 90 & 90 \\\\\\\\\\n $R^2$ & 0.450 & 0.241 & 0.125 & 0.137 & 0.092 \\\\\\\\\\n Adjusted $R^2$ & 0.430 & 0.215 & 0.095 & 0.107 & 0.061 \\\\\\\\\\n Residual Std. Error & 0.091 (df=86) & 0.106 (df=86) & 0.109 (df=86) & 0.109 (df=86) & 0.112 (df=86) \\\\\\\\\\n F Statistic & 23.092$^{***}$ (df=3; 86) & 8.528$^{***}$ (df=3; 86) & 3.731$^{**}$ (df=3; 86) & 6.347$^{***}$ (df=3; 86) & 3.388$^{**}$ (df=3; 86) \\\\\\\\\\n\\\\hline\\n\\\\hline \\\\\\\\[-1.8ex]\\n\\\\textit{Note:} & \\\\multicolumn{5}{r}{$^{*}$p$<$0.1; $^{**}$p$<$0.05; $^{***}$p$<$0.01} \\\\\\\\\\n\\\\end{tabular}\\n\\\\end{table}'"
      ]
     },
     "execution_count": 559,
     "metadata": {},
     "output_type": "execute_result"
    }
   ],
   "source": [
    "x0 = ['minute_sentiment_1', 'mpd_sentiment_0', 'mpd_sentiment_1']\n",
    "x1 = ['minute_sentiment_1', 'mpd_sentiment_0', 'mpd_sentiment_1']\n",
    "x2 = ['minute_sentiment_1', 'mpd_sentiment_0', 'mpd_sentiment_1']\n",
    "x3 = ['minute_sentiment_1', 'mpd_sentiment_0', 'mpd_sentiment_1']\n",
    "x4 = ['minute_sentiment_1', 'mpd_sentiment_0', 'mpd_sentiment_1']\n",
    "\n",
    "yvar0 = 'minute_sentiment_forward_0'\n",
    "yvar1 = 'minute_sentiment_forward_1'\n",
    "yvar2 = 'minute_sentiment_forward_2'\n",
    "yvar3 = 'minute_sentiment_forward_3'\n",
    "yvar4 = 'minute_sentiment_forward_4'\n",
    "\n",
    "exog0 = (sm.add_constant(sentiment[x0])).dropna()\n",
    "exog1 = (sm.add_constant(sentiment[x1])).dropna()\n",
    "exog2 = (sm.add_constant(sentiment[x2])).dropna()\n",
    "exog3 = (sm.add_constant(sentiment[x3])).dropna()\n",
    "exog4 = (sm.add_constant(sentiment[x4])).dropna()\n",
    "\n",
    "reg0 = sm.OLS(endog=sentiment[yvar0].loc[exog0.index], exog=exog0).fit(cov_type = \"HC0\")\n",
    "reg1 = sm.OLS(endog=sentiment[yvar1].loc[exog1.index], exog=exog1).fit(cov_type = \"HC0\")\n",
    "reg2 = sm.OLS(endog=sentiment[yvar2].loc[exog2.index], exog=exog2).fit(cov_type = \"HC0\")\n",
    "reg3 = sm.OLS(endog=sentiment[yvar3].loc[exog3.index], exog=exog3).fit(cov_type = \"HC0\")\n",
    "reg4 = sm.OLS(endog=sentiment[yvar4].loc[exog4.index], exog=exog4).fit(cov_type = \"HC0\")\n",
    "\n",
    "stargazer = Stargazer([reg0, reg1, reg2, reg3, reg4])\n",
    "stargazer.title('FOMC Minute Sentiment Regressed on ECB MPD Sentiment')\n",
    "stargazer.custom_columns(['y_{t+0}', 'y_{t+1}', 'y_{t+2}', 'y_{t+3}', 'y_{t+4}'])\n",
    "stargazer.show_model_numbers(False)\n",
    "stargazer.significant_digits(3)\n",
    "stargazer.covariate_order(['const', 'minute_sentiment_1', 'mpd_sentiment_0', 'mpd_sentiment_1'])\n",
    "stargazer.rename_covariates({'const': 'Constant', 'minute_sentiment_1': 'y_{t-1}', 'mpd_sentiment_0': 'x_{t}', 'mpd_sentiment_1': 'x_{t-1}'})\n",
    "display(HTML(stargazer.render_html()))\n",
    "stargazer.render_latex()"
   ]
  },
  {
   "cell_type": "code",
   "execution_count": 560,
   "metadata": {},
   "outputs": [],
   "source": [
    "#Taylor Series Regressions"
   ]
  },
  {
   "cell_type": "code",
   "execution_count": 561,
   "metadata": {},
   "outputs": [
    {
     "data": {
      "text/html": [
       "Taylor Rule US Regressed on FOMC Minute Sentiment<br><table style=\"text-align:center\"><tr><td colspan=\"6\" style=\"border-bottom: 1px solid black\"></td></tr>\n",
       "<tr><td style=\"text-align:left\"></td><tr><td></td><td colspan=\"1\">y_{t+0}</td><td colspan=\"1\">y_{t+1}</td><td colspan=\"1\">y_{t+2}</td><td colspan=\"1\">y_{t+3}</td><td colspan=\"1\">y_{t+4}</td></tr>\n",
       "<tr><td colspan=\"6\" style=\"border-bottom: 1px solid black\"></td></tr>\n",
       "\n",
       "<tr><td style=\"text-align:left\">Constant</td><td>0.470<sup>*</sup></td><td>1.076<sup>***</sup></td><td>1.766<sup>***</sup></td><td>2.558<sup>***</sup></td><td>3.322<sup>***</sup></td></tr>\n",
       "<tr><td style=\"text-align:left\"></td><td>(0.244)</td><td>(0.334)</td><td>(0.418)</td><td>(0.531)</td><td>(0.557)</td></tr>\n",
       "<tr><td style=\"text-align:left\">y_{t-1}</td><td>0.922<sup>***</sup></td><td>0.795<sup>***</sup></td><td>0.634<sup>***</sup></td><td>0.428<sup>***</sup></td><td>0.215<sup>*</sup></td></tr>\n",
       "<tr><td style=\"text-align:left\"></td><td>(0.060)</td><td>(0.088)</td><td>(0.106)</td><td>(0.129)</td><td>(0.130)</td></tr>\n",
       "<tr><td style=\"text-align:left\">x_{t}</td><td>4.517<sup>***</sup></td><td>5.446<sup>***</sup></td><td>8.018<sup>***</sup></td><td>9.340<sup>***</sup></td><td>9.248<sup>***</sup></td></tr>\n",
       "<tr><td style=\"text-align:left\"></td><td>(1.561)</td><td>(1.248)</td><td>(1.751)</td><td>(2.259)</td><td>(2.824)</td></tr>\n",
       "<tr><td style=\"text-align:left\">x_{t-1}</td><td>-0.421<sup></sup></td><td>1.994<sup></sup></td><td>2.198<sup></sup></td><td>2.504<sup></sup></td><td>3.291<sup></sup></td></tr>\n",
       "<tr><td style=\"text-align:left\"></td><td>(1.159)</td><td>(1.457)</td><td>(1.442)</td><td>(1.797)</td><td>(2.284)</td></tr>\n",
       "\n",
       "<td colspan=\"6\" style=\"border-bottom: 1px solid black\"></td></tr>\n",
       "<tr><td style=\"text-align: left\">Observations</td><td>90</td><td>90</td><td>90</td><td>90</td><td>90</td></tr><tr><td style=\"text-align: left\">R<sup>2</sup></td><td>0.868</td><td>0.754</td><td>0.635</td><td>0.488</td><td>0.358</td></tr><tr><td style=\"text-align: left\">Adjusted R<sup>2</sup></td><td>0.864</td><td>0.745</td><td>0.622</td><td>0.470</td><td>0.335</td></tr><tr><td style=\"text-align: left\">Residual Std. Error</td><td>0.911 (df=86)</td><td>1.320 (df=86)</td><td>1.665 (df=86)</td><td>2.009 (df=86)</td><td>2.257 (df=86)</td></tr><tr><td style=\"text-align: left\">F Statistic</td><td>92.329<sup>***</sup> (df=3; 86)</td><td>58.463<sup>***</sup> (df=3; 86)</td><td>34.453<sup>***</sup> (df=3; 86)</td><td>21.181<sup>***</sup> (df=3; 86)</td><td>14.724<sup>***</sup> (df=3; 86)</td></tr>\n",
       "<tr><td colspan=\"6\" style=\"border-bottom: 1px solid black\"></td></tr><tr><td style=\"text-align: left\">Note:</td><td colspan=\"5\" style=\"text-align: right\"><sup>*</sup>p&lt;0.1; <sup>**</sup>p&lt;0.05; <sup>***</sup>p&lt;0.01</td></tr></table>"
      ],
      "text/plain": [
       "<IPython.core.display.HTML object>"
      ]
     },
     "metadata": {},
     "output_type": "display_data"
    },
    {
     "data": {
      "text/plain": [
       "'\\\\begin{table}[!htbp] \\\\centering\\n  \\\\caption{Taylor Rule US Regressed on FOMC Minute Sentiment}\\n\\\\begin{tabular}{@{\\\\extracolsep{5pt}}lccccc}\\n\\\\\\\\[-1.8ex]\\\\hline\\n\\\\hline \\\\\\\\[-1.8ex]\\n\\\\\\\\[-1.8ex] & \\\\multicolumn{1}{c}{y_{t+0}} & \\\\multicolumn{1}{c}{y_{t+1}} & \\\\multicolumn{1}{c}{y_{t+2}} & \\\\multicolumn{1}{c}{y_{t+3}} & \\\\multicolumn{1}{c}{y_{t+4}}  \\\\\\\\\\n\\\\hline \\\\\\\\[-1.8ex]\\n Constant & 0.470$^{*}$ & 1.076$^{***}$ & 1.766$^{***}$ & 2.558$^{***}$ & 3.322$^{***}$ \\\\\\\\\\n& (0.244) & (0.334) & (0.418) & (0.531) & (0.557) \\\\\\\\\\n y_{t-1} & 0.922$^{***}$ & 0.795$^{***}$ & 0.634$^{***}$ & 0.428$^{***}$ & 0.215$^{*}$ \\\\\\\\\\n& (0.060) & (0.088) & (0.106) & (0.129) & (0.130) \\\\\\\\\\n x_{t} & 4.517$^{***}$ & 5.446$^{***}$ & 8.018$^{***}$ & 9.340$^{***}$ & 9.248$^{***}$ \\\\\\\\\\n& (1.561) & (1.248) & (1.751) & (2.259) & (2.824) \\\\\\\\\\n x_{t-1} & -0.421$^{}$ & 1.994$^{}$ & 2.198$^{}$ & 2.504$^{}$ & 3.291$^{}$ \\\\\\\\\\n& (1.159) & (1.457) & (1.442) & (1.797) & (2.284) \\\\\\\\\\n\\\\hline \\\\\\\\[-1.8ex]\\n Observations & 90 & 90 & 90 & 90 & 90 \\\\\\\\\\n $R^2$ & 0.868 & 0.754 & 0.635 & 0.488 & 0.358 \\\\\\\\\\n Adjusted $R^2$ & 0.864 & 0.745 & 0.622 & 0.470 & 0.335 \\\\\\\\\\n Residual Std. Error & 0.911 (df=86) & 1.320 (df=86) & 1.665 (df=86) & 2.009 (df=86) & 2.257 (df=86) \\\\\\\\\\n F Statistic & 92.329$^{***}$ (df=3; 86) & 58.463$^{***}$ (df=3; 86) & 34.453$^{***}$ (df=3; 86) & 21.181$^{***}$ (df=3; 86) & 14.724$^{***}$ (df=3; 86) \\\\\\\\\\n\\\\hline\\n\\\\hline \\\\\\\\[-1.8ex]\\n\\\\textit{Note:} & \\\\multicolumn{5}{r}{$^{*}$p$<$0.1; $^{**}$p$<$0.05; $^{***}$p$<$0.01} \\\\\\\\\\n\\\\end{tabular}\\n\\\\end{table}'"
      ]
     },
     "execution_count": 561,
     "metadata": {},
     "output_type": "execute_result"
    }
   ],
   "source": [
    "x0 = ['taylor_1', 'minute_sentiment_0', 'minute_sentiment_1']\n",
    "x1 = ['taylor_1', 'minute_sentiment_0', 'minute_sentiment_1']\n",
    "x2 = ['taylor_1', 'minute_sentiment_0', 'minute_sentiment_1']\n",
    "x3 = ['taylor_1', 'minute_sentiment_0', 'minute_sentiment_1']\n",
    "x4 = ['taylor_1', 'minute_sentiment_0', 'minute_sentiment_1']\n",
    "\n",
    "yvar0 = 'taylor_forward_0'\n",
    "yvar1 = 'taylor_forward_1'\n",
    "yvar2 = 'taylor_forward_2'\n",
    "yvar3 = 'taylor_forward_3'\n",
    "yvar4 = 'taylor_forward_4'\n",
    "\n",
    "exog0 = (sm.add_constant(sentiment[x0])).dropna()\n",
    "exog1 = (sm.add_constant(sentiment[x1])).dropna()\n",
    "exog2 = (sm.add_constant(sentiment[x2])).dropna()\n",
    "exog3 = (sm.add_constant(sentiment[x3])).dropna()\n",
    "exog4 = (sm.add_constant(sentiment[x4])).dropna()\n",
    "\n",
    "reg0 = sm.OLS(endog=sentiment[yvar0].loc[exog0.index], exog=exog0).fit(cov_type = \"HC0\")\n",
    "reg1 = sm.OLS(endog=sentiment[yvar1].loc[exog1.index], exog=exog1).fit(cov_type = \"HC0\")\n",
    "reg2 = sm.OLS(endog=sentiment[yvar2].loc[exog2.index], exog=exog2).fit(cov_type = \"HC0\")\n",
    "reg3 = sm.OLS(endog=sentiment[yvar3].loc[exog3.index], exog=exog3).fit(cov_type = \"HC0\")\n",
    "reg4 = sm.OLS(endog=sentiment[yvar4].loc[exog4.index], exog=exog4).fit(cov_type = \"HC0\")\n",
    "\n",
    "stargazer = Stargazer([reg0, reg1, reg2, reg3, reg4])\n",
    "stargazer.title('Taylor Rule US Regressed on FOMC Minute Sentiment')\n",
    "stargazer.custom_columns(['y_{t+0}', 'y_{t+1}', 'y_{t+2}', 'y_{t+3}', 'y_{t+4}'])\n",
    "stargazer.show_model_numbers(False)\n",
    "stargazer.significant_digits(3)\n",
    "stargazer.covariate_order(['const', 'taylor_1', 'minute_sentiment_0', 'minute_sentiment_1'])\n",
    "stargazer.rename_covariates({'const': 'Constant', 'taylor_1': 'y_{t-1}', 'minute_sentiment_0': 'x_{t}', 'minute_sentiment_1': 'x_{t-1}'})\n",
    "display(HTML(stargazer.render_html()))\n",
    "stargazer.render_latex()\n"
   ]
  },
  {
   "cell_type": "code",
   "execution_count": 562,
   "metadata": {},
   "outputs": [
    {
     "data": {
      "text/html": [
       "Taylor Rule EU Regressed on ECB MPD Sentiment<br><table style=\"text-align:center\"><tr><td colspan=\"6\" style=\"border-bottom: 1px solid black\"></td></tr>\n",
       "<tr><td style=\"text-align:left\"></td><tr><td></td><td colspan=\"1\">y_{t+0}</td><td colspan=\"1\">y_{t+1}</td><td colspan=\"1\">y_{t+2}</td><td colspan=\"1\">y_{t+3}</td><td colspan=\"1\">y_{t+4}</td></tr>\n",
       "<tr><td colspan=\"6\" style=\"border-bottom: 1px solid black\"></td></tr>\n",
       "\n",
       "<tr><td style=\"text-align:left\">Constant</td><td>-0.109<sup></sup></td><td>-0.069<sup></sup></td><td>0.138<sup></sup></td><td>0.453<sup></sup></td><td>0.826<sup>*</sup></td></tr>\n",
       "<tr><td style=\"text-align:left\"></td><td>(0.125)</td><td>(0.202)</td><td>(0.282)</td><td>(0.386)</td><td>(0.487)</td></tr>\n",
       "<tr><td style=\"text-align:left\">y_{t-1}</td><td>1.022<sup>***</sup></td><td>1.013<sup>***</sup></td><td>0.984<sup>***</sup></td><td>0.926<sup>***</sup></td><td>0.862<sup>***</sup></td></tr>\n",
       "<tr><td style=\"text-align:left\"></td><td>(0.032)</td><td>(0.059)</td><td>(0.088)</td><td>(0.111)</td><td>(0.129)</td></tr>\n",
       "<tr><td style=\"text-align:left\">x_{t}</td><td>0.176<sup></sup></td><td>0.587<sup></sup></td><td>0.778<sup></sup></td><td>0.337<sup></sup></td><td>0.420<sup></sup></td></tr>\n",
       "<tr><td style=\"text-align:left\"></td><td>(0.322)</td><td>(0.645)</td><td>(0.875)</td><td>(0.972)</td><td>(1.135)</td></tr>\n",
       "<tr><td style=\"text-align:left\">x_{t-1}</td><td>0.375<sup></sup></td><td>0.229<sup></sup></td><td>-0.119<sup></sup></td><td>0.011<sup></sup></td><td>-0.541<sup></sup></td></tr>\n",
       "<tr><td style=\"text-align:left\"></td><td>(0.393)</td><td>(0.620)</td><td>(0.841)</td><td>(1.079)</td><td>(1.298)</td></tr>\n",
       "\n",
       "<td colspan=\"6\" style=\"border-bottom: 1px solid black\"></td></tr>\n",
       "<tr><td style=\"text-align: left\">Observations</td><td>90</td><td>90</td><td>90</td><td>90</td><td>90</td></tr><tr><td style=\"text-align: left\">R<sup>2</sup></td><td>0.925</td><td>0.786</td><td>0.627</td><td>0.478</td><td>0.361</td></tr><tr><td style=\"text-align: left\">Adjusted R<sup>2</sup></td><td>0.922</td><td>0.779</td><td>0.614</td><td>0.460</td><td>0.338</td></tr><tr><td style=\"text-align: left\">Residual Std. Error</td><td>0.511 (df=86)</td><td>0.920 (df=86)</td><td>1.321 (df=86)</td><td>1.691 (df=86)</td><td>2.019 (df=86)</td></tr><tr><td style=\"text-align: left\">F Statistic</td><td>398.984<sup>***</sup> (df=3; 86)</td><td>129.327<sup>***</sup> (df=3; 86)</td><td>54.260<sup>***</sup> (df=3; 86)</td><td>27.035<sup>***</sup> (df=3; 86)</td><td>16.207<sup>***</sup> (df=3; 86)</td></tr>\n",
       "<tr><td colspan=\"6\" style=\"border-bottom: 1px solid black\"></td></tr><tr><td style=\"text-align: left\">Note:</td><td colspan=\"5\" style=\"text-align: right\"><sup>*</sup>p&lt;0.1; <sup>**</sup>p&lt;0.05; <sup>***</sup>p&lt;0.01</td></tr></table>"
      ],
      "text/plain": [
       "<IPython.core.display.HTML object>"
      ]
     },
     "metadata": {},
     "output_type": "display_data"
    },
    {
     "data": {
      "text/plain": [
       "'\\\\begin{table}[!htbp] \\\\centering\\n  \\\\caption{Taylor Rule EU Regressed on ECB MPD Sentiment}\\n\\\\begin{tabular}{@{\\\\extracolsep{5pt}}lccccc}\\n\\\\\\\\[-1.8ex]\\\\hline\\n\\\\hline \\\\\\\\[-1.8ex]\\n\\\\\\\\[-1.8ex] & \\\\multicolumn{1}{c}{y_{t+0}} & \\\\multicolumn{1}{c}{y_{t+1}} & \\\\multicolumn{1}{c}{y_{t+2}} & \\\\multicolumn{1}{c}{y_{t+3}} & \\\\multicolumn{1}{c}{y_{t+4}}  \\\\\\\\\\n\\\\hline \\\\\\\\[-1.8ex]\\n Constant & -0.109$^{}$ & -0.069$^{}$ & 0.138$^{}$ & 0.453$^{}$ & 0.826$^{*}$ \\\\\\\\\\n& (0.125) & (0.202) & (0.282) & (0.386) & (0.487) \\\\\\\\\\n y_{t-1} & 1.022$^{***}$ & 1.013$^{***}$ & 0.984$^{***}$ & 0.926$^{***}$ & 0.862$^{***}$ \\\\\\\\\\n& (0.032) & (0.059) & (0.088) & (0.111) & (0.129) \\\\\\\\\\n x_{t} & 0.176$^{}$ & 0.587$^{}$ & 0.778$^{}$ & 0.337$^{}$ & 0.420$^{}$ \\\\\\\\\\n& (0.322) & (0.645) & (0.875) & (0.972) & (1.135) \\\\\\\\\\n x_{t-1} & 0.375$^{}$ & 0.229$^{}$ & -0.119$^{}$ & 0.011$^{}$ & -0.541$^{}$ \\\\\\\\\\n& (0.393) & (0.620) & (0.841) & (1.079) & (1.298) \\\\\\\\\\n\\\\hline \\\\\\\\[-1.8ex]\\n Observations & 90 & 90 & 90 & 90 & 90 \\\\\\\\\\n $R^2$ & 0.925 & 0.786 & 0.627 & 0.478 & 0.361 \\\\\\\\\\n Adjusted $R^2$ & 0.922 & 0.779 & 0.614 & 0.460 & 0.338 \\\\\\\\\\n Residual Std. Error & 0.511 (df=86) & 0.920 (df=86) & 1.321 (df=86) & 1.691 (df=86) & 2.019 (df=86) \\\\\\\\\\n F Statistic & 398.984$^{***}$ (df=3; 86) & 129.327$^{***}$ (df=3; 86) & 54.260$^{***}$ (df=3; 86) & 27.035$^{***}$ (df=3; 86) & 16.207$^{***}$ (df=3; 86) \\\\\\\\\\n\\\\hline\\n\\\\hline \\\\\\\\[-1.8ex]\\n\\\\textit{Note:} & \\\\multicolumn{5}{r}{$^{*}$p$<$0.1; $^{**}$p$<$0.05; $^{***}$p$<$0.01} \\\\\\\\\\n\\\\end{tabular}\\n\\\\end{table}'"
      ]
     },
     "execution_count": 562,
     "metadata": {},
     "output_type": "execute_result"
    }
   ],
   "source": [
    "x0 = ['taylor_euro_1', 'mpd_sentiment_0', 'mpd_sentiment_1']\n",
    "x1 = ['taylor_euro_1', 'mpd_sentiment_0', 'mpd_sentiment_1']\n",
    "x2 = ['taylor_euro_1', 'mpd_sentiment_0', 'mpd_sentiment_1']\n",
    "x3 = ['taylor_euro_1', 'mpd_sentiment_0', 'mpd_sentiment_1']\n",
    "x4 = ['taylor_euro_1', 'mpd_sentiment_0', 'mpd_sentiment_1']\n",
    "\n",
    "yvar0 = 'taylor_euro_forward_0'\n",
    "yvar1 = 'taylor_euro_forward_1'\n",
    "yvar2 = 'taylor_euro_forward_2'\n",
    "yvar3 = 'taylor_euro_forward_3'\n",
    "yvar4 = 'taylor_euro_forward_4'\n",
    "\n",
    "exog0 = (sm.add_constant(sentiment[x0])).dropna()\n",
    "exog1 = (sm.add_constant(sentiment[x1])).dropna()\n",
    "exog2 = (sm.add_constant(sentiment[x2])).dropna()\n",
    "exog3 = (sm.add_constant(sentiment[x3])).dropna()\n",
    "exog4 = (sm.add_constant(sentiment[x4])).dropna()\n",
    "\n",
    "reg0 = sm.OLS(endog=sentiment[yvar0].loc[exog0.index], exog=exog0).fit(cov_type = \"HC0\")\n",
    "reg1 = sm.OLS(endog=sentiment[yvar1].loc[exog1.index], exog=exog1).fit(cov_type = \"HC0\")\n",
    "reg2 = sm.OLS(endog=sentiment[yvar2].loc[exog2.index], exog=exog2).fit(cov_type = \"HC0\")\n",
    "reg3 = sm.OLS(endog=sentiment[yvar3].loc[exog3.index], exog=exog3).fit(cov_type = \"HC0\")\n",
    "reg4 = sm.OLS(endog=sentiment[yvar4].loc[exog4.index], exog=exog4).fit(cov_type = \"HC0\")\n",
    "\n",
    "stargazer = Stargazer([reg0, reg1, reg2, reg3, reg4])\n",
    "stargazer.title('Taylor Rule EU Regressed on ECB MPD Sentiment')\n",
    "stargazer.custom_columns(['y_{t+0}', 'y_{t+1}', 'y_{t+2}', 'y_{t+3}', 'y_{t+4}'])\n",
    "stargazer.show_model_numbers(False)\n",
    "stargazer.significant_digits(3)\n",
    "stargazer.covariate_order(['const', 'taylor_euro_1', 'mpd_sentiment_0', 'mpd_sentiment_1'])\n",
    "stargazer.rename_covariates({'const': 'Constant', 'taylor_euro_1': 'y_{t-1}', 'mpd_sentiment_0': 'x_{t}', 'mpd_sentiment_1': 'x_{t-1}'})\n",
    "display(HTML(stargazer.render_html()))\n",
    "stargazer.render_latex()"
   ]
  },
  {
   "cell_type": "code",
   "execution_count": 563,
   "metadata": {},
   "outputs": [],
   "source": [
    "#Interest Rate Analysis"
   ]
  },
  {
   "cell_type": "code",
   "execution_count": 564,
   "metadata": {},
   "outputs": [
    {
     "data": {
      "text/html": [
       "US Federal Funds Rate Regressed on FOMC Minute Sentiment<br><table style=\"text-align:center\"><tr><td colspan=\"6\" style=\"border-bottom: 1px solid black\"></td></tr>\n",
       "<tr><td style=\"text-align:left\"></td><tr><td></td><td colspan=\"1\">y_{t+0}</td><td colspan=\"1\">y_{t+1}</td><td colspan=\"1\">y_{t+2}</td><td colspan=\"1\">y_{t+3}</td><td colspan=\"1\">y_{t+4}</td></tr>\n",
       "<tr><td colspan=\"6\" style=\"border-bottom: 1px solid black\"></td></tr>\n",
       "\n",
       "<tr><td style=\"text-align:left\">Constant</td><td>0.124<sup>***</sup></td><td>0.318<sup>***</sup></td><td>0.567<sup>***</sup></td><td>0.856<sup>***</sup></td><td>1.153<sup>***</sup></td></tr>\n",
       "<tr><td style=\"text-align:left\"></td><td>(0.039)</td><td>(0.078)</td><td>(0.114)</td><td>(0.142)</td><td>(0.160)</td></tr>\n",
       "<tr><td style=\"text-align:left\">y_{t-1}</td><td>0.942<sup>***</sup></td><td>0.841<sup>***</sup></td><td>0.704<sup>***</sup></td><td>0.543<sup>***</sup></td><td>0.374<sup>***</sup></td></tr>\n",
       "<tr><td style=\"text-align:left\"></td><td>(0.020)</td><td>(0.037)</td><td>(0.054)</td><td>(0.065)</td><td>(0.066)</td></tr>\n",
       "<tr><td style=\"text-align:left\">x_{t}</td><td>1.900<sup>***</sup></td><td>3.306<sup>***</sup></td><td>4.203<sup>***</sup></td><td>4.675<sup>***</sup></td><td>5.086<sup>***</sup></td></tr>\n",
       "<tr><td style=\"text-align:left\"></td><td>(0.368)</td><td>(0.561)</td><td>(0.777)</td><td>(0.954)</td><td>(1.050)</td></tr>\n",
       "<tr><td style=\"text-align:left\">x_{t-1}</td><td>0.817<sup>**</sup></td><td>1.627<sup>**</sup></td><td>2.518<sup>***</sup></td><td>3.537<sup>***</sup></td><td>4.313<sup>***</sup></td></tr>\n",
       "<tr><td style=\"text-align:left\"></td><td>(0.361)</td><td>(0.661)</td><td>(0.915)</td><td>(1.064)</td><td>(1.196)</td></tr>\n",
       "\n",
       "<td colspan=\"6\" style=\"border-bottom: 1px solid black\"></td></tr>\n",
       "<tr><td style=\"text-align: left\">Observations</td><td>90</td><td>90</td><td>90</td><td>90</td><td>90</td></tr><tr><td style=\"text-align: left\">R<sup>2</sup></td><td>0.976</td><td>0.914</td><td>0.817</td><td>0.707</td><td>0.619</td></tr><tr><td style=\"text-align: left\">Adjusted R<sup>2</sup></td><td>0.975</td><td>0.911</td><td>0.810</td><td>0.697</td><td>0.606</td></tr><tr><td style=\"text-align: left\">Residual Std. Error</td><td>0.295 (df=86)</td><td>0.545 (df=86)</td><td>0.772 (df=86)</td><td>0.949 (df=86)</td><td>1.056 (df=86)</td></tr><tr><td style=\"text-align: left\">F Statistic</td><td>1055.733<sup>***</sup> (df=3; 86)</td><td>273.177<sup>***</sup> (df=3; 86)</td><td>119.056<sup>***</sup> (df=3; 86)</td><td>64.256<sup>***</sup> (df=3; 86)</td><td>43.472<sup>***</sup> (df=3; 86)</td></tr>\n",
       "<tr><td colspan=\"6\" style=\"border-bottom: 1px solid black\"></td></tr><tr><td style=\"text-align: left\">Note:</td><td colspan=\"5\" style=\"text-align: right\"><sup>*</sup>p&lt;0.1; <sup>**</sup>p&lt;0.05; <sup>***</sup>p&lt;0.01</td></tr></table>"
      ],
      "text/plain": [
       "<IPython.core.display.HTML object>"
      ]
     },
     "metadata": {},
     "output_type": "display_data"
    },
    {
     "data": {
      "text/plain": [
       "'\\\\begin{table}[!htbp] \\\\centering\\n  \\\\caption{US Federal Funds Rate Regressed on FOMC Minute Sentiment}\\n\\\\begin{tabular}{@{\\\\extracolsep{5pt}}lccccc}\\n\\\\\\\\[-1.8ex]\\\\hline\\n\\\\hline \\\\\\\\[-1.8ex]\\n\\\\\\\\[-1.8ex] & \\\\multicolumn{1}{c}{y_{t+0}} & \\\\multicolumn{1}{c}{y_{t+1}} & \\\\multicolumn{1}{c}{y_{t+2}} & \\\\multicolumn{1}{c}{y_{t+3}} & \\\\multicolumn{1}{c}{y_{t+4}}  \\\\\\\\\\n\\\\hline \\\\\\\\[-1.8ex]\\n Constant & 0.124$^{***}$ & 0.318$^{***}$ & 0.567$^{***}$ & 0.856$^{***}$ & 1.153$^{***}$ \\\\\\\\\\n& (0.039) & (0.078) & (0.114) & (0.142) & (0.160) \\\\\\\\\\n y_{t-1} & 0.942$^{***}$ & 0.841$^{***}$ & 0.704$^{***}$ & 0.543$^{***}$ & 0.374$^{***}$ \\\\\\\\\\n& (0.020) & (0.037) & (0.054) & (0.065) & (0.066) \\\\\\\\\\n x_{t} & 1.900$^{***}$ & 3.306$^{***}$ & 4.203$^{***}$ & 4.675$^{***}$ & 5.086$^{***}$ \\\\\\\\\\n& (0.368) & (0.561) & (0.777) & (0.954) & (1.050) \\\\\\\\\\n x_{t-1} & 0.817$^{**}$ & 1.627$^{**}$ & 2.518$^{***}$ & 3.537$^{***}$ & 4.313$^{***}$ \\\\\\\\\\n& (0.361) & (0.661) & (0.915) & (1.064) & (1.196) \\\\\\\\\\n\\\\hline \\\\\\\\[-1.8ex]\\n Observations & 90 & 90 & 90 & 90 & 90 \\\\\\\\\\n $R^2$ & 0.976 & 0.914 & 0.817 & 0.707 & 0.619 \\\\\\\\\\n Adjusted $R^2$ & 0.975 & 0.911 & 0.810 & 0.697 & 0.606 \\\\\\\\\\n Residual Std. Error & 0.295 (df=86) & 0.545 (df=86) & 0.772 (df=86) & 0.949 (df=86) & 1.056 (df=86) \\\\\\\\\\n F Statistic & 1055.733$^{***}$ (df=3; 86) & 273.177$^{***}$ (df=3; 86) & 119.056$^{***}$ (df=3; 86) & 64.256$^{***}$ (df=3; 86) & 43.472$^{***}$ (df=3; 86) \\\\\\\\\\n\\\\hline\\n\\\\hline \\\\\\\\[-1.8ex]\\n\\\\textit{Note:} & \\\\multicolumn{5}{r}{$^{*}$p$<$0.1; $^{**}$p$<$0.05; $^{***}$p$<$0.01} \\\\\\\\\\n\\\\end{tabular}\\n\\\\end{table}'"
      ]
     },
     "execution_count": 564,
     "metadata": {},
     "output_type": "execute_result"
    }
   ],
   "source": [
    "x0 = ['fedfunds_1', 'minute_sentiment_0', 'minute_sentiment_1']\n",
    "x1 = ['fedfunds_1', 'minute_sentiment_0', 'minute_sentiment_1']\n",
    "x2 = ['fedfunds_1', 'minute_sentiment_0', 'minute_sentiment_1']\n",
    "x3 = ['fedfunds_1', 'minute_sentiment_0', 'minute_sentiment_1']\n",
    "x4 = ['fedfunds_1', 'minute_sentiment_0', 'minute_sentiment_1']\n",
    "\n",
    "yvar0 = 'fedfunds_forward_0'\n",
    "yvar1 = 'fedfunds_forward_1'\n",
    "yvar2 = 'fedfunds_forward_2'\n",
    "yvar3 = 'fedfunds_forward_3'\n",
    "yvar4 = 'fedfunds_forward_4'\n",
    "\n",
    "exog0 = (sm.add_constant(sentiment[x0])).dropna()\n",
    "exog1 = (sm.add_constant(sentiment[x1])).dropna()\n",
    "exog2 = (sm.add_constant(sentiment[x2])).dropna()\n",
    "exog3 = (sm.add_constant(sentiment[x3])).dropna()\n",
    "exog4 = (sm.add_constant(sentiment[x4])).dropna()\n",
    "\n",
    "reg0 = sm.OLS(endog=sentiment[yvar0].loc[exog0.index], exog=exog0).fit(cov_type = \"HC0\")\n",
    "reg1 = sm.OLS(endog=sentiment[yvar1].loc[exog1.index], exog=exog1).fit(cov_type = \"HC0\")\n",
    "reg2 = sm.OLS(endog=sentiment[yvar2].loc[exog2.index], exog=exog2).fit(cov_type = \"HC0\")\n",
    "reg3 = sm.OLS(endog=sentiment[yvar3].loc[exog3.index], exog=exog3).fit(cov_type = \"HC0\")\n",
    "reg4 = sm.OLS(endog=sentiment[yvar4].loc[exog4.index], exog=exog4).fit(cov_type = \"HC0\")\n",
    "\n",
    "stargazer = Stargazer([reg0, reg1, reg2, reg3, reg4])\n",
    "stargazer.title('US Federal Funds Rate Regressed on FOMC Minute Sentiment')\n",
    "stargazer.custom_columns(['y_{t+0}', 'y_{t+1}', 'y_{t+2}', 'y_{t+3}', 'y_{t+4}'])\n",
    "stargazer.show_model_numbers(False)\n",
    "stargazer.significant_digits(3)\n",
    "stargazer.covariate_order(['const', 'fedfunds_1', 'minute_sentiment_0', 'minute_sentiment_1'])\n",
    "stargazer.rename_covariates({'const': 'Constant', 'fedfunds_1': 'y_{t-1}', 'minute_sentiment_0': 'x_{t}', 'minute_sentiment_1': 'x_{t-1}'})\n",
    "display(HTML(stargazer.render_html()))\n",
    "stargazer.render_latex()"
   ]
  },
  {
   "cell_type": "code",
   "execution_count": 565,
   "metadata": {},
   "outputs": [
    {
     "data": {
      "text/html": [
       "EU Refinancing Rate Regressed on ECB MPD Sentiment<br><table style=\"text-align:center\"><tr><td colspan=\"6\" style=\"border-bottom: 1px solid black\"></td></tr>\n",
       "<tr><td style=\"text-align:left\"></td><tr><td></td><td colspan=\"1\">y_{t+0}</td><td colspan=\"1\">y_{t+1}</td><td colspan=\"1\">y_{t+2}</td><td colspan=\"1\">y_{t+3}</td><td colspan=\"1\">y_{t+4}</td></tr>\n",
       "<tr><td colspan=\"6\" style=\"border-bottom: 1px solid black\"></td></tr>\n",
       "\n",
       "<tr><td style=\"text-align:left\">Constant</td><td>-0.149<sup>***</sup></td><td>-0.246<sup>***</sup></td><td>-0.256<sup>*</sup></td><td>-0.172<sup></sup></td><td>-0.029<sup></sup></td></tr>\n",
       "<tr><td style=\"text-align:left\"></td><td>(0.047)</td><td>(0.086)</td><td>(0.132)</td><td>(0.183)</td><td>(0.230)</td></tr>\n",
       "<tr><td style=\"text-align:left\">y_{t-1}</td><td>0.964<sup>***</sup></td><td>0.901<sup>***</sup></td><td>0.825<sup>***</sup></td><td>0.746<sup>***</sup></td><td>0.666<sup>***</sup></td></tr>\n",
       "<tr><td style=\"text-align:left\"></td><td>(0.029)</td><td>(0.048)</td><td>(0.060)</td><td>(0.066)</td><td>(0.069)</td></tr>\n",
       "<tr><td style=\"text-align:left\">x_{t}</td><td>0.136<sup></sup></td><td>0.514<sup></sup></td><td>0.839<sup></sup></td><td>1.119<sup>*</sup></td><td>1.019<sup></sup></td></tr>\n",
       "<tr><td style=\"text-align:left\"></td><td>(0.218)</td><td>(0.386)</td><td>(0.552)</td><td>(0.661)</td><td>(0.739)</td></tr>\n",
       "<tr><td style=\"text-align:left\">x_{t-1}</td><td>0.602<sup>**</sup></td><td>0.921<sup>**</sup></td><td>1.036<sup>**</sup></td><td>0.847<sup></sup></td><td>0.803<sup></sup></td></tr>\n",
       "<tr><td style=\"text-align:left\"></td><td>(0.282)</td><td>(0.411)</td><td>(0.478)</td><td>(0.524)</td><td>(0.554)</td></tr>\n",
       "\n",
       "<td colspan=\"6\" style=\"border-bottom: 1px solid black\"></td></tr>\n",
       "<tr><td style=\"text-align: left\">Observations</td><td>90</td><td>90</td><td>90</td><td>90</td><td>90</td></tr><tr><td style=\"text-align: left\">R<sup>2</sup></td><td>0.968</td><td>0.906</td><td>0.823</td><td>0.715</td><td>0.593</td></tr><tr><td style=\"text-align: left\">Adjusted R<sup>2</sup></td><td>0.967</td><td>0.903</td><td>0.816</td><td>0.706</td><td>0.579</td></tr><tr><td style=\"text-align: left\">Residual Std. Error</td><td>0.280 (df=86)</td><td>0.477 (df=86)</td><td>0.646 (df=86)</td><td>0.804 (df=86)</td><td>0.948 (df=86)</td></tr><tr><td style=\"text-align: left\">F Statistic</td><td>773.675<sup>***</sup> (df=3; 86)</td><td>240.099<sup>***</sup> (df=3; 86)</td><td>104.424<sup>***</sup> (df=3; 86)</td><td>54.955<sup>***</sup> (df=3; 86)</td><td>34.378<sup>***</sup> (df=3; 86)</td></tr>\n",
       "<tr><td colspan=\"6\" style=\"border-bottom: 1px solid black\"></td></tr><tr><td style=\"text-align: left\">Note:</td><td colspan=\"5\" style=\"text-align: right\"><sup>*</sup>p&lt;0.1; <sup>**</sup>p&lt;0.05; <sup>***</sup>p&lt;0.01</td></tr></table>"
      ],
      "text/plain": [
       "<IPython.core.display.HTML object>"
      ]
     },
     "metadata": {},
     "output_type": "display_data"
    },
    {
     "data": {
      "text/plain": [
       "'\\\\begin{table}[!htbp] \\\\centering\\n  \\\\caption{EU Refinancing Rate Regressed on ECB MPD Sentiment}\\n\\\\begin{tabular}{@{\\\\extracolsep{5pt}}lccccc}\\n\\\\\\\\[-1.8ex]\\\\hline\\n\\\\hline \\\\\\\\[-1.8ex]\\n\\\\\\\\[-1.8ex] & \\\\multicolumn{1}{c}{y_{t+0}} & \\\\multicolumn{1}{c}{y_{t+1}} & \\\\multicolumn{1}{c}{y_{t+2}} & \\\\multicolumn{1}{c}{y_{t+3}} & \\\\multicolumn{1}{c}{y_{t+4}}  \\\\\\\\\\n\\\\hline \\\\\\\\[-1.8ex]\\n Constant & -0.149$^{***}$ & -0.246$^{***}$ & -0.256$^{*}$ & -0.172$^{}$ & -0.029$^{}$ \\\\\\\\\\n& (0.047) & (0.086) & (0.132) & (0.183) & (0.230) \\\\\\\\\\n y_{t-1} & 0.964$^{***}$ & 0.901$^{***}$ & 0.825$^{***}$ & 0.746$^{***}$ & 0.666$^{***}$ \\\\\\\\\\n& (0.029) & (0.048) & (0.060) & (0.066) & (0.069) \\\\\\\\\\n x_{t} & 0.136$^{}$ & 0.514$^{}$ & 0.839$^{}$ & 1.119$^{*}$ & 1.019$^{}$ \\\\\\\\\\n& (0.218) & (0.386) & (0.552) & (0.661) & (0.739) \\\\\\\\\\n x_{t-1} & 0.602$^{**}$ & 0.921$^{**}$ & 1.036$^{**}$ & 0.847$^{}$ & 0.803$^{}$ \\\\\\\\\\n& (0.282) & (0.411) & (0.478) & (0.524) & (0.554) \\\\\\\\\\n\\\\hline \\\\\\\\[-1.8ex]\\n Observations & 90 & 90 & 90 & 90 & 90 \\\\\\\\\\n $R^2$ & 0.968 & 0.906 & 0.823 & 0.715 & 0.593 \\\\\\\\\\n Adjusted $R^2$ & 0.967 & 0.903 & 0.816 & 0.706 & 0.579 \\\\\\\\\\n Residual Std. Error & 0.280 (df=86) & 0.477 (df=86) & 0.646 (df=86) & 0.804 (df=86) & 0.948 (df=86) \\\\\\\\\\n F Statistic & 773.675$^{***}$ (df=3; 86) & 240.099$^{***}$ (df=3; 86) & 104.424$^{***}$ (df=3; 86) & 54.955$^{***}$ (df=3; 86) & 34.378$^{***}$ (df=3; 86) \\\\\\\\\\n\\\\hline\\n\\\\hline \\\\\\\\[-1.8ex]\\n\\\\textit{Note:} & \\\\multicolumn{5}{r}{$^{*}$p$<$0.1; $^{**}$p$<$0.05; $^{***}$p$<$0.01} \\\\\\\\\\n\\\\end{tabular}\\n\\\\end{table}'"
      ]
     },
     "execution_count": 565,
     "metadata": {},
     "output_type": "execute_result"
    }
   ],
   "source": [
    "x0 = ['euro_funds_1', 'mpd_sentiment_0', 'mpd_sentiment_1']\n",
    "x1 = ['euro_funds_1', 'mpd_sentiment_0', 'mpd_sentiment_1']\n",
    "x2 = ['euro_funds_1', 'mpd_sentiment_0', 'mpd_sentiment_1']\n",
    "x3 = ['euro_funds_1', 'mpd_sentiment_0', 'mpd_sentiment_1']\n",
    "x4 = ['euro_funds_1', 'mpd_sentiment_0', 'mpd_sentiment_1']\n",
    "\n",
    "yvar0 = 'euro_funds_forward_0'\n",
    "yvar1 = 'euro_funds_forward_1'\n",
    "yvar2 = 'euro_funds_forward_2'\n",
    "yvar3 = 'euro_funds_forward_3'\n",
    "yvar4 = 'euro_funds_forward_4'\n",
    "\n",
    "exog0 = (sm.add_constant(sentiment[x0])).dropna()\n",
    "exog1 = (sm.add_constant(sentiment[x1])).dropna()\n",
    "exog2 = (sm.add_constant(sentiment[x2])).dropna()\n",
    "exog3 = (sm.add_constant(sentiment[x3])).dropna()\n",
    "exog4 = (sm.add_constant(sentiment[x4])).dropna()\n",
    "\n",
    "reg0 = sm.OLS(endog=sentiment[yvar0].loc[exog0.index], exog=exog0).fit(cov_type = \"HC0\")\n",
    "reg1 = sm.OLS(endog=sentiment[yvar1].loc[exog1.index], exog=exog1).fit(cov_type = \"HC0\")\n",
    "reg2 = sm.OLS(endog=sentiment[yvar2].loc[exog2.index], exog=exog2).fit(cov_type = \"HC0\")\n",
    "reg3 = sm.OLS(endog=sentiment[yvar3].loc[exog3.index], exog=exog3).fit(cov_type = \"HC0\")\n",
    "reg4 = sm.OLS(endog=sentiment[yvar4].loc[exog4.index], exog=exog4).fit(cov_type = \"HC0\")\n",
    "\n",
    "stargazer = Stargazer([reg0, reg1, reg2, reg3, reg4])\n",
    "stargazer.title('EU Refinancing Rate Regressed on ECB MPD Sentiment')\n",
    "stargazer.custom_columns(['y_{t+0}', 'y_{t+1}', 'y_{t+2}', 'y_{t+3}', 'y_{t+4}'])\n",
    "stargazer.show_model_numbers(False)\n",
    "stargazer.significant_digits(3)\n",
    "stargazer.covariate_order(['const', 'euro_funds_1', 'mpd_sentiment_0', 'mpd_sentiment_1'])\n",
    "stargazer.rename_covariates({'const': 'Constant', 'euro_funds_1': 'y_{t-1}', 'mpd_sentiment_0': 'x_{t}', 'mpd_sentiment_1': 'x_{t-1}'})\n",
    "display(HTML(stargazer.render_html()))\n",
    "stargazer.render_latex()"
   ]
  },
  {
   "cell_type": "code",
   "execution_count": 566,
   "metadata": {},
   "outputs": [],
   "source": [
    "#Michigan Sentiment"
   ]
  },
  {
   "cell_type": "code",
   "execution_count": 567,
   "metadata": {},
   "outputs": [
    {
     "data": {
      "text/html": [
       "Michigan Sentiment Regressed on FOMC Minute Sentiment<br><table style=\"text-align:center\"><tr><td colspan=\"6\" style=\"border-bottom: 1px solid black\"></td></tr>\n",
       "<tr><td style=\"text-align:left\"></td><tr><td></td><td colspan=\"1\">y_{t+0}</td><td colspan=\"1\">y_{t+1}</td><td colspan=\"1\">y_{t+2}</td><td colspan=\"1\">y_{t+3}</td><td colspan=\"1\">y_{t+4}</td></tr>\n",
       "<tr><td colspan=\"6\" style=\"border-bottom: 1px solid black\"></td></tr>\n",
       "\n",
       "<tr><td style=\"text-align:left\">Constant</td><td>8.084<sup></sup></td><td>13.574<sup>*</sup></td><td>18.180<sup>**</sup></td><td>26.825<sup>***</sup></td><td>33.595<sup>***</sup></td></tr>\n",
       "<tr><td style=\"text-align:left\"></td><td>(5.154)</td><td>(8.065)</td><td>(8.396)</td><td>(8.455)</td><td>(8.470)</td></tr>\n",
       "<tr><td style=\"text-align:left\">y_{t-1}</td><td>0.900<sup>***</sup></td><td>0.827<sup>***</sup></td><td>0.765<sup>***</sup></td><td>0.658<sup>***</sup></td><td>0.574<sup>***</sup></td></tr>\n",
       "<tr><td style=\"text-align:left\"></td><td>(0.058)</td><td>(0.091)</td><td>(0.095)</td><td>(0.095)</td><td>(0.095)</td></tr>\n",
       "<tr><td style=\"text-align:left\">x_{t}</td><td>24.486<sup>***</sup></td><td>13.779<sup></sup></td><td>10.450<sup></sup></td><td>9.258<sup></sup></td><td>2.448<sup></sup></td></tr>\n",
       "<tr><td style=\"text-align:left\"></td><td>(7.107)</td><td>(8.805)</td><td>(10.196)</td><td>(10.120)</td><td>(10.931)</td></tr>\n",
       "<tr><td style=\"text-align:left\">x_{t-1}</td><td>-21.335<sup>***</sup></td><td>-16.511<sup>*</sup></td><td>-16.261<sup></sup></td><td>-14.793<sup></sup></td><td>-5.920<sup></sup></td></tr>\n",
       "<tr><td style=\"text-align:left\"></td><td>(6.500)</td><td>(9.238)</td><td>(10.272)</td><td>(10.171)</td><td>(10.637)</td></tr>\n",
       "\n",
       "<td colspan=\"6\" style=\"border-bottom: 1px solid black\"></td></tr>\n",
       "<tr><td style=\"text-align: left\">Observations</td><td>90</td><td>90</td><td>90</td><td>90</td><td>90</td></tr><tr><td style=\"text-align: left\">R<sup>2</sup></td><td>0.823</td><td>0.638</td><td>0.526</td><td>0.395</td><td>0.309</td></tr><tr><td style=\"text-align: left\">Adjusted R<sup>2</sup></td><td>0.817</td><td>0.625</td><td>0.509</td><td>0.374</td><td>0.284</td></tr><tr><td style=\"text-align: left\">Residual Std. Error</td><td>5.272 (df=86)</td><td>7.575 (df=86)</td><td>8.673 (df=86)</td><td>9.679 (df=86)</td><td>10.313 (df=86)</td></tr><tr><td style=\"text-align: left\">F Statistic</td><td>165.280<sup>***</sup> (df=3; 86)</td><td>57.153<sup>***</sup> (df=3; 86)</td><td>44.710<sup>***</sup> (df=3; 86)</td><td>29.571<sup>***</sup> (df=3; 86)</td><td>24.768<sup>***</sup> (df=3; 86)</td></tr>\n",
       "<tr><td colspan=\"6\" style=\"border-bottom: 1px solid black\"></td></tr><tr><td style=\"text-align: left\">Note:</td><td colspan=\"5\" style=\"text-align: right\"><sup>*</sup>p&lt;0.1; <sup>**</sup>p&lt;0.05; <sup>***</sup>p&lt;0.01</td></tr></table>"
      ],
      "text/plain": [
       "<IPython.core.display.HTML object>"
      ]
     },
     "metadata": {},
     "output_type": "display_data"
    },
    {
     "data": {
      "text/plain": [
       "'\\\\begin{table}[!htbp] \\\\centering\\n  \\\\caption{Michigan Sentiment Regressed on FOMC Minute Sentiment}\\n\\\\begin{tabular}{@{\\\\extracolsep{5pt}}lccccc}\\n\\\\\\\\[-1.8ex]\\\\hline\\n\\\\hline \\\\\\\\[-1.8ex]\\n\\\\\\\\[-1.8ex] & \\\\multicolumn{1}{c}{y_{t+0}} & \\\\multicolumn{1}{c}{y_{t+1}} & \\\\multicolumn{1}{c}{y_{t+2}} & \\\\multicolumn{1}{c}{y_{t+3}} & \\\\multicolumn{1}{c}{y_{t+4}}  \\\\\\\\\\n\\\\hline \\\\\\\\[-1.8ex]\\n Constant & 8.084$^{}$ & 13.574$^{*}$ & 18.180$^{**}$ & 26.825$^{***}$ & 33.595$^{***}$ \\\\\\\\\\n& (5.154) & (8.065) & (8.396) & (8.455) & (8.470) \\\\\\\\\\n y_{t-1} & 0.900$^{***}$ & 0.827$^{***}$ & 0.765$^{***}$ & 0.658$^{***}$ & 0.574$^{***}$ \\\\\\\\\\n& (0.058) & (0.091) & (0.095) & (0.095) & (0.095) \\\\\\\\\\n x_{t} & 24.486$^{***}$ & 13.779$^{}$ & 10.450$^{}$ & 9.258$^{}$ & 2.448$^{}$ \\\\\\\\\\n& (7.107) & (8.805) & (10.196) & (10.120) & (10.931) \\\\\\\\\\n x_{t-1} & -21.335$^{***}$ & -16.511$^{*}$ & -16.261$^{}$ & -14.793$^{}$ & -5.920$^{}$ \\\\\\\\\\n& (6.500) & (9.238) & (10.272) & (10.171) & (10.637) \\\\\\\\\\n\\\\hline \\\\\\\\[-1.8ex]\\n Observations & 90 & 90 & 90 & 90 & 90 \\\\\\\\\\n $R^2$ & 0.823 & 0.638 & 0.526 & 0.395 & 0.309 \\\\\\\\\\n Adjusted $R^2$ & 0.817 & 0.625 & 0.509 & 0.374 & 0.284 \\\\\\\\\\n Residual Std. Error & 5.272 (df=86) & 7.575 (df=86) & 8.673 (df=86) & 9.679 (df=86) & 10.313 (df=86) \\\\\\\\\\n F Statistic & 165.280$^{***}$ (df=3; 86) & 57.153$^{***}$ (df=3; 86) & 44.710$^{***}$ (df=3; 86) & 29.571$^{***}$ (df=3; 86) & 24.768$^{***}$ (df=3; 86) \\\\\\\\\\n\\\\hline\\n\\\\hline \\\\\\\\[-1.8ex]\\n\\\\textit{Note:} & \\\\multicolumn{5}{r}{$^{*}$p$<$0.1; $^{**}$p$<$0.05; $^{***}$p$<$0.01} \\\\\\\\\\n\\\\end{tabular}\\n\\\\end{table}'"
      ]
     },
     "execution_count": 567,
     "metadata": {},
     "output_type": "execute_result"
    }
   ],
   "source": [
    "x0 = ['michigan_sentiment_1', 'minute_sentiment_0', 'minute_sentiment_1']\n",
    "x1 = ['michigan_sentiment_1', 'minute_sentiment_0', 'minute_sentiment_1']\n",
    "x2 = ['michigan_sentiment_1', 'minute_sentiment_0', 'minute_sentiment_1']\n",
    "x3 = ['michigan_sentiment_1', 'minute_sentiment_0', 'minute_sentiment_1']\n",
    "x4 = ['michigan_sentiment_1', 'minute_sentiment_0', 'minute_sentiment_1']\n",
    "\n",
    "yvar0 = 'michigan_sentiment_forward_0'\n",
    "yvar1 = 'michigan_sentiment_forward_1'\n",
    "yvar2 = 'michigan_sentiment_forward_2'\n",
    "yvar3 = 'michigan_sentiment_forward_3'\n",
    "yvar4 = 'michigan_sentiment_forward_4'\n",
    "\n",
    "exog0 = (sm.add_constant(sentiment[x0])).dropna()\n",
    "exog1 = (sm.add_constant(sentiment[x1])).dropna()\n",
    "exog2 = (sm.add_constant(sentiment[x2])).dropna()\n",
    "exog3 = (sm.add_constant(sentiment[x3])).dropna()\n",
    "exog4 = (sm.add_constant(sentiment[x4])).dropna()\n",
    "\n",
    "reg0 = sm.OLS(endog=sentiment[yvar0].loc[exog0.index], exog=exog0).fit(cov_type = \"HC0\")\n",
    "reg1 = sm.OLS(endog=sentiment[yvar1].loc[exog1.index], exog=exog1).fit(cov_type = \"HC0\")\n",
    "reg2 = sm.OLS(endog=sentiment[yvar2].loc[exog2.index], exog=exog2).fit(cov_type = \"HC0\")\n",
    "reg3 = sm.OLS(endog=sentiment[yvar3].loc[exog3.index], exog=exog3).fit(cov_type = \"HC0\")\n",
    "reg4 = sm.OLS(endog=sentiment[yvar4].loc[exog4.index], exog=exog4).fit(cov_type = \"HC0\")\n",
    "\n",
    "stargazer = Stargazer([reg0, reg1, reg2, reg3, reg4])\n",
    "stargazer.title('Michigan Sentiment Regressed on FOMC Minute Sentiment')\n",
    "stargazer.custom_columns(['y_{t+0}', 'y_{t+1}', 'y_{t+2}', 'y_{t+3}', 'y_{t+4}'])\n",
    "stargazer.show_model_numbers(False)\n",
    "stargazer.significant_digits(3)\n",
    "stargazer.covariate_order(['const', 'michigan_sentiment_1', 'minute_sentiment_0', 'minute_sentiment_1'])\n",
    "stargazer.rename_covariates({'const': 'Constant', 'michigan_sentiment_1': 'y_{t-1}', 'minute_sentiment_0': 'x_{t}', 'minute_sentiment_1': 'x_{t-1}'})\n",
    "display(HTML(stargazer.render_html()))\n",
    "stargazer.render_latex()"
   ]
  },
  {
   "cell_type": "code",
   "execution_count": 568,
   "metadata": {},
   "outputs": [
    {
     "data": {
      "text/html": [
       "Michigan Sentiment Regressed on ECB MPD Sentiment<br><table style=\"text-align:center\"><tr><td colspan=\"6\" style=\"border-bottom: 1px solid black\"></td></tr>\n",
       "<tr><td style=\"text-align:left\"></td><tr><td></td><td colspan=\"1\">y_{t+0}</td><td colspan=\"1\">y_{t+1}</td><td colspan=\"1\">y_{t+2}</td><td colspan=\"1\">y_{t+3}</td><td colspan=\"1\">y_{t+4}</td></tr>\n",
       "<tr><td colspan=\"6\" style=\"border-bottom: 1px solid black\"></td></tr>\n",
       "\n",
       "<tr><td style=\"text-align:left\">Constant</td><td>8.025<sup>*</sup></td><td>15.588<sup>***</sup></td><td>21.353<sup>***</sup></td><td>29.682<sup>***</sup></td><td>35.420<sup>***</sup></td></tr>\n",
       "<tr><td style=\"text-align:left\"></td><td>(4.171)</td><td>(5.638)</td><td>(5.813)</td><td>(5.892)</td><td>(5.621)</td></tr>\n",
       "<tr><td style=\"text-align:left\">y_{t-1}</td><td>0.886<sup>***</sup></td><td>0.781<sup>***</sup></td><td>0.703<sup>***</sup></td><td>0.602<sup>***</sup></td><td>0.526<sup>***</sup></td></tr>\n",
       "<tr><td style=\"text-align:left\"></td><td>(0.051)</td><td>(0.069)</td><td>(0.070)</td><td>(0.072)</td><td>(0.068)</td></tr>\n",
       "<tr><td style=\"text-align:left\">x_{t}</td><td>6.617<sup></sup></td><td>7.578<sup></sup></td><td>9.740<sup>*</sup></td><td>11.988<sup>*</sup></td><td>4.493<sup></sup></td></tr>\n",
       "<tr><td style=\"text-align:left\"></td><td>(4.779)</td><td>(5.735)</td><td>(5.786)</td><td>(6.452)</td><td>(7.180)</td></tr>\n",
       "<tr><td style=\"text-align:left\">x_{t-1}</td><td>-1.461<sup></sup></td><td>0.608<sup></sup></td><td>0.040<sup></sup></td><td>-3.068<sup></sup></td><td>5.516<sup></sup></td></tr>\n",
       "<tr><td style=\"text-align:left\"></td><td>(3.175)</td><td>(5.378)</td><td>(6.379)</td><td>(7.600)</td><td>(8.688)</td></tr>\n",
       "\n",
       "<td colspan=\"6\" style=\"border-bottom: 1px solid black\"></td></tr>\n",
       "<tr><td style=\"text-align: left\">Observations</td><td>90</td><td>90</td><td>90</td><td>90</td><td>90</td></tr><tr><td style=\"text-align: left\">R<sup>2</sup></td><td>0.794</td><td>0.635</td><td>0.531</td><td>0.405</td><td>0.323</td></tr><tr><td style=\"text-align: left\">Adjusted R<sup>2</sup></td><td>0.787</td><td>0.622</td><td>0.514</td><td>0.384</td><td>0.299</td></tr><tr><td style=\"text-align: left\">Residual Std. Error</td><td>5.689 (df=86)</td><td>7.607 (df=86)</td><td>8.627 (df=86)</td><td>9.605 (df=86)</td><td>10.207 (df=86)</td></tr><tr><td style=\"text-align: left\">F Statistic</td><td>133.632<sup>***</sup> (df=3; 86)</td><td>59.166<sup>***</sup> (df=3; 86)</td><td>43.381<sup>***</sup> (df=3; 86)</td><td>32.682<sup>***</sup> (df=3; 86)</td><td>25.179<sup>***</sup> (df=3; 86)</td></tr>\n",
       "<tr><td colspan=\"6\" style=\"border-bottom: 1px solid black\"></td></tr><tr><td style=\"text-align: left\">Note:</td><td colspan=\"5\" style=\"text-align: right\"><sup>*</sup>p&lt;0.1; <sup>**</sup>p&lt;0.05; <sup>***</sup>p&lt;0.01</td></tr></table>"
      ],
      "text/plain": [
       "<IPython.core.display.HTML object>"
      ]
     },
     "metadata": {},
     "output_type": "display_data"
    },
    {
     "data": {
      "text/plain": [
       "'\\\\begin{table}[!htbp] \\\\centering\\n  \\\\caption{Michigan Sentiment Regressed on ECB MPD Sentiment}\\n\\\\begin{tabular}{@{\\\\extracolsep{5pt}}lccccc}\\n\\\\\\\\[-1.8ex]\\\\hline\\n\\\\hline \\\\\\\\[-1.8ex]\\n\\\\\\\\[-1.8ex] & \\\\multicolumn{1}{c}{y_{t+0}} & \\\\multicolumn{1}{c}{y_{t+1}} & \\\\multicolumn{1}{c}{y_{t+2}} & \\\\multicolumn{1}{c}{y_{t+3}} & \\\\multicolumn{1}{c}{y_{t+4}}  \\\\\\\\\\n\\\\hline \\\\\\\\[-1.8ex]\\n Constant & 8.025$^{*}$ & 15.588$^{***}$ & 21.353$^{***}$ & 29.682$^{***}$ & 35.420$^{***}$ \\\\\\\\\\n& (4.171) & (5.638) & (5.813) & (5.892) & (5.621) \\\\\\\\\\n y_{t-1} & 0.886$^{***}$ & 0.781$^{***}$ & 0.703$^{***}$ & 0.602$^{***}$ & 0.526$^{***}$ \\\\\\\\\\n& (0.051) & (0.069) & (0.070) & (0.072) & (0.068) \\\\\\\\\\n x_{t} & 6.617$^{}$ & 7.578$^{}$ & 9.740$^{*}$ & 11.988$^{*}$ & 4.493$^{}$ \\\\\\\\\\n& (4.779) & (5.735) & (5.786) & (6.452) & (7.180) \\\\\\\\\\n x_{t-1} & -1.461$^{}$ & 0.608$^{}$ & 0.040$^{}$ & -3.068$^{}$ & 5.516$^{}$ \\\\\\\\\\n& (3.175) & (5.378) & (6.379) & (7.600) & (8.688) \\\\\\\\\\n\\\\hline \\\\\\\\[-1.8ex]\\n Observations & 90 & 90 & 90 & 90 & 90 \\\\\\\\\\n $R^2$ & 0.794 & 0.635 & 0.531 & 0.405 & 0.323 \\\\\\\\\\n Adjusted $R^2$ & 0.787 & 0.622 & 0.514 & 0.384 & 0.299 \\\\\\\\\\n Residual Std. Error & 5.689 (df=86) & 7.607 (df=86) & 8.627 (df=86) & 9.605 (df=86) & 10.207 (df=86) \\\\\\\\\\n F Statistic & 133.632$^{***}$ (df=3; 86) & 59.166$^{***}$ (df=3; 86) & 43.381$^{***}$ (df=3; 86) & 32.682$^{***}$ (df=3; 86) & 25.179$^{***}$ (df=3; 86) \\\\\\\\\\n\\\\hline\\n\\\\hline \\\\\\\\[-1.8ex]\\n\\\\textit{Note:} & \\\\multicolumn{5}{r}{$^{*}$p$<$0.1; $^{**}$p$<$0.05; $^{***}$p$<$0.01} \\\\\\\\\\n\\\\end{tabular}\\n\\\\end{table}'"
      ]
     },
     "execution_count": 568,
     "metadata": {},
     "output_type": "execute_result"
    }
   ],
   "source": [
    "x0 = ['michigan_sentiment_1', 'mpd_sentiment_0', 'mpd_sentiment_1']\n",
    "x1 = ['michigan_sentiment_1', 'mpd_sentiment_0', 'mpd_sentiment_1']\n",
    "x2 = ['michigan_sentiment_1', 'mpd_sentiment_0', 'mpd_sentiment_1']\n",
    "x3 = ['michigan_sentiment_1', 'mpd_sentiment_0', 'mpd_sentiment_1']\n",
    "x4 = ['michigan_sentiment_1', 'mpd_sentiment_0', 'mpd_sentiment_1']\n",
    "\n",
    "yvar0 = 'michigan_sentiment_forward_0'\n",
    "yvar1 = 'michigan_sentiment_forward_1'\n",
    "yvar2 = 'michigan_sentiment_forward_2'\n",
    "yvar3 = 'michigan_sentiment_forward_3'\n",
    "yvar4 = 'michigan_sentiment_forward_4'\n",
    "\n",
    "exog0 = (sm.add_constant(sentiment[x0])).dropna()\n",
    "exog1 = (sm.add_constant(sentiment[x1])).dropna()\n",
    "exog2 = (sm.add_constant(sentiment[x2])).dropna()\n",
    "exog3 = (sm.add_constant(sentiment[x3])).dropna()\n",
    "exog4 = (sm.add_constant(sentiment[x4])).dropna()\n",
    "\n",
    "reg0 = sm.OLS(endog=sentiment[yvar0].loc[exog0.index], exog=exog0).fit(cov_type = \"HC0\")\n",
    "reg1 = sm.OLS(endog=sentiment[yvar1].loc[exog1.index], exog=exog1).fit(cov_type = \"HC0\")\n",
    "reg2 = sm.OLS(endog=sentiment[yvar2].loc[exog2.index], exog=exog2).fit(cov_type = \"HC0\")\n",
    "reg3 = sm.OLS(endog=sentiment[yvar3].loc[exog3.index], exog=exog3).fit(cov_type = \"HC0\")\n",
    "reg4 = sm.OLS(endog=sentiment[yvar4].loc[exog4.index], exog=exog4).fit(cov_type = \"HC0\")\n",
    "\n",
    "stargazer = Stargazer([reg0, reg1, reg2, reg3, reg4])\n",
    "stargazer.title('Michigan Sentiment Regressed on ECB MPD Sentiment')\n",
    "stargazer.custom_columns(['y_{t+0}', 'y_{t+1}', 'y_{t+2}', 'y_{t+3}', 'y_{t+4}'])\n",
    "stargazer.show_model_numbers(False)\n",
    "stargazer.significant_digits(3)\n",
    "stargazer.covariate_order(['const', 'michigan_sentiment_1', 'mpd_sentiment_0', 'mpd_sentiment_1'])\n",
    "stargazer.rename_covariates({'const': 'Constant', 'michigan_sentiment_1': 'y_{t-1}', 'mpd_sentiment_0': 'x_{t}', 'mpd_sentiment_1': 'x_{t-1}'})\n",
    "display(HTML(stargazer.render_html()))\n",
    "stargazer.render_latex()"
   ]
  }
 ],
 "metadata": {
  "kernelspec": {
   "display_name": "Python 3",
   "language": "python",
   "name": "python3"
  },
  "language_info": {
   "codemirror_mode": {
    "name": "ipython",
    "version": 3
   },
   "file_extension": ".py",
   "mimetype": "text/x-python",
   "name": "python",
   "nbconvert_exporter": "python",
   "pygments_lexer": "ipython3",
   "version": "3.11.6"
  }
 },
 "nbformat": 4,
 "nbformat_minor": 2
}
