{
 "cells": [
  {
   "cell_type": "code",
   "execution_count": 1,
   "metadata": {},
   "outputs": [],
   "source": [
    "#Importing the necessary libraries\n",
    "\n",
    "import os \n",
    "import sys\n",
    "import pandas as pd\n",
    "import matplotlib.pyplot as plt\n",
    "from matplotlib import ticker\n",
    "import numpy as np\n",
    "\n",
    "import statsmodels.api as sm\n"
   ]
  },
  {
   "cell_type": "code",
   "execution_count": 2,
   "metadata": {},
   "outputs": [],
   "source": [
    "#Global Settings \n",
    "pd.set_option('display.float_format', lambda x: '%.4f' % x)"
   ]
  },
  {
   "cell_type": "code",
   "execution_count": 3,
   "metadata": {},
   "outputs": [
    {
     "name": "stdout",
     "output_type": "stream",
     "text": [
      "/Users/kylenabors/Documents/GitHub/Finance-ML-Modeling\n",
      "/Users/kylenabors/Documents/GitHub/Finance-ML-Modeling\n",
      "/Users/kylenabors/Documents\n",
      "/Users/kylenabors/Documents/GitHub/Finance-ML-Modeling\n"
     ]
    }
   ],
   "source": [
    "#Importing Configs\n",
    "# Define the path where config.py is located\n",
    "#Mac\n",
    "os.chdir('/Users/kylenabors/Documents/GitHub/Finance-ML-Modeling')\n",
    "config_file_path = os.getcwd()\n",
    "print(config_file_path)\n",
    "\n",
    "# Add this path to the sys.path\n",
    "sys.path.append(config_file_path)\n",
    "\n",
    "import config\n",
    "\n",
    "#Configs\n",
    "finbert_models = config.finbert_models\n",
    "Body = config.Body\n",
    "database = config.Local_Database"
   ]
  },
  {
   "cell_type": "code",
   "execution_count": 4,
   "metadata": {},
   "outputs": [
    {
     "ename": "FileNotFoundError",
     "evalue": "[Errno 2] No such file or directory: '/Users/kylenabors/Documents/Database/Models/FinBERT Models/ECB/Statements/ECB_Statements_finbert_model_short.csv'",
     "output_type": "error",
     "traceback": [
      "\u001b[0;31m---------------------------------------------------------------------------\u001b[0m",
      "\u001b[0;31mFileNotFoundError\u001b[0m                         Traceback (most recent call last)",
      "Cell \u001b[0;32mIn[4], line 4\u001b[0m\n\u001b[1;32m      1\u001b[0m sentiment \u001b[38;5;241m=\u001b[39m pd\u001b[38;5;241m.\u001b[39mdate_range(start\u001b[38;5;241m=\u001b[39m\u001b[38;5;124m'\u001b[39m\u001b[38;5;124m1/1/1990\u001b[39m\u001b[38;5;124m'\u001b[39m, end\u001b[38;5;241m=\u001b[39m\u001b[38;5;124m'\u001b[39m\u001b[38;5;124m1/1/2024\u001b[39m\u001b[38;5;124m'\u001b[39m, freq\u001b[38;5;241m=\u001b[39m\u001b[38;5;124m'\u001b[39m\u001b[38;5;124mD\u001b[39m\u001b[38;5;124m'\u001b[39m)\n\u001b[1;32m      2\u001b[0m sentiment \u001b[38;5;241m=\u001b[39m pd\u001b[38;5;241m.\u001b[39mDataFrame(sentiment, columns\u001b[38;5;241m=\u001b[39m[\u001b[38;5;124m'\u001b[39m\u001b[38;5;124mdate\u001b[39m\u001b[38;5;124m'\u001b[39m])\n\u001b[0;32m----> 4\u001b[0m state \u001b[38;5;241m=\u001b[39m \u001b[43mpd\u001b[49m\u001b[38;5;241;43m.\u001b[39;49m\u001b[43mread_csv\u001b[49m\u001b[43m(\u001b[49m\u001b[38;5;124;43mf\u001b[39;49m\u001b[38;5;124;43m\"\u001b[39;49m\u001b[38;5;132;43;01m{\u001b[39;49;00m\u001b[43mfinbert_models\u001b[49m\u001b[38;5;132;43;01m}\u001b[39;49;00m\u001b[38;5;124;43m/\u001b[39;49m\u001b[38;5;132;43;01m{\u001b[39;49;00m\u001b[43mBody\u001b[49m\u001b[38;5;132;43;01m}\u001b[39;49;00m\u001b[38;5;124;43m/Statements/\u001b[39;49m\u001b[38;5;132;43;01m{\u001b[39;49;00m\u001b[43mBody\u001b[49m\u001b[38;5;132;43;01m}\u001b[39;49;00m\u001b[38;5;124;43m_Statements_finbert_model_short.csv\u001b[39;49m\u001b[38;5;124;43m\"\u001b[39;49m\u001b[43m)\u001b[49m\n\u001b[1;32m      5\u001b[0m state \u001b[38;5;241m=\u001b[39m state[[\u001b[38;5;124m'\u001b[39m\u001b[38;5;124mdate\u001b[39m\u001b[38;5;124m'\u001b[39m,\u001b[38;5;124m'\u001b[39m\u001b[38;5;124msentiment\u001b[39m\u001b[38;5;124m'\u001b[39m]]\n\u001b[1;32m      6\u001b[0m state \u001b[38;5;241m=\u001b[39m state\u001b[38;5;241m.\u001b[39mrename(columns\u001b[38;5;241m=\u001b[39m{\u001b[38;5;124m'\u001b[39m\u001b[38;5;124msentiment\u001b[39m\u001b[38;5;124m'\u001b[39m:\u001b[38;5;124m'\u001b[39m\u001b[38;5;124mstatement_sentiment\u001b[39m\u001b[38;5;124m'\u001b[39m})\n",
      "File \u001b[0;32m/Library/Frameworks/Python.framework/Versions/3.11/lib/python3.11/site-packages/pandas/io/parsers/readers.py:912\u001b[0m, in \u001b[0;36mread_csv\u001b[0;34m(filepath_or_buffer, sep, delimiter, header, names, index_col, usecols, dtype, engine, converters, true_values, false_values, skipinitialspace, skiprows, skipfooter, nrows, na_values, keep_default_na, na_filter, verbose, skip_blank_lines, parse_dates, infer_datetime_format, keep_date_col, date_parser, date_format, dayfirst, cache_dates, iterator, chunksize, compression, thousands, decimal, lineterminator, quotechar, quoting, doublequote, escapechar, comment, encoding, encoding_errors, dialect, on_bad_lines, delim_whitespace, low_memory, memory_map, float_precision, storage_options, dtype_backend)\u001b[0m\n\u001b[1;32m    899\u001b[0m kwds_defaults \u001b[38;5;241m=\u001b[39m _refine_defaults_read(\n\u001b[1;32m    900\u001b[0m     dialect,\n\u001b[1;32m    901\u001b[0m     delimiter,\n\u001b[0;32m   (...)\u001b[0m\n\u001b[1;32m    908\u001b[0m     dtype_backend\u001b[38;5;241m=\u001b[39mdtype_backend,\n\u001b[1;32m    909\u001b[0m )\n\u001b[1;32m    910\u001b[0m kwds\u001b[38;5;241m.\u001b[39mupdate(kwds_defaults)\n\u001b[0;32m--> 912\u001b[0m \u001b[38;5;28;01mreturn\u001b[39;00m \u001b[43m_read\u001b[49m\u001b[43m(\u001b[49m\u001b[43mfilepath_or_buffer\u001b[49m\u001b[43m,\u001b[49m\u001b[43m \u001b[49m\u001b[43mkwds\u001b[49m\u001b[43m)\u001b[49m\n",
      "File \u001b[0;32m/Library/Frameworks/Python.framework/Versions/3.11/lib/python3.11/site-packages/pandas/io/parsers/readers.py:577\u001b[0m, in \u001b[0;36m_read\u001b[0;34m(filepath_or_buffer, kwds)\u001b[0m\n\u001b[1;32m    574\u001b[0m _validate_names(kwds\u001b[38;5;241m.\u001b[39mget(\u001b[38;5;124m\"\u001b[39m\u001b[38;5;124mnames\u001b[39m\u001b[38;5;124m\"\u001b[39m, \u001b[38;5;28;01mNone\u001b[39;00m))\n\u001b[1;32m    576\u001b[0m \u001b[38;5;66;03m# Create the parser.\u001b[39;00m\n\u001b[0;32m--> 577\u001b[0m parser \u001b[38;5;241m=\u001b[39m \u001b[43mTextFileReader\u001b[49m\u001b[43m(\u001b[49m\u001b[43mfilepath_or_buffer\u001b[49m\u001b[43m,\u001b[49m\u001b[43m \u001b[49m\u001b[38;5;241;43m*\u001b[39;49m\u001b[38;5;241;43m*\u001b[39;49m\u001b[43mkwds\u001b[49m\u001b[43m)\u001b[49m\n\u001b[1;32m    579\u001b[0m \u001b[38;5;28;01mif\u001b[39;00m chunksize \u001b[38;5;129;01mor\u001b[39;00m iterator:\n\u001b[1;32m    580\u001b[0m     \u001b[38;5;28;01mreturn\u001b[39;00m parser\n",
      "File \u001b[0;32m/Library/Frameworks/Python.framework/Versions/3.11/lib/python3.11/site-packages/pandas/io/parsers/readers.py:1407\u001b[0m, in \u001b[0;36mTextFileReader.__init__\u001b[0;34m(self, f, engine, **kwds)\u001b[0m\n\u001b[1;32m   1404\u001b[0m     \u001b[38;5;28mself\u001b[39m\u001b[38;5;241m.\u001b[39moptions[\u001b[38;5;124m\"\u001b[39m\u001b[38;5;124mhas_index_names\u001b[39m\u001b[38;5;124m\"\u001b[39m] \u001b[38;5;241m=\u001b[39m kwds[\u001b[38;5;124m\"\u001b[39m\u001b[38;5;124mhas_index_names\u001b[39m\u001b[38;5;124m\"\u001b[39m]\n\u001b[1;32m   1406\u001b[0m \u001b[38;5;28mself\u001b[39m\u001b[38;5;241m.\u001b[39mhandles: IOHandles \u001b[38;5;241m|\u001b[39m \u001b[38;5;28;01mNone\u001b[39;00m \u001b[38;5;241m=\u001b[39m \u001b[38;5;28;01mNone\u001b[39;00m\n\u001b[0;32m-> 1407\u001b[0m \u001b[38;5;28mself\u001b[39m\u001b[38;5;241m.\u001b[39m_engine \u001b[38;5;241m=\u001b[39m \u001b[38;5;28;43mself\u001b[39;49m\u001b[38;5;241;43m.\u001b[39;49m\u001b[43m_make_engine\u001b[49m\u001b[43m(\u001b[49m\u001b[43mf\u001b[49m\u001b[43m,\u001b[49m\u001b[43m \u001b[49m\u001b[38;5;28;43mself\u001b[39;49m\u001b[38;5;241;43m.\u001b[39;49m\u001b[43mengine\u001b[49m\u001b[43m)\u001b[49m\n",
      "File \u001b[0;32m/Library/Frameworks/Python.framework/Versions/3.11/lib/python3.11/site-packages/pandas/io/parsers/readers.py:1661\u001b[0m, in \u001b[0;36mTextFileReader._make_engine\u001b[0;34m(self, f, engine)\u001b[0m\n\u001b[1;32m   1659\u001b[0m     \u001b[38;5;28;01mif\u001b[39;00m \u001b[38;5;124m\"\u001b[39m\u001b[38;5;124mb\u001b[39m\u001b[38;5;124m\"\u001b[39m \u001b[38;5;129;01mnot\u001b[39;00m \u001b[38;5;129;01min\u001b[39;00m mode:\n\u001b[1;32m   1660\u001b[0m         mode \u001b[38;5;241m+\u001b[39m\u001b[38;5;241m=\u001b[39m \u001b[38;5;124m\"\u001b[39m\u001b[38;5;124mb\u001b[39m\u001b[38;5;124m\"\u001b[39m\n\u001b[0;32m-> 1661\u001b[0m \u001b[38;5;28mself\u001b[39m\u001b[38;5;241m.\u001b[39mhandles \u001b[38;5;241m=\u001b[39m \u001b[43mget_handle\u001b[49m\u001b[43m(\u001b[49m\n\u001b[1;32m   1662\u001b[0m \u001b[43m    \u001b[49m\u001b[43mf\u001b[49m\u001b[43m,\u001b[49m\n\u001b[1;32m   1663\u001b[0m \u001b[43m    \u001b[49m\u001b[43mmode\u001b[49m\u001b[43m,\u001b[49m\n\u001b[1;32m   1664\u001b[0m \u001b[43m    \u001b[49m\u001b[43mencoding\u001b[49m\u001b[38;5;241;43m=\u001b[39;49m\u001b[38;5;28;43mself\u001b[39;49m\u001b[38;5;241;43m.\u001b[39;49m\u001b[43moptions\u001b[49m\u001b[38;5;241;43m.\u001b[39;49m\u001b[43mget\u001b[49m\u001b[43m(\u001b[49m\u001b[38;5;124;43m\"\u001b[39;49m\u001b[38;5;124;43mencoding\u001b[39;49m\u001b[38;5;124;43m\"\u001b[39;49m\u001b[43m,\u001b[49m\u001b[43m \u001b[49m\u001b[38;5;28;43;01mNone\u001b[39;49;00m\u001b[43m)\u001b[49m\u001b[43m,\u001b[49m\n\u001b[1;32m   1665\u001b[0m \u001b[43m    \u001b[49m\u001b[43mcompression\u001b[49m\u001b[38;5;241;43m=\u001b[39;49m\u001b[38;5;28;43mself\u001b[39;49m\u001b[38;5;241;43m.\u001b[39;49m\u001b[43moptions\u001b[49m\u001b[38;5;241;43m.\u001b[39;49m\u001b[43mget\u001b[49m\u001b[43m(\u001b[49m\u001b[38;5;124;43m\"\u001b[39;49m\u001b[38;5;124;43mcompression\u001b[39;49m\u001b[38;5;124;43m\"\u001b[39;49m\u001b[43m,\u001b[49m\u001b[43m \u001b[49m\u001b[38;5;28;43;01mNone\u001b[39;49;00m\u001b[43m)\u001b[49m\u001b[43m,\u001b[49m\n\u001b[1;32m   1666\u001b[0m \u001b[43m    \u001b[49m\u001b[43mmemory_map\u001b[49m\u001b[38;5;241;43m=\u001b[39;49m\u001b[38;5;28;43mself\u001b[39;49m\u001b[38;5;241;43m.\u001b[39;49m\u001b[43moptions\u001b[49m\u001b[38;5;241;43m.\u001b[39;49m\u001b[43mget\u001b[49m\u001b[43m(\u001b[49m\u001b[38;5;124;43m\"\u001b[39;49m\u001b[38;5;124;43mmemory_map\u001b[39;49m\u001b[38;5;124;43m\"\u001b[39;49m\u001b[43m,\u001b[49m\u001b[43m \u001b[49m\u001b[38;5;28;43;01mFalse\u001b[39;49;00m\u001b[43m)\u001b[49m\u001b[43m,\u001b[49m\n\u001b[1;32m   1667\u001b[0m \u001b[43m    \u001b[49m\u001b[43mis_text\u001b[49m\u001b[38;5;241;43m=\u001b[39;49m\u001b[43mis_text\u001b[49m\u001b[43m,\u001b[49m\n\u001b[1;32m   1668\u001b[0m \u001b[43m    \u001b[49m\u001b[43merrors\u001b[49m\u001b[38;5;241;43m=\u001b[39;49m\u001b[38;5;28;43mself\u001b[39;49m\u001b[38;5;241;43m.\u001b[39;49m\u001b[43moptions\u001b[49m\u001b[38;5;241;43m.\u001b[39;49m\u001b[43mget\u001b[49m\u001b[43m(\u001b[49m\u001b[38;5;124;43m\"\u001b[39;49m\u001b[38;5;124;43mencoding_errors\u001b[39;49m\u001b[38;5;124;43m\"\u001b[39;49m\u001b[43m,\u001b[49m\u001b[43m \u001b[49m\u001b[38;5;124;43m\"\u001b[39;49m\u001b[38;5;124;43mstrict\u001b[39;49m\u001b[38;5;124;43m\"\u001b[39;49m\u001b[43m)\u001b[49m\u001b[43m,\u001b[49m\n\u001b[1;32m   1669\u001b[0m \u001b[43m    \u001b[49m\u001b[43mstorage_options\u001b[49m\u001b[38;5;241;43m=\u001b[39;49m\u001b[38;5;28;43mself\u001b[39;49m\u001b[38;5;241;43m.\u001b[39;49m\u001b[43moptions\u001b[49m\u001b[38;5;241;43m.\u001b[39;49m\u001b[43mget\u001b[49m\u001b[43m(\u001b[49m\u001b[38;5;124;43m\"\u001b[39;49m\u001b[38;5;124;43mstorage_options\u001b[39;49m\u001b[38;5;124;43m\"\u001b[39;49m\u001b[43m,\u001b[49m\u001b[43m \u001b[49m\u001b[38;5;28;43;01mNone\u001b[39;49;00m\u001b[43m)\u001b[49m\u001b[43m,\u001b[49m\n\u001b[1;32m   1670\u001b[0m \u001b[43m\u001b[49m\u001b[43m)\u001b[49m\n\u001b[1;32m   1671\u001b[0m \u001b[38;5;28;01massert\u001b[39;00m \u001b[38;5;28mself\u001b[39m\u001b[38;5;241m.\u001b[39mhandles \u001b[38;5;129;01mis\u001b[39;00m \u001b[38;5;129;01mnot\u001b[39;00m \u001b[38;5;28;01mNone\u001b[39;00m\n\u001b[1;32m   1672\u001b[0m f \u001b[38;5;241m=\u001b[39m \u001b[38;5;28mself\u001b[39m\u001b[38;5;241m.\u001b[39mhandles\u001b[38;5;241m.\u001b[39mhandle\n",
      "File \u001b[0;32m/Library/Frameworks/Python.framework/Versions/3.11/lib/python3.11/site-packages/pandas/io/common.py:859\u001b[0m, in \u001b[0;36mget_handle\u001b[0;34m(path_or_buf, mode, encoding, compression, memory_map, is_text, errors, storage_options)\u001b[0m\n\u001b[1;32m    854\u001b[0m \u001b[38;5;28;01melif\u001b[39;00m \u001b[38;5;28misinstance\u001b[39m(handle, \u001b[38;5;28mstr\u001b[39m):\n\u001b[1;32m    855\u001b[0m     \u001b[38;5;66;03m# Check whether the filename is to be opened in binary mode.\u001b[39;00m\n\u001b[1;32m    856\u001b[0m     \u001b[38;5;66;03m# Binary mode does not support 'encoding' and 'newline'.\u001b[39;00m\n\u001b[1;32m    857\u001b[0m     \u001b[38;5;28;01mif\u001b[39;00m ioargs\u001b[38;5;241m.\u001b[39mencoding \u001b[38;5;129;01mand\u001b[39;00m \u001b[38;5;124m\"\u001b[39m\u001b[38;5;124mb\u001b[39m\u001b[38;5;124m\"\u001b[39m \u001b[38;5;129;01mnot\u001b[39;00m \u001b[38;5;129;01min\u001b[39;00m ioargs\u001b[38;5;241m.\u001b[39mmode:\n\u001b[1;32m    858\u001b[0m         \u001b[38;5;66;03m# Encoding\u001b[39;00m\n\u001b[0;32m--> 859\u001b[0m         handle \u001b[38;5;241m=\u001b[39m \u001b[38;5;28;43mopen\u001b[39;49m\u001b[43m(\u001b[49m\n\u001b[1;32m    860\u001b[0m \u001b[43m            \u001b[49m\u001b[43mhandle\u001b[49m\u001b[43m,\u001b[49m\n\u001b[1;32m    861\u001b[0m \u001b[43m            \u001b[49m\u001b[43mioargs\u001b[49m\u001b[38;5;241;43m.\u001b[39;49m\u001b[43mmode\u001b[49m\u001b[43m,\u001b[49m\n\u001b[1;32m    862\u001b[0m \u001b[43m            \u001b[49m\u001b[43mencoding\u001b[49m\u001b[38;5;241;43m=\u001b[39;49m\u001b[43mioargs\u001b[49m\u001b[38;5;241;43m.\u001b[39;49m\u001b[43mencoding\u001b[49m\u001b[43m,\u001b[49m\n\u001b[1;32m    863\u001b[0m \u001b[43m            \u001b[49m\u001b[43merrors\u001b[49m\u001b[38;5;241;43m=\u001b[39;49m\u001b[43merrors\u001b[49m\u001b[43m,\u001b[49m\n\u001b[1;32m    864\u001b[0m \u001b[43m            \u001b[49m\u001b[43mnewline\u001b[49m\u001b[38;5;241;43m=\u001b[39;49m\u001b[38;5;124;43m\"\u001b[39;49m\u001b[38;5;124;43m\"\u001b[39;49m\u001b[43m,\u001b[49m\n\u001b[1;32m    865\u001b[0m \u001b[43m        \u001b[49m\u001b[43m)\u001b[49m\n\u001b[1;32m    866\u001b[0m     \u001b[38;5;28;01melse\u001b[39;00m:\n\u001b[1;32m    867\u001b[0m         \u001b[38;5;66;03m# Binary mode\u001b[39;00m\n\u001b[1;32m    868\u001b[0m         handle \u001b[38;5;241m=\u001b[39m \u001b[38;5;28mopen\u001b[39m(handle, ioargs\u001b[38;5;241m.\u001b[39mmode)\n",
      "\u001b[0;31mFileNotFoundError\u001b[0m: [Errno 2] No such file or directory: '/Users/kylenabors/Documents/Database/Models/FinBERT Models/ECB/Statements/ECB_Statements_finbert_model_short.csv'"
     ]
    }
   ],
   "source": [
    "sentiment = pd.date_range(start='1/1/1990', end='1/1/2024', freq='D')\n",
    "sentiment = pd.DataFrame(sentiment, columns=['date'])\n",
    "\n",
    "Body = 'Fed'\n",
    "\n",
    "state = pd.read_csv(f\"{finbert_models}/{Body}/Statements/{Body}_Statements_finbert_model_short.csv\")\n",
    "state = state[['date','sentiment']]\n",
    "state = state.rename(columns={'sentiment':'statement_sentiment'})\n",
    "state['date'] = pd.to_datetime(state['date'])\n",
    "sentiment = pd.merge(sentiment, state, how='left', left_on='date', right_on='date')\n",
    "\n",
    "minutes = pd.read_csv(f\"{finbert_models}/{Body}/Minutes/{Body}_Minutes_finbert_model_short.csv\")\n",
    "minutes = minutes[['date','sentiment']]\n",
    "minutes = minutes.rename(columns={'sentiment':'minute_sentiment'})\n",
    "minutes['date'] = pd.to_datetime(minutes['date'])\n",
    "sentiment = pd.merge(sentiment, minutes, how='left', left_on='date', right_on='date')\n",
    "\n",
    "# fed_speech = pd.read_csv(f\"{finbert_models}/{Body}/Speeches/{Body}_Speeches_finbert_model_short.csv\")\n",
    "# fed_speech = fed_speech[['date','sentiment']]\n",
    "# fed_speech = fed_speech.rename(columns={'sentiment':'fed_speech_sentiment'})\n",
    "# fed_speech['date'] = pd.to_datetime(fed_speech['date'])\n",
    "# sentiment = pd.merge(sentiment, fed_speech, how='left', left_on='date', right_on='date')\n",
    "\n",
    "Body = 'ECB'\n",
    "mpd = pd.read_csv(f\"{finbert_models}/{Body}/Monetary policy decisions/{Body}_Monetary policy decisions_finbert_model_short.csv\")\n",
    "mpd = mpd[['date','sentiment']]\n",
    "print(mpd.head())\n",
    "mpd = mpd.rename(columns={'sentiment':'mpd_sentiment'})\n",
    "\n",
    "mpd['date'] = pd.to_datetime(mpd['date'])\n",
    "mpd['date'] = mpd['date'].dt.date\n",
    "\n",
    "sentiment = pd.merge(sentiment, mpd, how='left', left_on='date', right_on='date')\n",
    "\n",
    "pc = pd.read_csv(f\"{finbert_models}/{Body}/Press Conferences/{Body}_Press Conferences_finbert_model_short.csv\")\n",
    "pc = pc[['date','sentiment']]\n",
    "pc = pc.rename(columns={'sentiment':'pc_sentiment'})\n",
    "pc['date'] = pd.to_datetime(pc['date'])\n",
    "sentiment = pd.merge(sentiment, pc, how='left', left_on='date', right_on='date')\n",
    "\n",
    "eb = pd.read_csv(f\"{finbert_models}/{Body}/Economic Bulletin/{Body}_Economic Bulletin_finbert_model_short.csv\")\n",
    "eb = eb[['date','sentiment']]\n",
    "eb = eb.rename(columns={'sentiment':'eb_sentiment'})\n",
    "eb['date'] = pd.to_datetime(eb['date'])\n",
    "sentiment = pd.merge(sentiment, eb, how='left', left_on='date', right_on='date')\n",
    "\n",
    "# ecb_speech = pd.read_csv(f\"{finbert_models}/{Body}/Speeches/{Body}_Speeches_finbert_model_short.csv\")\n",
    "# ecb_speech = ecb_speech[['date','sentiment']]\n",
    "# ecb_speech = ecb_speech.rename(columns={'sentiment':'ecb_speech_sentiment'})\n",
    "# ecb_speech['date'] = pd.to_datetime(ecb_speech['date'])\n",
    "# sentiment = pd.merge(sentiment, ecb_speech, how='left', left_on='date', right_on='date')\n",
    "\n",
    "sentiment = sentiment[(sentiment['date'] >= '2000-01-01') & (sentiment['date'] <= '2023-06-30')]\n"
   ]
  },
  {
   "cell_type": "code",
   "execution_count": null,
   "metadata": {},
   "outputs": [],
   "source": [
    "#group pc_sentiment, mpd_sentiment, and eb_sentiment into one variable called euro_sentiment that is the average of the three and ignores nan values\n",
    "sentiment['euro_sentiment'] = sentiment[['pc_sentiment', 'mpd_sentiment']].mean(axis=1)\n"
   ]
  },
  {
   "cell_type": "code",
   "execution_count": null,
   "metadata": {},
   "outputs": [],
   "source": [
    "#sentiment = sentiment.groupby('date').mean()"
   ]
  },
  {
   "cell_type": "code",
   "execution_count": null,
   "metadata": {},
   "outputs": [],
   "source": [
    "mich = pd.read_csv(f'{database}/Market Data/Michigan/michigan_sent.csv')\n",
    "#convert Month from a string to a number\n",
    "mich['Month'] = mich['Month'].str.replace('January', '01')\n",
    "mich['Month'] = mich['Month'].str.replace('February', '02')\n",
    "mich['Month'] = mich['Month'].str.replace('March', '03')\n",
    "mich['Month'] = mich['Month'].str.replace('April', '04')\n",
    "mich['Month'] = mich['Month'].str.replace('May', '05')\n",
    "mich['Month'] = mich['Month'].str.replace('June', '06')\n",
    "mich['Month'] = mich['Month'].str.replace('July', '07')\n",
    "mich['Month'] = mich['Month'].str.replace('August', '08')\n",
    "mich['Month'] = mich['Month'].str.replace('September', '09')\n",
    "mich['Month'] = mich['Month'].str.replace('October', '10')\n",
    "mich['Month'] = mich['Month'].str.replace('November', '11')\n",
    "mich['Month'] = mich['Month'].str.replace('December', '12')\n",
    "    \n",
    "#combine Month and YYYY columns and convert to datetime\n",
    "mich['date'] = mich['Month'].astype(str) + '-' + mich['YYYY'].astype(str)\n",
    "mich['date'] = pd.to_datetime(mich['date'])\n",
    "mich = mich[['date', 'ICS_ALL']]\n",
    "mich = mich.rename(columns={'ICS_ALL':'michigan_sentiment'})\n",
    "print(mich.head())\n",
    "\n",
    "sentiment = pd.merge(sentiment, mich, how='outer', left_on='date', right_on='date')"
   ]
  },
  {
   "cell_type": "code",
   "execution_count": null,
   "metadata": {},
   "outputs": [],
   "source": [
    "market =pd.read_csv(f'{database}/Market Data/All Market Data.csv')\n",
    "market = market.rename(columns={'PCE':'pce', 'GDP':'gdp', 'GDPPOT':'gdp_pot'})\n",
    "market['date'] = pd.to_datetime(market['date'])\n",
    "print(market.columns)\n"
   ]
  },
  {
   "cell_type": "code",
   "execution_count": null,
   "metadata": {},
   "outputs": [],
   "source": [
    "taylor = pd.read_csv(f'/Users/kylenabors/Documents/Database/Market Data/Taylor/Taylor.csv')\n",
    "taylor['date'] = pd.to_datetime(taylor['date'])\n",
    "taylor = taylor.rename(columns={'Taylor':'taylor_fred'})"
   ]
  },
  {
   "cell_type": "code",
   "execution_count": null,
   "metadata": {},
   "outputs": [],
   "source": [
    "\n",
    "sentiment = pd.merge(sentiment, market, how='left', left_on='date', right_on='date')\n",
    "sentiment = pd.merge(sentiment, taylor, how='left', left_on='date', right_on='date')"
   ]
  },
  {
   "cell_type": "code",
   "execution_count": null,
   "metadata": {},
   "outputs": [],
   "source": [
    "sentiment = sentiment[(sentiment['date'] >= '2000-01-01') & (sentiment['date'] <= '2023-06-30')]\n",
    "sentiment = sentiment.set_index('date')\n",
    "sentiment = sentiment.resample('Q').mean().reset_index()\n",
    "\n",
    "# sentiment = sentiment.drop(columns=['sp500_return', 'sp500_return_volume'])\n",
    "\n",
    "# spreturn = pd.read_csv(f'{database}/Market Data/SP500/SP500 Returns Quarterly.csv')\n",
    "# spreturn = spreturn.rename(columns={'Date':'date', 'PX_LAST':'sp500_return', 'PX_VOLUME':'sp500_return_volume'})\n",
    "# #remove dates from date row that are \"#NAME?\"\n",
    "# spreturn = spreturn[spreturn['date'] != '#NAME?']\n",
    "# print(spreturn.head()) \n",
    "# spreturn['date'] = pd.to_datetime(spreturn['date'])\n",
    "# sentiment = pd.merge(sentiment, spreturn, how='left', left_on='date', right_on='date')"
   ]
  },
  {
   "cell_type": "code",
   "execution_count": null,
   "metadata": {},
   "outputs": [],
   "source": [
    "sentiment['sp500_return'] = sentiment['sp500_return'].pct_change()"
   ]
  },
  {
   "cell_type": "code",
   "execution_count": null,
   "metadata": {},
   "outputs": [],
   "source": [
    "\n",
    "filter_items = ['pce', 'gdp', 'gdp_pot', 'inflation', 'taylor_fred']\n",
    "\n",
    "for item in filter_items:\n",
    "    filter_df = sentiment.copy(deep=True)\n",
    "    filter_df = filter_df[['date', f'{item}']]\n",
    "\n",
    "    cycle, trend = sm.tsa.filters.hpfilter(filter_df[f'{item}'], 1600)\n",
    "\n",
    "    item_decomp = filter_df[[f'{item}']]\n",
    "    item_decomp[f\"{item}_cycle\"] = cycle\n",
    "    item_decomp[f\"{item}_trend\"] = trend\n",
    "\n",
    "    filter_df = pd.merge(filter_df, item_decomp, on=f'{item}', how='left')  \n",
    "    filter_df = filter_df[['date', f'{item}_cycle', f'{item}_trend']]\n",
    "    sentiment = pd.merge(sentiment, filter_df, on='date', how='left')"
   ]
  },
  {
   "cell_type": "code",
   "execution_count": null,
   "metadata": {},
   "outputs": [],
   "source": [
    "\n",
    "sentiment['gap'] = (sentiment['gdp'] - sentiment['gdp_pot'])/sentiment['gdp_pot']\n",
    "sentiment['gap'] = sentiment['gap']*100"
   ]
  },
  {
   "cell_type": "code",
   "execution_count": null,
   "metadata": {},
   "outputs": [],
   "source": [
    "sentiment['taylor'] = 2 + sentiment['gdpdef'] + 0.5*(sentiment['gdpdef'] - 2) + 0.5*(sentiment['gap'])\n"
   ]
  },
  {
   "cell_type": "code",
   "execution_count": null,
   "metadata": {},
   "outputs": [],
   "source": [
    "#if statment_sentiment is greater than 0 make 1 if it is less than 0 make -1\n",
    "#sentiment['statement_sentiment'] = np.where(sentiment['statement_sentiment'] > 0, 1, -1)"
   ]
  },
  {
   "cell_type": "code",
   "execution_count": null,
   "metadata": {},
   "outputs": [],
   "source": [
    "\n",
    "sentiment_groups = ['statement', 'minute', 'mpd', 'michigan']\n",
    "for group in sentiment_groups:\n",
    "    for i in range(0, 11):\n",
    "        sentiment[f'{group}_sentiment_{i}'] = sentiment[f'{group}_sentiment'].shift(i)\n",
    "        sentiment[f'{group}_sentiment_{i}'] =  sentiment[f'{group}_sentiment_{i}'].diff()\n",
    "        #sentiment[f'{group}_sentiment_forward_{i}'] = sentiment[f'{group}_sentiment'].shift(-i)\n",
    "        \n",
    "market_groups = ['fedfunds', 'taylor', 'sp500_return']\n",
    "\n",
    "for group in market_groups:\n",
    "    for i in range(0, 5):\n",
    "        sentiment[f'{group}_{i}'] = sentiment[f'{group}'].shift(i)\n",
    "        #sentiment[f'{group}_forward_{i}'] = sentiment[f'{group}'].shift(-i)"
   ]
  },
  {
   "cell_type": "code",
   "execution_count": null,
   "metadata": {},
   "outputs": [],
   "source": [
    "\n",
    "sentiment.to_csv(f'/Users/kylenabors/Documents/Database/Models/FinBERT Models/taylor.csv', index=False)\n"
   ]
  },
  {
   "cell_type": "code",
   "execution_count": null,
   "metadata": {},
   "outputs": [],
   "source": [
    "#create a list of all the columns in the dataframe sentiment\n",
    "columns = sentiment.columns\n",
    "#Remove data column\n",
    "columns = columns[1:]\n",
    "\n",
    "#loop through the columns and normalize the data\n",
    "for column in columns:\n",
    "    sentiment[column] = (sentiment[column] - sentiment[column].mean()) / (sentiment[column].max() - sentiment[column].min())\n"
   ]
  },
  {
   "cell_type": "code",
   "execution_count": null,
   "metadata": {},
   "outputs": [],
   "source": [
    "print(sentiment.columns)"
   ]
  },
  {
   "cell_type": "code",
   "execution_count": null,
   "metadata": {},
   "outputs": [],
   "source": [
    "print(sentiment.columns)\n",
    "\n",
    "#Graph the Data\n",
    "fig, ax = plt.subplots(figsize = (30, 15))\n",
    "\n",
    "\n",
    "# ax.scatter(sentiment['date'], sentiment['minute_sentiment'], label='FOMC Minute Sentiment', color='green')\n",
    "# ax.plot(sentiment['date'], sentiment['minute_sentiment'], label='FOMC Minute Sentiment', color='lightgreen')\n",
    "\n",
    "# ax.scatter(sentiment['date'], sentiment['statement_sentiment'], label='FOMC Statement Sentiment', color='blue')\n",
    "# ax.plot(sentiment['date'], sentiment['statement_sentiment'], label='FOMC Statement Sentiment', color='lightblue')\n",
    "\n",
    "# ax.scatter(sentiment['date'], sentiment['sp500_return'], label='Michigan Sentiment', color='red')\n",
    "# ax.plot(sentiment['date'], sentiment['sp500_return'], label='Michigan Sentiment', color='coral')\n",
    "\n",
    "ax.scatter(sentiment['date'], sentiment['taylor'], label='Taylor Rule', color='black')\n",
    "ax.plot(sentiment['date'], sentiment['taylor'], label='Taylor Rule', color='grey')\n",
    "\n",
    "ax.scatter(sentiment['date'], sentiment['taylor_euro'], label='Taylor Rule Europe', color='blue')\n",
    "ax.plot(sentiment['date'], sentiment['taylor_euro'], label='Taylor Rule Europe', color='lightblue')\n",
    "\n",
    "#Create a vertical line at every year \n",
    "for year in range(2000, 2025):\n",
    "    ax.axvline(pd.to_datetime(f'{year}-01-01'), color='gray', linestyle='--', lw=1)\n",
    "\n",
    "ax.set_xlabel('Date')\n",
    "ax.set_ylabel('Taylor Rule')\n",
    "ax.legend()\n",
    "plt.show()\n"
   ]
  },
  {
   "cell_type": "code",
   "execution_count": null,
   "metadata": {},
   "outputs": [],
   "source": [
    "#recreate the previous graph but using multiple subplots where every subplot is a different variable compared to the Taylor Rule\n",
    "fig, ax = plt.subplots(5, 2, figsize = (30, 25))\n",
    "\n",
    "ax[0, 0].scatter(sentiment['date'], sentiment['minute_sentiment'], label='FOMC Minute Sentiment', color='blue')\n",
    "ax[0, 0].plot(sentiment['date'], sentiment['minute_sentiment'], label='FOMC Minute Sentiment', color='lightblue')\n",
    "ax[0, 0].scatter(sentiment['date'], sentiment['taylor'], label='Taylor Rule', color='black')\n",
    "ax[0, 0].plot(sentiment['date'], sentiment['taylor'], label='Taylor Rule', color='grey')\n",
    "ax[0, 0].set_title('FOMC Minute Sentiment and Taylor Rule')\n",
    "ax[0, 0].set_yticks(np.arange(-0.5, 0.8, 0.1))\n",
    "\n",
    "ax[0, 1].scatter(sentiment['date'], sentiment['statement_sentiment'], label='Statement Sentiment', color='blue')\n",
    "ax[0, 1].plot(sentiment['date'], sentiment['statement_sentiment'], label='Statement Sentiment', color='lightblue')\n",
    "ax[0, 1].scatter(sentiment['date'], sentiment['taylor'], label='Taylor Rule', color='black')\n",
    "ax[0, 1].plot(sentiment['date'], sentiment['taylor'], label='Taylor Rule', color='grey')\n",
    "ax[0, 1].set_title('FOMC Statement Sentiment and Taylor Rule')\n",
    "ax[0, 1].set_yticks(np.arange(-0.5, 0.8, 0.1))\n",
    "\n",
    "ax[1, 0].scatter(sentiment['date'], sentiment['michigan_sentiment'], label='Michigan Sentiment', color='red')\n",
    "ax[1, 0].plot(sentiment['date'], sentiment['michigan_sentiment'], label='Michigan Sentiment', color='lightcoral')\n",
    "ax[1, 0].scatter(sentiment['date'], sentiment['taylor'], label='Taylor Rule', color='black')\n",
    "ax[1, 0].plot(sentiment['date'], sentiment['taylor'], label='Taylor Rule', color='grey')\n",
    "ax[1, 0].set_title('Michigan Sentiment and Taylor Rule')\n",
    "ax[1, 0].set_yticks(np.arange(-0.5, 0.8, 0.1))\n",
    "\n",
    "ax[1, 1].scatter(sentiment['date'], sentiment['sp500_price'], label='SP500 Price', color='orange')\n",
    "ax[1, 1].plot(sentiment['date'], sentiment['sp500_price'], label='SP500 Price', color='orange')\n",
    "ax[1, 1].scatter(sentiment['date'], sentiment['taylor'], label='Taylor Rule', color='black')\n",
    "ax[1, 1].plot(sentiment['date'], sentiment['taylor'], label='Taylor Rule', color='grey')\n",
    "ax[1, 1].set_title('SP500 Price and Taylor Rule')\n",
    "ax[1, 1].set_yticks(np.arange(-0.5, 0.8, 0.1))\n",
    "\n",
    "ax[2, 0].scatter(sentiment['date'], sentiment['fedfunds'], label='FedFunds Rate', color='purple')\n",
    "ax[2, 0].plot(sentiment['date'], sentiment['fedfunds'], label='FedFunds Rate', color='violet')\n",
    "ax[2, 0].scatter(sentiment['date'], sentiment['taylor'], label='Taylor Rule', color='black')\n",
    "ax[2, 0].plot(sentiment['date'], sentiment['taylor'], label='Taylor Rule', color='grey')\n",
    "ax[2, 0].set_title('FedFunds Rate and Taylor Rule')\n",
    "ax[2, 0].set_yticks(np.arange(-0.5, 0.8, 0.1))\n",
    "\n",
    "ax[2, 1].scatter(sentiment['date'], sentiment['unemployment'], label='Unemployment Rate', color='brown')\n",
    "ax[2, 1].plot(sentiment['date'], sentiment['unemployment'], label='Unemployment Rate', color='brown')\n",
    "ax[2, 1].scatter(sentiment['date'], sentiment['taylor'], label='Taylor Rule', color='black')\n",
    "ax[2, 1].plot(sentiment['date'], sentiment['taylor'], label='Taylor Rule', color='grey')\n",
    "ax[2, 1].set_title('Unemployment Rate and Taylor Rule')\n",
    "ax[2, 1].set_yticks(np.arange(-0.5, 0.8, 0.1))\n",
    "\n",
    "ax[3, 0].scatter(sentiment['date'], sentiment['pc_sentiment'], label='Press Conferences Sentiment', color='green')\n",
    "ax[3, 0].plot(sentiment['date'], sentiment['pc_sentiment'], label='Press Conferences Sentiment', color='lightgreen')\n",
    "ax[3, 0].scatter(sentiment['date'], sentiment['taylor_euro'], label='Taylor Rule Europe', color='black')\n",
    "ax[3, 0].plot(sentiment['date'], sentiment['taylor_euro'], label='Taylor Rule Europe', color='grey')\n",
    "ax[3, 0].set_title('Press Conferences Sentiment and Taylor Rule')\n",
    "ax[3, 0].set_yticks(np.arange(-0.5, 0.8, 0.1))\n",
    "\n",
    "ax[3, 1].scatter(sentiment['date'], sentiment['mpd_sentiment'], label='Monetary Policy Decision Sentiment', color='green')\n",
    "ax[3, 1].plot(sentiment['date'], sentiment['mpd_sentiment'], label='Monetary Policy Decision Sentiment', color='lightgreen')\n",
    "ax[3, 1].scatter(sentiment['date'], sentiment['taylor_euro'], label='Taylor Rule Europe', color='black')\n",
    "ax[3, 1].plot(sentiment['date'], sentiment['taylor_euro'], label='Taylor Rule Europe', color='grey')\n",
    "ax[3, 1].set_title('Monetary Policy Decision Sentiment and Taylor Rule')\n",
    "ax[3, 1].set_yticks(np.arange(-0.5, 0.8, 0.1))\n",
    "\n",
    "ax[4, 0].scatter(sentiment['date'], sentiment['eb_sentiment'], label='Economic Bulletin Sentiment', color='green')\n",
    "ax[4, 0].plot(sentiment['date'], sentiment['eb_sentiment'], label='Economic Bulletin Sentiment', color='lightgreen')\n",
    "ax[4, 0].scatter(sentiment['date'], sentiment['taylor_euro'], label='Taylor Rule', color='black')\n",
    "ax[4, 0].plot(sentiment['date'], sentiment['taylor_euro'], label='Taylor Rule', color='grey')\n",
    "ax[4, 0].set_title('Economic Bulletin Sentiment and Taylor Rule')\n",
    "ax[4, 0].set_yticks(np.arange(-0.5, 0.8, 0.1))\n",
    "\n",
    "ax[4, 1].scatter(sentiment['date'], sentiment['euro_sentiment'], label='Europe Sentiment', color='green')\n",
    "ax[4, 1].plot(sentiment['date'], sentiment['euro_sentiment'], label='Europe Sentiment', color='lightgreen')\n",
    "ax[4, 1].scatter(sentiment['date'], sentiment['taylor_euro'], label='Taylor Rule Europe', color='black')\n",
    "ax[4, 1].plot(sentiment['date'], sentiment['taylor_euro'], label='Taylor Rule Europe', color='grey')\n",
    "ax[4, 1].set_title('All Europe Sentiment and Taylor Rule')\n",
    "ax[4, 1].set_yticks(np.arange(-0.5, 0.8, 0.1))\n",
    "\n",
    "\n",
    "#Create a vertical line at every year\n",
    "for i in range(3):\n",
    "    for j in range(2):\n",
    "        for year in range(2000, 2025):\n",
    "            ax[i, j].axvline(pd.to_datetime(f'{year}-01-01'), color='gray', linestyle='--', lw=1)\n",
    "            \n",
    "plt.show()"
   ]
  }
 ],
 "metadata": {
  "kernelspec": {
   "display_name": "Python 3",
   "language": "python",
   "name": "python3"
  },
  "language_info": {
   "codemirror_mode": {
    "name": "ipython",
    "version": 3
   },
   "file_extension": ".py",
   "mimetype": "text/x-python",
   "name": "python",
   "nbconvert_exporter": "python",
   "pygments_lexer": "ipython3",
   "version": "3.11.6"
  }
 },
 "nbformat": 4,
 "nbformat_minor": 2
}
