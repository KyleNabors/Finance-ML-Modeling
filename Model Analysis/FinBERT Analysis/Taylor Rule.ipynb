{
 "cells": [
  {
   "cell_type": "code",
   "execution_count": null,
   "metadata": {},
   "outputs": [],
   "source": [
    "#Importing the necessary libraries\n",
    "\n",
    "import os \n",
    "import sys\n",
    "import pandas as pd\n",
    "import matplotlib.pyplot as plt\n",
    "from matplotlib import ticker\n",
    "import numpy as np\n",
    "\n",
    "import statsmodels.api as sm\n"
   ]
  },
  {
   "cell_type": "code",
   "execution_count": null,
   "metadata": {},
   "outputs": [],
   "source": [
    "#Global Settings \n",
    "pd.set_option('display.float_format', lambda x: '%.4f' % x)"
   ]
  },
  {
   "cell_type": "code",
   "execution_count": null,
   "metadata": {},
   "outputs": [],
   "source": [
    "#Importing Configs\n",
    "# Define the path where config.py is located\n",
    "#Mac\n",
    "os.chdir('/Users/kylenabors/Documents/GitHub/Finance-ML-Modeling')\n",
    "config_file_path = os.getcwd()\n",
    "print(config_file_path)\n",
    "\n",
    "# Add this path to the sys.path\n",
    "sys.path.append(config_file_path)\n",
    "\n",
    "import config\n",
    "\n",
    "#Configs\n",
    "finbert_models = config.finbert_models\n",
    "Body = config.Body\n",
    "database = config.Local_Database"
   ]
  },
  {
   "cell_type": "code",
   "execution_count": null,
   "metadata": {},
   "outputs": [],
   "source": [
    "sentiment = pd.date_range(start='1/1/1990', end='1/1/2024', freq='D')\n",
    "sentiment = pd.DataFrame(sentiment, columns=['date'])\n",
    "\n",
    "state = pd.read_csv(f\"{finbert_models}/{Body}/Statements/{Body}_Statements_finbert_model_short.csv\")\n",
    "state = state[['date','sentiment']]\n",
    "state = state.rename(columns={'sentiment':'statement_sentiment'})\n",
    "state['date'] = pd.to_datetime(state['date'])\n",
    "sentiment = pd.merge(sentiment, state, how='left', left_on='date', right_on='date')\n",
    "\n",
    "minutes = pd.read_csv(f\"{finbert_models}/{Body}/Minutes/{Body}_Minutes_finbert_model_short.csv\")\n",
    "minutes = minutes[['date','sentiment']]\n",
    "minutes = minutes.rename(columns={'sentiment':'minute_sentiment'})\n",
    "minutes['date'] = pd.to_datetime(minutes['date'])\n",
    "sentiment = pd.merge(sentiment, minutes, how='left', left_on='date', right_on='date')\n",
    "\n",
    "# fed_speech = pd.read_csv(f\"{finbert_models}/{Body}/Speeches/{Body}_Speeches_finbert_model_short.csv\")\n",
    "# fed_speech = fed_speech[['date','sentiment']]\n",
    "# fed_speech = fed_speech.rename(columns={'sentiment':'fed_speech_sentiment'})\n",
    "# fed_speech['date'] = pd.to_datetime(fed_speech['date'])\n",
    "# sentiment = pd.merge(sentiment, fed_speech, how='left', left_on='date', right_on='date')\n",
    "\n",
    "Body = 'ECB'\n",
    "mpd = pd.read_csv(f\"{finbert_models}/{Body}/Monetary policy decisions/{Body}_Monetary policy decisions_finbert_model_short.csv\")\n",
    "mpd = mpd[['date','sentiment']]\n",
    "mpd = mpd.rename(columns={'sentiment':'mpd_sentiment'})\n",
    "mpd['date'] = pd.to_datetime(mpd['date'])\n",
    "sentiment = pd.merge(sentiment, mpd, how='left', left_on='date', right_on='date')\n",
    "\n",
    "pc = pd.read_csv(f\"{finbert_models}/{Body}/Press Conferences/{Body}_Press Conferences_finbert_model_short.csv\")\n",
    "pc = pc[['date','sentiment']]\n",
    "pc = pc.rename(columns={'sentiment':'pc_sentiment'})\n",
    "pc['date'] = pd.to_datetime(pc['date'])\n",
    "sentiment = pd.merge(sentiment, pc, how='left', left_on='date', right_on='date')\n",
    "\n",
    "eb = pd.read_csv(f\"{finbert_models}/{Body}/Economic Bulletin/{Body}_Economic Bulletin_finbert_model_short.csv\")\n",
    "eb = eb[['date','sentiment']]\n",
    "eb = eb.rename(columns={'sentiment':'eb_sentiment'})\n",
    "eb['date'] = pd.to_datetime(eb['date'])\n",
    "sentiment = pd.merge(sentiment, eb, how='left', left_on='date', right_on='date')\n",
    "\n",
    "# ecb_speech = pd.read_csv(f\"{finbert_models}/{Body}/Speeches/{Body}_Speeches_finbert_model_short.csv\")\n",
    "# ecb_speech = ecb_speech[['date','sentiment']]\n",
    "# ecb_speech = ecb_speech.rename(columns={'sentiment':'ecb_speech_sentiment'})\n",
    "# ecb_speech['date'] = pd.to_datetime(ecb_speech['date'])\n",
    "# sentiment = pd.merge(sentiment, ecb_speech, how='left', left_on='date', right_on='date')\n",
    "\n",
    "sentiment = sentiment[(sentiment['date'] >= '2000-01-01') & (sentiment['date'] <= '2023-06-30')]\n"
   ]
  },
  {
   "cell_type": "code",
   "execution_count": null,
   "metadata": {},
   "outputs": [],
   "source": [
    "#sentiment = sentiment.groupby('date').mean()"
   ]
  },
  {
   "cell_type": "code",
   "execution_count": null,
   "metadata": {},
   "outputs": [],
   "source": [
    "mich = pd.read_csv(f'{database}/Market Data/Michigan/michigan_sent.csv')\n",
    "#convert Month from a string to a number\n",
    "mich['Month'] = mich['Month'].str.replace('January', '01')\n",
    "mich['Month'] = mich['Month'].str.replace('February', '02')\n",
    "mich['Month'] = mich['Month'].str.replace('March', '03')\n",
    "mich['Month'] = mich['Month'].str.replace('April', '04')\n",
    "mich['Month'] = mich['Month'].str.replace('May', '05')\n",
    "mich['Month'] = mich['Month'].str.replace('June', '06')\n",
    "mich['Month'] = mich['Month'].str.replace('July', '07')\n",
    "mich['Month'] = mich['Month'].str.replace('August', '08')\n",
    "mich['Month'] = mich['Month'].str.replace('September', '09')\n",
    "mich['Month'] = mich['Month'].str.replace('October', '10')\n",
    "mich['Month'] = mich['Month'].str.replace('November', '11')\n",
    "mich['Month'] = mich['Month'].str.replace('December', '12')\n",
    "    \n",
    "#combine Month and YYYY columns and convert to datetime\n",
    "mich['date'] = mich['Month'].astype(str) + '-' + mich['YYYY'].astype(str)\n",
    "mich['date'] = pd.to_datetime(mich['date'])\n",
    "mich = mich[['date', 'ICS_ALL']]\n",
    "mich = mich.rename(columns={'ICS_ALL':'michigan_sentiment'})\n",
    "print(mich.head())\n",
    "\n",
    "sentiment = pd.merge(sentiment, mich, how='outer', left_on='date', right_on='date')"
   ]
  },
  {
   "cell_type": "code",
   "execution_count": null,
   "metadata": {},
   "outputs": [],
   "source": [
    "market =pd.read_csv(f'{database}/Market Data/All Market Data.csv')\n",
    "market = market.rename(columns={'PCE':'pce', 'GDP':'gdp', 'GDPPOT':'gdp_pot'})\n",
    "market['date'] = pd.to_datetime(market['date'])\n",
    "print(market.columns)\n"
   ]
  },
  {
   "cell_type": "code",
   "execution_count": null,
   "metadata": {},
   "outputs": [],
   "source": [
    "taylor = pd.read_csv(f'/Users/kylenabors/Documents/Database/Market Data/Taylor/Taylor.csv')\n",
    "taylor['date'] = pd.to_datetime(taylor['date'])\n",
    "taylor = taylor.rename(columns={'Taylor':'taylor_fred'})"
   ]
  },
  {
   "cell_type": "code",
   "execution_count": null,
   "metadata": {},
   "outputs": [],
   "source": [
    "\n",
    "sentiment = pd.merge(sentiment, market, how='left', left_on='date', right_on='date')\n",
    "sentiment = pd.merge(sentiment, taylor, how='left', left_on='date', right_on='date')"
   ]
  },
  {
   "cell_type": "code",
   "execution_count": null,
   "metadata": {},
   "outputs": [],
   "source": [
    "sentiment = sentiment[(sentiment['date'] >= '2000-01-01') & (sentiment['date'] <= '2023-06-30')]\n",
    "sentiment = sentiment.set_index('date')\n",
    "sentiment = sentiment.resample('Q').mean().reset_index()\n"
   ]
  },
  {
   "cell_type": "code",
   "execution_count": null,
   "metadata": {},
   "outputs": [],
   "source": [
    "\n",
    "filter_items = ['pce', 'gdp', 'gdp_pot', 'inflation', 'taylor_fred']\n",
    "\n",
    "for item in filter_items:\n",
    "    filter_df = sentiment.copy(deep=True)\n",
    "    filter_df = filter_df[['date', f'{item}']]\n",
    "\n",
    "    cycle, trend = sm.tsa.filters.hpfilter(filter_df[f'{item}'], 1600)\n",
    "\n",
    "    item_decomp = filter_df[[f'{item}']]\n",
    "    item_decomp[f\"{item}_cycle\"] = cycle\n",
    "    item_decomp[f\"{item}_trend\"] = trend\n",
    "\n",
    "    filter_df = pd.merge(filter_df, item_decomp, on=f'{item}', how='left')  \n",
    "    filter_df = filter_df[['date', f'{item}_cycle', f'{item}_trend']]\n",
    "    sentiment = pd.merge(sentiment, filter_df, on='date', how='left')"
   ]
  },
  {
   "cell_type": "code",
   "execution_count": null,
   "metadata": {},
   "outputs": [],
   "source": [
    "\n",
    "sentiment['gap'] = (sentiment['gdp'] - sentiment['gdp_pot'])/sentiment['gdp_pot']\n",
    "sentiment['gap'] = sentiment['gap']*100"
   ]
  },
  {
   "cell_type": "code",
   "execution_count": null,
   "metadata": {},
   "outputs": [],
   "source": [
    "sentiment['taylor'] = 2 + sentiment['gdpdef'] + 0.5*(sentiment['gdpdef'] - 2) + 0.5*(sentiment['gap'])\n"
   ]
  },
  {
   "cell_type": "code",
   "execution_count": null,
   "metadata": {},
   "outputs": [],
   "source": [
    "#if statment_sentiment is greater than 0 make 1 if it is less than 0 make -1\n",
    "#sentiment['statement_sentiment'] = np.where(sentiment['statement_sentiment'] > 0, 1, -1)"
   ]
  },
  {
   "cell_type": "code",
   "execution_count": null,
   "metadata": {},
   "outputs": [],
   "source": [
    "\n",
    "sentiment_groups = ['statement', 'minute', 'mpd']\n",
    "for group in sentiment_groups:\n",
    "    for i in range(0, 11):\n",
    "        sentiment[f'{group}_sentiment_{i}'] = sentiment[f'{group}_sentiment'].shift(i)\n",
    "        #sentiment[f'{group}_sentiment_forward_{i}'] = sentiment[f'{group}_sentiment'].shift(-i)\n",
    "        \n",
    "market_groups = ['fedfunds', 'unemployment', 'inflation', 'taylor', 'pce', 'gdp', 'gdp_pot', 'gap']\n",
    "\n",
    "for group in market_groups:\n",
    "    for i in range(0, 5):\n",
    "        sentiment[f'{group}_{i}'] = sentiment[f'{group}'].shift(i)\n",
    "        #sentiment[f'{group}_forward_{i}'] = sentiment[f'{group}'].shift(-i)"
   ]
  },
  {
   "cell_type": "code",
   "execution_count": null,
   "metadata": {},
   "outputs": [],
   "source": [
    "\n",
    "sentiment.to_csv(f'/Users/kylenabors/Documents/Database/Models/FinBERT Models/taylor.csv', index=False)\n"
   ]
  },
  {
   "cell_type": "code",
   "execution_count": null,
   "metadata": {},
   "outputs": [],
   "source": [
    "#create a list of all the columns in the dataframe sentiment\n",
    "columns = sentiment.columns\n",
    "#Remove data column\n",
    "columns = columns[1:]\n",
    "\n",
    "#loop through the columns and normalize the data\n",
    "for column in columns:\n",
    "    sentiment[column] = (sentiment[column] - sentiment[column].mean()) / (sentiment[column].max() - sentiment[column].min())\n"
   ]
  },
  {
   "cell_type": "code",
   "execution_count": null,
   "metadata": {},
   "outputs": [],
   "source": [
    "print(sentiment.columns)"
   ]
  },
  {
   "cell_type": "code",
   "execution_count": null,
   "metadata": {},
   "outputs": [],
   "source": [
    "print(sentiment.columns)\n",
    "\n",
    "#Graph the Data\n",
    "fig, ax = plt.subplots(figsize = (30, 15))\n",
    "\n",
    "\n",
    "ax.scatter(sentiment['date'], sentiment['minute_sentiment'], label='FOMC Minute Sentiment', color='green')\n",
    "ax.plot(sentiment['date'], sentiment['minute_sentiment'], label='FOMC Minute Sentiment', color='lightgreen')\n",
    "\n",
    "ax.scatter(sentiment['date'], sentiment['statement_sentiment'], label='FOMC Statement Sentiment', color='blue')\n",
    "ax.plot(sentiment['date'], sentiment['statement_sentiment'], label='FOMC Statement Sentiment', color='lightblue')\n",
    "\n",
    "ax.scatter(sentiment['date'], sentiment['michigan_sentiment'], label='Michigan Sentiment', color='red')\n",
    "ax.plot(sentiment['date'], sentiment['michigan_sentiment'], label='Michigan Sentiment', color='coral')\n",
    "\n",
    "ax.scatter(sentiment['date'], sentiment['taylor'], label='Taylor Rule', color='black')\n",
    "ax.plot(sentiment['date'], sentiment['taylor'], label='Taylor Rule', color='grey')\n",
    "\n",
    "#Create a vertical line at every year \n",
    "for year in range(2000, 2025):\n",
    "    ax.axvline(pd.to_datetime(f'{year}-01-01'), color='gray', linestyle='--', lw=1)\n",
    "\n",
    "ax.set_xlabel('Date')\n",
    "ax.set_ylabel('Taylor Rule')\n",
    "ax.legend()\n",
    "plt.show()\n"
   ]
  },
  {
   "cell_type": "code",
   "execution_count": null,
   "metadata": {},
   "outputs": [],
   "source": [
    "#recreate the previous graph but using multiple subplots where every subplot is a different variable compared to the Taylor Rule\n",
    "fig, ax = plt.subplots(5, 2, figsize = (30, 25))\n",
    "\n",
    "ax[0, 0].scatter(sentiment['date'], sentiment['minute_sentiment'], label='FOMC Minute Sentiment', color='blue')\n",
    "ax[0, 0].plot(sentiment['date'], sentiment['minute_sentiment'], label='FOMC Minute Sentiment', color='lightblue')\n",
    "ax[0, 0].scatter(sentiment['date'], sentiment['taylor'], label='Taylor Rule', color='black')\n",
    "ax[0, 0].plot(sentiment['date'], sentiment['taylor'], label='Taylor Rule', color='grey')\n",
    "ax[0, 0].set_title('FOMC Minute Sentiment and Taylor Rule')\n",
    "ax[0, 0].set_yticks(np.arange(-0.5, 0.8, 0.1))\n",
    "\n",
    "ax[0, 1].scatter(sentiment['date'], sentiment['statement_sentiment'], label='Statement Sentiment', color='blue')\n",
    "ax[0, 1].plot(sentiment['date'], sentiment['statement_sentiment'], label='Statement Sentiment', color='lightblue')\n",
    "ax[0, 1].scatter(sentiment['date'], sentiment['taylor'], label='Taylor Rule', color='black')\n",
    "ax[0, 1].plot(sentiment['date'], sentiment['taylor'], label='Taylor Rule', color='grey')\n",
    "ax[0, 1].set_title('FOMC Statement Sentiment and Taylor Rule')\n",
    "ax[0, 1].set_yticks(np.arange(-0.5, 0.8, 0.1))\n",
    "\n",
    "ax[1, 0].scatter(sentiment['date'], sentiment['michigan_sentiment'], label='Michigan Sentiment', color='red')\n",
    "ax[1, 0].plot(sentiment['date'], sentiment['michigan_sentiment'], label='Michigan Sentiment', color='lightcoral')\n",
    "ax[1, 0].scatter(sentiment['date'], sentiment['taylor'], label='Taylor Rule', color='black')\n",
    "ax[1, 0].plot(sentiment['date'], sentiment['taylor'], label='Taylor Rule', color='grey')\n",
    "ax[1, 0].set_title('Michigan Sentiment and Taylor Rule')\n",
    "ax[1, 0].set_yticks(np.arange(-0.5, 0.8, 0.1))\n",
    "\n",
    "ax[1, 1].scatter(sentiment['date'], sentiment['sp500_price'], label='SP500 Price', color='orange')\n",
    "ax[1, 1].plot(sentiment['date'], sentiment['sp500_price'], label='SP500 Price', color='orange')\n",
    "ax[1, 1].scatter(sentiment['date'], sentiment['taylor'], label='Taylor Rule', color='black')\n",
    "ax[1, 1].plot(sentiment['date'], sentiment['taylor'], label='Taylor Rule', color='grey')\n",
    "ax[1, 1].set_title('SP500 Price and Taylor Rule')\n",
    "ax[1, 1].set_yticks(np.arange(-0.5, 0.8, 0.1))\n",
    "\n",
    "ax[2, 0].scatter(sentiment['date'], sentiment['fedfunds'], label='FedFunds Rate', color='purple')\n",
    "ax[2, 0].plot(sentiment['date'], sentiment['fedfunds'], label='FedFunds Rate', color='violet')\n",
    "ax[2, 0].scatter(sentiment['date'], sentiment['taylor'], label='Taylor Rule', color='black')\n",
    "ax[2, 0].plot(sentiment['date'], sentiment['taylor'], label='Taylor Rule', color='grey')\n",
    "ax[2, 0].set_title('FedFunds Rate and Taylor Rule')\n",
    "ax[2, 0].set_yticks(np.arange(-0.5, 0.8, 0.1))\n",
    "\n",
    "ax[2, 1].scatter(sentiment['date'], sentiment['unemployment'], label='Unemployment Rate', color='brown')\n",
    "ax[2, 1].plot(sentiment['date'], sentiment['unemployment'], label='Unemployment Rate', color='brown')\n",
    "ax[2, 1].scatter(sentiment['date'], sentiment['taylor'], label='Taylor Rule', color='black')\n",
    "ax[2, 1].plot(sentiment['date'], sentiment['taylor'], label='Taylor Rule', color='grey')\n",
    "ax[2, 1].set_title('Unemployment Rate and Taylor Rule')\n",
    "ax[2, 1].set_yticks(np.arange(-0.5, 0.8, 0.1))\n",
    "\n",
    "ax[3, 0].scatter(sentiment['date'], sentiment['pc_sentiment'], label='Press Conferences Sentiment', color='green')\n",
    "ax[3, 0].plot(sentiment['date'], sentiment['pc_sentiment'], label='Press Conferences Sentiment', color='lightgreen')\n",
    "ax[3, 0].scatter(sentiment['date'], sentiment['taylor'], label='Taylor Rule', color='black')\n",
    "ax[3, 0].plot(sentiment['date'], sentiment['taylor'], label='Taylor Rule', color='grey')\n",
    "ax[3, 0].set_title('Press Conferences Sentiment and Taylor Rule')\n",
    "ax[3, 0].set_yticks(np.arange(-0.5, 0.8, 0.1))\n",
    "\n",
    "ax[3, 1].scatter(sentiment['date'], sentiment['mpd_sentiment'], label='Monetary Policy Decision Sentiment', color='green')\n",
    "ax[3, 1].plot(sentiment['date'], sentiment['mpd_sentiment'], label='Monetary Policy Decision Sentiment', color='lightgreen')\n",
    "ax[3, 1].scatter(sentiment['date'], sentiment['taylor'], label='Taylor Rule', color='black')\n",
    "ax[3, 1].plot(sentiment['date'], sentiment['taylor'], label='Taylor Rule', color='grey')\n",
    "ax[3, 1].set_title('Monetary Policy Decision Sentiment and Taylor Rule')\n",
    "ax[3, 1].set_yticks(np.arange(-0.5, 0.8, 0.1))\n",
    "\n",
    "ax[4, 0].scatter(sentiment['date'], sentiment['eb_sentiment'], label='Economic Bulletin Sentiment', color='green')\n",
    "ax[4, 0].plot(sentiment['date'], sentiment['eb_sentiment'], label='Economic Bulletin Sentiment', color='lightgreen')\n",
    "ax[4, 0].scatter(sentiment['date'], sentiment['taylor'], label='Taylor Rule', color='black')\n",
    "ax[4, 0].plot(sentiment['date'], sentiment['taylor'], label='Taylor Rule', color='grey')\n",
    "ax[4, 0].set_title('Economic Bulletin Sentiment and Taylor Rule')\n",
    "ax[4, 0].set_yticks(np.arange(-0.5, 0.8, 0.1))\n",
    "\n",
    "\n",
    "#Create a vertical line at every year\n",
    "for i in range(3):\n",
    "    for j in range(2):\n",
    "        for year in range(2000, 2025):\n",
    "            ax[i, j].axvline(pd.to_datetime(f'{year}-01-01'), color='gray', linestyle='--', lw=1)\n",
    "            \n",
    "plt.show()"
   ]
  }
 ],
 "metadata": {
  "kernelspec": {
   "display_name": "Python 3",
   "language": "python",
   "name": "python3"
  },
  "language_info": {
   "codemirror_mode": {
    "name": "ipython",
    "version": 3
   },
   "file_extension": ".py",
   "mimetype": "text/x-python",
   "name": "python",
   "nbconvert_exporter": "python",
   "pygments_lexer": "ipython3",
   "version": "3.11.6"
  }
 },
 "nbformat": 4,
 "nbformat_minor": 2
}
