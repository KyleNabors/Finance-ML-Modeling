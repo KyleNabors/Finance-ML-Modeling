{
 "cells": [
  {
   "cell_type": "code",
   "execution_count": 153,
   "metadata": {},
   "outputs": [],
   "source": [
    "import os\n",
    "import sys\n",
    "import numpy as np\n",
    "import pandas as pd\n",
    "from sklearn import datasets\n",
    "import statsmodels.api as sm\n",
    "from stargazer.stargazer import Stargazer\n",
    "from IPython.display import display, HTML\n",
    "import matplotlib.pyplot as plt"
   ]
  },
  {
   "cell_type": "code",
   "execution_count": 154,
   "metadata": {},
   "outputs": [
    {
     "name": "stdout",
     "output_type": "stream",
     "text": [
      "/Users/kylenabors/Documents/GitHub/Finance-ML-Modeling\n"
     ]
    }
   ],
   "source": [
    "# Importing Configs\n",
    "# Define the path where config.py is located\n",
    "# Mac\n",
    "os.chdir(\"/Users/kylenabors/Documents/GitHub/Finance-ML-Modeling\")\n",
    "# Linux\n",
    "# os.chdir('/home/kwnabors/Documents/GitHub/Finance-ML-Modeling')\n",
    "config_file_path = os.getcwd()\n",
    "print(config_file_path)\n",
    "\n",
    "# Add this path to the sys.path\n",
    "sys.path.append(config_file_path)\n",
    "\n",
    "import config\n",
    "\n",
    "# Configs\n",
    "finbert_models = config.finbert_models\n",
    "Body = config.Body\n",
    "database = config.Local_Database"
   ]
  },
  {
   "cell_type": "code",
   "execution_count": 155,
   "metadata": {},
   "outputs": [],
   "source": [
    "sentiment_mb = pd.read_csv(\n",
    "    f\"/Users/kylenabors/Documents/Database/Models/FinBERT Models/taylor MBreak.csv\"\n",
    ")\n",
    "sentiment_mbe = pd.read_csv(\n",
    "    f\"/Users/kylenabors/Documents/Database/Models/FinBERT Models/taylor MBreak Euro.csv\"\n",
    ")\n",
    "\n",
    "sentiment_mb[\"date\"] = pd.to_datetime(sentiment_mb[\"date\"])\n",
    "sentiment_mbe[\"date\"] = pd.to_datetime(sentiment_mbe[\"date\"])"
   ]
  },
  {
   "cell_type": "code",
   "execution_count": 156,
   "metadata": {},
   "outputs": [],
   "source": [
    "# mins = pd.read_csv(f\"{finbert_models}/{Body}/Minutes/{Body}_Minutes_finbert_model_short.csv\")\n",
    "# mins['date'] = pd.to_datetime(mins['date'])\n",
    "# mins = mins[['date', 'sentiment']]\n",
    "# mins = mins.groupby('date').mean().reset_index()\n",
    "\n",
    "# spreturn = pd.read_csv(f'{database}/Market Data/SP500/SP500 Returns Daily.csv')\n",
    "# spreturn = spreturn.rename(columns={'caldt':'date', 'vwretd':'sp500_return'})\n",
    "# spreturn['date'] = pd.to_datetime(spreturn['date'])\n",
    "\n",
    "# mins = pd.merge(mins, spreturn, on='date', how='outer')\n",
    "\n",
    "# mins = mins[['date', 'sentiment', 'sp500_return']]\n",
    "\n",
    "# mins = mins[mins['date'] > '2000-01-01']\n",
    "\n",
    "# sentiment_groups = ['sp500_return'\n",
    "#                     ]\n",
    "# for group in sentiment_groups:\n",
    "#     for i in range(0, 20):\n",
    "#         mins[f'{group}_{i}'] = mins[f'{group}'].shift(-i)"
   ]
  },
  {
   "cell_type": "code",
   "execution_count": 157,
   "metadata": {},
   "outputs": [],
   "source": [
    "# mins['event'] = 0\n",
    "# mins['event'] = np.where((mins['sentiment'].notna() == True), 1, 0)\n",
    "\n",
    "# date_rng = pd.date_range(start='1/1/1990', end='1/1/2024', freq='D')\n",
    "# date_rng = pd.DataFrame(date_rng, columns=['date'])\n",
    "# date_rng['temp'] = 1\n",
    "# mins = pd.merge(date_rng, mins, on='date', how='outer')\n",
    "# mins = mins[['date', 'sentiment', 'event']]\n",
    "\n",
    "\n",
    "# mins = pd.merge(mins, spreturn, on='date', how='left')\n",
    "\n",
    "# mins = mins[mins['date'] >= '2000-01-01']\n",
    "\n",
    "# mins['event'] = mins['event'].fillna(0)\n",
    "# #Sort mins by date assending\n",
    "# mins = mins.sort_values(by='date')\n",
    "\n",
    "# #Create a column that is the number of days since the last event for up to 10 days after the event\n",
    "# mins['days_since_event'] = mins['event'].groupby((mins['event'] != mins['event'].shift()).cumsum()).cumcount()\n",
    "# mins['days_since_event'] = mins['days_since_event'] + 1\n",
    "# #If mins mins['days_since_event'] is greater than 10, set it to nan\n",
    "# mins['days_since_event'] = np.where(mins['days_since_event'] > 30, np.nan, mins['days_since_event'])\n",
    "# #If event = 1 sent days_since_event to 0\n",
    "# mins['days_since_event'] = np.where(mins['event'] == 1, 0, mins['days_since_event'])\n",
    "\n",
    "# #Now do the same thing but for 10 days leading up to the event\n",
    "# mins['days_until_event'] = mins['event'][::-1].groupby((mins['event'][::-1] != mins['event'][::-1].shift()).cumsum()).cumcount()[::-1]\n",
    "# mins['days_until_event'] = mins['days_until_event'] + 1\n",
    "# #If mins mins['days_until_event'] is greater than 10, set it to nan\n",
    "# mins['days_until_event'] = np.where(mins['days_until_event'] > 10, np.nan, mins['days_until_event'])\n",
    "# #If event = 1 sent days_until_event to 0\n",
    "# mins['days_until_event'] = np.where(mins['event'] == 1, 0, mins['days_until_event'])\n",
    "# mins['days_until_event'] = mins['days_until_event'] * -1\n",
    "\n",
    "# #create column event_count that is the combonation of days_since_event and days_until_event where it is na if both are na\n",
    "# mins['event_count'] = mins['days_since_event'].fillna(mins['days_until_event'])\n",
    "\n",
    "# mins = mins.dropna()\n",
    "\n",
    "# mins = mins.groupby('event_count').mean().reset_index()\n",
    "\n",
    "# print(mins.head(10))"
   ]
  },
  {
   "cell_type": "code",
   "execution_count": 158,
   "metadata": {},
   "outputs": [],
   "source": [
    "# x1 = 'minute_sentiment'\n",
    "# x2 = 'log_returns'\n",
    "# x3 = 'minute_sentiment_rolling'\n",
    "# x4 = 'minute_sentiment_cycle'\n",
    "\n",
    "# #Graph the Data\n",
    "# fig, ax = plt.subplots(figsize = (40, 20))\n",
    "\n",
    "# ax.scatter(sentiment_mb['date'], sentiment_mb[f'{x1}'], label=f'{x1}', color='blue', s=10)\n",
    "# ax.plot(sentiment_mb['date'], sentiment_mb[f'{x1}'], label=f'{x1}', color='blue', lw=2)\n",
    "\n",
    "# ax.scatter(sentiment_mb['date'], sentiment_mb[f'{x2}'], label=f'{x2}', color='green', s=10)\n",
    "# ax.plot(sentiment_mb['date'], sentiment_mb[f'{x2}'], label=f'{x2}', color='green', lw=1)\n",
    "\n",
    "# ax.scatter(sentiment_mb['date'], sentiment_mb[f'{x3}'], label=f'{x3}', color='red', s=10)\n",
    "# ax.plot(sentiment_mb['date'], sentiment_mb[f'{x3}'], label=f'{x3}', color='red', lw = 2)\n",
    "\n",
    "# ax.scatter(sentiment_mb['date'], sentiment_mb[f'{x4}'], label=f'{x4}', color='purple', s=10)\n",
    "# ax.plot(sentiment_mb['date'], sentiment_mb[f'{x4}'], label=f'{x4}', color='purple')\n",
    "\n",
    "# #Create a vertical line at every year\n",
    "# for year in range(2000, 2025):\n",
    "#     ax.axvline(pd.to_datetime(f'{year}-01-01'), color='gray', linestyle='--', lw=1)\n",
    "\n",
    "# ax.set_title('FOMC Minute Sentiment and SP500 Returns')\n",
    "# ax.set_xlabel('Date')\n",
    "# ax.legend()\n",
    "# plt.show()"
   ]
  },
  {
   "cell_type": "code",
   "execution_count": 159,
   "metadata": {},
   "outputs": [],
   "source": [
    "# x1 = 'minute_sentiment'\n",
    "# x2 = 'log_returns'\n",
    "# x3 = 'minute_sentiment_rolling'\n",
    "# x4 = 'minute_sentiment_cycle'\n",
    "# x5 = 'minute_sentiment_trend'\n",
    "# x6 = 'log_returns_rolling'\n",
    "\n",
    "# fig, ax = plt.subplots(3, 2, figsize = (40, 25))\n",
    "\n",
    "# ax[0, 0].scatter(sentiment_mb['date'], sentiment_mb[f'{x1}'], label=f'{x1}', color='blue', s=10)\n",
    "# ax[0, 0].plot(sentiment_mb['date'], sentiment_mb[f'{x1}'], label=f'{x1}', color='blue', lw=2)\n",
    "# ax[0, 0].legend()\n",
    "\n",
    "# ax[0, 1].scatter(sentiment_mb['date'], sentiment_mb[f'{x3}'], label=f'{x3}', color='blue', s=10)\n",
    "# ax[0, 1].plot(sentiment_mb['date'], sentiment_mb[f'{x3}'], label=f'{x3}', color='blue', lw=2)\n",
    "# ax[0, 1].legend()\n",
    "\n",
    "# ax[1, 0].scatter(sentiment_mb['date'], sentiment_mb[f'{x4}'], label=f'{x4}', color='blue', s=10)\n",
    "# ax[1, 0].plot(sentiment_mb['date'], sentiment_mb[f'{x4}'], label=f'{x4}', color='blue', lw=2)\n",
    "# ax[1, 0].legend()\n",
    "\n",
    "# ax[1, 1].scatter(sentiment_mb['date'], sentiment_mb[f'{x5}'], label=f'{x5}', color='blue', s=10)\n",
    "# ax[1, 1].plot(sentiment_mb['date'], sentiment_mb[f'{x5}'], label=f'{x5}', color='blue', lw=2)\n",
    "# ax[1, 1].legend()\n",
    "\n",
    "# ax[2, 0].scatter(sentiment_mb['date'], sentiment_mb[f'{x2}'], label=f'{x2}', color='green', s=10)\n",
    "# ax[2, 0].plot(sentiment_mb['date'], sentiment_mb[f'{x2}'], label=f'{x2}', color='green', lw=1)\n",
    "# ax[2, 0].legend()\n",
    "\n",
    "# ax[2, 1].scatter(sentiment_mb['date'], sentiment_mb[f'{x6}'], label=f'{x6}', color='green', s=10)\n",
    "# ax[2, 1].plot(sentiment_mb['date'], sentiment_mb[f'{x6}'], label=f'{x6}', color='green', lw=1)\n",
    "# ax[2, 1].legend()"
   ]
  },
  {
   "cell_type": "code",
   "execution_count": 160,
   "metadata": {},
   "outputs": [],
   "source": [
    "# x1 = 'mpd_sentiment'\n",
    "# x2 = 'log_returns'\n",
    "# x3 = 'mpd_sentiment_rolling'\n",
    "# x4 = 'mpd_sentiment_cycle'\n",
    "\n",
    "# #Graph the Data\n",
    "# fig, ax = plt.subplots(figsize = (40, 20))\n",
    "\n",
    "# ax.scatter(sentiment_mbe['date'], sentiment_mbe[f'{x1}'], label=f'{x1}', color='blue', s=10)\n",
    "# ax.plot(sentiment_mbe['date'], sentiment_mbe[f'{x1}'], label=f'{x1}', color='blue', lw=2)\n",
    "\n",
    "# ax.scatter(sentiment_mbe['date'], sentiment_mbe[f'{x2}'], label=f'{x2}', color='green', s=10)\n",
    "# ax.plot(sentiment_mbe['date'], sentiment_mbe[f'{x2}'], label=f'{x2}', color='green', lw=1)\n",
    "\n",
    "# ax.scatter(sentiment_mbe['date'], sentiment_mbe[f'{x3}'], label=f'{x3}', color='red', s=10)\n",
    "# ax.plot(sentiment_mbe['date'], sentiment_mbe[f'{x3}'], label=f'{x3}', color='red', lw = 2)\n",
    "\n",
    "# ax.scatter(sentiment_mbe['date'], sentiment_mbe[f'{x4}'], label=f'{x4}', color='purple', s=10)\n",
    "# ax.plot(sentiment_mbe['date'], sentiment_mbe[f'{x4}'], label=f'{x4}', color='purple')\n",
    "\n",
    "\n",
    "# #Create a vertical line at every year\n",
    "# for year in range(2000, 2025):\n",
    "#     ax.axvline(pd.to_datetime(f'{year}-01-01'), color='gray', linestyle='--', lw=1)\n",
    "\n",
    "# ax.set_title('ECB Monetary Policy Decision Sentiment and STOXX 600 Returns ')\n",
    "# ax.set_xlabel('Date')\n",
    "# ax.legend()\n",
    "# plt.show()"
   ]
  },
  {
   "cell_type": "code",
   "execution_count": 161,
   "metadata": {},
   "outputs": [],
   "source": [
    "# x1 = 'mpd_sentiment'\n",
    "# x2 = 'log_returns'\n",
    "# x3 = 'mpd_sentiment_rolling'\n",
    "# x4 = 'mpd_sentiment_cycle'\n",
    "# x5 = 'mpd_sentiment_trend'\n",
    "\n",
    "# fig, ax = plt.subplots(2, 2, figsize = (40, 25))\n",
    "\n",
    "# ax[0, 0].scatter(sentiment_mbe['date'], sentiment_mbe[f'{x1}'], label=f'{x1}', color='blue', s=10)\n",
    "# ax[0, 0].plot(sentiment_mbe['date'], sentiment_mbe[f'{x1}'], label=f'{x1}', color='blue', lw=2)\n",
    "# ax[0, 0].scatter(sentiment_mbe['date'], sentiment_mbe[f'{x2}'], label=f'{x2}', color='green', s=10)\n",
    "# ax[0, 0].plot(sentiment_mbe['date'], sentiment_mbe[f'{x2}'], label=f'{x2}', color='green', lw=1)\n",
    "# ax[0, 0].legend()\n",
    "\n",
    "# ax[0, 1].scatter(sentiment_mbe['date'], sentiment_mbe[f'{x3}'], label=f'{x3}', color='blue', s=10)\n",
    "# ax[0, 1].plot(sentiment_mbe['date'], sentiment_mbe[f'{x3}'], label=f'{x3}', color='blue', lw=2)\n",
    "# ax[0, 1].scatter(sentiment_mbe['date'], sentiment_mbe[f'{x2}'], label=f'{x2}', color='green', s=10)\n",
    "# ax[0, 1].plot(sentiment_mbe['date'], sentiment_mbe[f'{x2}'], label=f'{x2}', color='green', lw=1)\n",
    "# ax[0, 1].legend()\n",
    "\n",
    "# ax[1, 0].scatter(sentiment_mbe['date'], sentiment_mbe[f'{x4}'], label=f'{x4}', color='blue', s=10)\n",
    "# ax[1, 0].plot(sentiment_mbe['date'], sentiment_mbe[f'{x4}'], label=f'{x4}', color='blue', lw=2)\n",
    "# ax[1, 0].scatter(sentiment_mbe['date'], sentiment_mbe[f'{x2}'], label=f'{x2}', color='green', s=10)\n",
    "# ax[1, 0].plot(sentiment_mbe['date'], sentiment_mbe[f'{x2}'], label=f'{x2}', color='green', lw=1)\n",
    "# ax[1, 0].legend()\n",
    "\n",
    "# ax[1, 1].scatter(sentiment_mbe['date'], sentiment_mbe[f'{x5}'], label=f'{x5}', color='blue', s=10)\n",
    "# ax[1, 1].plot(sentiment_mbe['date'], sentiment_mbe[f'{x5}'], label=f'{x5}', color='blue', lw=2)\n",
    "# ax[1, 1].scatter(sentiment_mbe['date'], sentiment_mbe[f'{x2}'], label=f'{x2}', color='green', s=10)\n",
    "# ax[1, 1].plot(sentiment_mbe['date'], sentiment_mbe[f'{x2}'], label=f'{x2}', color='green', lw=1)\n",
    "# ax[1, 1].legend()"
   ]
  },
  {
   "cell_type": "code",
   "execution_count": 162,
   "metadata": {},
   "outputs": [
    {
     "name": "stdout",
     "output_type": "stream",
     "text": [
      "0\n",
      "1\n"
     ]
    }
   ],
   "source": [
    "print(10 % 2)\n",
    "print(11 % 2)\n",
    "\n",
    "for i in range(7):\n",
    "    if i % 2 == 0:\n",
    "        sentiment_mb[f\"log_returns_{i}\"] = (\n",
    "            sentiment_mb[f\"log_returns_{i}\"] + sentiment_mb[f\"log_returns_{i+1}\"]\n",
    "        )"
   ]
  },
  {
   "cell_type": "code",
   "execution_count": 163,
   "metadata": {},
   "outputs": [
    {
     "data": {
      "text/html": [
       "<table style=\"text-align:center\"><tr><td colspan=\"2\" style=\"border-bottom: 1px solid black\"></td></tr>\n",
       "<tr><td style=\"text-align:left\"></td><td colspan=\"1\"><em>Dependent variable: minute_sentiment</em></td></tr><tr><td style=\"text-align:left\"></td><tr><td style=\"text-align:left\"></td><td>(1)</td></tr>\n",
       "<tr><td colspan=\"2\" style=\"border-bottom: 1px solid black\"></td></tr>\n",
       "\n",
       "<tr><td style=\"text-align:left\">const</td><td>-0.010<sup>*</sup></td></tr>\n",
       "<tr><td style=\"text-align:left\"></td><td>(0.006)</td></tr>\n",
       "<tr><td style=\"text-align:left\">log_returns_0</td><td>-0.003<sup></sup></td></tr>\n",
       "<tr><td style=\"text-align:left\"></td><td>(0.039)</td></tr>\n",
       "<tr><td style=\"text-align:left\">log_returns_2</td><td>0.158<sup>***</sup></td></tr>\n",
       "<tr><td style=\"text-align:left\"></td><td>(0.041)</td></tr>\n",
       "<tr><td style=\"text-align:left\">log_returns_4</td><td>0.159<sup>***</sup></td></tr>\n",
       "<tr><td style=\"text-align:left\"></td><td>(0.036)</td></tr>\n",
       "<tr><td style=\"text-align:left\">log_returns_6</td><td>0.102<sup>**</sup></td></tr>\n",
       "<tr><td style=\"text-align:left\"></td><td>(0.041)</td></tr>\n",
       "<tr><td style=\"text-align:left\">minute_sentiment_1</td><td>0.276<sup>***</sup></td></tr>\n",
       "<tr><td style=\"text-align:left\"></td><td>(0.080)</td></tr>\n",
       "\n",
       "<td colspan=\"2\" style=\"border-bottom: 1px solid black\"></td></tr>\n",
       "<tr><td style=\"text-align: left\">Observations</td><td>177</td></tr><tr><td style=\"text-align: left\">R<sup>2</sup></td><td>0.331</td></tr><tr><td style=\"text-align: left\">Adjusted R<sup>2</sup></td><td>0.311</td></tr><tr><td style=\"text-align: left\">Residual Std. Error</td><td>0.071 (df=171)</td></tr><tr><td style=\"text-align: left\">F Statistic</td><td>23.335<sup>***</sup> (df=5; 171)</td></tr>\n",
       "<tr><td colspan=\"2\" style=\"border-bottom: 1px solid black\"></td></tr><tr><td style=\"text-align: left\">Note:</td><td colspan=\"1\" style=\"text-align: right\"><sup>*</sup>p&lt;0.1; <sup>**</sup>p&lt;0.05; <sup>***</sup>p&lt;0.01</td></tr></table>"
      ],
      "text/plain": [
       "<IPython.core.display.HTML object>"
      ]
     },
     "metadata": {},
     "output_type": "display_data"
    },
    {
     "data": {
      "text/plain": [
       "'\\\\begin{table}[!htbp] \\\\centering\\n\\\\begin{tabular}{@{\\\\extracolsep{5pt}}lc}\\n\\\\\\\\[-1.8ex]\\\\hline\\n\\\\hline \\\\\\\\[-1.8ex]\\n& \\\\multicolumn{1}{c}{\\\\textit{Dependent variable: minute_sentiment}} \\\\\\n\\\\cr \\\\cline{2-2}\\n\\\\\\\\[-1.8ex] & (1) \\\\\\\\\\n\\\\hline \\\\\\\\[-1.8ex]\\n const & -0.010$^{*}$ \\\\\\\\\\n& (0.006) \\\\\\\\\\n log_returns_0 & -0.003$^{}$ \\\\\\\\\\n& (0.039) \\\\\\\\\\n log_returns_2 & 0.158$^{***}$ \\\\\\\\\\n& (0.041) \\\\\\\\\\n log_returns_4 & 0.159$^{***}$ \\\\\\\\\\n& (0.036) \\\\\\\\\\n log_returns_6 & 0.102$^{**}$ \\\\\\\\\\n& (0.041) \\\\\\\\\\n minute_sentiment_1 & 0.276$^{***}$ \\\\\\\\\\n& (0.080) \\\\\\\\\\n\\\\hline \\\\\\\\[-1.8ex]\\n Observations & 177 \\\\\\\\\\n $R^2$ & 0.331 \\\\\\\\\\n Adjusted $R^2$ & 0.311 \\\\\\\\\\n Residual Std. Error & 0.071 (df=171) \\\\\\\\\\n F Statistic & 23.335$^{***}$ (df=5; 171) \\\\\\\\\\n\\\\hline\\n\\\\hline \\\\\\\\[-1.8ex]\\n\\\\textit{Note:} & \\\\multicolumn{1}{r}{$^{*}$p$<$0.1; $^{**}$p$<$0.05; $^{***}$p$<$0.01} \\\\\\\\\\n\\\\end{tabular}\\n\\\\end{table}'"
      ]
     },
     "execution_count": 163,
     "metadata": {},
     "output_type": "execute_result"
    }
   ],
   "source": [
    "x0 = [\n",
    "    \"minute_sentiment_1\",\n",
    "    \"log_returns_0\",\n",
    "    \"log_returns_2\",\n",
    "    \"log_returns_4\",\n",
    "    \"log_returns_6\",\n",
    "]\n",
    "\n",
    "\n",
    "# x1 = ['minute_sentiment_rolling_1', 'log_returns_0', 'log_returns_1', 'log_returns_2', 'log_returns_3', 'log_returns_4', 'log_returns_5', 'log_returns_6', 'log_returns_7']\n",
    "# x2 = ['minute_sentiment_cycle_1', 'log_returns_0', 'log_returns_1', 'log_returns_2', 'log_returns_3', 'log_returns_4', 'log_returns_5', 'log_returns_6', 'log_returns_7']\n",
    "# x3 = ['minute_sentiment_trend_1', 'log_returns_0', 'log_returns_1', 'log_returns_2', 'log_returns_3', 'log_returns_4', 'log_returns_5', 'log_returns_6', 'log_returns_7']\n",
    "\n",
    "yvar = \"minute_sentiment\"\n",
    "# yvar1 = 'minute_sentiment_rolling'\n",
    "# yvar2 = 'minute_sentiment_cycle'\n",
    "# yvar3 = 'minute_sentiment_trend'\n",
    "\n",
    "exog0 = (sm.add_constant(sentiment_mb[x0])).dropna()\n",
    "# exog1 = (sm.add_constant(sentiment_mb[x1])).dropna()\n",
    "# exog2 = (sm.add_constant(sentiment_mb[x2])).dropna()\n",
    "# exog3 = (sm.add_constant(sentiment_mb[x3])).dropna()\n",
    "\n",
    "reg0 = sm.OLS(endog=sentiment_mb[yvar].loc[exog0.index], exog=exog0).fit(cov_type=\"HC0\")\n",
    "# reg1 = sm.OLS(endog=sentiment_mb[yvar1].loc[exog1.index], exog=exog1).fit(cov_type = \"HC0\")\n",
    "# reg2 = sm.OLS(endog=sentiment_mb[yvar2].loc[exog2.index], exog=exog2).fit(cov_type = \"HC0\")\n",
    "# reg3 = sm.OLS(endog=sentiment_mb[yvar3].loc[exog3.index], exog=exog3).fit(cov_type = \"HC0\")\n",
    "\n",
    "stargazer = Stargazer([reg0])\n",
    "display(HTML(stargazer.render_html()))\n",
    "stargazer.render_latex()"
   ]
  },
  {
   "cell_type": "code",
   "execution_count": 164,
   "metadata": {},
   "outputs": [
    {
     "data": {
      "text/html": [
       "<table style=\"text-align:center\"><tr><td colspan=\"2\" style=\"border-bottom: 1px solid black\"></td></tr>\n",
       "<tr><td style=\"text-align:left\"></td><td colspan=\"1\"><em>Dependent variable: minute_sentiment</em></td></tr><tr><td style=\"text-align:left\"></td><tr><td style=\"text-align:left\"></td><td>(1)</td></tr>\n",
       "<tr><td colspan=\"2\" style=\"border-bottom: 1px solid black\"></td></tr>\n",
       "\n",
       "<tr><td style=\"text-align:left\">const</td><td>-0.010<sup>*</sup></td></tr>\n",
       "<tr><td style=\"text-align:left\"></td><td>(0.006)</td></tr>\n",
       "<tr><td style=\"text-align:left\">log_returns_0</td><td>-0.032<sup></sup></td></tr>\n",
       "<tr><td style=\"text-align:left\"></td><td>(0.047)</td></tr>\n",
       "<tr><td style=\"text-align:left\">log_returns_1</td><td>0.081<sup></sup></td></tr>\n",
       "<tr><td style=\"text-align:left\"></td><td>(0.066)</td></tr>\n",
       "<tr><td style=\"text-align:left\">log_returns_2</td><td>0.221<sup>***</sup></td></tr>\n",
       "<tr><td style=\"text-align:left\"></td><td>(0.057)</td></tr>\n",
       "<tr><td style=\"text-align:left\">log_returns_3</td><td>-0.096<sup>*</sup></td></tr>\n",
       "<tr><td style=\"text-align:left\"></td><td>(0.056)</td></tr>\n",
       "<tr><td style=\"text-align:left\">log_returns_4</td><td>0.173<sup>***</sup></td></tr>\n",
       "<tr><td style=\"text-align:left\"></td><td>(0.054)</td></tr>\n",
       "<tr><td style=\"text-align:left\">log_returns_5</td><td>-0.053<sup></sup></td></tr>\n",
       "<tr><td style=\"text-align:left\"></td><td>(0.066)</td></tr>\n",
       "<tr><td style=\"text-align:left\">log_returns_6</td><td>0.113<sup>**</sup></td></tr>\n",
       "<tr><td style=\"text-align:left\"></td><td>(0.056)</td></tr>\n",
       "<tr><td style=\"text-align:left\">log_returns_7</td><td>-0.059<sup></sup></td></tr>\n",
       "<tr><td style=\"text-align:left\"></td><td>(0.065)</td></tr>\n",
       "<tr><td style=\"text-align:left\">minute_sentiment_1</td><td>0.302<sup>***</sup></td></tr>\n",
       "<tr><td style=\"text-align:left\"></td><td>(0.080)</td></tr>\n",
       "\n",
       "<td colspan=\"2\" style=\"border-bottom: 1px solid black\"></td></tr>\n",
       "<tr><td style=\"text-align: left\">Observations</td><td>177</td></tr><tr><td style=\"text-align: left\">R<sup>2</sup></td><td>0.351</td></tr><tr><td style=\"text-align: left\">Adjusted R<sup>2</sup></td><td>0.317</td></tr><tr><td style=\"text-align: left\">Residual Std. Error</td><td>0.070 (df=167)</td></tr><tr><td style=\"text-align: left\">F Statistic</td><td>13.682<sup>***</sup> (df=9; 167)</td></tr>\n",
       "<tr><td colspan=\"2\" style=\"border-bottom: 1px solid black\"></td></tr><tr><td style=\"text-align: left\">Note:</td><td colspan=\"1\" style=\"text-align: right\"><sup>*</sup>p&lt;0.1; <sup>**</sup>p&lt;0.05; <sup>***</sup>p&lt;0.01</td></tr></table>"
      ],
      "text/plain": [
       "<IPython.core.display.HTML object>"
      ]
     },
     "metadata": {},
     "output_type": "display_data"
    },
    {
     "data": {
      "text/plain": [
       "'\\\\begin{table}[!htbp] \\\\centering\\n\\\\begin{tabular}{@{\\\\extracolsep{5pt}}lc}\\n\\\\\\\\[-1.8ex]\\\\hline\\n\\\\hline \\\\\\\\[-1.8ex]\\n& \\\\multicolumn{1}{c}{\\\\textit{Dependent variable: minute_sentiment}} \\\\\\n\\\\cr \\\\cline{2-2}\\n\\\\\\\\[-1.8ex] & (1) \\\\\\\\\\n\\\\hline \\\\\\\\[-1.8ex]\\n const & -0.010$^{*}$ \\\\\\\\\\n& (0.006) \\\\\\\\\\n log_returns_0 & -0.032$^{}$ \\\\\\\\\\n& (0.047) \\\\\\\\\\n log_returns_1 & 0.081$^{}$ \\\\\\\\\\n& (0.066) \\\\\\\\\\n log_returns_2 & 0.221$^{***}$ \\\\\\\\\\n& (0.057) \\\\\\\\\\n log_returns_3 & -0.096$^{*}$ \\\\\\\\\\n& (0.056) \\\\\\\\\\n log_returns_4 & 0.173$^{***}$ \\\\\\\\\\n& (0.054) \\\\\\\\\\n log_returns_5 & -0.053$^{}$ \\\\\\\\\\n& (0.066) \\\\\\\\\\n log_returns_6 & 0.113$^{**}$ \\\\\\\\\\n& (0.056) \\\\\\\\\\n log_returns_7 & -0.059$^{}$ \\\\\\\\\\n& (0.065) \\\\\\\\\\n minute_sentiment_1 & 0.302$^{***}$ \\\\\\\\\\n& (0.080) \\\\\\\\\\n\\\\hline \\\\\\\\[-1.8ex]\\n Observations & 177 \\\\\\\\\\n $R^2$ & 0.351 \\\\\\\\\\n Adjusted $R^2$ & 0.317 \\\\\\\\\\n Residual Std. Error & 0.070 (df=167) \\\\\\\\\\n F Statistic & 13.682$^{***}$ (df=9; 167) \\\\\\\\\\n\\\\hline\\n\\\\hline \\\\\\\\[-1.8ex]\\n\\\\textit{Note:} & \\\\multicolumn{1}{r}{$^{*}$p$<$0.1; $^{**}$p$<$0.05; $^{***}$p$<$0.01} \\\\\\\\\\n\\\\end{tabular}\\n\\\\end{table}'"
      ]
     },
     "execution_count": 164,
     "metadata": {},
     "output_type": "execute_result"
    }
   ],
   "source": [
    "x0 = [\n",
    "    \"minute_sentiment_1\",\n",
    "    \"log_returns_0\",\n",
    "    \"log_returns_1\",\n",
    "    \"log_returns_2\",\n",
    "    \"log_returns_3\",\n",
    "    \"log_returns_4\",\n",
    "    \"log_returns_5\",\n",
    "    \"log_returns_6\",\n",
    "    \"log_returns_7\",\n",
    "]\n",
    "\n",
    "\n",
    "yvar = \"minute_sentiment\"\n",
    "# yvar1 = 'minute_sentiment_rolling'\n",
    "# yvar2 = 'minute_sentiment_cycle'\n",
    "# yvar3 = 'minute_sentiment_trend'\n",
    "\n",
    "exog0 = (sm.add_constant(sentiment_mb[x0])).dropna()\n",
    "# exog1 = (sm.add_constant(sentiment_mb[x1])).dropna()\n",
    "# exog2 = (sm.add_constant(sentiment_mb[x2])).dropna()\n",
    "# exog3 = (sm.add_constant(sentiment_mb[x3])).dropna()\n",
    "\n",
    "reg0 = sm.OLS(endog=sentiment_mb[yvar].loc[exog0.index], exog=exog0).fit(cov_type=\"HC0\")\n",
    "# reg1 = sm.OLS(endog=sentiment_mb[yvar1].loc[exog1.index], exog=exog1).fit(cov_type = \"HC0\")\n",
    "# reg2 = sm.OLS(endog=sentiment_mb[yvar2].loc[exog2.index], exog=exog2).fit(cov_type = \"HC0\")\n",
    "# reg3 = sm.OLS(endog=sentiment_mb[yvar3].loc[exog3.index], exog=exog3).fit(cov_type = \"HC0\")\n",
    "\n",
    "stargazer = Stargazer([reg0])\n",
    "display(HTML(stargazer.render_html()))\n",
    "stargazer.render_latex()"
   ]
  },
  {
   "cell_type": "code",
   "execution_count": 165,
   "metadata": {},
   "outputs": [
    {
     "data": {
      "text/html": [
       "<table style=\"text-align:center\"><tr><td colspan=\"2\" style=\"border-bottom: 1px solid black\"></td></tr>\n",
       "<tr><td style=\"text-align:left\"></td><td colspan=\"1\"><em>Dependent variable: minute_sentiment</em></td></tr><tr><td style=\"text-align:left\"></td><tr><td style=\"text-align:left\"></td><td>(1)</td></tr>\n",
       "<tr><td colspan=\"2\" style=\"border-bottom: 1px solid black\"></td></tr>\n",
       "\n",
       "<tr><td style=\"text-align:left\">const</td><td>-0.013<sup>*</sup></td></tr>\n",
       "<tr><td style=\"text-align:left\"></td><td>(0.006)</td></tr>\n",
       "<tr><td style=\"text-align:left\">log_returns_rolling_0</td><td>0.118<sup></sup></td></tr>\n",
       "<tr><td style=\"text-align:left\"></td><td>(0.273)</td></tr>\n",
       "<tr><td style=\"text-align:left\">log_returns_rolling_1</td><td>0.411<sup></sup></td></tr>\n",
       "<tr><td style=\"text-align:left\"></td><td>(0.359)</td></tr>\n",
       "<tr><td style=\"text-align:left\">log_returns_rolling_2</td><td>1.090<sup>***</sup></td></tr>\n",
       "<tr><td style=\"text-align:left\"></td><td>(0.348)</td></tr>\n",
       "<tr><td style=\"text-align:left\">log_returns_rolling_3</td><td>-0.713<sup>*</sup></td></tr>\n",
       "<tr><td style=\"text-align:left\"></td><td>(0.379)</td></tr>\n",
       "<tr><td style=\"text-align:left\">log_returns_rolling_4</td><td>0.374<sup></sup></td></tr>\n",
       "<tr><td style=\"text-align:left\"></td><td>(0.462)</td></tr>\n",
       "<tr><td style=\"text-align:left\">log_returns_rolling_5</td><td>-0.132<sup></sup></td></tr>\n",
       "<tr><td style=\"text-align:left\"></td><td>(0.434)</td></tr>\n",
       "<tr><td style=\"text-align:left\">log_returns_rolling_6</td><td>-0.119<sup></sup></td></tr>\n",
       "<tr><td style=\"text-align:left\"></td><td>(0.348)</td></tr>\n",
       "<tr><td style=\"text-align:left\">log_returns_rolling_7</td><td>-0.101<sup></sup></td></tr>\n",
       "<tr><td style=\"text-align:left\"></td><td>(0.291)</td></tr>\n",
       "<tr><td style=\"text-align:left\">minute_sentiment_1</td><td>0.271<sup>***</sup></td></tr>\n",
       "<tr><td style=\"text-align:left\"></td><td>(0.092)</td></tr>\n",
       "\n",
       "<td colspan=\"2\" style=\"border-bottom: 1px solid black\"></td></tr>\n",
       "<tr><td style=\"text-align: left\">Observations</td><td>170</td></tr><tr><td style=\"text-align: left\">R<sup>2</sup></td><td>0.351</td></tr><tr><td style=\"text-align: left\">Adjusted R<sup>2</sup></td><td>0.314</td></tr><tr><td style=\"text-align: left\">Residual Std. Error</td><td>0.070 (df=160)</td></tr><tr><td style=\"text-align: left\">F Statistic</td><td>16.111<sup>***</sup> (df=9; 160)</td></tr>\n",
       "<tr><td colspan=\"2\" style=\"border-bottom: 1px solid black\"></td></tr><tr><td style=\"text-align: left\">Note:</td><td colspan=\"1\" style=\"text-align: right\"><sup>*</sup>p&lt;0.1; <sup>**</sup>p&lt;0.05; <sup>***</sup>p&lt;0.01</td></tr></table>"
      ],
      "text/plain": [
       "<IPython.core.display.HTML object>"
      ]
     },
     "metadata": {},
     "output_type": "display_data"
    },
    {
     "name": "stdout",
     "output_type": "stream",
     "text": [
      "\\begin{table}[!htbp] \\centering\n",
      "\\begin{tabular}{@{\\extracolsep{5pt}}lc}\n",
      "\\\\[-1.8ex]\\hline\n",
      "\\hline \\\\[-1.8ex]\n",
      "& \\multicolumn{1}{c}{\\textit{Dependent variable: minute_sentiment}} \\\n",
      "\\cr \\cline{2-2}\n",
      "\\\\[-1.8ex] & (1) \\\\\n",
      "\\hline \\\\[-1.8ex]\n",
      " const & -0.013$^{*}$ \\\\\n",
      "& (0.006) \\\\\n",
      " log_returns_rolling_0 & 0.118$^{}$ \\\\\n",
      "& (0.273) \\\\\n",
      " log_returns_rolling_1 & 0.411$^{}$ \\\\\n",
      "& (0.359) \\\\\n",
      " log_returns_rolling_2 & 1.090$^{***}$ \\\\\n",
      "& (0.348) \\\\\n",
      " log_returns_rolling_3 & -0.713$^{*}$ \\\\\n",
      "& (0.379) \\\\\n",
      " log_returns_rolling_4 & 0.374$^{}$ \\\\\n",
      "& (0.462) \\\\\n",
      " log_returns_rolling_5 & -0.132$^{}$ \\\\\n",
      "& (0.434) \\\\\n",
      " log_returns_rolling_6 & -0.119$^{}$ \\\\\n",
      "& (0.348) \\\\\n",
      " log_returns_rolling_7 & -0.101$^{}$ \\\\\n",
      "& (0.291) \\\\\n",
      " minute_sentiment_1 & 0.271$^{***}$ \\\\\n",
      "& (0.092) \\\\\n",
      "\\hline \\\\[-1.8ex]\n",
      " Observations & 170 \\\\\n",
      " $R^2$ & 0.351 \\\\\n",
      " Adjusted $R^2$ & 0.314 \\\\\n",
      " Residual Std. Error & 0.070 (df=160) \\\\\n",
      " F Statistic & 16.111$^{***}$ (df=9; 160) \\\\\n",
      "\\hline\n",
      "\\hline \\\\[-1.8ex]\n",
      "\\textit{Note:} & \\multicolumn{1}{r}{$^{*}$p$<$0.1; $^{**}$p$<$0.05; $^{***}$p$<$0.01} \\\\\n",
      "\\end{tabular}\n",
      "\\end{table}\n"
     ]
    }
   ],
   "source": [
    "x0 = [\n",
    "    \"minute_sentiment_1\",\n",
    "    \"log_returns_rolling_0\",\n",
    "    \"log_returns_rolling_1\",\n",
    "    \"log_returns_rolling_2\",\n",
    "    \"log_returns_rolling_3\",\n",
    "    \"log_returns_rolling_4\",\n",
    "    \"log_returns_rolling_5\",\n",
    "    \"log_returns_rolling_6\",\n",
    "    \"log_returns_rolling_7\",\n",
    "]\n",
    "# x1 = ['minute_sentiment_rolling_1', 'log_returns_rolling_0', 'log_returns_rolling_1', 'log_returns_rolling_2', 'log_returns_rolling_3', 'log_returns_rolling_4', 'log_returns_rolling_5', 'log_returns_rolling_6', 'log_returns_rolling_7']\n",
    "# x2 = ['minute_sentiment_cycle_1', 'log_returns_rolling_0', 'log_returns_rolling_1', 'log_returns_rolling_2', 'log_returns_rolling_3', 'log_returns_rolling_4', 'log_returns_rolling_5', 'log_returns_rolling_6', 'log_returns_rolling_7']\n",
    "# x3 = ['minute_sentiment_trend_1', 'log_returns_rolling_0', 'log_returns_rolling_1', 'log_returns_rolling_2', 'log_returns_rolling_3', 'log_returns_rolling_4', 'log_returns_rolling_5', 'log_returns_rolling_6', 'log_returns_rolling_7']\n",
    "\n",
    "yvar = \"minute_sentiment\"\n",
    "# yvar1 = 'minute_sentiment_rolling'\n",
    "# yvar2 = 'minute_sentiment_cycle'\n",
    "# yvar3 = 'minute_sentiment_trend'\n",
    "\n",
    "exog0 = (sm.add_constant(sentiment_mb[x0])).dropna()\n",
    "# exog1 = (sm.add_constant(sentiment_mb[x1])).dropna()\n",
    "# exog2 = (sm.add_constant(sentiment_mb[x2])).dropna()\n",
    "# exog3 = (sm.add_constant(sentiment_mb[x3])).dropna()\n",
    "\n",
    "reg0 = sm.OLS(endog=sentiment_mb[yvar].loc[exog0.index], exog=exog0).fit(cov_type=\"HC0\")\n",
    "# reg1 = sm.OLS(endog=sentiment_mb[yvar1].loc[exog1.index], exog=exog1).fit(cov_type = \"HC0\")\n",
    "# reg2 = sm.OLS(endog=sentiment_mb[yvar2].loc[exog2.index], exog=exog2).fit(cov_type = \"HC0\")\n",
    "# reg3 = sm.OLS(endog=sentiment_mb[yvar3].loc[exog3.index], exog=exog3).fit(cov_type = \"HC0\")\n",
    "\n",
    "stargazer = Stargazer([reg0])\n",
    "display(HTML(stargazer.render_html()))\n",
    "print(stargazer.render_latex())"
   ]
  },
  {
   "cell_type": "code",
   "execution_count": 166,
   "metadata": {},
   "outputs": [
    {
     "data": {
      "text/html": [
       "<table style=\"text-align:center\"><tr><td colspan=\"2\" style=\"border-bottom: 1px solid black\"></td></tr>\n",
       "<tr><td style=\"text-align:left\"></td><td colspan=\"1\"><em>Dependent variable: log_returns</em></td></tr><tr><td style=\"text-align:left\"></td><tr><td style=\"text-align:left\"></td><td>(1)</td></tr>\n",
       "<tr><td colspan=\"2\" style=\"border-bottom: 1px solid black\"></td></tr>\n",
       "\n",
       "<tr><td style=\"text-align:left\">const</td><td>0.012<sup></sup></td></tr>\n",
       "<tr><td style=\"text-align:left\"></td><td>(0.008)</td></tr>\n",
       "<tr><td style=\"text-align:left\">log_returns_1</td><td>-0.268<sup>***</sup></td></tr>\n",
       "<tr><td style=\"text-align:left\"></td><td>(0.085)</td></tr>\n",
       "<tr><td style=\"text-align:left\">minute_sentiment_0</td><td>-0.032<sup></sup></td></tr>\n",
       "<tr><td style=\"text-align:left\"></td><td>(0.105)</td></tr>\n",
       "<tr><td style=\"text-align:left\">minute_sentiment_1</td><td>0.015<sup></sup></td></tr>\n",
       "<tr><td style=\"text-align:left\"></td><td>(0.109)</td></tr>\n",
       "\n",
       "<td colspan=\"2\" style=\"border-bottom: 1px solid black\"></td></tr>\n",
       "<tr><td style=\"text-align: left\">Observations</td><td>183</td></tr><tr><td style=\"text-align: left\">R<sup>2</sup></td><td>0.072</td></tr><tr><td style=\"text-align: left\">Adjusted R<sup>2</sup></td><td>0.057</td></tr><tr><td style=\"text-align: left\">Residual Std. Error</td><td>0.110 (df=179)</td></tr><tr><td style=\"text-align: left\">F Statistic</td><td>3.846<sup>**</sup> (df=3; 179)</td></tr>\n",
       "<tr><td colspan=\"2\" style=\"border-bottom: 1px solid black\"></td></tr><tr><td style=\"text-align: left\">Note:</td><td colspan=\"1\" style=\"text-align: right\"><sup>*</sup>p&lt;0.1; <sup>**</sup>p&lt;0.05; <sup>***</sup>p&lt;0.01</td></tr></table>"
      ],
      "text/plain": [
       "<IPython.core.display.HTML object>"
      ]
     },
     "metadata": {},
     "output_type": "display_data"
    },
    {
     "data": {
      "text/plain": [
       "'\\\\begin{table}[!htbp] \\\\centering\\n\\\\begin{tabular}{@{\\\\extracolsep{5pt}}lc}\\n\\\\\\\\[-1.8ex]\\\\hline\\n\\\\hline \\\\\\\\[-1.8ex]\\n& \\\\multicolumn{1}{c}{\\\\textit{Dependent variable: log_returns}} \\\\\\n\\\\cr \\\\cline{2-2}\\n\\\\\\\\[-1.8ex] & (1) \\\\\\\\\\n\\\\hline \\\\\\\\[-1.8ex]\\n const & 0.012$^{}$ \\\\\\\\\\n& (0.008) \\\\\\\\\\n log_returns_1 & -0.268$^{***}$ \\\\\\\\\\n& (0.085) \\\\\\\\\\n minute_sentiment_0 & -0.032$^{}$ \\\\\\\\\\n& (0.105) \\\\\\\\\\n minute_sentiment_1 & 0.015$^{}$ \\\\\\\\\\n& (0.109) \\\\\\\\\\n\\\\hline \\\\\\\\[-1.8ex]\\n Observations & 183 \\\\\\\\\\n $R^2$ & 0.072 \\\\\\\\\\n Adjusted $R^2$ & 0.057 \\\\\\\\\\n Residual Std. Error & 0.110 (df=179) \\\\\\\\\\n F Statistic & 3.846$^{**}$ (df=3; 179) \\\\\\\\\\n\\\\hline\\n\\\\hline \\\\\\\\[-1.8ex]\\n\\\\textit{Note:} & \\\\multicolumn{1}{r}{$^{*}$p$<$0.1; $^{**}$p$<$0.05; $^{***}$p$<$0.01} \\\\\\\\\\n\\\\end{tabular}\\n\\\\end{table}'"
      ]
     },
     "execution_count": 166,
     "metadata": {},
     "output_type": "execute_result"
    }
   ],
   "source": [
    "x0 = [\"log_returns_1\", \"minute_sentiment_0\", \"minute_sentiment_1\"]\n",
    "# x1 = ['log_returns_1', 'minute_sentiment_rolling']\n",
    "# x2 = ['log_returns_1', 'minute_sentiment_cycle']\n",
    "# x3 = ['log_returns_1', 'minute_sentiment_trend']\n",
    "# x4 = ['log_returns_1', 'minute_sentiment_diff']\n",
    "\n",
    "yvar = \"log_returns\"\n",
    "\n",
    "exog0 = (sm.add_constant(sentiment_mb[x0])).dropna()\n",
    "# exog1 = (sm.add_constant(sentiment_mb[x1])).dropna()\n",
    "# exog2 = (sm.add_constant(sentiment_mb[x2])).dropna()\n",
    "# exog3 = (sm.add_constant(sentiment_mb[x3])).dropna()\n",
    "\n",
    "reg0 = sm.OLS(endog=sentiment_mb[yvar].loc[exog0.index], exog=exog0).fit(cov_type=\"HC0\")\n",
    "# reg1 = sm.OLS(endog=sentiment_mb[yvar].loc[exog1.index], exog=exog1).fit(cov_type = \"HC0\")\n",
    "# reg2 = sm.OLS(endog=sentiment_mb[yvar].loc[exog2.index], exog=exog2).fit(cov_type = \"HC0\")\n",
    "# reg3 = sm.OLS(endog=sentiment_mb[yvar].loc[exog3.index], exog=exog3).fit(cov_type = \"HC0\")\n",
    "\n",
    "stargazer = Stargazer([reg0])\n",
    "display(HTML(stargazer.render_html()))\n",
    "stargazer.render_latex()"
   ]
  },
  {
   "cell_type": "code",
   "execution_count": 167,
   "metadata": {},
   "outputs": [
    {
     "data": {
      "text/html": [
       "<table style=\"text-align:center\"><tr><td colspan=\"6\" style=\"border-bottom: 1px solid black\"></td></tr>\n",
       "<tr><td style=\"text-align:left\"></td><td colspan=\"5\"><em>Dependent variable: log_returns</em></td></tr><tr><td style=\"text-align:left\"></td><tr><td style=\"text-align:left\"></td><td>(1)</td><td>(2)</td><td>(3)</td><td>(4)</td><td>(5)</td></tr>\n",
       "<tr><td colspan=\"6\" style=\"border-bottom: 1px solid black\"></td></tr>\n",
       "\n",
       "<tr><td style=\"text-align:left\">const</td><td>0.015<sup>*</sup></td><td>0.004<sup></sup></td><td>0.012<sup></sup></td><td>-0.003<sup></sup></td><td>0.014<sup></sup></td></tr>\n",
       "<tr><td style=\"text-align:left\"></td><td>(0.009)</td><td>(0.009)</td><td>(0.009)</td><td>(0.009)</td><td>(0.009)</td></tr>\n",
       "<tr><td style=\"text-align:left\">mpd_sentiment_0</td><td>-0.035<sup></sup></td><td></td><td></td><td></td><td></td></tr>\n",
       "<tr><td style=\"text-align:left\"></td><td>(0.032)</td><td></td><td></td><td></td><td></td></tr>\n",
       "<tr><td style=\"text-align:left\">mpd_sentiment_1</td><td></td><td>0.015<sup></sup></td><td></td><td></td><td></td></tr>\n",
       "<tr><td style=\"text-align:left\"></td><td></td><td>(0.032)</td><td></td><td></td><td></td></tr>\n",
       "<tr><td style=\"text-align:left\">mpd_sentiment_2</td><td></td><td></td><td>-0.027<sup></sup></td><td></td><td></td></tr>\n",
       "<tr><td style=\"text-align:left\"></td><td></td><td></td><td>(0.032)</td><td></td><td></td></tr>\n",
       "<tr><td style=\"text-align:left\">mpd_sentiment_3</td><td></td><td></td><td></td><td>0.040<sup></sup></td><td></td></tr>\n",
       "<tr><td style=\"text-align:left\"></td><td></td><td></td><td></td><td>(0.032)</td><td></td></tr>\n",
       "<tr><td style=\"text-align:left\">mpd_sentiment_4</td><td></td><td></td><td></td><td></td><td>-0.034<sup></sup></td></tr>\n",
       "<tr><td style=\"text-align:left\"></td><td></td><td></td><td></td><td></td><td>(0.032)</td></tr>\n",
       "\n",
       "<td colspan=\"6\" style=\"border-bottom: 1px solid black\"></td></tr>\n",
       "<tr><td style=\"text-align: left\">Observations</td><td>258</td><td>257</td><td>256</td><td>255</td><td>254</td></tr><tr><td style=\"text-align: left\">R<sup>2</sup></td><td>0.005</td><td>0.001</td><td>0.003</td><td>0.006</td><td>0.004</td></tr><tr><td style=\"text-align: left\">Adjusted R<sup>2</sup></td><td>0.001</td><td>-0.003</td><td>-0.001</td><td>0.002</td><td>0.000</td></tr><tr><td style=\"text-align: left\">Residual Std. Error</td><td>0.097 (df=256)</td><td>0.097 (df=255)</td><td>0.096 (df=254)</td><td>0.096 (df=253)</td><td>0.096 (df=252)</td></tr><tr><td style=\"text-align: left\">F Statistic</td><td>1.214<sup></sup> (df=1; 256)</td><td>0.227<sup></sup> (df=1; 255)</td><td>0.705<sup></sup> (df=1; 254)</td><td>1.602<sup></sup> (df=1; 253)</td><td>1.121<sup></sup> (df=1; 252)</td></tr>\n",
       "<tr><td colspan=\"6\" style=\"border-bottom: 1px solid black\"></td></tr><tr><td style=\"text-align: left\">Note:</td><td colspan=\"5\" style=\"text-align: right\"><sup>*</sup>p&lt;0.1; <sup>**</sup>p&lt;0.05; <sup>***</sup>p&lt;0.01</td></tr></table>"
      ],
      "text/plain": [
       "<IPython.core.display.HTML object>"
      ]
     },
     "metadata": {},
     "output_type": "display_data"
    },
    {
     "data": {
      "text/plain": [
       "'\\\\begin{table}[!htbp] \\\\centering\\n\\\\begin{tabular}{@{\\\\extracolsep{5pt}}lccccc}\\n\\\\\\\\[-1.8ex]\\\\hline\\n\\\\hline \\\\\\\\[-1.8ex]\\n& \\\\multicolumn{5}{c}{\\\\textit{Dependent variable: log_returns}} \\\\\\n\\\\cr \\\\cline{2-6}\\n\\\\\\\\[-1.8ex] & (1) & (2) & (3) & (4) & (5) \\\\\\\\\\n\\\\hline \\\\\\\\[-1.8ex]\\n const & 0.015$^{*}$ & 0.004$^{}$ & 0.012$^{}$ & -0.003$^{}$ & 0.014$^{}$ \\\\\\\\\\n& (0.009) & (0.009) & (0.009) & (0.009) & (0.009) \\\\\\\\\\n mpd_sentiment_0 & -0.035$^{}$ & & & & \\\\\\\\\\n& (0.032) & & & & \\\\\\\\\\n mpd_sentiment_1 & & 0.015$^{}$ & & & \\\\\\\\\\n& & (0.032) & & & \\\\\\\\\\n mpd_sentiment_2 & & & -0.027$^{}$ & & \\\\\\\\\\n& & & (0.032) & & \\\\\\\\\\n mpd_sentiment_3 & & & & 0.040$^{}$ & \\\\\\\\\\n& & & & (0.032) & \\\\\\\\\\n mpd_sentiment_4 & & & & & -0.034$^{}$ \\\\\\\\\\n& & & & & (0.032) \\\\\\\\\\n\\\\hline \\\\\\\\[-1.8ex]\\n Observations & 258 & 257 & 256 & 255 & 254 \\\\\\\\\\n $R^2$ & 0.005 & 0.001 & 0.003 & 0.006 & 0.004 \\\\\\\\\\n Adjusted $R^2$ & 0.001 & -0.003 & -0.001 & 0.002 & 0.000 \\\\\\\\\\n Residual Std. Error & 0.097 (df=256) & 0.097 (df=255) & 0.096 (df=254) & 0.096 (df=253) & 0.096 (df=252) \\\\\\\\\\n F Statistic & 1.214$^{}$ (df=1; 256) & 0.227$^{}$ (df=1; 255) & 0.705$^{}$ (df=1; 254) & 1.602$^{}$ (df=1; 253) & 1.121$^{}$ (df=1; 252) \\\\\\\\\\n\\\\hline\\n\\\\hline \\\\\\\\[-1.8ex]\\n\\\\textit{Note:} & \\\\multicolumn{5}{r}{$^{*}$p$<$0.1; $^{**}$p$<$0.05; $^{***}$p$<$0.01} \\\\\\\\\\n\\\\end{tabular}\\n\\\\end{table}'"
      ]
     },
     "execution_count": 167,
     "metadata": {},
     "output_type": "execute_result"
    }
   ],
   "source": [
    "x0 = [\"mpd_sentiment_0\"]\n",
    "x1 = [\"mpd_sentiment_1\"]\n",
    "x2 = [\"mpd_sentiment_2\"]\n",
    "x3 = [\"mpd_sentiment_3\"]\n",
    "x4 = [\"mpd_sentiment_4\"]\n",
    "\n",
    "yvar = \"log_returns\"\n",
    "\n",
    "exog0 = (sm.add_constant(sentiment_mbe[x0])).dropna()\n",
    "exog1 = (sm.add_constant(sentiment_mbe[x1])).dropna()\n",
    "exog2 = (sm.add_constant(sentiment_mbe[x2])).dropna()\n",
    "exog3 = (sm.add_constant(sentiment_mbe[x3])).dropna()\n",
    "exog4 = (sm.add_constant(sentiment_mbe[x4])).dropna()\n",
    "\n",
    "reg0 = sm.OLS(endog=sentiment_mbe[yvar].loc[exog0.index], exog=exog0).fit()\n",
    "reg1 = sm.OLS(endog=sentiment_mbe[yvar].loc[exog1.index], exog=exog1).fit()\n",
    "reg2 = sm.OLS(endog=sentiment_mbe[yvar].loc[exog2.index], exog=exog2).fit()\n",
    "reg3 = sm.OLS(endog=sentiment_mbe[yvar].loc[exog3.index], exog=exog3).fit()\n",
    "reg4 = sm.OLS(endog=sentiment_mbe[yvar].loc[exog4.index], exog=exog4).fit()\n",
    "\n",
    "stargazer = Stargazer([reg0, reg1, reg2, reg3, reg4])\n",
    "display(HTML(stargazer.render_html()))\n",
    "stargazer.render_latex()"
   ]
  }
 ],
 "metadata": {
  "kernelspec": {
   "display_name": "Python 3",
   "language": "python",
   "name": "python3"
  },
  "language_info": {
   "codemirror_mode": {
    "name": "ipython",
    "version": 3
   },
   "file_extension": ".py",
   "mimetype": "text/x-python",
   "name": "python",
   "nbconvert_exporter": "python",
   "pygments_lexer": "ipython3",
   "version": "3.11.6"
  }
 },
 "nbformat": 4,
 "nbformat_minor": 2
}
