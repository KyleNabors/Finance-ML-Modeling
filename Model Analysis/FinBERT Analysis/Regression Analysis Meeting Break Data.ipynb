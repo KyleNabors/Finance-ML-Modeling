{
 "cells": [
  {
   "cell_type": "code",
   "execution_count": null,
   "metadata": {},
   "outputs": [],
   "source": [
    "import pandas as pd\n",
    "from sklearn import datasets\n",
    "import statsmodels.api as sm\n",
    "from stargazer.stargazer import Stargazer\n",
    "from IPython.display import display, HTML\n",
    "import matplotlib.pyplot as plt"
   ]
  },
  {
   "cell_type": "code",
   "execution_count": null,
   "metadata": {},
   "outputs": [],
   "source": [
    "sentiment_mb = pd.read_csv(f'/Users/kylenabors/Documents/Database/Models/FinBERT Models/taylor MBreak.csv')\n",
    "sentiment_mbe = pd.read_csv(f'/Users/kylenabors/Documents/Database/Models/FinBERT Models/taylor MBreak Euro.csv')\n",
    "\n",
    "sentiment_mb['date'] = pd.to_datetime(sentiment_mb['date'])\n",
    "sentiment_mbe['date'] = pd.to_datetime(sentiment_mbe['date'])"
   ]
  },
  {
   "cell_type": "code",
   "execution_count": null,
   "metadata": {},
   "outputs": [],
   "source": [
    "x1 = 'minute_sentiment'\n",
    "x2 = 'log_returns'\n",
    "x3 = 'minute_sentiment'\n",
    "x4 = 'log_returns'\n",
    "\n",
    "#Graph the Data\n",
    "fig, ax = plt.subplots(figsize = (40, 20))\n",
    "\n",
    "ax.scatter(sentiment_mb['date'], sentiment_mb[f'{x1}'], label=f'{x1}', color='blue', s=10)\n",
    "ax.plot(sentiment_mb['date'], sentiment_mb[f'{x1}'], label=f'{x1}', color='blue', lw=2)\n",
    "\n",
    "ax.scatter(sentiment_mb['date'], sentiment_mb[f'{x2}'], label=f'{x2}', color='green', s=10)\n",
    "ax.plot(sentiment_mb['date'], sentiment_mb[f'{x2}'], label=f'{x2}', color='green', lw=1)\n",
    "\n",
    "# ax.scatter(sentiment_mb['date'], sentiment_mb[f'{x3}'], label=f'{x3}', color='red', s=10)\n",
    "# ax.plot(sentiment_mb['date'], sentiment_mb[f'{x3}'], label=f'{x3}', color='red', lw = 2)\n",
    "\n",
    "# ax.scatter(sentiment_mb['date'], sentiment_mb[f'{x4}'], label=f'{x4}', color='purple', s=10)\n",
    "# ax.plot(sentiment_mb['date'], sentiment_mb[f'{x4}'], label=f'{x4}', color='purple')\n",
    "\n",
    "\n",
    "#Create a vertical line at every year \n",
    "for year in range(2000, 2025):\n",
    "    ax.axvline(pd.to_datetime(f'{year}-01-01'), color='gray', linestyle='--', lw=1)\n",
    "    \n",
    "ax.set_title('FOMC Minute Sentiment and SP500 Returns')\n",
    "ax.set_xlabel('Date')\n",
    "ax.legend()\n",
    "plt.show()\n"
   ]
  },
  {
   "cell_type": "code",
   "execution_count": null,
   "metadata": {},
   "outputs": [],
   "source": [
    "x1 = 'mpd_sentiment'\n",
    "x2 = 'log_returns'\n",
    "x3 = 'mpd_sentiment'\n",
    "x4 = 'log_returns'\n",
    "\n",
    "#Graph the Data\n",
    "fig, ax = plt.subplots(figsize = (40, 20))\n",
    "\n",
    "ax.scatter(sentiment_mbe['date'], sentiment_mbe[f'{x1}'], label=f'{x1}', color='blue', s=10)\n",
    "ax.plot(sentiment_mbe['date'], sentiment_mbe[f'{x1}'], label=f'{x1}', color='blue', lw=2)\n",
    "\n",
    "ax.scatter(sentiment_mbe['date'], sentiment_mbe[f'{x2}'], label=f'{x2}', color='green', s=10)\n",
    "ax.plot(sentiment_mbe['date'], sentiment_mbe[f'{x2}'], label=f'{x2}', color='green', lw=1)\n",
    "\n",
    "# ax.scatter(sentiment_mbe['date'], sentiment_mbe[f'{x3}'], label=f'{x3}', color='red', s=10)\n",
    "# ax.plot(sentiment_mbe['date'], sentiment_mbe[f'{x3}'], label=f'{x3}', color='red', lw = 2)\n",
    "\n",
    "# ax.scatter(sentiment_mbe['date'], sentiment_mbe[f'{x4}'], label=f'{x4}', color='purple', s=10)\n",
    "# ax.plot(sentiment_mbe['date'], sentiment_mbe[f'{x4}'], label=f'{x4}', color='purple')\n",
    "\n",
    "\n",
    "#Create a vertical line at every year \n",
    "for year in range(2000, 2025):\n",
    "    ax.axvline(pd.to_datetime(f'{year}-01-01'), color='gray', linestyle='--', lw=1)\n",
    "    \n",
    "ax.set_title('ECB Monetary Policy Decision Sentiment and STOXX 600 Returns ')\n",
    "ax.set_xlabel('Date')\n",
    "ax.legend()\n",
    "plt.show()\n"
   ]
  },
  {
   "cell_type": "code",
   "execution_count": null,
   "metadata": {},
   "outputs": [],
   "source": [
    "x0 = ['minute_sentiment_0']\n",
    "x1 = ['minute_sentiment_1']\n",
    "x2 = ['minute_sentiment_2']\n",
    "x3 = ['minute_sentiment_3']\n",
    "x4 = ['minute_sentiment_4']\n",
    "\n",
    "yvar = 'log_returns'\n",
    "\n",
    "exog0 = (sm.add_constant(sentiment_mb[x0])).dropna()\n",
    "exog1 = (sm.add_constant(sentiment_mb[x1])).dropna()\n",
    "exog2 = (sm.add_constant(sentiment_mb[x2])).dropna()\n",
    "exog3 = (sm.add_constant(sentiment_mb[x3])).dropna()\n",
    "exog4 = (sm.add_constant(sentiment_mb[x4])).dropna()\n",
    "\n",
    "reg0 = sm.OLS(endog=sentiment_mb[yvar].loc[exog0.index], exog=exog0).fit()\n",
    "reg1 = sm.OLS(endog=sentiment_mb[yvar].loc[exog1.index], exog=exog1).fit()\n",
    "reg2 = sm.OLS(endog=sentiment_mb[yvar].loc[exog2.index], exog=exog2).fit()\n",
    "reg3 = sm.OLS(endog=sentiment_mb[yvar].loc[exog3.index], exog=exog3).fit()\n",
    "reg4 = sm.OLS(endog=sentiment_mb[yvar].loc[exog4.index], exog=exog4).fit()\n",
    "\n",
    "stargazer = Stargazer([reg0, reg1, reg2, reg3, reg4])\n",
    "display(HTML(stargazer.render_html()))\n",
    "stargazer.render_latex()"
   ]
  },
  {
   "cell_type": "code",
   "execution_count": null,
   "metadata": {},
   "outputs": [],
   "source": [
    "x0 = ['mpd_sentiment_0']\n",
    "x1 = ['mpd_sentiment_1']\n",
    "x2 = ['mpd_sentiment_2']\n",
    "x3 = ['mpd_sentiment_3']\n",
    "x4 = ['mpd_sentiment_4']\n",
    "\n",
    "yvar = 'log_returns'\n",
    "\n",
    "exog0 = (sm.add_constant(sentiment_mbe[x0])).dropna()\n",
    "exog1 = (sm.add_constant(sentiment_mbe[x1])).dropna()\n",
    "exog2 = (sm.add_constant(sentiment_mbe[x2])).dropna()\n",
    "exog3 = (sm.add_constant(sentiment_mbe[x3])).dropna()\n",
    "exog4 = (sm.add_constant(sentiment_mbe[x4])).dropna()\n",
    "\n",
    "reg0 = sm.OLS(endog=sentiment_mbe[yvar].loc[exog0.index], exog=exog0).fit()\n",
    "reg1 = sm.OLS(endog=sentiment_mbe[yvar].loc[exog1.index], exog=exog1).fit()\n",
    "reg2 = sm.OLS(endog=sentiment_mbe[yvar].loc[exog2.index], exog=exog2).fit()\n",
    "reg3 = sm.OLS(endog=sentiment_mbe[yvar].loc[exog3.index], exog=exog3).fit()\n",
    "reg4 = sm.OLS(endog=sentiment_mbe[yvar].loc[exog4.index], exog=exog4).fit()\n",
    "\n",
    "stargazer = Stargazer([reg0, reg1, reg2, reg3, reg4])\n",
    "display(HTML(stargazer.render_html()))\n",
    "stargazer.render_latex()"
   ]
  }
 ],
 "metadata": {
  "kernelspec": {
   "display_name": "Python 3",
   "language": "python",
   "name": "python3"
  },
  "language_info": {
   "codemirror_mode": {
    "name": "ipython",
    "version": 3
   },
   "file_extension": ".py",
   "mimetype": "text/x-python",
   "name": "python",
   "nbconvert_exporter": "python",
   "pygments_lexer": "ipython3",
   "version": "3.11.6"
  }
 },
 "nbformat": 4,
 "nbformat_minor": 2
}
