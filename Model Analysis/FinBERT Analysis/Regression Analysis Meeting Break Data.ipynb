{
 "cells": [
  {
   "cell_type": "code",
   "execution_count": null,
   "metadata": {},
   "outputs": [],
   "source": [
    "import pandas as pd\n",
    "from sklearn import datasets\n",
    "import statsmodels.api as sm\n",
    "from stargazer.stargazer import Stargazer\n",
    "from IPython.display import display, HTML"
   ]
  },
  {
   "cell_type": "code",
   "execution_count": null,
   "metadata": {},
   "outputs": [],
   "source": [
    "sentiment_mb = pd.read_csv(f'/Users/kylenabors/Documents/Database/Models/FinBERT Models/taylor MBreak.csv')"
   ]
  },
  {
   "cell_type": "code",
   "execution_count": null,
   "metadata": {},
   "outputs": [],
   "source": [
    "x0 = ['minute_sentiment_diff2_0']\n",
    "x1 = ['minute_sentiment_diff2_1']\n",
    "x2 = ['minute_sentiment_diff2_2']\n",
    "x3 = ['minute_sentiment_diff2_3']\n",
    "\n",
    "exog0 = sm.add_constant(sentiment_mb[x0])\n",
    "exog1 = sm.add_constant(sentiment_mb[x1])\n",
    "exog2 = sm.add_constant(sentiment_mb[x2])\n",
    "exog3 = sm.add_constant(sentiment_mb[x3])\n",
    "\n",
    "exog0 = exog0.dropna()\n",
    "exog1 = exog1.dropna()\n",
    "exog2 = exog2.dropna()\n",
    "exog3 = exog3.dropna()\n",
    "\n",
    "yvar = 'log_returns_cycle'\n",
    "\n",
    "endog0 = sentiment_mb[yvar].loc[exog0.index]\n",
    "endog1 = sentiment_mb[yvar].loc[exog1.index]\n",
    "endog2 = sentiment_mb[yvar].loc[exog2.index]\n",
    "endog3 = sentiment_mb[yvar].loc[exog3.index]\n",
    "\n",
    "reg0 = sm.OLS(endog=endog0, exog=exog0).fit()\n",
    "reg1 = sm.OLS(endog=endog1, exog=exog1).fit()\n",
    "reg2 = sm.OLS(endog=endog2, exog=exog2).fit()\n",
    "reg3 = sm.OLS(endog=endog3, exog=exog3).fit()\n",
    "\n",
    "stargazer = Stargazer([reg0, reg1, reg2, reg3])\n",
    "display(HTML(stargazer.render_html()))"
   ]
  }
 ],
 "metadata": {
  "kernelspec": {
   "display_name": "Python 3",
   "language": "python",
   "name": "python3"
  },
  "language_info": {
   "codemirror_mode": {
    "name": "ipython",
    "version": 3
   },
   "file_extension": ".py",
   "mimetype": "text/x-python",
   "name": "python",
   "nbconvert_exporter": "python",
   "pygments_lexer": "ipython3",
   "version": "3.11.6"
  }
 },
 "nbformat": 4,
 "nbformat_minor": 2
}
