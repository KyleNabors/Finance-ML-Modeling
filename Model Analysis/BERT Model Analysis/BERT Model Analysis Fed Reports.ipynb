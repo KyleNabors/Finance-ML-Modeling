{
 "cells": [
  {
   "cell_type": "code",
   "execution_count": null,
   "metadata": {},
   "outputs": [],
   "source": [
    "#Base Libraries\n",
    "import os \n",
    "import sys\n",
    "import json\n",
    "import csv\n",
    "\n",
    "#Core Libraries \n",
    "import pandas as pd\n",
    "import numpy as np\n",
    "import matplotlib.pyplot as plt\n",
    "import pygwalker as pyg\n",
    "import datetime as dt\n",
    "#Model Libraries\n",
    "from bertopic import BERTopic\n",
    "from sklearn.metrics.pairwise import cosine_similarity\n",
    "from umap import UMAP\n",
    "#import umap.plot\n",
    "from sentence_transformers import SentenceTransformer\n",
    "\n",
    "#ML Libraries\n",
    "import torch \n"
   ]
  },
  {
   "cell_type": "code",
   "execution_count": null,
   "metadata": {},
   "outputs": [],
   "source": [
    "\n",
    "#Importing Configs\n",
    "# Define the path where config.py is located\n",
    "os.chdir('/Users/kylenabors/Documents/GitHub/Finance-ML-Modeling')\n",
    "config_file_path = os.getcwd()\n",
    "print(config_file_path)\n",
    "\n",
    "# Add this path to the sys.path\n",
    "sys.path.append(config_file_path)\n",
    "\n",
    "import config\n",
    "\n",
    "#Configs\n",
    "database_file = config.database\n",
    "database_folder = config.database_folder\n",
    "bert_models = config.bert_models\n",
    "bert_models_local = config.bert_models_local"
   ]
  },
  {
   "cell_type": "code",
   "execution_count": null,
   "metadata": {},
   "outputs": [],
   "source": [
    "Body = 'Fed'\n",
    "Model = 'Monetary Policy Report'\n",
    "Model_Subfolder = f'/{Body} Texts/{Model}'\n",
    "Model_Folder = config.texts\n",
    "Model_Folder = Model_Folder + Model_Subfolder\n",
    "\n",
    "df = pd.read_csv(f\"{Model_Folder}/{Model}_texts.csv\")  \n",
    "docs = df[\"segment\"].to_list()\n",
    "timestamps = df['date'].to_list()\n",
    "type = df['type'].to_list()\n",
    "\n",
    "#Initial Model\n",
    "topic_model_policy = torch.load(f\"{bert_models_local}/{Body}/{Model}/topic_model_{Model}.pt\")\n",
    "\n",
    "#Edited Model\n",
    "topic_model_policy= torch.load(f\"{bert_models_local}/{Body}/{Model}/topic_model_{Model}_edited.pt\")\n",
    "print(\"Done Loading Model\")\n",
    "\n",
    "topic_model_policy.set_topic_labels({0: \"Inflation\", 1: \"Bank\", 2: \"Employment\", 3: \"Spending\", 4: \"Uncertainty\"})\n",
    "topic_model_policy.custom_labels_"
   ]
  },
  {
   "cell_type": "code",
   "execution_count": null,
   "metadata": {},
   "outputs": [],
   "source": [
    "topics_over_time = topic_model_policy.topics_over_time(docs, timestamps, nr_bins=100)\n",
    "\n",
    "df_tot = pd.DataFrame(topics_over_time, columns=['Topic', 'Words', 'Frequency', 'Timestamp'])\n",
    "df_tot['Timestamp'] = pd.to_datetime(df_tot['Timestamp'], format='%Y-%m-%d').dt.to_period('D')\n",
    "df_tot.to_csv(f\"{bert_models_local}/tot.csv\", index=True)"
   ]
  },
  {
   "cell_type": "code",
   "execution_count": null,
   "metadata": {},
   "outputs": [],
   "source": [
    "a = [0,1,2,3,4]\n",
    "df_tot.drop(['Words'], axis=1, inplace=True)\n",
    "df_tot = df_tot[df_tot['Topic'].isin(a)==True]\n",
    "print(df_tot.head())\n",
    "\n",
    "df_tpt = df_tot.pivot_table(index='Timestamp', columns='Topic', values='Frequency')\n",
    "\n",
    "df_tpt.rename(columns={0: \"Inflation\", 1: \"Bank\", 2: \"Employment\", 3: \"Spending\", 4: \"Uncertainty\"}, inplace=True)\n",
    "print(df_tpt.head())"
   ]
  },
  {
   "cell_type": "code",
   "execution_count": null,
   "metadata": {},
   "outputs": [],
   "source": [
    "df_tpt.columns\n",
    "df_tpt.reset_index(inplace=True)\n",
    "print(df_tpt.head())\n",
    "#df_tpt.drop(['Topic'], axis = 1 , inplace=True)"
   ]
  },
  {
   "cell_type": "code",
   "execution_count": null,
   "metadata": {},
   "outputs": [],
   "source": [
    "funds = pd.read_excel('/Users/kylenabors/Documents/Database/Other Data/FedFundsRate.xlsx')\n",
    "print(funds.head())"
   ]
  },
  {
   "cell_type": "code",
   "execution_count": null,
   "metadata": {},
   "outputs": [],
   "source": [
    "df_tpt_m = df_tpt.copy(deep=True)\n",
    "df_tpt['Timestamp'] = df_tpt[\"Timestamp\"].dt.to_timestamp(freq='D')\n",
    "df_tpt_m[\"Timestamp\"] = df_tpt_m[\"Timestamp\"].dt.to_timestamp(freq='M')\n",
    "df_tpt_m['Timestamp'] = df_tpt_m['Timestamp'].dt.to_period('M')\n",
    "print(df_tpt_m.head())"
   ]
  },
  {
   "cell_type": "code",
   "execution_count": null,
   "metadata": {},
   "outputs": [],
   "source": [
    "energy = pd.read_csv('/Users/kylenabors/Documents/Database/Other Data/Energy Prices/US Energy CPI.csv')\n",
    "print(energy.head())\n",
    "print(df_tpt_m.head())\n",
    "energy[\"DATE\"] = pd.to_datetime(energy[\"DATE\"]).dt.to_period('M')\n",
    "print(energy.head())\n",
    "df_tpt_m.merge(energy, left_on='Timestamp', right_on='DATE', how='left')"
   ]
  },
  {
   "cell_type": "code",
   "execution_count": null,
   "metadata": {},
   "outputs": [],
   "source": [
    "funds = pd.read_excel('/Users/kylenabors/Documents/Database/Other Data/FedFundsRate.xlsx', sheet_name='Monthly')\n",
    "funds['Date Adjusted'] = funds['Date Adjusted'].dt.to_period(freq='M')\n",
    "df_tpt_m = df_tpt_m.merge(funds, left_on='Timestamp', right_on='Date Adjusted', how='left')"
   ]
  },
  {
   "cell_type": "code",
   "execution_count": null,
   "metadata": {},
   "outputs": [],
   "source": [
    "df_tpt_m.drop(['DATE', 'Date Adjusted'], axis=1, inplace=True)"
   ]
  },
  {
   "cell_type": "code",
   "execution_count": null,
   "metadata": {},
   "outputs": [],
   "source": [
    "change_df_tpt_m = df_tpt_m.copy(deep=True)\n",
    "change_df_tpt_m['Inflation'] = change_df_tpt_m['Inflation'].diff()\n",
    "change_df_tpt_m['Bank'] = change_df_tpt_m['Bank'].diff()\n",
    "change_df_tpt_m['Employment'] = change_df_tpt_m['Employment'].diff()\n",
    "change_df_tpt_m['Spending'] = change_df_tpt_m['Spending'].diff()\n",
    "change_df_tpt_m['Uncertainty'] = change_df_tpt_m['Uncertainty'].diff()\n",
    "change_df_tpt_m['FEDFUNDS_Change'] = change_df_tpt_m['FEDFUNDS'].diff()\n",
    "print(change_df_tpt_m.head())"
   ]
  },
  {
   "cell_type": "code",
   "execution_count": null,
   "metadata": {},
   "outputs": [],
   "source": [
    "topics_per_class = topic_model_policy.topics_per_class(docs, classes = type)\n",
    "\n",
    "# Save topic-terms barcharts as HTML file\n",
    "topic_model_policy.visualize_barchart(top_n_topics = 100, n_words=8, custom_labels=True).write_html(f\"{bert_models}/barchart.html\")"
   ]
  },
  {
   "cell_type": "code",
   "execution_count": null,
   "metadata": {},
   "outputs": [],
   "source": [
    "df_tpt_m.to_csv(f\"{bert_models_local}/{Body}/{Model}/tpt monthly merged.csv\", index=True)\n",
    "change_df_tpt_m.to_csv(f\"{bert_models_local}/{Body}/{Model}/tpt change monthly merged.csv\", index=True)"
   ]
  },
  {
   "cell_type": "code",
   "execution_count": null,
   "metadata": {},
   "outputs": [],
   "source": [
    "gwalker = pyg.walk(df_tpt_m)"
   ]
  },
  {
   "cell_type": "code",
   "execution_count": null,
   "metadata": {},
   "outputs": [],
   "source": [
    "gwalker = pyg.walk(change_df_tpt_m)"
   ]
  }
 ],
 "metadata": {
  "kernelspec": {
   "display_name": "Python 3",
   "language": "python",
   "name": "python3"
  },
  "language_info": {
   "codemirror_mode": {
    "name": "ipython",
    "version": 3
   },
   "file_extension": ".py",
   "mimetype": "text/x-python",
   "name": "python",
   "nbconvert_exporter": "python",
   "pygments_lexer": "ipython3",
   "version": "3.11.4"
  },
  "orig_nbformat": 4
 },
 "nbformat": 4,
 "nbformat_minor": 2
}
