{
 "cells": [
  {
   "cell_type": "code",
   "execution_count": 118,
   "metadata": {},
   "outputs": [],
   "source": [
    "import os \n",
    "import sys\n",
    "import pygwalker as pyg\n",
    "import pandas as pd\n",
    "import matplotlib.pyplot as plt\n",
    "from matplotlib import ticker\n",
    "import numpy as np"
   ]
  },
  {
   "cell_type": "code",
   "execution_count": 119,
   "metadata": {},
   "outputs": [
    {
     "name": "stdout",
     "output_type": "stream",
     "text": [
      "/Users/kylenabors/Documents/GitHub/Finance-ML-Modeling\n"
     ]
    }
   ],
   "source": [
    "\n",
    "#Importing Configs\n",
    "# Define the path where config.py is located\n",
    "#Mac\n",
    "os.chdir('/Users/kylenabors/Documents/GitHub/Finance-ML-Modeling')\n",
    "#Linux\n",
    "#os.chdir('/home/kwnabors/Documents/GitHub/Finance-ML-Modeling')\n",
    "config_file_path = os.getcwd()\n",
    "print(config_file_path)\n",
    "\n",
    "# Add this path to the sys.path\n",
    "sys.path.append(config_file_path)\n",
    "\n",
    "import config\n",
    "\n",
    "#Configs\n",
    "database_file = config.database\n",
    "database_folder = config.database_folder\n",
    "bert_models = config.bert_models\n",
    "bert_models_local = config.bert_models_local\n",
    "Sentiment_models = config.Sentiment_models\n",
    "finbert_models = config.finbert_models\n",
    "\n",
    "Body = config.Body\n",
    "Model = config.Model\n",
    "Model_Subfolder = f'/{Body} Texts/{Model}'\n",
    "#Model_Folder = config.texts\n",
    "Model_Folder = config.Sentiment_models\n",
    "Model_Folder = Model_Folder + Model_Subfolder\n",
    "Model_Folder = config.Sentiment_models\n",
    "\n",
    "Body_2 = config.Body_2\n",
    "Model_2 = config.Model_2\n",
    "Model_Subfolder_2 = f'/{Body_2} Texts/{Model_2}'\n",
    "Model_Folder_2 = config.texts\n",
    "Model_Folder_2 = Model_Folder_2 + Model_Subfolder_2\n"
   ]
  },
  {
   "cell_type": "code",
   "execution_count": 120,
   "metadata": {},
   "outputs": [
    {
     "name": "stdout",
     "output_type": "stream",
     "text": [
      "   Unnamed: 0        date                                              title  \\\n",
      "0           0  1998-11-12          Modernizing financial services regulation   \n",
      "1           1  1998-11-06                   Examining community reinvestment   \n",
      "2           2  1998-11-05  The structure of the international financial s...   \n",
      "3           3  1998-10-29           Countdown to Y2K: An economic assessment   \n",
      "4           4  1998-10-27  The future of the financial services sector an...   \n",
      "\n",
      "                              type  \\\n",
      "0       Governor Laurence H. Meyer   \n",
      "1      Governor Edward M. Gramlich   \n",
      "2          Chairman Alan Greenspan   \n",
      "3   Governor Edward W. Kelley, Jr.   \n",
      "4  Governor Roger W. Ferguson, Jr.   \n",
      "\n",
      "                                             segment sentiment      tone  \n",
      "0  modernizing financial services regulation  it ...  negative -0.010526  \n",
      "1  examining community reinvestment  the federal ...  negative -0.017647  \n",
      "2   this afternoon i intend to address a subject ...   neutral -0.162162  \n",
      "3  countdown to y2k: an economic assessment  i am...  negative -0.272000  \n",
      "4  some observations on the future of the financi...  negative  0.046154  \n",
      "   Unnamed: 0        date                                              title  \\\n",
      "0           0  2023-06-01               Financial stability in the euro area   \n",
      "1           1  2023-06-01                        The fight against inflation   \n",
      "2           2  2023-05-25  Presentation of the ECB Annual Report 2022 to ...   \n",
      "3           3  2023-05-24                       Twenty-five years of the ECB   \n",
      "4           4  2023-05-23      Towards a stronger non-bank financial sector    \n",
      "\n",
      "                type                                            segment  \\\n",
      "0    Luis de Guindos    speech  financial stability in the euro area...   \n",
      "1  Christine Lagarde    speech   the fight against inflation   speec...   \n",
      "2    Luis de Guindos    speech  presentation of the ecb annual repor...   \n",
      "3  Christine Lagarde    speech    twentyfive years of the ecb   open...   \n",
      "4    Luis de Guindos    speech  towards a stronger nonbank financial...   \n",
      "\n",
      "   compound  \n",
      "0  positive  \n",
      "1  positive  \n",
      "2   neutral  \n",
      "3   neutral  \n",
      "4  positive  \n",
      "Index(['Unnamed: 0', 'date', 'title', 'type', 'segment', 'compound'], dtype='object')\n"
     ]
    }
   ],
   "source": [
    "df = pd.read_csv(f\"{finbert_models}/{Body}_{Model}_finbert model.csv\")\n",
    "df_2 = pd.read_csv(f\"{finbert_models}/{Body_2}_{Model_2}_finbert model.csv\")\n",
    "\n",
    "print(df.head())\n",
    "print(df_2.head())\n",
    "print(df_2.columns)\n"
   ]
  },
  {
   "cell_type": "code",
   "execution_count": 121,
   "metadata": {},
   "outputs": [
    {
     "ename": "KeyError",
     "evalue": "'sentiment'",
     "output_type": "error",
     "traceback": [
      "\u001b[0;31m---------------------------------------------------------------------------\u001b[0m",
      "\u001b[0;31mKeyError\u001b[0m                                  Traceback (most recent call last)",
      "File \u001b[0;32m/Library/Frameworks/Python.framework/Versions/3.11/lib/python3.11/site-packages/pandas/core/indexes/base.py:3653\u001b[0m, in \u001b[0;36mIndex.get_loc\u001b[0;34m(self, key)\u001b[0m\n\u001b[1;32m   3652\u001b[0m \u001b[39mtry\u001b[39;00m:\n\u001b[0;32m-> 3653\u001b[0m     \u001b[39mreturn\u001b[39;00m \u001b[39mself\u001b[39;49m\u001b[39m.\u001b[39;49m_engine\u001b[39m.\u001b[39;49mget_loc(casted_key)\n\u001b[1;32m   3654\u001b[0m \u001b[39mexcept\u001b[39;00m \u001b[39mKeyError\u001b[39;00m \u001b[39mas\u001b[39;00m err:\n",
      "File \u001b[0;32m/Library/Frameworks/Python.framework/Versions/3.11/lib/python3.11/site-packages/pandas/_libs/index.pyx:147\u001b[0m, in \u001b[0;36mpandas._libs.index.IndexEngine.get_loc\u001b[0;34m()\u001b[0m\n",
      "File \u001b[0;32m/Library/Frameworks/Python.framework/Versions/3.11/lib/python3.11/site-packages/pandas/_libs/index.pyx:176\u001b[0m, in \u001b[0;36mpandas._libs.index.IndexEngine.get_loc\u001b[0;34m()\u001b[0m\n",
      "File \u001b[0;32mpandas/_libs/hashtable_class_helper.pxi:7080\u001b[0m, in \u001b[0;36mpandas._libs.hashtable.PyObjectHashTable.get_item\u001b[0;34m()\u001b[0m\n",
      "File \u001b[0;32mpandas/_libs/hashtable_class_helper.pxi:7088\u001b[0m, in \u001b[0;36mpandas._libs.hashtable.PyObjectHashTable.get_item\u001b[0;34m()\u001b[0m\n",
      "\u001b[0;31mKeyError\u001b[0m: 'sentiment'",
      "\nThe above exception was the direct cause of the following exception:\n",
      "\u001b[0;31mKeyError\u001b[0m                                  Traceback (most recent call last)",
      "\u001b[1;32m/Users/kylenabors/Documents/GitHub/Finance-ML-Modeling/FinBERT Sentiment Graphs.ipynb Cell 4\u001b[0m line \u001b[0;36m2\n\u001b[1;32m      <a href='vscode-notebook-cell:/Users/kylenabors/Documents/GitHub/Finance-ML-Modeling/FinBERT%20Sentiment%20Graphs.ipynb#W3sZmlsZQ%3D%3D?line=0'>1</a>\u001b[0m df[\u001b[39m'\u001b[39m\u001b[39msentiment\u001b[39m\u001b[39m'\u001b[39m] \u001b[39m=\u001b[39m df[\u001b[39m'\u001b[39m\u001b[39msentiment\u001b[39m\u001b[39m'\u001b[39m]\u001b[39m.\u001b[39mreplace({\u001b[39m'\u001b[39m\u001b[39mpositive\u001b[39m\u001b[39m'\u001b[39m: \u001b[39m1\u001b[39m, \u001b[39m'\u001b[39m\u001b[39mneutral\u001b[39m\u001b[39m'\u001b[39m : \u001b[39m0\u001b[39m, \u001b[39m'\u001b[39m\u001b[39mnegative\u001b[39m\u001b[39m'\u001b[39m : \u001b[39m-\u001b[39m\u001b[39m1\u001b[39m})\n\u001b[0;32m----> <a href='vscode-notebook-cell:/Users/kylenabors/Documents/GitHub/Finance-ML-Modeling/FinBERT%20Sentiment%20Graphs.ipynb#W3sZmlsZQ%3D%3D?line=1'>2</a>\u001b[0m df_2[\u001b[39m'\u001b[39m\u001b[39msentiment\u001b[39m\u001b[39m'\u001b[39m] \u001b[39m=\u001b[39m df_2[\u001b[39m'\u001b[39;49m\u001b[39msentiment\u001b[39;49m\u001b[39m'\u001b[39;49m]\u001b[39m.\u001b[39mreplace({\u001b[39m'\u001b[39m\u001b[39mpositive\u001b[39m\u001b[39m'\u001b[39m: \u001b[39m1\u001b[39m, \u001b[39m'\u001b[39m\u001b[39mneutral\u001b[39m\u001b[39m'\u001b[39m : \u001b[39m0\u001b[39m, \u001b[39m'\u001b[39m\u001b[39mnegative\u001b[39m\u001b[39m'\u001b[39m : \u001b[39m-\u001b[39m\u001b[39m1\u001b[39m})\n",
      "File \u001b[0;32m/Library/Frameworks/Python.framework/Versions/3.11/lib/python3.11/site-packages/pandas/core/frame.py:3761\u001b[0m, in \u001b[0;36mDataFrame.__getitem__\u001b[0;34m(self, key)\u001b[0m\n\u001b[1;32m   3759\u001b[0m \u001b[39mif\u001b[39;00m \u001b[39mself\u001b[39m\u001b[39m.\u001b[39mcolumns\u001b[39m.\u001b[39mnlevels \u001b[39m>\u001b[39m \u001b[39m1\u001b[39m:\n\u001b[1;32m   3760\u001b[0m     \u001b[39mreturn\u001b[39;00m \u001b[39mself\u001b[39m\u001b[39m.\u001b[39m_getitem_multilevel(key)\n\u001b[0;32m-> 3761\u001b[0m indexer \u001b[39m=\u001b[39m \u001b[39mself\u001b[39;49m\u001b[39m.\u001b[39;49mcolumns\u001b[39m.\u001b[39;49mget_loc(key)\n\u001b[1;32m   3762\u001b[0m \u001b[39mif\u001b[39;00m is_integer(indexer):\n\u001b[1;32m   3763\u001b[0m     indexer \u001b[39m=\u001b[39m [indexer]\n",
      "File \u001b[0;32m/Library/Frameworks/Python.framework/Versions/3.11/lib/python3.11/site-packages/pandas/core/indexes/base.py:3655\u001b[0m, in \u001b[0;36mIndex.get_loc\u001b[0;34m(self, key)\u001b[0m\n\u001b[1;32m   3653\u001b[0m     \u001b[39mreturn\u001b[39;00m \u001b[39mself\u001b[39m\u001b[39m.\u001b[39m_engine\u001b[39m.\u001b[39mget_loc(casted_key)\n\u001b[1;32m   3654\u001b[0m \u001b[39mexcept\u001b[39;00m \u001b[39mKeyError\u001b[39;00m \u001b[39mas\u001b[39;00m err:\n\u001b[0;32m-> 3655\u001b[0m     \u001b[39mraise\u001b[39;00m \u001b[39mKeyError\u001b[39;00m(key) \u001b[39mfrom\u001b[39;00m \u001b[39merr\u001b[39;00m\n\u001b[1;32m   3656\u001b[0m \u001b[39mexcept\u001b[39;00m \u001b[39mTypeError\u001b[39;00m:\n\u001b[1;32m   3657\u001b[0m     \u001b[39m# If we have a listlike key, _check_indexing_error will raise\u001b[39;00m\n\u001b[1;32m   3658\u001b[0m     \u001b[39m#  InvalidIndexError. Otherwise we fall through and re-raise\u001b[39;00m\n\u001b[1;32m   3659\u001b[0m     \u001b[39m#  the TypeError.\u001b[39;00m\n\u001b[1;32m   3660\u001b[0m     \u001b[39mself\u001b[39m\u001b[39m.\u001b[39m_check_indexing_error(key)\n",
      "\u001b[0;31mKeyError\u001b[0m: 'sentiment'"
     ]
    }
   ],
   "source": [
    "df['sentiment'] = df['sentiment'].replace({'positive': 1, 'neutral' : 0, 'negative' : -1})\n",
    "df_2['sentiment'] = df_2['sentiment'].replace({'positive': 1, 'neutral' : 0, 'negative' : -1})"
   ]
  },
  {
   "cell_type": "code",
   "execution_count": null,
   "metadata": {},
   "outputs": [],
   "source": [
    "print(df.columns)\n",
    "print(df_2.columns)\n",
    "print(df.head())"
   ]
  },
  {
   "cell_type": "code",
   "execution_count": null,
   "metadata": {},
   "outputs": [],
   "source": [
    "df_group = df.copy(deep=True)\n",
    "df_group = df_group.drop(columns=['Unnamed: 0', 'title', 'type', 'segment'])\n",
    "\n",
    "df_group['monthly'] = df_group['date'].str[0:7]\n",
    "#df_group['monthly'] = df_group['date']\n",
    "\n",
    "print(df_group.columns)\n",
    "df_group = df_group[['monthly', 'sentiment']]\n",
    "df_group = df_group.groupby('monthly', as_index = False, dropna=True).mean()\n",
    "\n",
    "df_2_group = df_2.copy(deep=True)\n",
    "df_2_group = df_2_group.drop(columns=['Unnamed: 0', 'title', 'type', 'segment'])\n",
    "df_2_group['date'] = df_2_group['date'].astype(str)\n",
    "\n",
    "#df_2_group['monthly'] = df_2_group['date']\n",
    "df_2_group['monthly'] = df_2_group['date'].str[0:7]\n",
    "\n",
    "df_2_group = df_2_group[['monthly', 'sentiment']]\n",
    "df_2_group = df_2_group.groupby('monthly', as_index = False, dropna=True).mean()\n",
    "\n",
    "df_group = df_group.rename(columns = {'sentiment' : f'{Body}_sentiment'})\n",
    "df_2_group = df_2_group.rename(columns = {'sentiment' : f'{Body_2}_sentiment'})\n",
    "\n",
    "print(df_group.head())\n",
    "print(df_2_group.head())\n",
    "\n",
    "df_merged = df_group.merge(df_2_group, on='monthly', how='inner')\n",
    "df_merged.fillna(0, inplace=True)\n",
    "print(df_merged.columns)"
   ]
  },
  {
   "cell_type": "code",
   "execution_count": null,
   "metadata": {},
   "outputs": [],
   "source": [
    "\n",
    "df_merged['net_diff'] = df_merged['ECB_sentiment'] - df_merged['Fed_sentiment']"
   ]
  },
  {
   "cell_type": "code",
   "execution_count": null,
   "metadata": {},
   "outputs": [],
   "source": [
    "funds = pd.read_excel('/Users/kylenabors/Documents/Database/Other Data/FedFundsRate.xlsx', sheet_name='Monthly')\n",
    "print(funds.head())\n",
    "energy = pd.read_csv('/Users/kylenabors/Documents/Database/Other Data/Energy Prices/US Energy CPI.csv')\n",
    "print(energy.head())"
   ]
  },
  {
   "cell_type": "code",
   "execution_count": null,
   "metadata": {},
   "outputs": [],
   "source": [
    "funds['Diff'] = funds['FEDFUNDS'].diff()\n"
   ]
  },
  {
   "cell_type": "code",
   "execution_count": null,
   "metadata": {},
   "outputs": [],
   "source": [
    "df_merged.to_csv(f\"{Sentiment_models}/{Body}_{Model}_vs_{Body_2}_{Model_2}_advanced_sentiment_texts.csv\", index=False)"
   ]
  },
  {
   "cell_type": "code",
   "execution_count": null,
   "metadata": {},
   "outputs": [],
   "source": [
    "#gwalker = pyg.walk(df_merged)"
   ]
  },
  {
   "cell_type": "code",
   "execution_count": null,
   "metadata": {},
   "outputs": [],
   "source": [
    "print(df_merged.describe())"
   ]
  },
  {
   "cell_type": "code",
   "execution_count": null,
   "metadata": {},
   "outputs": [],
   "source": [
    "\n",
    "\n",
    "# Create a list of x-axis tick positions\n",
    "num_ticks = 60  # Adjust this number as needed\n",
    "x_tick_positions = df_merged['monthly'].iloc[::len(df_merged) // num_ticks].tolist()\n",
    "\n",
    "y = 0\n",
    "fig, axs = plt.subplots(3, 1, figsize=(40, 40))\n",
    "axs[0].plot(df_merged['monthly'], df_merged[f'{Body}_sentiment'], color='blue', label='Net Sentiment')\n",
    "axs[1].plot(df_merged['monthly'], df_merged[f'{Body_2}_sentiment'], color='red', label='Net Sentiment')\n",
    "axs[0].hlines(y, df_merged['monthly'].min(), df_merged['monthly'].max(), color='black', label='Zero')\n",
    "axs[1].hlines(y, df_merged['monthly'].min(), df_merged['monthly'].max(), color='black', label='Zero')\n",
    "\n",
    "axs[2].plot(df_merged['monthly'], df_merged['net_diff'], color='green', label='Net Sentiment')\n",
    "axs[2].hlines(y, df_merged['monthly'].min(), df_merged['monthly'].max(), color='black', label='Zero')\n",
    "# Set x-axis ticks for both subplots\n",
    "axs[0].set_xticks(x_tick_positions)\n",
    "axs[1].set_xticks(x_tick_positions)\n",
    "axs[2].set_xticks(x_tick_positions)\n",
    "\n",
    "axs[0].tick_params(axis='x', rotation=45, labelsize=15)\n",
    "axs[1].tick_params(axis='x', rotation=45, labelsize=15)\n",
    "axs[2].tick_params(axis='x', rotation=45, labelsize=15)\n",
    "\n",
    "axs[0].set_yticks(np.arange(-0.8, 0.6, .1))\n",
    "axs[1].set_yticks(np.arange(-0.8, 0.6, .1))\n",
    "axs[2].set_yticks(np.arange(-0.8, 0.6, .1))\n",
    "\n",
    "axs[0].set_ylabel(f'{Body} Sentiment', fontsize=20)\n",
    "axs[1].set_ylabel(f'{Body_2} Sentiment', fontsize=20)\n",
    "axs[2].set_ylabel(f'Net Sentiment', fontsize=20)\n",
    "\n",
    "plt.show()\n"
   ]
  },
  {
   "cell_type": "code",
   "execution_count": null,
   "metadata": {},
   "outputs": [],
   "source": [
    "print(len(df_merged))\n",
    "df_merged.to_csv(f\"{Sentiment_models}/{Body}_{Model}_vs_{Body_2}_{Model_2}_advanced_sentiment_texts.csv\", index=False)\n",
    "print(f\"{Sentiment_models}/{Body}_{Model}_vs_{Body_2}_{Model_2}_advanced_sentiment_texts.csv\")"
   ]
  },
  {
   "cell_type": "code",
   "execution_count": null,
   "metadata": {},
   "outputs": [],
   "source": []
  }
 ],
 "metadata": {
  "kernelspec": {
   "display_name": "Python 3",
   "language": "python",
   "name": "python3"
  },
  "language_info": {
   "codemirror_mode": {
    "name": "ipython",
    "version": 3
   },
   "file_extension": ".py",
   "mimetype": "text/x-python",
   "name": "python",
   "nbconvert_exporter": "python",
   "pygments_lexer": "ipython3",
   "version": "3.11.4"
  },
  "orig_nbformat": 4
 },
 "nbformat": 4,
 "nbformat_minor": 2
}
