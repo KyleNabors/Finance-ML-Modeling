{
 "cells": [
  {
   "cell_type": "code",
   "execution_count": 1,
   "metadata": {},
   "outputs": [],
   "source": [
    "import os \n",
    "import sys\n",
    "import pygwalker as pyg\n",
    "import pandas as pd"
   ]
  },
  {
   "cell_type": "code",
   "execution_count": 2,
   "metadata": {},
   "outputs": [
    {
     "name": "stdout",
     "output_type": "stream",
     "text": [
      "/Users/kylenabors/Documents/GitHub/Finance-ML-Modeling\n",
      "/Users/kylenabors/Documents/GitHub/Finance-ML-Modeling\n",
      "/Users/kylenabors/Documents\n",
      "/Users/kylenabors/Documents/GitHub/Finance-ML-Modeling\n"
     ]
    }
   ],
   "source": [
    "\n",
    "#Importing Configs\n",
    "# Define the path where config.py is located\n",
    "os.chdir('/Users/kylenabors/Documents/GitHub/Finance-ML-Modeling')\n",
    "config_file_path = os.getcwd()\n",
    "print(config_file_path)\n",
    "\n",
    "# Add this path to the sys.path\n",
    "sys.path.append(config_file_path)\n",
    "\n",
    "import config\n",
    "\n",
    "#Configs\n",
    "database_file = config.database\n",
    "database_folder = config.database_folder\n",
    "bert_models = config.bert_models\n",
    "bert_models_local = config.bert_models_local\n",
    "Sentiment_models = config.Sentiment_models\n",
    "\n",
    "Body = config.Body\n",
    "Model = config.Model\n",
    "Model_Subfolder = f'/{Body} Texts/{Model}'\n",
    "#Model_Folder = config.texts\n",
    "Model_Folder = config.Sentiment_models\n",
    "Model_Folder = Model_Folder + Model_Subfolder\n",
    "Model_Folder = config.Sentiment_models\n",
    "\n",
    "Body_2 = config.Body_2\n",
    "Model_2 = config.Model_2\n",
    "Model_Subfolder_2 = f'/{Body_2} Texts/{Model_2}'\n",
    "Model_Folder_2 = config.texts\n",
    "Model_Folder_2 = Model_Folder_2 + Model_Subfolder_2"
   ]
  },
  {
   "cell_type": "code",
   "execution_count": 3,
   "metadata": {},
   "outputs": [],
   "source": [
    "df = pd.read_csv(f\"{Sentiment_models}/{Body}_{Model}_advanced_sentiment_texts.csv\")\n",
    "df_2 = pd.read_csv(f\"{Sentiment_models}/{Body_2}_{Model_2}_advanced_sentiment_texts.csv\")"
   ]
  },
  {
   "cell_type": "code",
   "execution_count": 4,
   "metadata": {},
   "outputs": [],
   "source": [
    "dummies = pd.get_dummies(df['sentiment'], dtype=float)\n",
    "df = df.join(dummies)\n",
    "dummies_2 = pd.get_dummies(df_2['sentiment'], dtype=float)\n",
    "df_2 = df_2.join(dummies)"
   ]
  },
  {
   "cell_type": "code",
   "execution_count": 5,
   "metadata": {},
   "outputs": [
    {
     "name": "stdout",
     "output_type": "stream",
     "text": [
      "   Unnamed: 0        date                                title  \\\n",
      "0           0  2023-08-31  Disinflation and the Phillips curve   \n",
      "1           1  2023-08-31  Disinflation and the Phillips curve   \n",
      "2           2  2023-08-31  Disinflation and the Phillips curve   \n",
      "3           3  2023-08-31  Disinflation and the Phillips curve   \n",
      "4           4  2023-08-31  Disinflation and the Phillips curve   \n",
      "\n",
      "              type                                            segment  \\\n",
      "0  Isabel Schnabel  speech disinflation and the phillips curve spe...   \n",
      "1  Isabel Schnabel  activity has moderated visibly , and forwardlo...   \n",
      "2  Isabel Schnabel  but important pockets of resilience remain , e...   \n",
      "3  Isabel Schnabel  headline inflation has come down , mainly on t...   \n",
      "4  Isabel Schnabel  but underlying price pressures remain stubborn...   \n",
      "\n",
      "  sentiment  confidence  neg  pos  \n",
      "0       neg         0.6  1.0  0.0  \n",
      "1       pos         1.0  0.0  1.0  \n",
      "2       pos         1.0  0.0  1.0  \n",
      "3       pos         1.0  0.0  1.0  \n",
      "4       neg         1.0  1.0  0.0  \n",
      "   Unnamed: 0        date                                      title  \\\n",
      "0           0  1998-11-12  Modernizing financial services regulation   \n",
      "1           1  1998-11-12  Modernizing financial services regulation   \n",
      "2           2  1998-11-12  Modernizing financial services regulation   \n",
      "3           3  1998-11-12  Modernizing financial services regulation   \n",
      "4           4  1998-11-12  Modernizing financial services regulation   \n",
      "\n",
      "                         type  \\\n",
      "0  Governor Laurence H. Meyer   \n",
      "1  Governor Laurence H. Meyer   \n",
      "2  Governor Laurence H. Meyer   \n",
      "3  Governor Laurence H. Meyer   \n",
      "4  Governor Laurence H. Meyer   \n",
      "\n",
      "                                             segment sentiment  confidence  \\\n",
      "0  modernizing financial services regulation it i...       pos         1.0   \n",
      "1  technology has hastened the evolution some wou...       neg         1.0   \n",
      "2  the distinction between financial products is ...       pos         1.0   \n",
      "3  in the united states , these market developmen...       pos         1.0   \n",
      "4  indeed , much of our legal framework has remai...       pos         1.0   \n",
      "\n",
      "   neg  pos  \n",
      "0  1.0  0.0  \n",
      "1  0.0  1.0  \n",
      "2  0.0  1.0  \n",
      "3  0.0  1.0  \n",
      "4  1.0  0.0  \n"
     ]
    }
   ],
   "source": [
    "print(df.head())\n",
    "print(df_2.head())"
   ]
  },
  {
   "cell_type": "code",
   "execution_count": 6,
   "metadata": {},
   "outputs": [
    {
     "name": "stdout",
     "output_type": "stream",
     "text": [
      "   Unnamed: 0        date                                      title  \\\n",
      "0           0  1998-11-12  Modernizing financial services regulation   \n",
      "1           1  1998-11-12  Modernizing financial services regulation   \n",
      "2           2  1998-11-12  Modernizing financial services regulation   \n",
      "3           3  1998-11-12  Modernizing financial services regulation   \n",
      "4           4  1998-11-12  Modernizing financial services regulation   \n",
      "\n",
      "                         type  \\\n",
      "0  Governor Laurence H. Meyer   \n",
      "1  Governor Laurence H. Meyer   \n",
      "2  Governor Laurence H. Meyer   \n",
      "3  Governor Laurence H. Meyer   \n",
      "4  Governor Laurence H. Meyer   \n",
      "\n",
      "                                             segment sentiment  confidence  \\\n",
      "0  modernizing financial services regulation it i...       pos         1.0   \n",
      "1  technology has hastened the evolution some wou...       neg         1.0   \n",
      "2  the distinction between financial products is ...       pos         1.0   \n",
      "3  in the united states , these market developmen...       pos         1.0   \n",
      "4  indeed , much of our legal framework has remai...       pos         1.0   \n",
      "\n",
      "   neg  pos  \n",
      "0  1.0  0.0  \n",
      "1  0.0  1.0  \n",
      "2  0.0  1.0  \n",
      "3  0.0  1.0  \n",
      "4  1.0  0.0  \n",
      "   monthly       pos       neg       net\n",
      "0  1998-06  0.898305  0.101695  0.100682\n",
      "1  1998-07  0.875536  0.124464  0.055145\n",
      "2  1998-09  0.880829  0.119171  0.065730\n",
      "3  1998-10  0.873181  0.126819  0.050433\n",
      "4  1998-11  0.882764  0.117236  0.069600\n",
      "   monthly       pos       neg       net\n",
      "0  1998-06  0.835991  0.164009  0.060813\n",
      "1  1998-07  0.764179  0.235821 -0.033767\n",
      "2  1998-09  0.827381  0.172619  0.034727\n",
      "3  1998-10  0.831579  0.168421  0.031277\n",
      "4  1998-11  0.855330  0.144670  0.064611\n"
     ]
    }
   ],
   "source": [
    "df_group = df.copy(deep=True)\n",
    "df_group = df_group.drop(columns=['Unnamed: 0', 'title', 'type', 'segment', 'sentiment', 'confidence'])\n",
    "df_group['monthly'] = df_group['date'].str[0:7]\n",
    "df_group = df_group[['monthly', 'pos', 'neg']]\n",
    "df_group = df_group.groupby('monthly', as_index = False).mean()\n",
    "df_group['net'] = df_group['pos'] - df_group['neg']\n",
    "df_group['net'] = df_group['net'] - df_group['net'].mean()\n",
    "print(df_2.head()) \n",
    "\n",
    "df_2_group = df_2.copy(deep=True)\n",
    "df_2_group = df_2_group.drop(columns=['Unnamed: 0', 'title', 'type', 'segment', 'sentiment', 'confidence'])\n",
    "df_2_group['date'] = df_2_group['date'].astype(str)\n",
    "df_2_group['monthly'] = df_2_group['date'].str[0:7]\n",
    "df_2_group = df_2_group[['monthly', 'pos', 'neg']]\n",
    "df_2_group = df_2_group.groupby('monthly', as_index = False).mean()\n",
    "df_2_group['net'] = df_2_group['pos'] - df_group['neg']\n",
    "df_2_group['net'] = df_2_group['net'] - df_2_group['net'].mean()\n",
    "print(df_group.head())\n",
    "print(df_2_group.head())\n",
    "\n",
    "df_merged = df_group.merge(df_2_group, on='monthly', how='inner')\n",
    "df_merged.fillna(0, inplace=True)"
   ]
  },
  {
   "cell_type": "code",
   "execution_count": 7,
   "metadata": {},
   "outputs": [
    {
     "name": "stdout",
     "output_type": "stream",
     "text": [
      "   monthly     pos_x     neg_x     net_x     pos_y     neg_y     net_y\n",
      "0  1998-06  0.898305  0.101695  0.100682  0.835991  0.164009  0.060813\n",
      "1  1998-07  0.875536  0.124464  0.055145  0.764179  0.235821 -0.033767\n",
      "2  1998-09  0.880829  0.119171  0.065730  0.827381  0.172619  0.034727\n",
      "3  1998-10  0.873181  0.126819  0.050433  0.831579  0.168421  0.031277\n",
      "4  1998-11  0.882764  0.117236  0.069600  0.855330  0.144670  0.064611\n",
      "   monthly     pos_1     neg_1     net_1     pos_2     neg_2     net_2\n",
      "0  1998-06  0.898305  0.101695  0.100682  0.835991  0.164009  0.060813\n",
      "1  1998-07  0.875536  0.124464  0.055145  0.764179  0.235821 -0.033767\n",
      "2  1998-09  0.880829  0.119171  0.065730  0.827381  0.172619  0.034727\n",
      "3  1998-10  0.873181  0.126819  0.050433  0.831579  0.168421  0.031277\n",
      "4  1998-11  0.882764  0.117236  0.069600  0.855330  0.144670  0.064611\n"
     ]
    }
   ],
   "source": [
    "print(df_merged.head())\n",
    "\n",
    "df_merged.rename(columns={'pos_x': 'pos_1', 'neg_x': 'neg_1', 'net_x': 'net_1', 'pos_y': 'pos_2', 'neg_y': 'neg_2', 'net_y': 'net_2'}, inplace=True)\n",
    "\n",
    "print(df_merged.head())"
   ]
  },
  {
   "cell_type": "code",
   "execution_count": 8,
   "metadata": {},
   "outputs": [],
   "source": [
    "df_merged['net_diff'] = df_merged['net_1'] - df_merged['net_2']"
   ]
  },
  {
   "cell_type": "code",
   "execution_count": null,
   "metadata": {},
   "outputs": [],
   "source": []
  },
  {
   "cell_type": "code",
   "execution_count": 9,
   "metadata": {},
   "outputs": [
    {
     "name": "stdout",
     "output_type": "stream",
     "text": [
      "        DATE  FEDFUNDS Date Adjusted\n",
      "0 1999-12-31      5.45    2000-01-01\n",
      "1 2000-01-31      5.73    2000-02-01\n",
      "2 2000-02-29      5.85    2000-03-01\n",
      "3 2000-03-31      6.02    2000-04-01\n",
      "4 2000-04-30      6.27    2000-05-01\n",
      "         DATE  CPIENGSL\n",
      "0  2000-01-01     115.0\n",
      "1  2000-02-01     118.8\n",
      "2  2000-03-01     124.3\n",
      "3  2000-04-01     120.9\n",
      "4  2000-05-01     120.0\n"
     ]
    }
   ],
   "source": [
    "funds = pd.read_excel('/Users/kylenabors/Documents/Database/Other Data/FedFundsRate.xlsx', sheet_name='Monthly')\n",
    "print(funds.head())\n",
    "energy = pd.read_csv('/Users/kylenabors/Documents/Database/Other Data/Energy Prices/US Energy CPI.csv')\n",
    "print(energy.head())"
   ]
  },
  {
   "cell_type": "code",
   "execution_count": 10,
   "metadata": {},
   "outputs": [],
   "source": [
    "funds['Diff'] = funds['FEDFUNDS'].diff()\n"
   ]
  },
  {
   "cell_type": "code",
   "execution_count": 11,
   "metadata": {},
   "outputs": [],
   "source": [
    "df_merged.to_csv(f\"{Sentiment_models}/{Body}_{Model}_vs_{Body_2}_{Model_2}_advanced_sentiment_texts.csv\", index=False)"
   ]
  },
  {
   "cell_type": "code",
   "execution_count": 12,
   "metadata": {},
   "outputs": [
    {
     "data": {
      "text/html": [],
      "text/plain": [
       "<IPython.core.display.HTML object>"
      ]
     },
     "metadata": {},
     "output_type": "display_data"
    },
    {
     "data": {
      "application/vnd.jupyter.widget-view+json": {
       "model_id": "588a0d04db154be490cff99ccdbf95ec",
       "version_major": 2,
       "version_minor": 0
      },
      "text/plain": [
       "Box(children=(HTML(value='<div id=\"ifr-pyg-0\" style=\"height: auto\">\\n    <head>\\n        <meta http-equiv=\"Con…"
      ]
     },
     "metadata": {},
     "output_type": "display_data"
    },
    {
     "data": {
      "text/html": [
       "<html>\n",
       "<style>\n",
       ".tabs{\n",
       "    position:relative;\n",
       "    height:660px;\n",
       "}\n",
       ".tab-pane{\n",
       "    display:inline-block;\n",
       "}\n",
       ".tabs input[type='radio']{\n",
       "    position:absolute;\n",
       "    clip:rect(0,0,0,0)\n",
       "}\n",
       ".tab-item{\n",
       "    display:block;\n",
       "    height:34px;\n",
       "    line-height:34px;\n",
       "    cursor:pointer;\n",
       "    padding:0 10px\n",
       "}\n",
       "\n",
       ".tabs input[type='radio']:checked+.tab-item{\n",
       "    background:#2563eb;\n",
       "    color:#fff\n",
       "}\n",
       "\n",
       ".tab-content{\n",
       "    display: none;\n",
       "    position:absolute;\n",
       "    left:0;\n",
       "    top:56px;\n",
       "    bottom:0;\n",
       "    right:0;\n",
       "}\n",
       "\n",
       ".tabs input[type='radio']:checked+.tab-item+.tab-content{\n",
       "    display: block;\n",
       "}\n",
       "</style>\n",
       "\n",
       "<body>\n",
       "    <div id=\"pygwalker-preview-0\">\n",
       "        <div class=\"tabs\">\n",
       "            \n",
       "        </div>\n",
       "    </div>\n",
       "</body>\n",
       "</html>"
      ],
      "text/plain": [
       "<IPython.core.display.HTML object>"
      ]
     },
     "metadata": {},
     "output_type": "display_data"
    }
   ],
   "source": [
    "gwalker = pyg.walk(df_merged)"
   ]
  },
  {
   "cell_type": "code",
   "execution_count": 13,
   "metadata": {},
   "outputs": [
    {
     "name": "stdout",
     "output_type": "stream",
     "text": [
      "            pos_1       neg_1       net_1       pos_2       neg_2       net_2  \\\n",
      "count  284.000000  284.000000  284.000000  284.000000  284.000000  284.000000   \n",
      "mean     0.848709    0.151291    0.001490    0.824941    0.175059    0.000100   \n",
      "std      0.038886    0.038886    0.077773    0.044460    0.044460    0.061164   \n",
      "min      0.666667    0.021277   -0.362595    0.500000    0.086957   -0.345080   \n",
      "25%      0.827111    0.125974   -0.041707    0.806817    0.147436   -0.032462   \n",
      "50%      0.849662    0.150338    0.003396    0.831579    0.168421    0.008737   \n",
      "75%      0.874026    0.172889    0.052124    0.852564    0.193183    0.042945   \n",
      "max      0.978723    0.333333    0.261518    0.913043    0.500000    0.120931   \n",
      "\n",
      "         net_diff  \n",
      "count  284.000000  \n",
      "mean     0.001389  \n",
      "std      0.080171  \n",
      "min     -0.430771  \n",
      "25%     -0.036781  \n",
      "50%      0.000099  \n",
      "75%      0.051941  \n",
      "max      0.345726  \n"
     ]
    }
   ],
   "source": [
    "print(df_merged.describe())"
   ]
  },
  {
   "cell_type": "code",
   "execution_count": null,
   "metadata": {},
   "outputs": [],
   "source": []
  }
 ],
 "metadata": {
  "kernelspec": {
   "display_name": "Python 3",
   "language": "python",
   "name": "python3"
  },
  "language_info": {
   "codemirror_mode": {
    "name": "ipython",
    "version": 3
   },
   "file_extension": ".py",
   "mimetype": "text/x-python",
   "name": "python",
   "nbconvert_exporter": "python",
   "pygments_lexer": "ipython3",
   "version": "3.11.4"
  },
  "orig_nbformat": 4
 },
 "nbformat": 4,
 "nbformat_minor": 2
}
