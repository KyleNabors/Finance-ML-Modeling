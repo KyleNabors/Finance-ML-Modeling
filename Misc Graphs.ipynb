{
 "cells": [
  {
   "cell_type": "code",
   "execution_count": 360,
   "metadata": {},
   "outputs": [],
   "source": [
    "import os \n",
    "import sys\n",
    "import pygwalker as pyg\n",
    "import pandas as pd"
   ]
  },
  {
   "cell_type": "code",
   "execution_count": 361,
   "metadata": {},
   "outputs": [
    {
     "name": "stdout",
     "output_type": "stream",
     "text": [
      "/Users/kylenabors/Documents/GitHub/Finance-ML-Modeling\n"
     ]
    }
   ],
   "source": [
    "\n",
    "#Importing Configs\n",
    "# Define the path where config.py is located\n",
    "os.chdir('/Users/kylenabors/Documents/GitHub/Finance-ML-Modeling')\n",
    "config_file_path = os.getcwd()\n",
    "print(config_file_path)\n",
    "\n",
    "# Add this path to the sys.path\n",
    "sys.path.append(config_file_path)\n",
    "\n",
    "import config\n",
    "\n",
    "#Configs\n",
    "database_file = config.database\n",
    "database_folder = config.database_folder\n",
    "bert_models = config.bert_models\n",
    "bert_models_local = config.bert_models_local\n",
    "Sentiment_models = config.Sentiment_models\n",
    "\n",
    "Body = config.Body\n",
    "Model = config.Model\n",
    "Model_Subfolder = f'/{Body} Texts/{Model}'\n",
    "#Model_Folder = config.texts\n",
    "Model_Folder = config.Sentiment_models\n",
    "Model_Folder = Model_Folder + Model_Subfolder\n",
    "Model_Folder = config.Sentiment_models\n",
    "\n",
    "Body_2 = config.Body_2\n",
    "Model_2 = config.Model_2\n",
    "Model_Subfolder_2 = f'/{Body_2} Texts/{Model_2}'\n",
    "Model_Folder_2 = config.texts\n",
    "Model_Folder_2 = Model_Folder_2 + Model_Subfolder_2"
   ]
  },
  {
   "cell_type": "code",
   "execution_count": 362,
   "metadata": {},
   "outputs": [],
   "source": [
    "df = pd.read_csv(f\"{Sentiment_models}/{Body}_{Model}_advanced_sentiment_texts.csv\")\n",
    "df_2 = pd.read_csv(f\"{Sentiment_models}/{Body_2}_{Model_2}_advanced_sentiment_texts.csv\")"
   ]
  },
  {
   "cell_type": "code",
   "execution_count": 363,
   "metadata": {},
   "outputs": [],
   "source": [
    "dummies = pd.get_dummies(df['sentiment'], dtype=float)\n",
    "df = df.join(dummies)\n",
    "dummies_2 = pd.get_dummies(df_2['sentiment'], dtype=float)\n",
    "df_2 = df_2.join(dummies)"
   ]
  },
  {
   "cell_type": "code",
   "execution_count": 364,
   "metadata": {},
   "outputs": [
    {
     "name": "stdout",
     "output_type": "stream",
     "text": [
      "   Unnamed: 0        date                                title  \\\n",
      "0           0  2023-08-31  Disinflation and the Phillips curve   \n",
      "1           1  2023-08-31  Disinflation and the Phillips curve   \n",
      "2           2  2023-08-31  Disinflation and the Phillips curve   \n",
      "3           3  2023-08-31  Disinflation and the Phillips curve   \n",
      "4           4  2023-08-31  Disinflation and the Phillips curve   \n",
      "\n",
      "              type                                            segment  \\\n",
      "0  Isabel Schnabel  speech disinflation and the phillips curve spe...   \n",
      "1  Isabel Schnabel  activity has moderated visibly , and forwardlo...   \n",
      "2  Isabel Schnabel  but important pockets of resilience remain , e...   \n",
      "3  Isabel Schnabel  headline inflation has come down , mainly on t...   \n",
      "4  Isabel Schnabel  but underlying price pressures remain stubborn...   \n",
      "\n",
      "  sentiment  confidence  neg  pos  \n",
      "0       neg         0.6  1.0  0.0  \n",
      "1       pos         1.0  0.0  1.0  \n",
      "2       pos         1.0  0.0  1.0  \n",
      "3       pos         1.0  0.0  1.0  \n",
      "4       neg         1.0  1.0  0.0  \n",
      "   Unnamed: 0        date                            title  \\\n",
      "0           0  19961219.0  Supervision of bank risk-taking   \n",
      "1           1  19961219.0  Supervision of bank risk-taking   \n",
      "2           2  19961219.0  Supervision of bank risk-taking   \n",
      "3           3  19961219.0  Supervision of bank risk-taking   \n",
      "4           4  19961219.0  Supervision of bank risk-taking   \n",
      "\n",
      "                         type  \\\n",
      "0  Vice Chair Alice M. Rivlin   \n",
      "1  Vice Chair Alice M. Rivlin   \n",
      "2  Vice Chair Alice M. Rivlin   \n",
      "3  Vice Chair Alice M. Rivlin   \n",
      "4  Vice Chair Alice M. Rivlin   \n",
      "\n",
      "                                             segment sentiment  confidence  \\\n",
      "0  i discovered when i joined the board of govern...       pos         0.8   \n",
      "1  many of them said , enthusiastically , congrat...       pos         1.0   \n",
      "2  then they asked with a bit of embarrassment , ...       pos         1.0   \n",
      "3     or what will you find to do between meetings ?       pos         1.0   \n",
      "4  the meetings they were aware of , of course , ...       pos         1.0   \n",
      "\n",
      "   neg  pos  \n",
      "0  1.0  0.0  \n",
      "1  0.0  1.0  \n",
      "2  0.0  1.0  \n",
      "3  0.0  1.0  \n",
      "4  1.0  0.0  \n"
     ]
    }
   ],
   "source": [
    "print(df.head())\n",
    "print(df_2.head())"
   ]
  },
  {
   "cell_type": "code",
   "execution_count": 365,
   "metadata": {},
   "outputs": [
    {
     "name": "stdout",
     "output_type": "stream",
     "text": [
      "   Unnamed: 0        date                            title  \\\n",
      "0           0  19961219.0  Supervision of bank risk-taking   \n",
      "1           1  19961219.0  Supervision of bank risk-taking   \n",
      "2           2  19961219.0  Supervision of bank risk-taking   \n",
      "3           3  19961219.0  Supervision of bank risk-taking   \n",
      "4           4  19961219.0  Supervision of bank risk-taking   \n",
      "\n",
      "                         type  \\\n",
      "0  Vice Chair Alice M. Rivlin   \n",
      "1  Vice Chair Alice M. Rivlin   \n",
      "2  Vice Chair Alice M. Rivlin   \n",
      "3  Vice Chair Alice M. Rivlin   \n",
      "4  Vice Chair Alice M. Rivlin   \n",
      "\n",
      "                                             segment sentiment  confidence  \\\n",
      "0  i discovered when i joined the board of govern...       pos         0.8   \n",
      "1  many of them said , enthusiastically , congrat...       pos         1.0   \n",
      "2  then they asked with a bit of embarrassment , ...       pos         1.0   \n",
      "3     or what will you find to do between meetings ?       pos         1.0   \n",
      "4  the meetings they were aware of , of course , ...       pos         1.0   \n",
      "\n",
      "   neg  pos  \n",
      "0  1.0  0.0  \n",
      "1  0.0  1.0  \n",
      "2  0.0  1.0  \n",
      "3  0.0  1.0  \n",
      "4  1.0  0.0  \n",
      "   monthly       pos       neg       net\n",
      "0  1997-02  0.791667  0.208333  0.583333\n",
      "1  1997-03  0.816794  0.183206  0.633588\n",
      "2  1997-04  0.905405  0.094595  0.810811\n",
      "3  1997-05  0.835165  0.164835  0.670330\n",
      "4  1997-06  0.867816  0.132184  0.735632\n",
      "   monthly       pos       neg       net\n",
      "0  1996061  0.680751  0.319249  0.472418\n",
      "1  1996090  0.843137  0.156863  0.659931\n",
      "2  1996091  0.811765  0.188235  0.717170\n",
      "3  1996100  0.822281  0.177719  0.657446\n",
      "4  1996101  0.833333  0.166667  0.701149\n"
     ]
    }
   ],
   "source": [
    "df_group = df.copy(deep=True)\n",
    "df_group = df_group.drop(columns=['Unnamed: 0', 'title', 'type', 'segment', 'sentiment', 'confidence'])\n",
    "df_group['monthly'] = df_group['date'].str[0:7]\n",
    "df_group = df_group[['monthly', 'pos', 'neg']]\n",
    "df_group = df_group.groupby('monthly', as_index = False).mean()\n",
    "df_group['net'] = df_group['pos'] - df_group['neg']\n",
    "\n",
    "print(df_2.head())\n",
    "\n",
    "df_2_group = df_2.copy(deep=True)\n",
    "df_2_group = df_2_group.drop(columns=['Unnamed: 0', 'title', 'type', 'segment', 'sentiment', 'confidence'])\n",
    "df_2_group['date'] = df_2_group['date'].astype(str)\n",
    "df_2_group['monthly'] = df_2_group['date'].str[0:7]\n",
    "df_2_group = df_2_group[['monthly', 'pos', 'neg']]\n",
    "df_2_group = df_2_group.groupby('monthly', as_index = False).mean()\n",
    "df_2_group['net'] = df_2_group['pos'] - df_group['neg']\n",
    "\n",
    "print(df_group.head())\n",
    "print(df_2_group.head())\n",
    "\n",
    "df_merged = df_group.merge(df_2_group, on='monthly', how='inner')\n",
    "df_merged.fillna(0, inplace=True)"
   ]
  },
  {
   "cell_type": "code",
   "execution_count": 366,
   "metadata": {},
   "outputs": [
    {
     "name": "stdout",
     "output_type": "stream",
     "text": [
      "Empty DataFrame\n",
      "Columns: [monthly, pos_x, neg_x, net_x, pos_y, neg_y, net_y]\n",
      "Index: []\n",
      "Empty DataFrame\n",
      "Columns: [monthly, pos_1, neg_1, net_1, pos_2, neg_2, net_2]\n",
      "Index: []\n"
     ]
    }
   ],
   "source": [
    "print(df_merged.head())\n",
    "\n",
    "df_merged.rename(columns={'pos_x': 'pos_1', 'neg_x': 'neg_1', 'net_x': 'net_1', 'pos_y': 'pos_2', 'neg_y': 'neg_2', 'net_y': 'net_2'}, inplace=True)\n",
    "\n",
    "print(df_merged.head())"
   ]
  },
  {
   "cell_type": "code",
   "execution_count": 367,
   "metadata": {},
   "outputs": [],
   "source": [
    "df_merged['net_diff'] = df_merged['net_1'] - df_merged['net_2']"
   ]
  },
  {
   "cell_type": "code",
   "execution_count": null,
   "metadata": {},
   "outputs": [],
   "source": []
  },
  {
   "cell_type": "code",
   "execution_count": 368,
   "metadata": {},
   "outputs": [
    {
     "name": "stdout",
     "output_type": "stream",
     "text": [
      "        DATE  FEDFUNDS Date Adjusted\n",
      "0 1999-12-31      5.45    2000-01-01\n",
      "1 2000-01-31      5.73    2000-02-01\n",
      "2 2000-02-29      5.85    2000-03-01\n",
      "3 2000-03-31      6.02    2000-04-01\n",
      "4 2000-04-30      6.27    2000-05-01\n",
      "         DATE  CPIENGSL\n",
      "0  2000-01-01     115.0\n",
      "1  2000-02-01     118.8\n",
      "2  2000-03-01     124.3\n",
      "3  2000-04-01     120.9\n",
      "4  2000-05-01     120.0\n"
     ]
    }
   ],
   "source": [
    "funds = pd.read_excel('/Users/kylenabors/Documents/Database/Other Data/FedFundsRate.xlsx', sheet_name='Monthly')\n",
    "print(funds.head())\n",
    "energy = pd.read_csv('/Users/kylenabors/Documents/Database/Other Data/Energy Prices/US Energy CPI.csv')\n",
    "print(energy.head())"
   ]
  },
  {
   "cell_type": "code",
   "execution_count": 369,
   "metadata": {},
   "outputs": [],
   "source": [
    "funds['Diff'] = funds['FEDFUNDS'].diff()\n"
   ]
  },
  {
   "cell_type": "code",
   "execution_count": 370,
   "metadata": {},
   "outputs": [],
   "source": [
    "df_merged.to_csv(f\"{Sentiment_models}/{Body}_{Model}_vs_{Body_2}_{Model_2}_advanced_sentiment_texts.csv\", index=False)"
   ]
  },
  {
   "cell_type": "code",
   "execution_count": 371,
   "metadata": {},
   "outputs": [
    {
     "data": {
      "text/html": [
       "\n",
       "<div style=\"\">\n",
       "If you are using pygwalker on Jupyter Notebook(version<7) and it can't display properly, please execute code to fix it: `pip install \"pygwalker[notebook]\" --pre`.(close after 15 seconds)\n",
       "<div>\n"
      ],
      "text/plain": [
       "<IPython.core.display.HTML object>"
      ]
     },
     "metadata": {},
     "output_type": "display_data"
    },
    {
     "data": {
      "application/vnd.jupyter.widget-view+json": {
       "model_id": "5eee652ed0ef454da25d95782fe4fa60",
       "version_major": 2,
       "version_minor": 0
      },
      "text/plain": [
       "Box(children=(HTML(value='<div id=\"ifr-pyg-22\" style=\"height: auto\">\\n    <head>\\n        <meta http-equiv=\"Co…"
      ]
     },
     "metadata": {},
     "output_type": "display_data"
    },
    {
     "data": {
      "text/html": [
       "<html>\n",
       "<style>\n",
       ".tabs{\n",
       "    position:relative;\n",
       "    height:660px;\n",
       "}\n",
       ".tab-pane{\n",
       "    display:inline-block;\n",
       "}\n",
       ".tabs input[type='radio']{\n",
       "    position:absolute;\n",
       "    clip:rect(0,0,0,0)\n",
       "}\n",
       ".tab-item{\n",
       "    display:block;\n",
       "    height:34px;\n",
       "    line-height:34px;\n",
       "    cursor:pointer;\n",
       "    padding:0 10px\n",
       "}\n",
       "\n",
       ".tabs input[type='radio']:checked+.tab-item{\n",
       "    background:#2563eb;\n",
       "    color:#fff\n",
       "}\n",
       "\n",
       ".tab-content{\n",
       "    display: none;\n",
       "    position:absolute;\n",
       "    left:0;\n",
       "    top:56px;\n",
       "    bottom:0;\n",
       "    right:0;\n",
       "}\n",
       "\n",
       ".tabs input[type='radio']:checked+.tab-item+.tab-content{\n",
       "    display: block;\n",
       "}\n",
       "</style>\n",
       "\n",
       "<body>\n",
       "    <div id=\"pygwalker-preview-22\">\n",
       "        <div class=\"tabs\">\n",
       "            \n",
       "        </div>\n",
       "    </div>\n",
       "</body>\n",
       "</html>"
      ],
      "text/plain": [
       "<IPython.core.display.HTML object>"
      ]
     },
     "metadata": {},
     "output_type": "display_data"
    }
   ],
   "source": [
    "gwalker = pyg.walk(df_merged)"
   ]
  }
 ],
 "metadata": {
  "kernelspec": {
   "display_name": "Python 3",
   "language": "python",
   "name": "python3"
  },
  "language_info": {
   "codemirror_mode": {
    "name": "ipython",
    "version": 3
   },
   "file_extension": ".py",
   "mimetype": "text/x-python",
   "name": "python",
   "nbconvert_exporter": "python",
   "pygments_lexer": "ipython3",
   "version": "3.11.4"
  },
  "orig_nbformat": 4
 },
 "nbformat": 4,
 "nbformat_minor": 2
}
