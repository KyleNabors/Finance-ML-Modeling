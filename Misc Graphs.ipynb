{
 "cells": [
  {
   "cell_type": "code",
   "execution_count": 4,
   "metadata": {},
   "outputs": [],
   "source": [
    "import os \n",
    "import sys\n",
    "import pygwalker as pyg\n",
    "import pandas as pd"
   ]
  },
  {
   "cell_type": "code",
   "execution_count": 5,
   "metadata": {},
   "outputs": [
    {
     "name": "stdout",
     "output_type": "stream",
     "text": [
      "/Users/kylenabors/Documents/GitHub/Finance-ML-Modeling\n"
     ]
    }
   ],
   "source": [
    "\n",
    "#Importing Configs\n",
    "# Define the path where config.py is located\n",
    "os.chdir('/Users/kylenabors/Documents/GitHub/Finance-ML-Modeling')\n",
    "config_file_path = os.getcwd()\n",
    "print(config_file_path)\n",
    "\n",
    "# Add this path to the sys.path\n",
    "sys.path.append(config_file_path)\n",
    "\n",
    "import config\n",
    "\n",
    "#Configs\n",
    "database_file = config.database\n",
    "database_folder = config.database_folder\n",
    "bert_models = config.bert_models\n",
    "bert_models_local = config.bert_models_local\n",
    "\n",
    "Body = config.Body\n",
    "Model = config.Model\n",
    "Model_Subfolder = f'/{Body} Texts/{Model}'\n",
    "#Model_Folder = config.texts\n",
    "Model_Folder = config.Sentiment_models\n",
    "Model_Folder = Model_Folder + Model_Subfolder\n",
    "Model_Folder = config.Sentiment_models"
   ]
  },
  {
   "cell_type": "code",
   "execution_count": 6,
   "metadata": {},
   "outputs": [
    {
     "name": "stdout",
     "output_type": "stream",
     "text": [
      "   Unnamed: 0        date             type  \\\n",
      "0           0  2023-08-31  Isabel Schnabel   \n",
      "1           1  2023-08-31  Isabel Schnabel   \n",
      "2           2  2023-08-31  Isabel Schnabel   \n",
      "3           3  2023-08-31  Isabel Schnabel   \n",
      "4           4  2023-08-31  Isabel Schnabel   \n",
      "\n",
      "                                             segment sentiment  confidence  \n",
      "0  speech disinflation and the phillips curve spe...       pos         0.8  \n",
      "1  activity has moderated visibly , and forwardlo...       neg         1.0  \n",
      "2  but important pockets of resilience remain , e...       pos         1.0  \n",
      "3  headline inflation has come down , mainly on t...       pos         0.8  \n",
      "4  but underlying price pressures remain stubborn...       neg         1.0  \n"
     ]
    }
   ],
   "source": [
    "df = pd.read_csv(f\"{Model_Folder}/{Model}_advanced_sentiment_texts_vader.csv\") \n",
    "df.fillna(0, inplace=True)\n",
    "print(df.head())"
   ]
  },
  {
   "cell_type": "code",
   "execution_count": 7,
   "metadata": {},
   "outputs": [],
   "source": [
    "dummies = pd.get_dummies(df['sentiment'], dtype=float)\n",
    "df = df.join(dummies)"
   ]
  },
  {
   "cell_type": "code",
   "execution_count": 8,
   "metadata": {},
   "outputs": [
    {
     "name": "stdout",
     "output_type": "stream",
     "text": [
      "   Unnamed: 0        date             type  \\\n",
      "0           0  2023-08-31  Isabel Schnabel   \n",
      "1           1  2023-08-31  Isabel Schnabel   \n",
      "2           2  2023-08-31  Isabel Schnabel   \n",
      "3           3  2023-08-31  Isabel Schnabel   \n",
      "4           4  2023-08-31  Isabel Schnabel   \n",
      "\n",
      "                                             segment sentiment  confidence  \\\n",
      "0  speech disinflation and the phillips curve spe...       pos         0.8   \n",
      "1  activity has moderated visibly , and forwardlo...       neg         1.0   \n",
      "2  but important pockets of resilience remain , e...       pos         1.0   \n",
      "3  headline inflation has come down , mainly on t...       pos         0.8   \n",
      "4  but underlying price pressures remain stubborn...       neg         1.0   \n",
      "\n",
      "   neg  pos  \n",
      "0  0.0  1.0  \n",
      "1  1.0  0.0  \n",
      "2  0.0  1.0  \n",
      "3  0.0  1.0  \n",
      "4  1.0  0.0  \n"
     ]
    }
   ],
   "source": [
    "print(df.head())"
   ]
  },
  {
   "cell_type": "code",
   "execution_count": 9,
   "metadata": {},
   "outputs": [],
   "source": [
    "df['ym'] = df['date'].apply(lambda x: x[:7])\n",
    "\n",
    "\n",
    "#df2 = df.groupby('ym', as_index = False).sum()\n",
    "\n",
    "#df.drop(columns=['Unnamed: 0', 'date', 'type', 'segment'], inplace=True)\n",
    "#df2 = df.groupby('ym', as_index = False).mean()\n",
    "\n",
    "df.drop(columns=['Unnamed: 0', 'ym', 'type', 'segment', 'sentiment'], inplace=True)\n",
    "df2 = df.groupby('date', as_index = False).mean()\n",
    "df2['net'] = df2['pos'] - df2['neg']"
   ]
  },
  {
   "cell_type": "code",
   "execution_count": 10,
   "metadata": {},
   "outputs": [
    {
     "name": "stdout",
     "output_type": "stream",
     "text": [
      "        DATE  FEDFUNDS Date Adjusted\n",
      "0 1999-12-31      5.45    2000-01-01\n",
      "1 2000-01-31      5.73    2000-02-01\n",
      "2 2000-02-29      5.85    2000-03-01\n",
      "3 2000-03-31      6.02    2000-04-01\n",
      "4 2000-04-30      6.27    2000-05-01\n",
      "         DATE  CPIENGSL\n",
      "0  2000-01-01     115.0\n",
      "1  2000-02-01     118.8\n",
      "2  2000-03-01     124.3\n",
      "3  2000-04-01     120.9\n",
      "4  2000-05-01     120.0\n"
     ]
    }
   ],
   "source": [
    "funds = pd.read_excel('/Users/kylenabors/Documents/Database/Other Data/FedFundsRate.xlsx', sheet_name='Monthly')\n",
    "print(funds.head())\n",
    "energy = pd.read_csv('/Users/kylenabors/Documents/Database/Other Data/Energy Prices/US Energy CPI.csv')\n",
    "print(energy.head())"
   ]
  },
  {
   "cell_type": "code",
   "execution_count": 11,
   "metadata": {},
   "outputs": [
    {
     "name": "stdout",
     "output_type": "stream",
     "text": [
      "         date  confidence       neg       pos       net\n",
      "0  2007-01-15    0.913879  0.338078  0.661922  0.323843\n",
      "1  2007-01-16    0.988930  1.000000  0.000000 -1.000000\n",
      "2  2007-01-18    0.890076  0.408397  0.591603  0.183206\n",
      "3  2007-01-19    0.897222  0.256944  0.743056  0.486111\n",
      "4  2007-01-25    0.892827  0.464135  0.535865  0.071730\n"
     ]
    }
   ],
   "source": [
    "print(df2.head())"
   ]
  },
  {
   "cell_type": "code",
   "execution_count": 12,
   "metadata": {},
   "outputs": [
    {
     "data": {
      "text/html": [],
      "text/plain": [
       "<IPython.core.display.HTML object>"
      ]
     },
     "metadata": {},
     "output_type": "display_data"
    },
    {
     "data": {
      "application/vnd.jupyter.widget-view+json": {
       "model_id": "528d90a428e0432c9370e43b784ff7cb",
       "version_major": 2,
       "version_minor": 0
      },
      "text/plain": [
       "Box(children=(HTML(value='<div id=\"ifr-pyg-0\" style=\"height: auto\">\\n    <head>\\n        <meta http-equiv=\"Con…"
      ]
     },
     "metadata": {},
     "output_type": "display_data"
    },
    {
     "data": {
      "text/html": [
       "<html>\n",
       "<style>\n",
       ".tabs{\n",
       "    position:relative;\n",
       "    height:660px;\n",
       "}\n",
       ".tab-pane{\n",
       "    display:inline-block;\n",
       "}\n",
       ".tabs input[type='radio']{\n",
       "    position:absolute;\n",
       "    clip:rect(0,0,0,0)\n",
       "}\n",
       ".tab-item{\n",
       "    display:block;\n",
       "    height:34px;\n",
       "    line-height:34px;\n",
       "    cursor:pointer;\n",
       "    padding:0 10px\n",
       "}\n",
       "\n",
       ".tabs input[type='radio']:checked+.tab-item{\n",
       "    background:#2563eb;\n",
       "    color:#fff\n",
       "}\n",
       "\n",
       ".tab-content{\n",
       "    display: none;\n",
       "    position:absolute;\n",
       "    left:0;\n",
       "    top:56px;\n",
       "    bottom:0;\n",
       "    right:0;\n",
       "}\n",
       "\n",
       ".tabs input[type='radio']:checked+.tab-item+.tab-content{\n",
       "    display: block;\n",
       "}\n",
       "</style>\n",
       "\n",
       "<body>\n",
       "    <div id=\"pygwalker-preview-0\">\n",
       "        <div class=\"tabs\">\n",
       "            \n",
       "        </div>\n",
       "    </div>\n",
       "</body>\n",
       "</html>"
      ],
      "text/plain": [
       "<IPython.core.display.HTML object>"
      ]
     },
     "metadata": {},
     "output_type": "display_data"
    }
   ],
   "source": [
    "gwalker = pyg.walk(df2)"
   ]
  },
  {
   "cell_type": "code",
   "execution_count": null,
   "metadata": {},
   "outputs": [],
   "source": []
  }
 ],
 "metadata": {
  "kernelspec": {
   "display_name": "Python 3",
   "language": "python",
   "name": "python3"
  },
  "language_info": {
   "codemirror_mode": {
    "name": "ipython",
    "version": 3
   },
   "file_extension": ".py",
   "mimetype": "text/x-python",
   "name": "python",
   "nbconvert_exporter": "python",
   "pygments_lexer": "ipython3",
   "version": "3.11.4"
  },
  "orig_nbformat": 4
 },
 "nbformat": 4,
 "nbformat_minor": 2
}
