{
 "cells": [
  {
   "cell_type": "code",
   "execution_count": 1,
   "metadata": {},
   "outputs": [],
   "source": [
    "import os \n",
    "import sys\n",
    "import pygwalker as pyg\n",
    "import pandas as pd"
   ]
  },
  {
   "cell_type": "code",
   "execution_count": 2,
   "metadata": {},
   "outputs": [
    {
     "name": "stdout",
     "output_type": "stream",
     "text": [
      "/Users/kylenabors/Documents/GitHub/Finance-ML-Modeling\n",
      "/Users/kylenabors/Documents/GitHub/Finance-ML-Modeling\n",
      "/Users/kylenabors/Documents\n",
      "/Users/kylenabors/Documents/GitHub/Finance-ML-Modeling\n"
     ]
    }
   ],
   "source": [
    "\n",
    "#Importing Configs\n",
    "# Define the path where config.py is located\n",
    "os.chdir('/Users/kylenabors/Documents/GitHub/Finance-ML-Modeling')\n",
    "config_file_path = os.getcwd()\n",
    "print(config_file_path)\n",
    "\n",
    "# Add this path to the sys.path\n",
    "sys.path.append(config_file_path)\n",
    "\n",
    "import config\n",
    "\n",
    "#Configs\n",
    "database_file = config.database\n",
    "database_folder = config.database_folder\n",
    "bert_models = config.bert_models\n",
    "bert_models_local = config.bert_models_local\n",
    "Sentiment_models = config.Sentiment_models\n",
    "\n",
    "Body = config.Body\n",
    "Model = config.Model\n",
    "Model_Subfolder = f'/{Body} Texts/{Model}'\n",
    "#Model_Folder = config.texts\n",
    "Model_Folder = config.Sentiment_models\n",
    "Model_Folder = Model_Folder + Model_Subfolder\n",
    "Model_Folder = config.Sentiment_models\n",
    "\n",
    "Body_2 = config.Body_2\n",
    "Model_2 = config.Model_2\n",
    "Model_Subfolder_2 = f'/{Body_2} Texts/{Model_2}'\n",
    "Model_Folder_2 = config.texts\n",
    "Model_Folder_2 = Model_Folder_2 + Model_Subfolder_2"
   ]
  },
  {
   "cell_type": "code",
   "execution_count": 3,
   "metadata": {},
   "outputs": [],
   "source": [
    "df = pd.read_csv(f\"{Sentiment_models}/{Body}_{Model}_advanced_sentiment_texts.csv\")\n",
    "df_2 = pd.read_csv(f\"{Sentiment_models}/{Body_2}_{Model_2}_advanced_sentiment_texts.csv\")"
   ]
  },
  {
   "cell_type": "code",
   "execution_count": 4,
   "metadata": {},
   "outputs": [],
   "source": [
    "dummies = pd.get_dummies(df['sentiment'], dtype=float)\n",
    "df = df.join(dummies)\n",
    "dummies_2 = pd.get_dummies(df_2['sentiment'], dtype=float)\n",
    "df_2 = df_2.join(dummies)"
   ]
  },
  {
   "cell_type": "code",
   "execution_count": 5,
   "metadata": {},
   "outputs": [
    {
     "name": "stdout",
     "output_type": "stream",
     "text": [
      "   Unnamed: 0        date                                title  \\\n",
      "0           0  2023-08-31  Disinflation and the Phillips curve   \n",
      "1           1  2023-08-31  Disinflation and the Phillips curve   \n",
      "2           2  2023-08-31  Disinflation and the Phillips curve   \n",
      "3           3  2023-08-31  Disinflation and the Phillips curve   \n",
      "4           4  2023-08-31  Disinflation and the Phillips curve   \n",
      "\n",
      "              type                                            segment  \\\n",
      "0  Isabel Schnabel  speech disinflation and the phillips curve spe...   \n",
      "1  Isabel Schnabel  activity has moderated visibly , and forwardlo...   \n",
      "2  Isabel Schnabel  but important pockets of resilience remain , e...   \n",
      "3  Isabel Schnabel  headline inflation has come down , mainly on t...   \n",
      "4  Isabel Schnabel  but underlying price pressures remain stubborn...   \n",
      "\n",
      "  sentiment  confidence  neg  pos  \n",
      "0       pos         0.8  0.0  1.0  \n",
      "1       neg         0.6  1.0  0.0  \n",
      "2       pos         1.0  0.0  1.0  \n",
      "3       pos         1.0  0.0  1.0  \n",
      "4       neg         1.0  1.0  0.0  \n",
      "   Unnamed: 0        date                       title  \\\n",
      "0           0  2002-12-19  Issues for monetary policy   \n",
      "1           1  2002-12-19  Issues for monetary policy   \n",
      "2           2  2002-12-19  Issues for monetary policy   \n",
      "3           3  2002-12-19  Issues for monetary policy   \n",
      "4           4  2002-12-19  Issues for monetary policy   \n",
      "\n",
      "                      type                                            segment  \\\n",
      "0  Chairman Alan Greenspan  although the gold standard could hardly be por...   \n",
      "1  Chairman Alan Greenspan  and , in the four decades after that , prices ...   \n",
      "2  Chairman Alan Greenspan  monetary policy , unleashed from the constrain...   \n",
      "3  Chairman Alan Greenspan  as recently as a decade ago , central bankers ...   \n",
      "4  Chairman Alan Greenspan  but the adverse consequences of excessive mone...   \n",
      "\n",
      "  sentiment  confidence  neg  pos  \n",
      "0       pos         1.0  0.0  1.0  \n",
      "1       pos         0.8  1.0  0.0  \n",
      "2       pos         1.0  0.0  1.0  \n",
      "3       neg         0.8  0.0  1.0  \n",
      "4       neg         1.0  1.0  0.0  \n"
     ]
    }
   ],
   "source": [
    "print(df.head())\n",
    "print(df_2.head())"
   ]
  },
  {
   "cell_type": "code",
   "execution_count": 6,
   "metadata": {},
   "outputs": [
    {
     "name": "stderr",
     "output_type": "stream",
     "text": [
      "/var/folders/9h/v8gnzwrs73v52x4lyzz2z2zc0000gn/T/ipykernel_78181/1400928521.py:2: SettingWithCopyWarning: \n",
      "A value is trying to be set on a copy of a slice from a DataFrame.\n",
      "Try using .loc[row_indexer,col_indexer] = value instead\n",
      "\n",
      "See the caveats in the documentation: https://pandas.pydata.org/pandas-docs/stable/user_guide/indexing.html#returning-a-view-versus-a-copy\n",
      "  df_group['monthly'] = df_group['date'].str[0:7]\n",
      "/var/folders/9h/v8gnzwrs73v52x4lyzz2z2zc0000gn/T/ipykernel_78181/1400928521.py:8: SettingWithCopyWarning: \n",
      "A value is trying to be set on a copy of a slice from a DataFrame.\n",
      "Try using .loc[row_indexer,col_indexer] = value instead\n",
      "\n",
      "See the caveats in the documentation: https://pandas.pydata.org/pandas-docs/stable/user_guide/indexing.html#returning-a-view-versus-a-copy\n",
      "  df_2_group['monthly'] = df_2_group['date'].str[0:7]\n"
     ]
    }
   ],
   "source": [
    "\n",
    "df_group = df[['date', 'pos', 'neg']]\n",
    "df_group['monthly'] = df_group['date'].str[0:7]\n",
    "df_group = df_group[['monthly', 'pos', 'neg']]\n",
    "df_group = df_group.groupby('monthly', as_index = False).mean()\n",
    "df_group['net'] = df_group['pos'] - df_group['neg']\n",
    "\n",
    "df_2_group = df_2[['date', 'pos', 'neg']]\n",
    "df_2_group['monthly'] = df_2_group['date'].str[0:7]\n",
    "df_2_group = df_2_group[['monthly', 'pos', 'neg']]\n",
    "df_2_group = df_2_group.groupby('monthly', as_index = False).mean()\n",
    "df_2_group['net'] = df_2_group['pos'] - df_group['neg']\n",
    "\n",
    "df_merged = df_group.merge(df_2_group, on='monthly', how='inner')\n",
    "df_merged.fillna(0, inplace=True)"
   ]
  },
  {
   "cell_type": "code",
   "execution_count": 7,
   "metadata": {},
   "outputs": [
    {
     "name": "stdout",
     "output_type": "stream",
     "text": [
      "   monthly     pos_x     neg_x     net_x     pos_y     neg_y     net_y\n",
      "0  2002-06  0.890966  0.109034  0.781931  0.818627  0.181373  0.709593\n",
      "1  2002-07  0.841026  0.158974  0.682051  0.867470  0.132530  0.708496\n",
      "2  2002-08  0.853503  0.146497  0.707006  0.838710  0.161290  0.692213\n",
      "3  2002-09  0.814815  0.185185  0.629630  0.813648  0.186352  0.628463\n",
      "4  2002-10  0.887006  0.112994  0.774011  0.826498  0.173502  0.713504\n",
      "   monthly     pos_1     neg_1     net_1     pos_2     neg_2     net_2\n",
      "0  2002-06  0.890966  0.109034  0.781931  0.818627  0.181373  0.709593\n",
      "1  2002-07  0.841026  0.158974  0.682051  0.867470  0.132530  0.708496\n",
      "2  2002-08  0.853503  0.146497  0.707006  0.838710  0.161290  0.692213\n",
      "3  2002-09  0.814815  0.185185  0.629630  0.813648  0.186352  0.628463\n",
      "4  2002-10  0.887006  0.112994  0.774011  0.826498  0.173502  0.713504\n"
     ]
    }
   ],
   "source": [
    "print(df_merged.head())\n",
    "\n",
    "df_merged.rename(columns={'pos_x': 'pos_1', 'neg_x': 'neg_1', 'net_x': 'net_1', 'pos_y': 'pos_2', 'neg_y': 'neg_2', 'net_y': 'net_2'}, inplace=True)\n",
    "\n",
    "print(df_merged.head())"
   ]
  },
  {
   "cell_type": "code",
   "execution_count": 8,
   "metadata": {},
   "outputs": [],
   "source": [
    "df_merged['net_diff'] = df_merged['net_1'] - df_merged['net_2']"
   ]
  },
  {
   "cell_type": "code",
   "execution_count": 9,
   "metadata": {},
   "outputs": [],
   "source": []
  },
  {
   "cell_type": "code",
   "execution_count": 10,
   "metadata": {},
   "outputs": [
    {
     "name": "stdout",
     "output_type": "stream",
     "text": [
      "        DATE  FEDFUNDS Date Adjusted\n",
      "0 1999-12-31      5.45    2000-01-01\n",
      "1 2000-01-31      5.73    2000-02-01\n",
      "2 2000-02-29      5.85    2000-03-01\n",
      "3 2000-03-31      6.02    2000-04-01\n",
      "4 2000-04-30      6.27    2000-05-01\n",
      "         DATE  CPIENGSL\n",
      "0  2000-01-01     115.0\n",
      "1  2000-02-01     118.8\n",
      "2  2000-03-01     124.3\n",
      "3  2000-04-01     120.9\n",
      "4  2000-05-01     120.0\n"
     ]
    }
   ],
   "source": [
    "funds = pd.read_excel('/Users/kylenabors/Documents/Database/Other Data/FedFundsRate.xlsx', sheet_name='Monthly')\n",
    "print(funds.head())\n",
    "energy = pd.read_csv('/Users/kylenabors/Documents/Database/Other Data/Energy Prices/US Energy CPI.csv')\n",
    "print(energy.head())"
   ]
  },
  {
   "cell_type": "code",
   "execution_count": null,
   "metadata": {},
   "outputs": [],
   "source": [
    "funds['Diff'] = funds['FEDFUNDS'].diff()\n"
   ]
  },
  {
   "cell_type": "code",
   "execution_count": null,
   "metadata": {},
   "outputs": [],
   "source": [
    "df_merged.to_csv(f\"{Sentiment_models}/{Body}_{Model}_vs_{Body_2}_{Model_2}_advanced_sentiment_texts.csv\", index=False)"
   ]
  },
  {
   "cell_type": "code",
   "execution_count": 11,
   "metadata": {},
   "outputs": [],
   "source": [
    "import numpy as np\n",
    "from sklearn.linear_model import LinearRegression\n",
    "import statsmodels.api as sm\n",
    "\n",
    "net_1 = df_merged['net_1'].to_list()\n",
    "net_2 = df_merged['net_2'].to_list()\n",
    "\n",
    "\n",
    "model = sm.OLS(net_1, net_2)\n",
    "results = model.fit()"
   ]
  },
  {
   "cell_type": "code",
   "execution_count": 12,
   "metadata": {},
   "outputs": [
    {
     "data": {
      "text/html": [
       "<table class=\"simpletable\">\n",
       "<caption>OLS Regression Results</caption>\n",
       "<tr>\n",
       "  <th>Dep. Variable:</th>            <td>y</td>        <th>  R-squared (uncentered):</th>      <td>   0.971</td>\n",
       "</tr>\n",
       "<tr>\n",
       "  <th>Model:</th>                   <td>OLS</td>       <th>  Adj. R-squared (uncentered):</th> <td>   0.971</td>\n",
       "</tr>\n",
       "<tr>\n",
       "  <th>Method:</th>             <td>Least Squares</td>  <th>  F-statistic:       </th>          <td>   3694.</td>\n",
       "</tr>\n",
       "<tr>\n",
       "  <th>Date:</th>             <td>Sat, 21 Oct 2023</td> <th>  Prob (F-statistic):</th>          <td>4.92e-87</td>\n",
       "</tr>\n",
       "<tr>\n",
       "  <th>Time:</th>                 <td>13:23:03</td>     <th>  Log-Likelihood:    </th>          <td>  82.282</td>\n",
       "</tr>\n",
       "<tr>\n",
       "  <th>No. Observations:</th>      <td>   112</td>      <th>  AIC:               </th>          <td>  -162.6</td>\n",
       "</tr>\n",
       "<tr>\n",
       "  <th>Df Residuals:</th>          <td>   111</td>      <th>  BIC:               </th>          <td>  -159.8</td>\n",
       "</tr>\n",
       "<tr>\n",
       "  <th>Df Model:</th>              <td>     1</td>      <th>                     </th>              <td> </td>   \n",
       "</tr>\n",
       "<tr>\n",
       "  <th>Covariance Type:</th>      <td>nonrobust</td>    <th>                     </th>              <td> </td>   \n",
       "</tr>\n",
       "</table>\n",
       "<table class=\"simpletable\">\n",
       "<tr>\n",
       "   <td></td>     <th>coef</th>     <th>std err</th>      <th>t</th>      <th>P>|t|</th>  <th>[0.025</th>    <th>0.975]</th>  \n",
       "</tr>\n",
       "<tr>\n",
       "  <th>x1</th> <td>    1.0216</td> <td>    0.017</td> <td>   60.776</td> <td> 0.000</td> <td>    0.988</td> <td>    1.055</td>\n",
       "</tr>\n",
       "</table>\n",
       "<table class=\"simpletable\">\n",
       "<tr>\n",
       "  <th>Omnibus:</th>       <td>12.626</td> <th>  Durbin-Watson:     </th> <td>   1.994</td>\n",
       "</tr>\n",
       "<tr>\n",
       "  <th>Prob(Omnibus):</th> <td> 0.002</td> <th>  Jarque-Bera (JB):  </th> <td>  39.695</td>\n",
       "</tr>\n",
       "<tr>\n",
       "  <th>Skew:</th>          <td>-0.007</td> <th>  Prob(JB):          </th> <td>2.40e-09</td>\n",
       "</tr>\n",
       "<tr>\n",
       "  <th>Kurtosis:</th>      <td> 5.916</td> <th>  Cond. No.          </th> <td>    1.00</td>\n",
       "</tr>\n",
       "</table><br/><br/>Notes:<br/>[1] R² is computed without centering (uncentered) since the model does not contain a constant.<br/>[2] Standard Errors assume that the covariance matrix of the errors is correctly specified."
      ],
      "text/latex": [
       "\\begin{center}\n",
       "\\begin{tabular}{lclc}\n",
       "\\toprule\n",
       "\\textbf{Dep. Variable:}    &        y         & \\textbf{  R-squared (uncentered):}      &     0.971   \\\\\n",
       "\\textbf{Model:}            &       OLS        & \\textbf{  Adj. R-squared (uncentered):} &     0.971   \\\\\n",
       "\\textbf{Method:}           &  Least Squares   & \\textbf{  F-statistic:       }          &     3694.   \\\\\n",
       "\\textbf{Date:}             & Sat, 21 Oct 2023 & \\textbf{  Prob (F-statistic):}          &  4.92e-87   \\\\\n",
       "\\textbf{Time:}             &     13:23:03     & \\textbf{  Log-Likelihood:    }          &    82.282   \\\\\n",
       "\\textbf{No. Observations:} &         112      & \\textbf{  AIC:               }          &    -162.6   \\\\\n",
       "\\textbf{Df Residuals:}     &         111      & \\textbf{  BIC:               }          &    -159.8   \\\\\n",
       "\\textbf{Df Model:}         &           1      & \\textbf{                     }          &             \\\\\n",
       "\\textbf{Covariance Type:}  &    nonrobust     & \\textbf{                     }          &             \\\\\n",
       "\\bottomrule\n",
       "\\end{tabular}\n",
       "\\begin{tabular}{lcccccc}\n",
       "            & \\textbf{coef} & \\textbf{std err} & \\textbf{t} & \\textbf{P$> |$t$|$} & \\textbf{[0.025} & \\textbf{0.975]}  \\\\\n",
       "\\midrule\n",
       "\\textbf{x1} &       1.0216  &        0.017     &    60.776  &         0.000        &        0.988    &        1.055     \\\\\n",
       "\\bottomrule\n",
       "\\end{tabular}\n",
       "\\begin{tabular}{lclc}\n",
       "\\textbf{Omnibus:}       & 12.626 & \\textbf{  Durbin-Watson:     } &    1.994  \\\\\n",
       "\\textbf{Prob(Omnibus):} &  0.002 & \\textbf{  Jarque-Bera (JB):  } &   39.695  \\\\\n",
       "\\textbf{Skew:}          & -0.007 & \\textbf{  Prob(JB):          } & 2.40e-09  \\\\\n",
       "\\textbf{Kurtosis:}      &  5.916 & \\textbf{  Cond. No.          } &     1.00  \\\\\n",
       "\\bottomrule\n",
       "\\end{tabular}\n",
       "%\\caption{OLS Regression Results}\n",
       "\\end{center}\n",
       "\n",
       "Notes: \\newline\n",
       " [1] R² is computed without centering (uncentered) since the model does not contain a constant. \\newline\n",
       " [2] Standard Errors assume that the covariance matrix of the errors is correctly specified."
      ],
      "text/plain": [
       "<class 'statsmodels.iolib.summary.Summary'>\n",
       "\"\"\"\n",
       "                                 OLS Regression Results                                \n",
       "=======================================================================================\n",
       "Dep. Variable:                      y   R-squared (uncentered):                   0.971\n",
       "Model:                            OLS   Adj. R-squared (uncentered):              0.971\n",
       "Method:                 Least Squares   F-statistic:                              3694.\n",
       "Date:                Sat, 21 Oct 2023   Prob (F-statistic):                    4.92e-87\n",
       "Time:                        13:23:03   Log-Likelihood:                          82.282\n",
       "No. Observations:                 112   AIC:                                     -162.6\n",
       "Df Residuals:                     111   BIC:                                     -159.8\n",
       "Df Model:                           1                                                  \n",
       "Covariance Type:            nonrobust                                                  \n",
       "==============================================================================\n",
       "                 coef    std err          t      P>|t|      [0.025      0.975]\n",
       "------------------------------------------------------------------------------\n",
       "x1             1.0216      0.017     60.776      0.000       0.988       1.055\n",
       "==============================================================================\n",
       "Omnibus:                       12.626   Durbin-Watson:                   1.994\n",
       "Prob(Omnibus):                  0.002   Jarque-Bera (JB):               39.695\n",
       "Skew:                          -0.007   Prob(JB):                     2.40e-09\n",
       "Kurtosis:                       5.916   Cond. No.                         1.00\n",
       "==============================================================================\n",
       "\n",
       "Notes:\n",
       "[1] R² is computed without centering (uncentered) since the model does not contain a constant.\n",
       "[2] Standard Errors assume that the covariance matrix of the errors is correctly specified.\n",
       "\"\"\""
      ]
     },
     "execution_count": 12,
     "metadata": {},
     "output_type": "execute_result"
    }
   ],
   "source": [
    "results.summary()"
   ]
  },
  {
   "cell_type": "code",
   "execution_count": 13,
   "metadata": {},
   "outputs": [
    {
     "data": {
      "text/html": [],
      "text/plain": [
       "<IPython.core.display.HTML object>"
      ]
     },
     "metadata": {},
     "output_type": "display_data"
    },
    {
     "data": {
      "application/vnd.jupyter.widget-view+json": {
       "model_id": "d0fddba4e80e4edd8c802595e83b2c69",
       "version_major": 2,
       "version_minor": 0
      },
      "text/plain": [
       "Box(children=(HTML(value='<div id=\"ifr-pyg-0\" style=\"height: auto\">\\n    <head>\\n        <meta http-equiv=\"Con…"
      ]
     },
     "metadata": {},
     "output_type": "display_data"
    },
    {
     "data": {
      "text/html": [
       "<html>\n",
       "<style>\n",
       ".tabs{\n",
       "    position:relative;\n",
       "    height:660px;\n",
       "}\n",
       ".tab-pane{\n",
       "    display:inline-block;\n",
       "}\n",
       ".tabs input[type='radio']{\n",
       "    position:absolute;\n",
       "    clip:rect(0,0,0,0)\n",
       "}\n",
       ".tab-item{\n",
       "    display:block;\n",
       "    height:34px;\n",
       "    line-height:34px;\n",
       "    cursor:pointer;\n",
       "    padding:0 10px\n",
       "}\n",
       "\n",
       ".tabs input[type='radio']:checked+.tab-item{\n",
       "    background:#2563eb;\n",
       "    color:#fff\n",
       "}\n",
       "\n",
       ".tab-content{\n",
       "    display: none;\n",
       "    position:absolute;\n",
       "    left:0;\n",
       "    top:56px;\n",
       "    bottom:0;\n",
       "    right:0;\n",
       "}\n",
       "\n",
       ".tabs input[type='radio']:checked+.tab-item+.tab-content{\n",
       "    display: block;\n",
       "}\n",
       "</style>\n",
       "\n",
       "<body>\n",
       "    <div id=\"pygwalker-preview-0\">\n",
       "        <div class=\"tabs\">\n",
       "            \n",
       "        </div>\n",
       "    </div>\n",
       "</body>\n",
       "</html>"
      ],
      "text/plain": [
       "<IPython.core.display.HTML object>"
      ]
     },
     "metadata": {},
     "output_type": "display_data"
    }
   ],
   "source": [
    "gwalker = pyg.walk(df_merged)"
   ]
  },
  {
   "cell_type": "code",
   "execution_count": 2,
   "metadata": {},
   "outputs": [
    {
     "name": "stdout",
     "output_type": "stream",
     "text": [
      "aaacde\n"
     ]
    }
   ],
   "source": [
    "s = \"acadae\"\n",
    "\n",
    "res = ''.join(sorted(s))\n",
    "print(res)"
   ]
  },
  {
   "cell_type": "code",
   "execution_count": null,
   "metadata": {},
   "outputs": [],
   "source": [
    "|"
   ]
  }
 ],
 "metadata": {
  "kernelspec": {
   "display_name": "Python 3",
   "language": "python",
   "name": "python3"
  },
  "language_info": {
   "codemirror_mode": {
    "name": "ipython",
    "version": 3
   },
   "file_extension": ".py",
   "mimetype": "text/x-python",
   "name": "python",
   "nbconvert_exporter": "python",
   "pygments_lexer": "ipython3",
   "version": "3.11.4"
  },
  "orig_nbformat": 4
 },
 "nbformat": 4,
 "nbformat_minor": 2
}
