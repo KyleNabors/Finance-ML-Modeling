{
 "cells": [
  {
   "cell_type": "code",
   "execution_count": null,
   "metadata": {},
   "outputs": [],
   "source": [
    "# Import necessary libraries\n",
    "import sys\n",
    "import os\n",
    "import json\n",
    "import pdfplumber\n",
    "import csv\n",
    "from collections import defaultdict, Counter\n",
    "from gensim.utils import simple_preprocess\n",
    "from gensim.models import Word2Vec\n",
    "import spacy\n",
    "import nltk\n",
    "from nltk.corpus import words\n",
    "from nltk.corpus import stopwords"
   ]
  },
  {
   "cell_type": "code",
   "execution_count": null,
   "metadata": {},
   "outputs": [],
   "source": [
    "nlp = spacy.load(\"en_core_web_lg\")\n",
    "\n",
    "nltk.download(\"stopwords\") \n",
    "stopwords = stopwords.words('english')\n",
    "\n",
    "nltk.download('words')\n",
    "hyphenated_words = set(word for word in words.words() if '-' in word)\n"
   ]
  },
  {
   "cell_type": "code",
   "execution_count": null,
   "metadata": {},
   "outputs": [],
   "source": [
    "#Find and import config file\n",
    "config_path = os.getcwd()\n",
    "os.chdir(\"..\")\n",
    "sys.path.append(config_path)\n",
    "import config"
   ]
  },
  {
   "cell_type": "code",
   "execution_count": null,
   "metadata": {},
   "outputs": [],
   "source": [
    "#Variables, Paramaters, and Pathnames needed for this script\n",
    "database_file = config.database"
   ]
  },
  {
   "cell_type": "code",
   "execution_count": null,
   "metadata": {},
   "outputs": [],
   "source": [
    "# Load data from the JSON database\n",
    "def load_data(file):\n",
    "    with open(file, \"r\", encoding=\"utf-8\") as f:\n",
    "        data = json.load(f)\n",
    "    return data\n",
    "\n",
    "# Write data to a JSON file\n",
    "def write_data(file, data):\n",
    "    with open(file, \"w\", encoding=\"utf-8\") as f:\n",
    "        json.dump(data, f, indent=4)"
   ]
  },
  {
   "cell_type": "code",
   "execution_count": null,
   "metadata": {},
   "outputs": [],
   "source": [
    "# Handle hyphenation in text\n",
    "def handle_hyphenation(text):\n",
    "    for word in text.split():\n",
    "        if '-' in word and word not in hyphenated_words:\n",
    "            text = text.replace(word, word.replace('-', ''))\n",
    "    return text\n",
    "\n",
    "def handle_stopwords(text):\n",
    "    for word in text:\n",
    "        if word in stopwords:\n",
    "            text = text.replace(word, '')\n",
    "    return text"
   ]
  },
  {
   "cell_type": "code",
   "execution_count": null,
   "metadata": {},
   "outputs": [],
   "source": [
    "# Load the data from the JSON database\n",
    "database_data = load_data(database_file)"
   ]
  },
  {
   "cell_type": "code",
   "execution_count": null,
   "metadata": {},
   "outputs": [],
   "source": [
    "# Define accepted types\n",
    "accepted_types = ['Beige Book']  # replace these with actual types\n",
    "\n",
    "# Extract file paths from the database data\n",
    "files = [(entry[\"path\"], entry[\"date\"][:10], entry[\"type\"]) for entry in database_data if \"path\" in entry and entry[\"type\"] in accepted_types] \n",
    "\n",
    "# Sort files by date\n",
    "files.sort(key=lambda x: x[1])  # sort by year_month_day\n"
   ]
  },
  {
   "cell_type": "code",
   "execution_count": null,
   "metadata": {},
   "outputs": [],
   "source": [
    "# Specify the percentage of files you want to process\n",
    "percentage_to_process = .05\n",
    "files_to_process = files[::int(1 / percentage_to_process)]"
   ]
  },
  {
   "cell_type": "code",
   "execution_count": null,
   "metadata": {},
   "outputs": [],
   "source": [
    "# Specify the year and month you want to start and end processing files from\n",
    "start_year_month_day = '2007-12-01'\n",
    "end_year_month_day = '2023-12-31'\n",
    "\n",
    "# Only process files from the selected year and month range\n",
    "files_to_process = [file for file in files_to_process if start_year_month_day <= file[1] <= end_year_month_day]\n"
   ]
  },
  {
   "cell_type": "code",
   "execution_count": null,
   "metadata": {},
   "outputs": [],
   "source": [
    "data = {\"Date\": [], \"Text\": []}"
   ]
  },
  {
   "cell_type": "code",
   "execution_count": null,
   "metadata": {},
   "outputs": [],
   "source": [
    "# List to hold processed segments from the PDF files\n",
    "final = []\n",
    "\n",
    "# Process each PDF file\n",
    "keyword_freq_ts = defaultdict(lambda: defaultdict(Counter))\n",
    "for file, year_month_day, doc_type in files_to_process:\n",
    "    data[\"Date\"].append(year_month_day)\n",
    "    with pdfplumber.open(file) as pdf:\n",
    "        docpages = pdf.pages[1]\n",
    "        for page in pdf.pages:\n",
    "            text = page.extract_text()\n",
    "            text = handle_hyphenation(text)\n",
    "            #text = handle_stopwords(text)\n",
    "            doc = nlp(text)  # pass the text into the Spacy NLP model\n",
    "            text = text.replace(\"\\n\", \" \")\n",
    "            segments = text.split('. ') \n",
    "            for segment in segments:\n",
    "                if segment != '':\n",
    "                    final.append(segment)\n",
    "    data[\"Text\"].append(final)\n",
    "            \n",
    "            "
   ]
  },
  {
   "cell_type": "code",
   "execution_count": null,
   "metadata": {},
   "outputs": [],
   "source": [
    "print(final)"
   ]
  },
  {
   "cell_type": "code",
   "execution_count": null,
   "metadata": {},
   "outputs": [],
   "source": [
    "# Write the processed data to a JSON file\n",
    "write_data(\"/Users/kylenabors/Documents/MS-Thesis Data/Database/Fed Data/fed_data_blocks.json\", final)\n",
    "write_data(\"/Users/kylenabors/Documents/MS-Thesis Data/Database/Fed Data/keyword_freq_ts_blocks.json\", keyword_freq_ts)"
   ]
  },
  {
   "cell_type": "code",
   "execution_count": null,
   "metadata": {},
   "outputs": [],
   "source": []
  }
 ],
 "metadata": {
  "kernelspec": {
   "display_name": "Python 3",
   "language": "python",
   "name": "python3"
  },
  "language_info": {
   "codemirror_mode": {
    "name": "ipython",
    "version": 3
   },
   "file_extension": ".py",
   "mimetype": "text/x-python",
   "name": "python",
   "nbconvert_exporter": "python",
   "pygments_lexer": "ipython3",
   "version": "3.11.4"
  },
  "orig_nbformat": 4
 },
 "nbformat": 4,
 "nbformat_minor": 2
}
